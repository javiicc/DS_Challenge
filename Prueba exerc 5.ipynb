{
 "cells": [
  {
   "cell_type": "code",
   "execution_count": 5,
   "metadata": {},
   "outputs": [
    {
     "data": {
      "text/plain": [
       "{'BKK     ': 59460.0,\n",
       " 'CDG     ': 64490.0,\n",
       " 'DXB     ': 55590.0,\n",
       " 'JFK     ': 66270.0,\n",
       " 'LAS     ': 69630.0,\n",
       " 'LAX     ': 70530.0,\n",
       " 'LHR     ': 88809.0,\n",
       " 'MCO     ': 70930.0,\n",
       " 'MIA     ': 58150.0,\n",
       " 'SFO     ': 58000.0}"
      ]
     },
     "execution_count": 5,
     "metadata": {},
     "output_type": "execute_result"
    }
   ],
   "source": [
    "import requests\n",
    "\n",
    "params = {'n':'10'}\n",
    "\n",
    "r = requests.get('http://10.0.2.15:5000/top_n_airports/10', params=params)\n",
    "r.json()"
   ]
  },
  {
   "cell_type": "code",
   "execution_count": 22,
   "metadata": {},
   "outputs": [
    {
     "data": {
      "text/plain": [
       "{'message': 'Something failed. Check input format'}"
      ]
     },
     "execution_count": 22,
     "metadata": {},
     "output_type": "execute_result"
    }
   ],
   "source": [
    "numbers = [\n",
    "    {'top_n':'top_10', 'n':10},\n",
    "    {'top_n':'top_15', 'n':15}\n",
    "]\n",
    "\n",
    "r = requests.post('http://10.0.2.15:5000/top_n_airports_multiple', json=numbers)\n",
    "r.json()"
   ]
  },
  {
   "cell_type": "code",
   "execution_count": null,
   "metadata": {},
   "outputs": [],
   "source": []
  }
 ],
 "metadata": {
  "kernelspec": {
   "display_name": "Python 3",
   "language": "python",
   "name": "python3"
  },
  "language_info": {
   "codemirror_mode": {
    "name": "ipython",
    "version": 3
   },
   "file_extension": ".py",
   "mimetype": "text/x-python",
   "name": "python",
   "nbconvert_exporter": "python",
   "pygments_lexer": "ipython3",
   "version": "3.8.5"
  }
 },
 "nbformat": 4,
 "nbformat_minor": 4
}
