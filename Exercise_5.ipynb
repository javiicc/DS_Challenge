{
 "cells": [
  {
   "cell_type": "code",
   "execution_count": 1,
   "metadata": {},
   "outputs": [],
   "source": [
    "import numpy as np\n",
    "import pandas as pd\n",
    "import bz2\n"
   ]
  },
  {
   "cell_type": "code",
   "execution_count": 4,
   "metadata": {},
   "outputs": [],
   "source": [
    "def data_preprocessing(df, year=2013):\n",
    "    '''\n",
    "    Takes a dataframe and a year, filters it by year, drops the year,\n",
    "    and drops null values.\n",
    "    Returns a dataframe.\n",
    "    \n",
    "    PARAMETERS\n",
    "    df: Dataframe\n",
    "    year: Year to filter by\n",
    "    '''\n",
    "    df[df['year'] == year]\n",
    "    df.drop('year', axis=1, inplace=True)\n",
    "    df.dropna(inplace=True)\n",
    "    return df"
   ]
  },
  {
   "cell_type": "code",
   "execution_count": 5,
   "metadata": {},
   "outputs": [],
   "source": [
    "data_iterator = pd.read_csv('challenge/bookings.csv.bz2', chunksize=10**6, \n",
    "                            sep='^', usecols=['arr_port', 'pax', 'year'], \n",
    "                            compression='bz2')\n",
    "\n",
    "chunk_list = []  \n",
    "# Each chunk is in dataframe format\n",
    "for data_chunk in data_iterator: \n",
    "    data_chunk = data_preprocessing(data_chunk)\n",
    "    chunk_list.append(data_chunk)\n",
    "\n",
    "bookings = pd.concat(chunk_list)"
   ]
  },
  {
   "cell_type": "code",
   "execution_count": 6,
   "metadata": {},
   "outputs": [
    {
     "data": {
      "text/plain": [
       "(10000009, 2)"
      ]
     },
     "execution_count": 6,
     "metadata": {},
     "output_type": "execute_result"
    }
   ],
   "source": [
    "bookings.shape"
   ]
  },
  {
   "cell_type": "code",
   "execution_count": 7,
   "metadata": {},
   "outputs": [],
   "source": [
    "def top_n(n):\n",
    "    top_n = bookings.pivot_table(values='pax', index='arr_port', \n",
    "                                  aggfunc=np.sum)\\\n",
    "                                  .sort_values(by='pax', ascending=False).head(n)\n",
    "    return top_n"
   ]
  },
  {
   "cell_type": "code",
   "execution_count": 17,
   "metadata": {},
   "outputs": [],
   "source": [
    "def top_n(n):\n",
    "    top_n = bookings.pivot_table(values='pax', index='arr_port', \n",
    "                                  aggfunc=np.sum)\\\n",
    "                                  .sort_values(by='pax', ascending=False).head(n)\n",
    "    top_n_dict = {}\n",
    "    for i in range(n):\n",
    "        top_n_dict[top_n.index[i]] = top_n.values[i,0]\n",
    "  \n",
    "    return top_n_dict"
   ]
  },
  {
   "cell_type": "code",
   "execution_count": 36,
   "metadata": {},
   "outputs": [
    {
     "data": {
      "text/plain": [
       "{'LHR     ': 88809.0,\n",
       " 'MCO     ': 70930.0,\n",
       " 'LAX     ': 70530.0,\n",
       " 'LAS     ': 69630.0,\n",
       " 'JFK     ': 66270.0,\n",
       " 'CDG     ': 64490.0,\n",
       " 'BKK     ': 59460.0,\n",
       " 'MIA     ': 58150.0,\n",
       " 'SFO     ': 58000.0,\n",
       " 'DXB     ': 55590.0}"
      ]
     },
     "execution_count": 36,
     "metadata": {},
     "output_type": "execute_result"
    }
   ],
   "source": [
    "top_n(10)"
   ]
  },
  {
   "cell_type": "code",
   "execution_count": 12,
   "metadata": {
    "scrolled": false
   },
   "outputs": [
    {
     "data": {
      "text/plain": [
       "range(0, 10)"
      ]
     },
     "execution_count": 12,
     "metadata": {},
     "output_type": "execute_result"
    }
   ],
   "source": [
    "range(10)"
   ]
  },
  {
   "cell_type": "code",
   "execution_count": 33,
   "metadata": {},
   "outputs": [],
   "source": [
    "def top_n_airports(n):\n",
    "    \n",
    "    number = int(n)\n",
    "    try:\n",
    "        if number > 0:\n",
    "            result = top_n(number)\n",
    "            return jsonify(result)\n",
    "        else:\n",
    "            return jsonify({'message':'Check input format'})\n",
    "    except:\n",
    "        return jsonify({'message':'Something failed. Check input format'})"
   ]
  },
  {
   "cell_type": "markdown",
   "metadata": {},
   "source": [
    "### API"
   ]
  },
  {
   "cell_type": "code",
   "execution_count": null,
   "metadata": {},
   "outputs": [
    {
     "name": "stdout",
     "output_type": "stream",
     "text": [
      " * Serving Flask app \"__main__\" (lazy loading)\n",
      " * Environment: production\n",
      "\u001b[31m   WARNING: This is a development server. Do not use it in a production deployment.\u001b[0m\n",
      "\u001b[2m   Use a production WSGI server instead.\u001b[0m\n",
      " * Debug mode: off\n"
     ]
    },
    {
     "name": "stderr",
     "output_type": "stream",
     "text": [
      " * Running on http://10.0.2.15:5000/ (Press CTRL+C to quit)\n",
      "10.0.2.15 - - [15/Jun/2021 18:56:42] \"\u001b[37mPOST /top_n_airports_multiple HTTP/1.1\u001b[0m\" 200 -\n"
     ]
    }
   ],
   "source": [
    "import numpy as np\n",
    "import pandas as pd\n",
    "import bz2\n",
    "\n",
    "from flask import Flask, jsonify, request\n",
    "import requests\n",
    "from bs4 import BeautifulSoup\n",
    "\n",
    "app = Flask(__name__)\n",
    "\n",
    "#############################\n",
    "'''\n",
    "def data_preprocessing(df, year=2013):\n",
    "    ''' '''\n",
    "    Takes a dataframe and a year, filters it by year, drops the year,\n",
    "    and drops null values.\n",
    "    Returns a dataframe.\n",
    "    \n",
    "    PARAMETERS\n",
    "    df: Dataframe\n",
    "    year: Year to filter by\n",
    "    ''' '''\n",
    "    df[df['year'] == year]\n",
    "    df.drop('year', axis=1, inplace=True)\n",
    "    df.dropna(inplace=True)\n",
    "    return df\n",
    "\n",
    "data_iterator = pd.read_csv('challenge/bookings.csv.bz2', chunksize=10**6, \n",
    "                            sep='^', usecols=['arr_port', 'pax', 'year'], \n",
    "                            compression='bz2')\n",
    "\n",
    "chunk_list = []  \n",
    "# Each chunk is in dataframe format\n",
    "for data_chunk in data_iterator: \n",
    "    data_chunk = data_preprocessing(data_chunk)\n",
    "    chunk_list.append(data_chunk)\n",
    "\n",
    "bookings = pd.concat(chunk_list)\n",
    "'''\n",
    "\n",
    "def top_n(n):\n",
    "    top_n = bookings.pivot_table(values='pax', index='arr_port', \n",
    "                                  aggfunc=np.sum)\\\n",
    "                                  .sort_values(by='pax', ascending=False).head(n)\n",
    "    top_n_dict = {}\n",
    "    for i in range(n):\n",
    "        top_n_dict[top_n.index[i]] = top_n.values[i,0]\n",
    "  \n",
    "    return top_n_dict\n",
    "###################################\n",
    "\n",
    "@app.route('/top_n_airports/<string:n>', methods=['GET'])\n",
    "def top_n_airports(n):\n",
    "    \n",
    "    number = int(n)\n",
    "    try:\n",
    "        if number > 0:\n",
    "            result = top_n(number)\n",
    "            return jsonify(result)\n",
    "        else:\n",
    "            return jsonify({'message':'Check input format'})\n",
    "    except:\n",
    "        return jsonify({'message':'Something failed. Check input format'})\n",
    "    \n",
    "\n",
    "# Option 2 Ventaja -> No errores fatales, NONE\n",
    "@app.route('/top_n_airports', methods=['GET'])\n",
    "def top_n_airports_opt2():\n",
    "    \n",
    "    number = request.args.get('n', type=int)\n",
    "    try:\n",
    "        if number > 0:\n",
    "            result = top_n(number)\n",
    "            return jsonify(result)\n",
    "        else:\n",
    "            return jsonify({'message':'Check input format'})\n",
    "    except:\n",
    "        return jsonify({'message':'Something failed. Check input format'})\n",
    "    \n",
    "# With POST\n",
    "@app.route('/top_n_airports_multiple', methods=['POST'])\n",
    "def top_n_airports_mult():\n",
    "    try:\n",
    "        numbers = request.json\n",
    "        result = []\n",
    "        for number in numbers:\n",
    "            top_result = [number['top_n'], top_n_airports(number['n'])]\n",
    "            result.append(top_result)\n",
    "            return jsonify(result)\n",
    "    except: \n",
    "        return jsonify({'message':'Something failed. Check input format'})\n",
    "    \n",
    "##############################\n",
    "\n",
    "if __name__ == '__main__':\n",
    "    app.run(host='10.0.2.15', debug=False, port=5000) #host='10.0.2.15'"
   ]
  },
  {
   "cell_type": "code",
   "execution_count": null,
   "metadata": {},
   "outputs": [],
   "source": []
  },
  {
   "cell_type": "raw",
   "metadata": {},
   "source": [
    "import requests\n",
    "\n",
    "params = {'n':'10'}\n",
    "\n",
    "r = requests.get('http://10.0.2.15:5000/top_n_airports/10', params=params)\n",
    "r.json()"
   ]
  },
  {
   "cell_type": "code",
   "execution_count": null,
   "metadata": {},
   "outputs": [],
   "source": []
  }
 ],
 "metadata": {
  "kernelspec": {
   "display_name": "Python 3",
   "language": "python",
   "name": "python3"
  },
  "language_info": {
   "codemirror_mode": {
    "name": "ipython",
    "version": 3
   },
   "file_extension": ".py",
   "mimetype": "text/x-python",
   "name": "python",
   "nbconvert_exporter": "python",
   "pygments_lexer": "ipython3",
   "version": "3.8.5"
  }
 },
 "nbformat": 4,
 "nbformat_minor": 4
}
