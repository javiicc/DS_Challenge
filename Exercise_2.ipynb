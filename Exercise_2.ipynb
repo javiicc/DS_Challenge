{
 "cells": [
  {
   "cell_type": "code",
   "execution_count": 2,
   "metadata": {},
   "outputs": [],
   "source": [
    "import numpy as np\n",
    "import pandas as pd\n",
    "from neobase import NeoBase\n",
    "\n",
    "pd.options.display.max_columns = None\n",
    "#pd.options.display.max_rows = 100"
   ]
  },
  {
   "cell_type": "markdown",
   "metadata": {},
   "source": [
    "# Exercise 2\n",
    "\n",
    "**Top 10 arrival airports in the world in 2013 (using the bookings file)**\n",
    "\n",
    "- To get the total number of passengers for an airport, you can sum the column `pax`, grouping by `arr_port`. Note that there is negative pax. That corresponds to cancelations. So to get the total number of passengers that have actually booked, you should sum including the negatives (that will remove the canceled bookings).\n",
    "- Print the top 10 arrival airports in the standard output, including the number of passengers.\n",
    "- **Bonus point**: Get the name of the city or airport corresponding to that airport (programatically, we suggest to have a look at **GeoBases in Github**)\n",
    "- **Bonus point**: Solve this problem using pandas (instead of any other approach)"
   ]
  },
  {
   "cell_type": "markdown",
   "metadata": {},
   "source": [
    "### Finished Exercise"
   ]
  },
  {
   "cell_type": "markdown",
   "metadata": {},
   "source": [
    "We define a function to filter and clean the data:\n",
    "- Filter by `2013` \n",
    "- Drop '`year` column because we don't need it anymore.\n",
    "- Drop missing values.\n",
    "- Delete possible blank spaces and make sure all cells are capitalized.\n",
    "- Finally we add an alert message that shows us if there is any cell with length other than `3`."
   ]
  },
  {
   "cell_type": "code",
   "execution_count": 1,
   "metadata": {},
   "outputs": [],
   "source": [
    "def data_preprocessing(df, year=2013):\n",
    "    '''\n",
    "    Takes a dataframe and a year, filters it by year, drops the year,\n",
    "    and drops null values. Cleans the 'arr_port' column.\n",
    "    Returns a dataframe.\n",
    "    \n",
    "    PARAMETERS\n",
    "    df: Dataframe\n",
    "    year: Year to filter by. 2013 by default\n",
    "    '''\n",
    "    df[df['year'] == year]\n",
    "    df.drop('year', axis=1, inplace=True)\n",
    "    df.dropna(inplace=True)\n",
    "    \n",
    "    df['arr_port'] = df['arr_port'].str.strip().str.upper()\n",
    "    \n",
    "    arr_port_length = (df['arr_port'].map(len) != 3).sum()\n",
    "    if arr_port_length != 0:\n",
    "        print('Alert! There are `arr_port` values with length different than 3, check it.')\n",
    "    \n",
    "    return df"
   ]
  },
  {
   "cell_type": "markdown",
   "metadata": {},
   "source": [
    "We read the dataset in chunks. We process each chunk passing it as an argument in our function. Then we aggregate the data and append them to `bookings`. It is not strictly necessary aggregating the data here."
   ]
  },
  {
   "cell_type": "code",
   "execution_count": 3,
   "metadata": {},
   "outputs": [
    {
     "name": "stdout",
     "output_type": "stream",
     "text": [
      "Chunk: 1, size of chunk 1000000\n",
      "Chunk: 2, size of chunk 1000000\n",
      "Chunk: 3, size of chunk 1000000\n",
      "Chunk: 4, size of chunk 1000000\n",
      "Chunk: 5, size of chunk 1000000\n",
      "Chunk: 6, size of chunk 1000000\n",
      "Chunk: 7, size of chunk 1000000\n",
      "Chunk: 8, size of chunk 1000000\n",
      "Chunk: 9, size of chunk 1000000\n",
      "Chunk: 10, size of chunk 1000000\n",
      "Chunk: 11, size of chunk 10\n"
     ]
    }
   ],
   "source": [
    "data_iterator = pd.read_csv(\"../challenge/bookings.csv.bz2\", \n",
    "                            chunksize=10**6, \n",
    "                            sep='^', \n",
    "                            usecols=['arr_port', 'pax', 'year'],\n",
    "                            compression='bz2',\n",
    "                            #nrows=10**5\n",
    "                           )\n",
    "\n",
    "bookings = pd.DataFrame()\n",
    "for i, data_chunk in enumerate(data_iterator):\n",
    "    print(\"Chunk: %d, size of chunk %d\"%(i+1, len(data_chunk)))\n",
    "    \n",
    "    data_chunk = data_preprocessing(data_chunk)\n",
    "    chunk_result = data_chunk.pivot_table(values='pax', index='arr_port', \n",
    "                                          aggfunc=np.sum)\n",
    "    #chunk_result = data_chunk.groupby('arr_port').sum()\n",
    "    \n",
    "    bookings = bookings.append(chunk_result) "
   ]
  },
  {
   "cell_type": "markdown",
   "metadata": {},
   "source": [
    "Finally we aggregate the data stored in `bookings` and we take the top ten airports by number of passengers."
   ]
  },
  {
   "cell_type": "code",
   "execution_count": 4,
   "metadata": {},
   "outputs": [
    {
     "data": {
      "text/html": [
       "<div>\n",
       "<style scoped>\n",
       "    .dataframe tbody tr th:only-of-type {\n",
       "        vertical-align: middle;\n",
       "    }\n",
       "\n",
       "    .dataframe tbody tr th {\n",
       "        vertical-align: top;\n",
       "    }\n",
       "\n",
       "    .dataframe thead th {\n",
       "        text-align: right;\n",
       "    }\n",
       "</style>\n",
       "<table border=\"1\" class=\"dataframe\">\n",
       "  <thead>\n",
       "    <tr style=\"text-align: right;\">\n",
       "      <th></th>\n",
       "      <th>pax</th>\n",
       "    </tr>\n",
       "    <tr>\n",
       "      <th>arr_port</th>\n",
       "      <th></th>\n",
       "    </tr>\n",
       "  </thead>\n",
       "  <tbody>\n",
       "    <tr>\n",
       "      <th>LHR</th>\n",
       "      <td>88809.0</td>\n",
       "    </tr>\n",
       "    <tr>\n",
       "      <th>MCO</th>\n",
       "      <td>70930.0</td>\n",
       "    </tr>\n",
       "    <tr>\n",
       "      <th>LAX</th>\n",
       "      <td>70530.0</td>\n",
       "    </tr>\n",
       "    <tr>\n",
       "      <th>LAS</th>\n",
       "      <td>69630.0</td>\n",
       "    </tr>\n",
       "    <tr>\n",
       "      <th>JFK</th>\n",
       "      <td>66270.0</td>\n",
       "    </tr>\n",
       "    <tr>\n",
       "      <th>CDG</th>\n",
       "      <td>64490.0</td>\n",
       "    </tr>\n",
       "    <tr>\n",
       "      <th>BKK</th>\n",
       "      <td>59460.0</td>\n",
       "    </tr>\n",
       "    <tr>\n",
       "      <th>MIA</th>\n",
       "      <td>58150.0</td>\n",
       "    </tr>\n",
       "    <tr>\n",
       "      <th>SFO</th>\n",
       "      <td>58000.0</td>\n",
       "    </tr>\n",
       "    <tr>\n",
       "      <th>DXB</th>\n",
       "      <td>55590.0</td>\n",
       "    </tr>\n",
       "  </tbody>\n",
       "</table>\n",
       "</div>"
      ],
      "text/plain": [
       "              pax\n",
       "arr_port         \n",
       "LHR       88809.0\n",
       "MCO       70930.0\n",
       "LAX       70530.0\n",
       "LAS       69630.0\n",
       "JFK       66270.0\n",
       "CDG       64490.0\n",
       "BKK       59460.0\n",
       "MIA       58150.0\n",
       "SFO       58000.0\n",
       "DXB       55590.0"
      ]
     },
     "execution_count": 4,
     "metadata": {},
     "output_type": "execute_result"
    }
   ],
   "source": [
    "top_10 = bookings.groupby(by='arr_port').sum().sort_values('pax', ascending=False).head(10)\n",
    "top_10"
   ]
  },
  {
   "cell_type": "markdown",
   "metadata": {},
   "source": [
    "**Bonus point**: Get the name of the city or airport corresponding to that airport. "
   ]
  },
  {
   "cell_type": "markdown",
   "metadata": {},
   "source": [
    "We use NeoBase API to get the data about airports by passing in the IATA code as argument in the `get()` method. We make a list o lists to make it easier if we wanted to add more information to our final dataframe. The `for` loop lets us creating a new column and indicating the field we want to get. We use an `if` statement because sometimes the API give us the information in a list."
   ]
  },
  {
   "cell_type": "code",
   "execution_count": 6,
   "metadata": {},
   "outputs": [
    {
     "data": {
      "text/html": [
       "<div>\n",
       "<style scoped>\n",
       "    .dataframe tbody tr th:only-of-type {\n",
       "        vertical-align: middle;\n",
       "    }\n",
       "\n",
       "    .dataframe tbody tr th {\n",
       "        vertical-align: top;\n",
       "    }\n",
       "\n",
       "    .dataframe thead th {\n",
       "        text-align: right;\n",
       "    }\n",
       "</style>\n",
       "<table border=\"1\" class=\"dataframe\">\n",
       "  <thead>\n",
       "    <tr style=\"text-align: right;\">\n",
       "      <th></th>\n",
       "      <th>pax</th>\n",
       "      <th>arr_port_name</th>\n",
       "      <th>city</th>\n",
       "      <th>country</th>\n",
       "      <th>currency</th>\n",
       "    </tr>\n",
       "    <tr>\n",
       "      <th>arr_port</th>\n",
       "      <th></th>\n",
       "      <th></th>\n",
       "      <th></th>\n",
       "      <th></th>\n",
       "      <th></th>\n",
       "    </tr>\n",
       "  </thead>\n",
       "  <tbody>\n",
       "    <tr>\n",
       "      <th>LHR</th>\n",
       "      <td>88809.0</td>\n",
       "      <td>London Heathrow Airport</td>\n",
       "      <td>London</td>\n",
       "      <td>United Kingdom</td>\n",
       "      <td>GBP</td>\n",
       "    </tr>\n",
       "    <tr>\n",
       "      <th>MCO</th>\n",
       "      <td>70930.0</td>\n",
       "      <td>Orlando International Airport</td>\n",
       "      <td>Orlando</td>\n",
       "      <td>United States</td>\n",
       "      <td>USD</td>\n",
       "    </tr>\n",
       "    <tr>\n",
       "      <th>LAX</th>\n",
       "      <td>70530.0</td>\n",
       "      <td>Los Angeles International Airport</td>\n",
       "      <td>Los Angeles</td>\n",
       "      <td>United States</td>\n",
       "      <td>USD</td>\n",
       "    </tr>\n",
       "    <tr>\n",
       "      <th>LAS</th>\n",
       "      <td>69630.0</td>\n",
       "      <td>McCarran International Airport</td>\n",
       "      <td>Las Vegas</td>\n",
       "      <td>United States</td>\n",
       "      <td>USD</td>\n",
       "    </tr>\n",
       "    <tr>\n",
       "      <th>JFK</th>\n",
       "      <td>66270.0</td>\n",
       "      <td>John F. Kennedy International Airport</td>\n",
       "      <td>New York City</td>\n",
       "      <td>United States</td>\n",
       "      <td>USD</td>\n",
       "    </tr>\n",
       "    <tr>\n",
       "      <th>CDG</th>\n",
       "      <td>64490.0</td>\n",
       "      <td>Paris Charles de Gaulle Airport</td>\n",
       "      <td>Paris</td>\n",
       "      <td>France</td>\n",
       "      <td>EUR</td>\n",
       "    </tr>\n",
       "    <tr>\n",
       "      <th>BKK</th>\n",
       "      <td>59460.0</td>\n",
       "      <td>Suvarnabhumi Airport</td>\n",
       "      <td>Bangkok</td>\n",
       "      <td>Thailand</td>\n",
       "      <td>THB</td>\n",
       "    </tr>\n",
       "    <tr>\n",
       "      <th>MIA</th>\n",
       "      <td>58150.0</td>\n",
       "      <td>Miami International Airport</td>\n",
       "      <td>Miami</td>\n",
       "      <td>United States</td>\n",
       "      <td>USD</td>\n",
       "    </tr>\n",
       "    <tr>\n",
       "      <th>SFO</th>\n",
       "      <td>58000.0</td>\n",
       "      <td>San Francisco International Airport</td>\n",
       "      <td>San Francisco</td>\n",
       "      <td>United States</td>\n",
       "      <td>USD</td>\n",
       "    </tr>\n",
       "    <tr>\n",
       "      <th>DXB</th>\n",
       "      <td>55590.0</td>\n",
       "      <td>Dubai International Airport</td>\n",
       "      <td>Dubai</td>\n",
       "      <td>United Arab Emirates</td>\n",
       "      <td>AED</td>\n",
       "    </tr>\n",
       "  </tbody>\n",
       "</table>\n",
       "</div>"
      ],
      "text/plain": [
       "              pax                          arr_port_name           city  \\\n",
       "arr_port                                                                  \n",
       "LHR       88809.0                London Heathrow Airport         London   \n",
       "MCO       70930.0          Orlando International Airport        Orlando   \n",
       "LAX       70530.0      Los Angeles International Airport    Los Angeles   \n",
       "LAS       69630.0         McCarran International Airport      Las Vegas   \n",
       "JFK       66270.0  John F. Kennedy International Airport  New York City   \n",
       "CDG       64490.0        Paris Charles de Gaulle Airport          Paris   \n",
       "BKK       59460.0                   Suvarnabhumi Airport        Bangkok   \n",
       "MIA       58150.0            Miami International Airport          Miami   \n",
       "SFO       58000.0    San Francisco International Airport  San Francisco   \n",
       "DXB       55590.0            Dubai International Airport          Dubai   \n",
       "\n",
       "                       country currency  \n",
       "arr_port                                 \n",
       "LHR             United Kingdom      GBP  \n",
       "MCO              United States      USD  \n",
       "LAX              United States      USD  \n",
       "LAS              United States      USD  \n",
       "JFK              United States      USD  \n",
       "CDG                     France      EUR  \n",
       "BKK                   Thailand      THB  \n",
       "MIA              United States      USD  \n",
       "SFO              United States      USD  \n",
       "DXB       United Arab Emirates      AED  "
      ]
     },
     "execution_count": 6,
     "metadata": {},
     "output_type": "execute_result"
    }
   ],
   "source": [
    "elements = [['arr_port_name', 'name'], \n",
    "            ['city', 'city_name_list'],\n",
    "            ['country', 'country_name'],\n",
    "            ['currency', 'currency'],\n",
    "           ]\n",
    "\n",
    "b = NeoBase()\n",
    "for element in elements:\n",
    "    if 'list' in element[1]:\n",
    "        top_10[element[0]] = top_10.index.map(lambda x: b.get(x, element[1])[0])\n",
    "    else:\n",
    "        top_10[element[0]] = top_10.index.map(lambda x: b.get(x, element[1]))\n",
    "top_10"
   ]
  },
  {
   "cell_type": "code",
   "execution_count": 7,
   "metadata": {},
   "outputs": [],
   "source": [
    "top_10.to_csv('exercise_2.csv', sep = ',')"
   ]
  },
  {
   "cell_type": "markdown",
   "metadata": {},
   "source": [
    "-------------------------------------"
   ]
  },
  {
   "cell_type": "markdown",
   "metadata": {},
   "source": [
    "### First Approximation"
   ]
  },
  {
   "cell_type": "markdown",
   "metadata": {},
   "source": [
    "We start by reading a few columns to take a look at the columns and their formats."
   ]
  },
  {
   "cell_type": "code",
   "execution_count": 8,
   "metadata": {
    "scrolled": true
   },
   "outputs": [
    {
     "data": {
      "text/html": [
       "<div>\n",
       "<style scoped>\n",
       "    .dataframe tbody tr th:only-of-type {\n",
       "        vertical-align: middle;\n",
       "    }\n",
       "\n",
       "    .dataframe tbody tr th {\n",
       "        vertical-align: top;\n",
       "    }\n",
       "\n",
       "    .dataframe thead th {\n",
       "        text-align: right;\n",
       "    }\n",
       "</style>\n",
       "<table border=\"1\" class=\"dataframe\">\n",
       "  <thead>\n",
       "    <tr style=\"text-align: right;\">\n",
       "      <th></th>\n",
       "      <th>act_date</th>\n",
       "      <th>source</th>\n",
       "      <th>pos_ctry</th>\n",
       "      <th>pos_iata</th>\n",
       "      <th>pos_oid</th>\n",
       "      <th>rloc</th>\n",
       "      <th>cre_date</th>\n",
       "      <th>duration</th>\n",
       "      <th>distance</th>\n",
       "      <th>dep_port</th>\n",
       "      <th>dep_city</th>\n",
       "      <th>dep_ctry</th>\n",
       "      <th>arr_port</th>\n",
       "      <th>arr_city</th>\n",
       "      <th>arr_ctry</th>\n",
       "      <th>lst_port</th>\n",
       "      <th>lst_city</th>\n",
       "      <th>lst_ctry</th>\n",
       "      <th>brd_port</th>\n",
       "      <th>brd_city</th>\n",
       "      <th>brd_ctry</th>\n",
       "      <th>off_port</th>\n",
       "      <th>off_city</th>\n",
       "      <th>off_ctry</th>\n",
       "      <th>mkt_port</th>\n",
       "      <th>mkt_city</th>\n",
       "      <th>mkt_ctry</th>\n",
       "      <th>intl</th>\n",
       "      <th>route</th>\n",
       "      <th>carrier</th>\n",
       "      <th>bkg_class</th>\n",
       "      <th>cab_class</th>\n",
       "      <th>brd_time</th>\n",
       "      <th>off_time</th>\n",
       "      <th>pax</th>\n",
       "      <th>year</th>\n",
       "      <th>month</th>\n",
       "      <th>oid</th>\n",
       "    </tr>\n",
       "  </thead>\n",
       "  <tbody>\n",
       "    <tr>\n",
       "      <th>0</th>\n",
       "      <td>2013-03-05 00:00:00</td>\n",
       "      <td>1A</td>\n",
       "      <td>DE</td>\n",
       "      <td>a68dd7ae953c8acfb187a1af2dcbe123</td>\n",
       "      <td>1a11ae49fcbf545fd2afc1a24d88d2b7</td>\n",
       "      <td>ea65900e72d71f4626378e2ebd298267</td>\n",
       "      <td>2013-02-22 00:00:00</td>\n",
       "      <td>1708</td>\n",
       "      <td>0</td>\n",
       "      <td>ZRH</td>\n",
       "      <td>ZRH</td>\n",
       "      <td>CH</td>\n",
       "      <td>LHR</td>\n",
       "      <td>LON</td>\n",
       "      <td>GB</td>\n",
       "      <td>ZRH</td>\n",
       "      <td>ZRH</td>\n",
       "      <td>CH</td>\n",
       "      <td>LHR</td>\n",
       "      <td>LON</td>\n",
       "      <td>GB</td>\n",
       "      <td>ZRH</td>\n",
       "      <td>ZRH</td>\n",
       "      <td>CH</td>\n",
       "      <td>LHRZRH</td>\n",
       "      <td>LONZRH</td>\n",
       "      <td>CHGB</td>\n",
       "      <td>1</td>\n",
       "      <td>LHRZRH</td>\n",
       "      <td>VI</td>\n",
       "      <td>T</td>\n",
       "      <td>Y</td>\n",
       "      <td>2013-03-07 08:50:00</td>\n",
       "      <td>2013-03-07 11:33:37</td>\n",
       "      <td>-1</td>\n",
       "      <td>2013</td>\n",
       "      <td>3</td>\n",
       "      <td>NULL</td>\n",
       "    </tr>\n",
       "    <tr>\n",
       "      <th>1</th>\n",
       "      <td>2013-03-26 00:00:00</td>\n",
       "      <td>1A</td>\n",
       "      <td>US</td>\n",
       "      <td>e612b9eeeee6f17f42d9b0d3b79e75ca</td>\n",
       "      <td>7437560d8f276d6d05eeb806d9e7edee</td>\n",
       "      <td>737295a86982c941f1c2da9a46a14043</td>\n",
       "      <td>2013-03-26 00:00:00</td>\n",
       "      <td>135270</td>\n",
       "      <td>0</td>\n",
       "      <td>SAL</td>\n",
       "      <td>SAL</td>\n",
       "      <td>SV</td>\n",
       "      <td>CLT</td>\n",
       "      <td>CLT</td>\n",
       "      <td>US</td>\n",
       "      <td>SAL</td>\n",
       "      <td>SAL</td>\n",
       "      <td>SV</td>\n",
       "      <td>SAL</td>\n",
       "      <td>SAL</td>\n",
       "      <td>SV</td>\n",
       "      <td>CLT</td>\n",
       "      <td>CLT</td>\n",
       "      <td>US</td>\n",
       "      <td>CLTSAL</td>\n",
       "      <td>CLTSAL</td>\n",
       "      <td>SVUS</td>\n",
       "      <td>1</td>\n",
       "      <td>SALATLCLT</td>\n",
       "      <td>NV</td>\n",
       "      <td>L</td>\n",
       "      <td>Y</td>\n",
       "      <td>2013-04-12 13:04:00</td>\n",
       "      <td>2013-04-12 22:05:40</td>\n",
       "      <td>1</td>\n",
       "      <td>2013</td>\n",
       "      <td>3</td>\n",
       "      <td>NULL</td>\n",
       "    </tr>\n",
       "    <tr>\n",
       "      <th>2</th>\n",
       "      <td>2013-03-26 00:00:00</td>\n",
       "      <td>1A</td>\n",
       "      <td>US</td>\n",
       "      <td>e612b9eeeee6f17f42d9b0d3b79e75ca</td>\n",
       "      <td>7437560d8f276d6d05eeb806d9e7edee</td>\n",
       "      <td>737295a86982c941f1c2da9a46a14043</td>\n",
       "      <td>2013-03-26 00:00:00</td>\n",
       "      <td>135270</td>\n",
       "      <td>0</td>\n",
       "      <td>SAL</td>\n",
       "      <td>SAL</td>\n",
       "      <td>SV</td>\n",
       "      <td>CLT</td>\n",
       "      <td>CLT</td>\n",
       "      <td>US</td>\n",
       "      <td>SAL</td>\n",
       "      <td>SAL</td>\n",
       "      <td>SV</td>\n",
       "      <td>CLT</td>\n",
       "      <td>CLT</td>\n",
       "      <td>US</td>\n",
       "      <td>SAL</td>\n",
       "      <td>SAL</td>\n",
       "      <td>SV</td>\n",
       "      <td>CLTSAL</td>\n",
       "      <td>CLTSAL</td>\n",
       "      <td>SVUS</td>\n",
       "      <td>1</td>\n",
       "      <td>CLTATLSAL</td>\n",
       "      <td>NV</td>\n",
       "      <td>U</td>\n",
       "      <td>Y</td>\n",
       "      <td>2013-07-15 07:00:00</td>\n",
       "      <td>2013-07-15 11:34:51</td>\n",
       "      <td>1</td>\n",
       "      <td>2013</td>\n",
       "      <td>3</td>\n",
       "      <td>NULL</td>\n",
       "    </tr>\n",
       "    <tr>\n",
       "      <th>3</th>\n",
       "      <td>2013-03-26 00:00:00</td>\n",
       "      <td>1A</td>\n",
       "      <td>AU</td>\n",
       "      <td>0f984b3bb6bd06661c95529bbd6193bc</td>\n",
       "      <td>36472c6dbaf7afec9136ac40364e2794</td>\n",
       "      <td>5ecf00fdcbcec761c43dc7285253d0c1</td>\n",
       "      <td>2013-03-26 00:00:00</td>\n",
       "      <td>30885</td>\n",
       "      <td>0</td>\n",
       "      <td>AKL</td>\n",
       "      <td>AKL</td>\n",
       "      <td>NZ</td>\n",
       "      <td>SVO</td>\n",
       "      <td>MOW</td>\n",
       "      <td>RU</td>\n",
       "      <td>AKL</td>\n",
       "      <td>AKL</td>\n",
       "      <td>NZ</td>\n",
       "      <td>AKL</td>\n",
       "      <td>AKL</td>\n",
       "      <td>NZ</td>\n",
       "      <td>SVO</td>\n",
       "      <td>MOW</td>\n",
       "      <td>RU</td>\n",
       "      <td>AKLSVO</td>\n",
       "      <td>AKLMOW</td>\n",
       "      <td>NZRU</td>\n",
       "      <td>1</td>\n",
       "      <td>AKLHKGSVO</td>\n",
       "      <td>XK</td>\n",
       "      <td>G</td>\n",
       "      <td>Y</td>\n",
       "      <td>2013-04-24 23:59:00</td>\n",
       "      <td>2013-04-25 16:06:31</td>\n",
       "      <td>1</td>\n",
       "      <td>2013</td>\n",
       "      <td>3</td>\n",
       "      <td>SYDA82546</td>\n",
       "    </tr>\n",
       "    <tr>\n",
       "      <th>4</th>\n",
       "      <td>2013-03-26 00:00:00</td>\n",
       "      <td>1A</td>\n",
       "      <td>AU</td>\n",
       "      <td>0f984b3bb6bd06661c95529bbd6193bc</td>\n",
       "      <td>36472c6dbaf7afec9136ac40364e2794</td>\n",
       "      <td>5ecf00fdcbcec761c43dc7285253d0c1</td>\n",
       "      <td>2013-03-26 00:00:00</td>\n",
       "      <td>30885</td>\n",
       "      <td>0</td>\n",
       "      <td>AKL</td>\n",
       "      <td>AKL</td>\n",
       "      <td>NZ</td>\n",
       "      <td>SVO</td>\n",
       "      <td>MOW</td>\n",
       "      <td>RU</td>\n",
       "      <td>AKL</td>\n",
       "      <td>AKL</td>\n",
       "      <td>NZ</td>\n",
       "      <td>SVO</td>\n",
       "      <td>MOW</td>\n",
       "      <td>RU</td>\n",
       "      <td>AKL</td>\n",
       "      <td>AKL</td>\n",
       "      <td>NZ</td>\n",
       "      <td>AKLSVO</td>\n",
       "      <td>AKLMOW</td>\n",
       "      <td>NZRU</td>\n",
       "      <td>1</td>\n",
       "      <td>SVOHKGAKL</td>\n",
       "      <td>XK</td>\n",
       "      <td>G</td>\n",
       "      <td>Y</td>\n",
       "      <td>2013-05-14 20:15:00</td>\n",
       "      <td>2013-05-16 10:44:50</td>\n",
       "      <td>1</td>\n",
       "      <td>2013</td>\n",
       "      <td>3</td>\n",
       "      <td>SYDA82546</td>\n",
       "    </tr>\n",
       "  </tbody>\n",
       "</table>\n",
       "</div>"
      ],
      "text/plain": [
       "   act_date             source  pos_ctry                          pos_iata  \\\n",
       "0  2013-03-05 00:00:00  1A      DE        a68dd7ae953c8acfb187a1af2dcbe123   \n",
       "1  2013-03-26 00:00:00  1A      US        e612b9eeeee6f17f42d9b0d3b79e75ca   \n",
       "2  2013-03-26 00:00:00  1A      US        e612b9eeeee6f17f42d9b0d3b79e75ca   \n",
       "3  2013-03-26 00:00:00  1A      AU        0f984b3bb6bd06661c95529bbd6193bc   \n",
       "4  2013-03-26 00:00:00  1A      AU        0f984b3bb6bd06661c95529bbd6193bc   \n",
       "\n",
       "                          pos_oid                      rloc            \\\n",
       "0  1a11ae49fcbf545fd2afc1a24d88d2b7  ea65900e72d71f4626378e2ebd298267   \n",
       "1  7437560d8f276d6d05eeb806d9e7edee  737295a86982c941f1c2da9a46a14043   \n",
       "2  7437560d8f276d6d05eeb806d9e7edee  737295a86982c941f1c2da9a46a14043   \n",
       "3  36472c6dbaf7afec9136ac40364e2794  5ecf00fdcbcec761c43dc7285253d0c1   \n",
       "4  36472c6dbaf7afec9136ac40364e2794  5ecf00fdcbcec761c43dc7285253d0c1   \n",
       "\n",
       "   cre_date             duration  distance  dep_port  dep_city  dep_ctry  \\\n",
       "0  2013-02-22 00:00:00      1708         0  ZRH       ZRH       CH         \n",
       "1  2013-03-26 00:00:00    135270         0  SAL       SAL       SV         \n",
       "2  2013-03-26 00:00:00    135270         0  SAL       SAL       SV         \n",
       "3  2013-03-26 00:00:00     30885         0  AKL       AKL       NZ         \n",
       "4  2013-03-26 00:00:00     30885         0  AKL       AKL       NZ         \n",
       "\n",
       "   arr_port  arr_city  arr_ctry  lst_port  lst_city  lst_ctry  brd_port  \\\n",
       "0  LHR       LON       GB        ZRH       ZRH       CH        LHR        \n",
       "1  CLT       CLT       US        SAL       SAL       SV        SAL        \n",
       "2  CLT       CLT       US        SAL       SAL       SV        CLT        \n",
       "3  SVO       MOW       RU        AKL       AKL       NZ        AKL        \n",
       "4  SVO       MOW       RU        AKL       AKL       NZ        SVO        \n",
       "\n",
       "   brd_city  brd_ctry  off_port  off_city  off_ctry  mkt_port  mkt_city  \\\n",
       "0  LON       GB        ZRH       ZRH       CH        LHRZRH    LONZRH     \n",
       "1  SAL       SV        CLT       CLT       US        CLTSAL    CLTSAL     \n",
       "2  CLT       US        SAL       SAL       SV        CLTSAL    CLTSAL     \n",
       "3  AKL       NZ        SVO       MOW       RU        AKLSVO    AKLMOW     \n",
       "4  MOW       RU        AKL       AKL       NZ        AKLSVO    AKLMOW     \n",
       "\n",
       "   mkt_ctry  intl  route           carrier  bkg_class  cab_class  \\\n",
       "0  CHGB         1  LHRZRH               VI  T          Y           \n",
       "1  SVUS         1  SALATLCLT            NV  L          Y           \n",
       "2  SVUS         1  CLTATLSAL            NV  U          Y           \n",
       "3  NZRU         1  AKLHKGSVO            XK  G          Y           \n",
       "4  NZRU         1  SVOHKGAKL            XK  G          Y           \n",
       "\n",
       "   brd_time             off_time             pax  year  month  oid        \n",
       "0  2013-03-07 08:50:00  2013-03-07 11:33:37   -1  2013      3  NULL       \n",
       "1  2013-04-12 13:04:00  2013-04-12 22:05:40    1  2013      3  NULL       \n",
       "2  2013-07-15 07:00:00  2013-07-15 11:34:51    1  2013      3  NULL       \n",
       "3  2013-04-24 23:59:00  2013-04-25 16:06:31    1  2013      3  SYDA82546  \n",
       "4  2013-05-14 20:15:00  2013-05-16 10:44:50    1  2013      3  SYDA82546  "
      ]
     },
     "execution_count": 8,
     "metadata": {},
     "output_type": "execute_result"
    }
   ],
   "source": [
    "bookings = pd.read_csv('../challenge/bookings.csv', nrows=10, sep='^', )\n",
    "bookings.head()"
   ]
  },
  {
   "cell_type": "code",
   "execution_count": 9,
   "metadata": {
    "collapsed": true
   },
   "outputs": [
    {
     "name": "stdout",
     "output_type": "stream",
     "text": [
      "<class 'pandas.core.frame.DataFrame'>\n",
      "RangeIndex: 10 entries, 0 to 9\n",
      "Data columns (total 38 columns):\n",
      " #   Column               Non-Null Count  Dtype \n",
      "---  ------               --------------  ----- \n",
      " 0   act_date             10 non-null     object\n",
      " 1   source               10 non-null     object\n",
      " 2   pos_ctry             10 non-null     object\n",
      " 3   pos_iata             10 non-null     object\n",
      " 4   pos_oid              10 non-null     object\n",
      " 5   rloc                 10 non-null     object\n",
      " 6   cre_date             10 non-null     object\n",
      " 7   duration             10 non-null     int64 \n",
      " 8   distance             10 non-null     int64 \n",
      " 9   dep_port             10 non-null     object\n",
      " 10  dep_city             10 non-null     object\n",
      " 11  dep_ctry             10 non-null     object\n",
      " 12  arr_port             10 non-null     object\n",
      " 13  arr_city             10 non-null     object\n",
      " 14  arr_ctry             10 non-null     object\n",
      " 15  lst_port             10 non-null     object\n",
      " 16  lst_city             10 non-null     object\n",
      " 17  lst_ctry             10 non-null     object\n",
      " 18  brd_port             10 non-null     object\n",
      " 19  brd_city             10 non-null     object\n",
      " 20  brd_ctry             10 non-null     object\n",
      " 21  off_port             10 non-null     object\n",
      " 22  off_city             10 non-null     object\n",
      " 23  off_ctry             10 non-null     object\n",
      " 24  mkt_port             10 non-null     object\n",
      " 25  mkt_city             10 non-null     object\n",
      " 26  mkt_ctry             10 non-null     object\n",
      " 27  intl                 10 non-null     int64 \n",
      " 28  route                10 non-null     object\n",
      " 29  carrier              10 non-null     object\n",
      " 30  bkg_class            10 non-null     object\n",
      " 31  cab_class            10 non-null     object\n",
      " 32  brd_time             10 non-null     object\n",
      " 33  off_time             10 non-null     object\n",
      " 34  pax                  10 non-null     int64 \n",
      " 35  year                 10 non-null     int64 \n",
      " 36  month                10 non-null     int64 \n",
      " 37  oid                  10 non-null     object\n",
      "dtypes: int64(6), object(32)\n",
      "memory usage: 3.1+ KB\n"
     ]
    }
   ],
   "source": [
    "bookings.info()"
   ]
  },
  {
   "cell_type": "markdown",
   "metadata": {},
   "source": [
    "`pax` and `year` columns are `int64` data type, so they can't have blank spaces.\n",
    "\n",
    "Now we know that we will need to use the columns `arr_port`, `pax` and `year`. So we load a bigger sample only with those columns."
   ]
  },
  {
   "cell_type": "code",
   "execution_count": 10,
   "metadata": {},
   "outputs": [
    {
     "data": {
      "text/html": [
       "<div>\n",
       "<style scoped>\n",
       "    .dataframe tbody tr th:only-of-type {\n",
       "        vertical-align: middle;\n",
       "    }\n",
       "\n",
       "    .dataframe tbody tr th {\n",
       "        vertical-align: top;\n",
       "    }\n",
       "\n",
       "    .dataframe thead th {\n",
       "        text-align: right;\n",
       "    }\n",
       "</style>\n",
       "<table border=\"1\" class=\"dataframe\">\n",
       "  <thead>\n",
       "    <tr style=\"text-align: right;\">\n",
       "      <th></th>\n",
       "      <th>arr_port</th>\n",
       "      <th>pax</th>\n",
       "      <th>year</th>\n",
       "    </tr>\n",
       "  </thead>\n",
       "  <tbody>\n",
       "    <tr>\n",
       "      <th>0</th>\n",
       "      <td>LHR</td>\n",
       "      <td>-1</td>\n",
       "      <td>2013</td>\n",
       "    </tr>\n",
       "    <tr>\n",
       "      <th>1</th>\n",
       "      <td>CLT</td>\n",
       "      <td>1</td>\n",
       "      <td>2013</td>\n",
       "    </tr>\n",
       "    <tr>\n",
       "      <th>2</th>\n",
       "      <td>CLT</td>\n",
       "      <td>1</td>\n",
       "      <td>2013</td>\n",
       "    </tr>\n",
       "    <tr>\n",
       "      <th>3</th>\n",
       "      <td>SVO</td>\n",
       "      <td>1</td>\n",
       "      <td>2013</td>\n",
       "    </tr>\n",
       "    <tr>\n",
       "      <th>4</th>\n",
       "      <td>SVO</td>\n",
       "      <td>1</td>\n",
       "      <td>2013</td>\n",
       "    </tr>\n",
       "  </tbody>\n",
       "</table>\n",
       "</div>"
      ],
      "text/plain": [
       "   arr_port  pax  year\n",
       "0  LHR        -1  2013\n",
       "1  CLT         1  2013\n",
       "2  CLT         1  2013\n",
       "3  SVO         1  2013\n",
       "4  SVO         1  2013"
      ]
     },
     "execution_count": 10,
     "metadata": {},
     "output_type": "execute_result"
    }
   ],
   "source": [
    "bookings = pd.read_csv('../challenge/bookings.csv', nrows=100000, sep='^', \n",
    "                       usecols=['arr_port', 'pax', 'year'])\n",
    "bookings.head()"
   ]
  },
  {
   "cell_type": "markdown",
   "metadata": {},
   "source": [
    "We check the columns names and we realized that they must be normalized because there are some blank spaces."
   ]
  },
  {
   "cell_type": "code",
   "execution_count": 11,
   "metadata": {},
   "outputs": [
    {
     "data": {
      "text/plain": [
       "['LHR     ', 'CLT     ', 'CLT     ', 'SVO     ', 'SVO     ']"
      ]
     },
     "execution_count": 11,
     "metadata": {},
     "output_type": "execute_result"
    }
   ],
   "source": [
    "bookings['arr_port'].head().tolist()"
   ]
  },
  {
   "cell_type": "code",
   "execution_count": 12,
   "metadata": {},
   "outputs": [
    {
     "data": {
      "text/plain": [
       "['LHR', 'CLT', 'CLT', 'SVO', 'SVO']"
      ]
     },
     "execution_count": 12,
     "metadata": {},
     "output_type": "execute_result"
    }
   ],
   "source": [
    "bookings['arr_port'] = bookings['arr_port'].str.strip().str.upper()\n",
    "bookings['arr_port'].head().tolist()"
   ]
  },
  {
   "cell_type": "markdown",
   "metadata": {},
   "source": [
    "We aggregate the data just for testing. We realize that we don't need the `year` column in our final solution so we dropped it."
   ]
  },
  {
   "cell_type": "code",
   "execution_count": 13,
   "metadata": {},
   "outputs": [
    {
     "data": {
      "text/html": [
       "<div>\n",
       "<style scoped>\n",
       "    .dataframe tbody tr th:only-of-type {\n",
       "        vertical-align: middle;\n",
       "    }\n",
       "\n",
       "    .dataframe tbody tr th {\n",
       "        vertical-align: top;\n",
       "    }\n",
       "\n",
       "    .dataframe thead th {\n",
       "        text-align: right;\n",
       "    }\n",
       "</style>\n",
       "<table border=\"1\" class=\"dataframe\">\n",
       "  <thead>\n",
       "    <tr style=\"text-align: right;\">\n",
       "      <th></th>\n",
       "      <th>pax</th>\n",
       "    </tr>\n",
       "    <tr>\n",
       "      <th>arr_port</th>\n",
       "      <th></th>\n",
       "    </tr>\n",
       "  </thead>\n",
       "  <tbody>\n",
       "    <tr>\n",
       "      <th>LHR</th>\n",
       "      <td>1006</td>\n",
       "    </tr>\n",
       "    <tr>\n",
       "      <th>MCO</th>\n",
       "      <td>861</td>\n",
       "    </tr>\n",
       "    <tr>\n",
       "      <th>JFK</th>\n",
       "      <td>795</td>\n",
       "    </tr>\n",
       "    <tr>\n",
       "      <th>LAX</th>\n",
       "      <td>761</td>\n",
       "    </tr>\n",
       "    <tr>\n",
       "      <th>BKK</th>\n",
       "      <td>747</td>\n",
       "    </tr>\n",
       "    <tr>\n",
       "      <th>LAS</th>\n",
       "      <td>732</td>\n",
       "    </tr>\n",
       "    <tr>\n",
       "      <th>SFO</th>\n",
       "      <td>705</td>\n",
       "    </tr>\n",
       "    <tr>\n",
       "      <th>ORD</th>\n",
       "      <td>686</td>\n",
       "    </tr>\n",
       "    <tr>\n",
       "      <th>CDG</th>\n",
       "      <td>676</td>\n",
       "    </tr>\n",
       "    <tr>\n",
       "      <th>DXB</th>\n",
       "      <td>587</td>\n",
       "    </tr>\n",
       "  </tbody>\n",
       "</table>\n",
       "</div>"
      ],
      "text/plain": [
       "           pax\n",
       "arr_port      \n",
       "LHR       1006\n",
       "MCO        861\n",
       "JFK        795\n",
       "LAX        761\n",
       "BKK        747\n",
       "LAS        732\n",
       "SFO        705\n",
       "ORD        686\n",
       "CDG        676\n",
       "DXB        587"
      ]
     },
     "execution_count": 13,
     "metadata": {},
     "output_type": "execute_result"
    }
   ],
   "source": [
    "bookings_2013 = bookings[bookings['year'] == 2013]\n",
    "\n",
    "top_10_2013 = bookings_2013.groupby('arr_port').sum().sort_values(by='pax', ascending=False).head(10)\n",
    "top_10_2013.drop('year', axis=1)"
   ]
  },
  {
   "cell_type": "markdown",
   "metadata": {},
   "source": [
    "Then we start to build a function to do the cleaning tasks."
   ]
  },
  {
   "cell_type": "code",
   "execution_count": 14,
   "metadata": {},
   "outputs": [],
   "source": [
    "def data_preprocessing(df, year):\n",
    "    '''\n",
    "    Takes a dataframe and a year, filters it by year, drops the year,\n",
    "    and drops null values.\n",
    "    Returns a dataframe.\n",
    "    \n",
    "    PARAMETERS\n",
    "    df: Dataframe\n",
    "    year: Year to filter by\n",
    "    '''\n",
    "    df[df['year'] == year]\n",
    "    df.drop('year', axis=1, inplace=True)\n",
    "    df.dropna(inplace=True)\n",
    "    return df"
   ]
  },
  {
   "cell_type": "markdown",
   "metadata": {},
   "source": [
    "At this point we start again but loading the data in chunks. We will start by loading the first million rows and we will load the full dataset at the end."
   ]
  },
  {
   "cell_type": "code",
   "execution_count": 15,
   "metadata": {},
   "outputs": [],
   "source": [
    "data_iterator = pd.read_csv(\"../challenge/bookings.csv\", chunksize=10**6, \n",
    "                            sep='^', usecols=['arr_port', 'pax', 'year'],\n",
    "                            #nrows=10**6,\n",
    "                           )\n",
    "\n",
    "chunk_list = []  \n",
    "# Each chunk is in dataframe format\n",
    "for data_chunk in data_iterator: \n",
    "    data_chunk = data_preprocessing(data_chunk, 2013)\n",
    "    chunk_list.append(data_chunk)\n",
    "\n",
    "bookings = pd.concat(chunk_list)"
   ]
  },
  {
   "cell_type": "markdown",
   "metadata": {},
   "source": [
    "We can do more cleaning task. The `arr_port` column cells must contain trhee uppercase characteres."
   ]
  },
  {
   "cell_type": "code",
   "execution_count": 17,
   "metadata": {},
   "outputs": [
    {
     "data": {
      "text/plain": [
       "3    10000009\n",
       "Name: arr_port, dtype: int64"
      ]
     },
     "execution_count": 17,
     "metadata": {},
     "output_type": "execute_result"
    }
   ],
   "source": [
    "bookings['arr_port'] = bookings['arr_port'].str.strip().str.upper()\n",
    "bookings['arr_port'].apply(len).value_counts()"
   ]
  },
  {
   "cell_type": "code",
   "execution_count": 18,
   "metadata": {},
   "outputs": [
    {
     "data": {
      "text/html": [
       "<div>\n",
       "<style scoped>\n",
       "    .dataframe tbody tr th:only-of-type {\n",
       "        vertical-align: middle;\n",
       "    }\n",
       "\n",
       "    .dataframe tbody tr th {\n",
       "        vertical-align: top;\n",
       "    }\n",
       "\n",
       "    .dataframe thead th {\n",
       "        text-align: right;\n",
       "    }\n",
       "</style>\n",
       "<table border=\"1\" class=\"dataframe\">\n",
       "  <thead>\n",
       "    <tr style=\"text-align: right;\">\n",
       "      <th></th>\n",
       "      <th>pax</th>\n",
       "    </tr>\n",
       "    <tr>\n",
       "      <th>arr_port</th>\n",
       "      <th></th>\n",
       "    </tr>\n",
       "  </thead>\n",
       "  <tbody>\n",
       "    <tr>\n",
       "      <th>LHR</th>\n",
       "      <td>88809.0</td>\n",
       "    </tr>\n",
       "    <tr>\n",
       "      <th>MCO</th>\n",
       "      <td>70930.0</td>\n",
       "    </tr>\n",
       "    <tr>\n",
       "      <th>LAX</th>\n",
       "      <td>70530.0</td>\n",
       "    </tr>\n",
       "    <tr>\n",
       "      <th>LAS</th>\n",
       "      <td>69630.0</td>\n",
       "    </tr>\n",
       "    <tr>\n",
       "      <th>JFK</th>\n",
       "      <td>66270.0</td>\n",
       "    </tr>\n",
       "    <tr>\n",
       "      <th>CDG</th>\n",
       "      <td>64490.0</td>\n",
       "    </tr>\n",
       "    <tr>\n",
       "      <th>BKK</th>\n",
       "      <td>59460.0</td>\n",
       "    </tr>\n",
       "    <tr>\n",
       "      <th>MIA</th>\n",
       "      <td>58150.0</td>\n",
       "    </tr>\n",
       "    <tr>\n",
       "      <th>SFO</th>\n",
       "      <td>58000.0</td>\n",
       "    </tr>\n",
       "    <tr>\n",
       "      <th>DXB</th>\n",
       "      <td>55590.0</td>\n",
       "    </tr>\n",
       "  </tbody>\n",
       "</table>\n",
       "</div>"
      ],
      "text/plain": [
       "              pax\n",
       "arr_port         \n",
       "LHR       88809.0\n",
       "MCO       70930.0\n",
       "LAX       70530.0\n",
       "LAS       69630.0\n",
       "JFK       66270.0\n",
       "CDG       64490.0\n",
       "BKK       59460.0\n",
       "MIA       58150.0\n",
       "SFO       58000.0\n",
       "DXB       55590.0"
      ]
     },
     "execution_count": 18,
     "metadata": {},
     "output_type": "execute_result"
    }
   ],
   "source": [
    "top_10 = bookings.pivot_table(values='pax', index='arr_port', \n",
    "                              aggfunc=np.sum).sort_values(by='pax', ascending=False).head(10)\n",
    "top_10"
   ]
  },
  {
   "cell_type": "markdown",
   "metadata": {},
   "source": [
    "Finally we use NeoBase to extract data fro each airport."
   ]
  },
  {
   "cell_type": "code",
   "execution_count": 21,
   "metadata": {},
   "outputs": [],
   "source": [
    "from neobase import NeoBase"
   ]
  },
  {
   "cell_type": "code",
   "execution_count": 22,
   "metadata": {},
   "outputs": [],
   "source": [
    "b = NeoBase()"
   ]
  },
  {
   "cell_type": "code",
   "execution_count": 23,
   "metadata": {},
   "outputs": [
    {
     "data": {
      "text/plain": [
       "['London']"
      ]
     },
     "execution_count": 23,
     "metadata": {},
     "output_type": "execute_result"
    }
   ],
   "source": [
    "b.get('LHR','city_name_list')"
   ]
  },
  {
   "cell_type": "code",
   "execution_count": 24,
   "metadata": {},
   "outputs": [
    {
     "data": {
      "text/plain": [
       "'London Heathrow Airport'"
      ]
     },
     "execution_count": 24,
     "metadata": {},
     "output_type": "execute_result"
    }
   ],
   "source": [
    "b.get('LHR','name')"
   ]
  },
  {
   "cell_type": "code",
   "execution_count": 25,
   "metadata": {},
   "outputs": [
    {
     "data": {
      "text/plain": [
       "'LHR'"
      ]
     },
     "execution_count": 25,
     "metadata": {},
     "output_type": "execute_result"
    }
   ],
   "source": [
    "top_10.index[0]"
   ]
  },
  {
   "cell_type": "code",
   "execution_count": 26,
   "metadata": {},
   "outputs": [
    {
     "data": {
      "text/plain": [
       "{'__dup__': set(),\n",
       " 'iata_code': 'LHR',\n",
       " 'name': 'London Heathrow Airport',\n",
       " 'lat': '51.4775',\n",
       " 'lng': '-0.461389',\n",
       " 'page_rank': 0.6631884761241168,\n",
       " 'country_code': 'GB',\n",
       " 'country_name': 'United Kingdom',\n",
       " 'continent_name': 'Europe',\n",
       " 'timezone': 'Europe/London',\n",
       " 'city_code_list': ['LON'],\n",
       " 'city_name_list': ['London'],\n",
       " 'location_type': ['A'],\n",
       " 'currency': 'GBP'}"
      ]
     },
     "execution_count": 26,
     "metadata": {},
     "output_type": "execute_result"
    }
   ],
   "source": [
    "b.get(top_10.index[0]) # My index is 'arr_port'"
   ]
  },
  {
   "cell_type": "code",
   "execution_count": 27,
   "metadata": {},
   "outputs": [
    {
     "data": {
      "text/plain": [
       "'London Heathrow Airport'"
      ]
     },
     "execution_count": 27,
     "metadata": {},
     "output_type": "execute_result"
    }
   ],
   "source": [
    "b.get(top_10.index[0])['name']"
   ]
  },
  {
   "cell_type": "code",
   "execution_count": 28,
   "metadata": {},
   "outputs": [
    {
     "data": {
      "text/html": [
       "<div>\n",
       "<style scoped>\n",
       "    .dataframe tbody tr th:only-of-type {\n",
       "        vertical-align: middle;\n",
       "    }\n",
       "\n",
       "    .dataframe tbody tr th {\n",
       "        vertical-align: top;\n",
       "    }\n",
       "\n",
       "    .dataframe thead th {\n",
       "        text-align: right;\n",
       "    }\n",
       "</style>\n",
       "<table border=\"1\" class=\"dataframe\">\n",
       "  <thead>\n",
       "    <tr style=\"text-align: right;\">\n",
       "      <th></th>\n",
       "      <th>pax</th>\n",
       "      <th>arr_port_name</th>\n",
       "      <th>city</th>\n",
       "      <th>country</th>\n",
       "      <th>currency</th>\n",
       "    </tr>\n",
       "    <tr>\n",
       "      <th>arr_port</th>\n",
       "      <th></th>\n",
       "      <th></th>\n",
       "      <th></th>\n",
       "      <th></th>\n",
       "      <th></th>\n",
       "    </tr>\n",
       "  </thead>\n",
       "  <tbody>\n",
       "    <tr>\n",
       "      <th>LHR</th>\n",
       "      <td>88809.0</td>\n",
       "      <td>London Heathrow Airport</td>\n",
       "      <td>London</td>\n",
       "      <td>United Kingdom</td>\n",
       "      <td>GBP</td>\n",
       "    </tr>\n",
       "    <tr>\n",
       "      <th>MCO</th>\n",
       "      <td>70930.0</td>\n",
       "      <td>Orlando International Airport</td>\n",
       "      <td>Orlando</td>\n",
       "      <td>United States</td>\n",
       "      <td>USD</td>\n",
       "    </tr>\n",
       "    <tr>\n",
       "      <th>LAX</th>\n",
       "      <td>70530.0</td>\n",
       "      <td>Los Angeles International Airport</td>\n",
       "      <td>Los Angeles</td>\n",
       "      <td>United States</td>\n",
       "      <td>USD</td>\n",
       "    </tr>\n",
       "    <tr>\n",
       "      <th>LAS</th>\n",
       "      <td>69630.0</td>\n",
       "      <td>McCarran International Airport</td>\n",
       "      <td>Las Vegas</td>\n",
       "      <td>United States</td>\n",
       "      <td>USD</td>\n",
       "    </tr>\n",
       "    <tr>\n",
       "      <th>JFK</th>\n",
       "      <td>66270.0</td>\n",
       "      <td>John F. Kennedy International Airport</td>\n",
       "      <td>New York City</td>\n",
       "      <td>United States</td>\n",
       "      <td>USD</td>\n",
       "    </tr>\n",
       "    <tr>\n",
       "      <th>CDG</th>\n",
       "      <td>64490.0</td>\n",
       "      <td>Paris Charles de Gaulle Airport</td>\n",
       "      <td>Paris</td>\n",
       "      <td>France</td>\n",
       "      <td>EUR</td>\n",
       "    </tr>\n",
       "    <tr>\n",
       "      <th>BKK</th>\n",
       "      <td>59460.0</td>\n",
       "      <td>Suvarnabhumi Airport</td>\n",
       "      <td>Bangkok</td>\n",
       "      <td>Thailand</td>\n",
       "      <td>THB</td>\n",
       "    </tr>\n",
       "    <tr>\n",
       "      <th>MIA</th>\n",
       "      <td>58150.0</td>\n",
       "      <td>Miami International Airport</td>\n",
       "      <td>Miami</td>\n",
       "      <td>United States</td>\n",
       "      <td>USD</td>\n",
       "    </tr>\n",
       "    <tr>\n",
       "      <th>SFO</th>\n",
       "      <td>58000.0</td>\n",
       "      <td>San Francisco International Airport</td>\n",
       "      <td>San Francisco</td>\n",
       "      <td>United States</td>\n",
       "      <td>USD</td>\n",
       "    </tr>\n",
       "    <tr>\n",
       "      <th>DXB</th>\n",
       "      <td>55590.0</td>\n",
       "      <td>Dubai International Airport</td>\n",
       "      <td>Dubai</td>\n",
       "      <td>United Arab Emirates</td>\n",
       "      <td>AED</td>\n",
       "    </tr>\n",
       "  </tbody>\n",
       "</table>\n",
       "</div>"
      ],
      "text/plain": [
       "              pax                          arr_port_name           city  \\\n",
       "arr_port                                                                  \n",
       "LHR       88809.0                London Heathrow Airport         London   \n",
       "MCO       70930.0          Orlando International Airport        Orlando   \n",
       "LAX       70530.0      Los Angeles International Airport    Los Angeles   \n",
       "LAS       69630.0         McCarran International Airport      Las Vegas   \n",
       "JFK       66270.0  John F. Kennedy International Airport  New York City   \n",
       "CDG       64490.0        Paris Charles de Gaulle Airport          Paris   \n",
       "BKK       59460.0                   Suvarnabhumi Airport        Bangkok   \n",
       "MIA       58150.0            Miami International Airport          Miami   \n",
       "SFO       58000.0    San Francisco International Airport  San Francisco   \n",
       "DXB       55590.0            Dubai International Airport          Dubai   \n",
       "\n",
       "                       country currency  \n",
       "arr_port                                 \n",
       "LHR             United Kingdom      GBP  \n",
       "MCO              United States      USD  \n",
       "LAX              United States      USD  \n",
       "LAS              United States      USD  \n",
       "JFK              United States      USD  \n",
       "CDG                     France      EUR  \n",
       "BKK                   Thailand      THB  \n",
       "MIA              United States      USD  \n",
       "SFO              United States      USD  \n",
       "DXB       United Arab Emirates      AED  "
      ]
     },
     "execution_count": 28,
     "metadata": {},
     "output_type": "execute_result"
    }
   ],
   "source": [
    "b = NeoBase()\n",
    "top_10['arr_port_name'] = top_10.index.map(lambda x: b.get(x, 'name'))\n",
    "top_10['city'] = top_10.index.map(lambda x: b.get(x, 'city_name_list')[0])\n",
    "top_10['country'] = top_10.index.map(lambda x: b.get(x, 'country_name'))\n",
    "top_10['currency'] = top_10.index.map(lambda x: b.get(x, 'currency'))\n",
    "top_10"
   ]
  },
  {
   "cell_type": "markdown",
   "metadata": {},
   "source": [
    "I made some improvements in the code when I prepared the exercise to present it. It is showed at the beginning. "
   ]
  }
 ],
 "metadata": {
  "kernelspec": {
   "display_name": "Python 3",
   "language": "python",
   "name": "python3"
  },
  "language_info": {
   "codemirror_mode": {
    "name": "ipython",
    "version": 3
   },
   "file_extension": ".py",
   "mimetype": "text/x-python",
   "name": "python",
   "nbconvert_exporter": "python",
   "pygments_lexer": "ipython3",
   "version": "3.8.5"
  }
 },
 "nbformat": 4,
 "nbformat_minor": 4
}
