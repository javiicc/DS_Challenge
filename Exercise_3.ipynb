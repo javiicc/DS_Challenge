{
 "cells": [
  {
   "cell_type": "code",
   "execution_count": 4,
   "metadata": {},
   "outputs": [],
   "source": [
    "import numpy as np\n",
    "import pandas as pd\n",
    "import matplotlib.pyplot as plt\n",
    "\n",
    "pd.options.display.max_columns = None\n",
    "#pd.options.display.max_rows = 100"
   ]
  },
  {
   "cell_type": "markdown",
   "metadata": {},
   "source": [
    "# Exercise 3\n",
    "\n",
    "**Plot the monthly number of searches for flights arriving at Málaga, Madrid or Barcelona**\n",
    "\n",
    "- For the arriving airport, you can use the Destination column in the searches file. \n",
    "- Plot a curve for Málaga, another one for Madrid, and another one for Barcelona, in the same figure.\n",
    "- **Bonus point**: Solving this problem using pandas (instead of any other approach)"
   ]
  },
  {
   "cell_type": "markdown",
   "metadata": {},
   "source": [
    "### Finished Exercise"
   ]
  },
  {
   "cell_type": "markdown",
   "metadata": {},
   "source": [
    "|City|IATA Code|\n",
    "|:----:|:----:|\n",
    "|Madrid|MAD|\n",
    "|Málaga|AGP|\n",
    "|Barcelona|BCN|"
   ]
  },
  {
   "cell_type": "markdown",
   "metadata": {},
   "source": [
    "##### Option 1"
   ]
  },
  {
   "cell_type": "markdown",
   "metadata": {},
   "source": [
    "First we need to adapt our function from the last exercise to the current exercise. Let's take a look at the changes.\n",
    "- Now we don't need to filter by the year. \n",
    "- Delete possible blank spaces and drop the day from `Date` column.\n",
    "- Delete possible blank spaces and make sure all cells from `Destination` column are capitalized.\n",
    "- Drop `NaN` values.\n",
    "- Finally we add an alert message that shows us if there is any cell with length other than 3 in the `Destination` column. Also it deletes the row if it is wrong."
   ]
  },
  {
   "cell_type": "code",
   "execution_count": 2,
   "metadata": {},
   "outputs": [],
   "source": [
    "def data_preprocessing(df): \n",
    "    '''\n",
    "\n",
    "    '''\n",
    "\n",
    "    df['Date'] = df['Date'].str.strip().str[:7]\n",
    "    \n",
    "    df['Destination'] = df['Destination'].str.strip().str.upper()\n",
    "    df.dropna(inplace=True)\n",
    "    #data_chunk.reset_index(inplace=True)\n",
    "    \n",
    "    destination_length = (df['Destination'].map(len) != 3).sum()\n",
    "    if destination_length != 0:\n",
    "        print('Alert! Thsearchesere are `Destination` values with length different than 3. Deleting it..')\n",
    "        wrong_data = df[(df['Destination'].map(len) != 3)]\n",
    "        print(wrong_data)\n",
    "        df.drop(df[(df['Destination'].map(len) != 3)].index, inplace=True)\n",
    "        \n",
    "    return df"
   ]
  },
  {
   "cell_type": "markdown",
   "metadata": {},
   "source": [
    "Next, we read the dataset in chunks. We process each chunk passing it as an argument in our function. Then we append the data to searches. "
   ]
  },
  {
   "cell_type": "code",
   "execution_count": 5,
   "metadata": {},
   "outputs": [
    {
     "name": "stdout",
     "output_type": "stream",
     "text": [
      "Alert! Thsearchesere are `Destination` values with length different than 3. Deleting it..\n",
      "             Date Destination\n",
      "20390197  2013-10          HA\n"
     ]
    }
   ],
   "source": [
    "data_iterator = pd.read_csv(\"../challenge/searches.csv.bz2\", \n",
    "                            chunksize=10**6, \n",
    "                            sep='^', \n",
    "                            usecols=['Date', 'Destination'],\n",
    "                            compression='bz2',\n",
    "                            #nrows=10**5\n",
    "                           )\n",
    "\n",
    "\n",
    "searches = pd.DataFrame()\n",
    "for i, data_chunk in enumerate(data_iterator):\n",
    "    #print(\"Chunk: %d, size of chunk %d\"%(i+1, len(data_chunk)))\n",
    "    data_chunk = data_preprocessing(data_chunk)\n",
    "    #data_chunk.reset_index(inplace=True)\n",
    "    searches = searches.append(data_chunk)"
   ]
  },
  {
   "cell_type": "code",
   "execution_count": 6,
   "metadata": {},
   "outputs": [
    {
     "data": {
      "text/html": [
       "<div>\n",
       "<style scoped>\n",
       "    .dataframe tbody tr th:only-of-type {\n",
       "        vertical-align: middle;\n",
       "    }\n",
       "\n",
       "    .dataframe tbody tr th {\n",
       "        vertical-align: top;\n",
       "    }\n",
       "\n",
       "    .dataframe thead th {\n",
       "        text-align: right;\n",
       "    }\n",
       "</style>\n",
       "<table border=\"1\" class=\"dataframe\">\n",
       "  <thead>\n",
       "    <tr style=\"text-align: right;\">\n",
       "      <th></th>\n",
       "      <th>Date</th>\n",
       "      <th>Destination</th>\n",
       "    </tr>\n",
       "  </thead>\n",
       "  <tbody>\n",
       "  </tbody>\n",
       "</table>\n",
       "</div>"
      ],
      "text/plain": [
       "Empty DataFrame\n",
       "Columns: [Date, Destination]\n",
       "Index: []"
      ]
     },
     "execution_count": 6,
     "metadata": {},
     "output_type": "execute_result"
    }
   ],
   "source": [
    "searches[(searches['Destination'].map(len) != 3)]"
   ]
  },
  {
   "cell_type": "markdown",
   "metadata": {},
   "source": [
    "Finally we plot a line for each airport by filtering the dataframe by the IATA code, and then we group the filtered data by `Date` and calculate its length."
   ]
  },
  {
   "cell_type": "code",
   "execution_count": 7,
   "metadata": {},
   "outputs": [
    {
     "data": {
      "image/png": "[encoded data removed]",
      "text/plain": [
       "<Figure size 720x576 with 1 Axes>"
      ]
     },
     "metadata": {},
     "output_type": "display_data"
    }
   ],
   "source": [
    "plt.style.use('seaborn')\n",
    "fig, ax = plt.subplots(figsize=(10,8))\n",
    "\n",
    "iata_codes = ['MAD', 'AGP', 'BCN']\n",
    "for code in iata_codes:\n",
    "    searches[searches['Destination'] == code].groupby('Date').agg([len]).plot(ax=ax)\n",
    "\n",
    "ax.set_title('Monthly Number of Searches', \n",
    "             fontsize=18, \n",
    "             fontweight ='bold')\n",
    "\n",
    "ax.set_xticks([0, 1, 2, 3, 4, 5, 6, 7, 8, 9, 10, 11])\n",
    "months = ['january', 'february', 'march', \n",
    "          'april', 'may', 'june',\n",
    "          'july', 'august', 'september', \n",
    "          'october', 'november', 'december']\n",
    "ax.set_xticklabels(months, rotation=30)\n",
    "ax.set_xlabel('')\n",
    "\n",
    "leg = ax.legend(['MAD', 'AGP', 'BCN']);\n",
    "ax.figure.savefig('exercise_3.png');"
   ]
  },
  {
   "cell_type": "markdown",
   "metadata": {},
   "source": [
    "* ***No entiendo por qué cuando hago el `reset_index` me cambia el color de las lineas pero no el de la `legend`. -> Preguntar***"
   ]
  },
  {
   "cell_type": "markdown",
   "metadata": {},
   "source": [
    "##### Option 2  (faster)"
   ]
  },
  {
   "cell_type": "code",
   "execution_count": 8,
   "metadata": {},
   "outputs": [
    {
     "name": "stdout",
     "output_type": "stream",
     "text": [
      "Alert! Thsearchesere are `Destination` values with length different than 3. Deleting it..\n",
      "             Date Destination\n",
      "20390197  2013-10          HA\n"
     ]
    }
   ],
   "source": [
    "data_iterator = pd.read_csv(\"../challenge/searches.csv.bz2\", \n",
    "                            chunksize=10**6, \n",
    "                            sep='^', \n",
    "                            usecols=['Date', 'Destination'],\n",
    "                            compression='bz2',\n",
    "                            #nrows=10**5\n",
    "                           )\n",
    "\n",
    "madrid_searches = pd.DataFrame()\n",
    "barcelona_searches = pd.DataFrame()\n",
    "malaga_searches = pd.DataFrame()\n",
    "\n",
    "for i, data_chunk in enumerate(data_iterator):\n",
    "    #print(\"Chunk: %d, size of chunk %d\"%(i+1, len(data_chunk)))\n",
    "    \n",
    "    data_chunk = data_preprocessing(data_chunk)\n",
    "    #data_chunk.reset_index(inplace=True)\n",
    "    \n",
    "    madrid_data_chunk = data_chunk[data_chunk['Destination'] == 'MAD']\n",
    "    madrid_searches = madrid_searches.append(madrid_data_chunk)\n",
    "\n",
    "    barcelona_data_chunk = data_chunk[data_chunk['Destination'] == 'BCN']\n",
    "    barcelona_searches = barcelona_searches.append(barcelona_data_chunk)\n",
    "    \n",
    "    malaga_data_chunk = data_chunk[data_chunk['Destination'] == 'AGP']\n",
    "    malaga_searches = malaga_searches.append(malaga_data_chunk)"
   ]
  },
  {
   "cell_type": "code",
   "execution_count": 9,
   "metadata": {},
   "outputs": [
    {
     "data": {
      "image/png": "[encoded data removed]",
      "text/plain": [
       "<Figure size 720x576 with 1 Axes>"
      ]
     },
     "metadata": {},
     "output_type": "display_data"
    }
   ],
   "source": [
    "plt.style.use('seaborn')\n",
    "fig, ax = plt.subplots(figsize=(10,8))\n",
    "\n",
    "madrid_searches.groupby('Date').agg([len]).plot(ax=ax)\n",
    "malaga_searches.groupby('Date').agg([len]).plot(ax=ax)\n",
    "barcelona_searches.groupby('Date').agg([len]).plot(ax=ax)\n",
    "\n",
    "ax.set_title('Monthly Number of Searches', \n",
    "             fontsize=18, \n",
    "             fontweight ='bold')\n",
    "\n",
    "ax.set_xticks([0, 1, 2, 3, 4, 5, 6, 7, 8, 9, 10, 11])\n",
    "months = ['january', 'february', 'march', \n",
    "          'april', 'may', 'june',\n",
    "          'july', 'august', 'september', \n",
    "          'october', 'november', 'december']\n",
    "ax.set_xticklabels(months, rotation=30)\n",
    "ax.set_xlabel('')\n",
    "\n",
    "leg = ax.legend(['MAD', 'AGP', 'BCN']);"
   ]
  },
  {
   "cell_type": "markdown",
   "metadata": {},
   "source": [
    "------------------------"
   ]
  },
  {
   "cell_type": "markdown",
   "metadata": {},
   "source": [
    "### First Approximation "
   ]
  },
  {
   "cell_type": "markdown",
   "metadata": {},
   "source": [
    "We satart by reading a few columns to check the columns and their formats."
   ]
  },
  {
   "cell_type": "code",
   "execution_count": 10,
   "metadata": {},
   "outputs": [
    {
     "data": {
      "text/html": [
       "<div>\n",
       "<style scoped>\n",
       "    .dataframe tbody tr th:only-of-type {\n",
       "        vertical-align: middle;\n",
       "    }\n",
       "\n",
       "    .dataframe tbody tr th {\n",
       "        vertical-align: top;\n",
       "    }\n",
       "\n",
       "    .dataframe thead th {\n",
       "        text-align: right;\n",
       "    }\n",
       "</style>\n",
       "<table border=\"1\" class=\"dataframe\">\n",
       "  <thead>\n",
       "    <tr style=\"text-align: right;\">\n",
       "      <th></th>\n",
       "      <th>Date</th>\n",
       "      <th>Time</th>\n",
       "      <th>TxnCode</th>\n",
       "      <th>OfficeID</th>\n",
       "      <th>Country</th>\n",
       "      <th>Origin</th>\n",
       "      <th>Destination</th>\n",
       "      <th>RoundTrip</th>\n",
       "      <th>NbSegments</th>\n",
       "      <th>Seg1Departure</th>\n",
       "      <th>Seg1Arrival</th>\n",
       "      <th>Seg1Date</th>\n",
       "      <th>Seg1Carrier</th>\n",
       "      <th>Seg1BookingCode</th>\n",
       "      <th>Seg2Departure</th>\n",
       "      <th>Seg2Arrival</th>\n",
       "      <th>Seg2Date</th>\n",
       "      <th>Seg2Carrier</th>\n",
       "      <th>Seg2BookingCode</th>\n",
       "      <th>Seg3Departure</th>\n",
       "      <th>Seg3Arrival</th>\n",
       "      <th>Seg3Date</th>\n",
       "      <th>Seg3Carrier</th>\n",
       "      <th>Seg3BookingCode</th>\n",
       "      <th>Seg4Departure</th>\n",
       "      <th>Seg4Arrival</th>\n",
       "      <th>Seg4Date</th>\n",
       "      <th>Seg4Carrier</th>\n",
       "      <th>Seg4BookingCode</th>\n",
       "      <th>Seg5Departure</th>\n",
       "      <th>Seg5Arrival</th>\n",
       "      <th>Seg5Date</th>\n",
       "      <th>Seg5Carrier</th>\n",
       "      <th>Seg5BookingCode</th>\n",
       "      <th>Seg6Departure</th>\n",
       "      <th>Seg6Arrival</th>\n",
       "      <th>Seg6Date</th>\n",
       "      <th>Seg6Carrier</th>\n",
       "      <th>Seg6BookingCode</th>\n",
       "      <th>From</th>\n",
       "      <th>IsPublishedForNeg</th>\n",
       "      <th>IsFromInternet</th>\n",
       "      <th>IsFromVista</th>\n",
       "      <th>TerminalID</th>\n",
       "      <th>InternetOffice</th>\n",
       "    </tr>\n",
       "  </thead>\n",
       "  <tbody>\n",
       "    <tr>\n",
       "      <th>0</th>\n",
       "      <td>2013-01-01</td>\n",
       "      <td>20:25:57</td>\n",
       "      <td>MPT</td>\n",
       "      <td>624d8c3ac0b3a7ca03e3c167e0f48327</td>\n",
       "      <td>DE</td>\n",
       "      <td>TXL</td>\n",
       "      <td>AUH</td>\n",
       "      <td>1</td>\n",
       "      <td>2</td>\n",
       "      <td>TXL</td>\n",
       "      <td>AUH</td>\n",
       "      <td>2013-01-26</td>\n",
       "      <td>D2</td>\n",
       "      <td>NaN</td>\n",
       "      <td>AUH</td>\n",
       "      <td>TXL</td>\n",
       "      <td>2013-02-02</td>\n",
       "      <td>D2</td>\n",
       "      <td>NaN</td>\n",
       "      <td>NaN</td>\n",
       "      <td>NaN</td>\n",
       "      <td>NaN</td>\n",
       "      <td>NaN</td>\n",
       "      <td>NaN</td>\n",
       "      <td>NaN</td>\n",
       "      <td>NaN</td>\n",
       "      <td>NaN</td>\n",
       "      <td>NaN</td>\n",
       "      <td>NaN</td>\n",
       "      <td>NaN</td>\n",
       "      <td>NaN</td>\n",
       "      <td>NaN</td>\n",
       "      <td>NaN</td>\n",
       "      <td>NaN</td>\n",
       "      <td>NaN</td>\n",
       "      <td>NaN</td>\n",
       "      <td>NaN</td>\n",
       "      <td>NaN</td>\n",
       "      <td>NaN</td>\n",
       "      <td>1ASIWS</td>\n",
       "      <td>0</td>\n",
       "      <td>0</td>\n",
       "      <td>0</td>\n",
       "      <td>d41d8cd98f00b204e9800998ecf8427e</td>\n",
       "      <td>FRA</td>\n",
       "    </tr>\n",
       "    <tr>\n",
       "      <th>1</th>\n",
       "      <td>2013-01-01</td>\n",
       "      <td>10:15:33</td>\n",
       "      <td>MPT</td>\n",
       "      <td>b0af35b31588dc4ab06d5cf2986e8e02</td>\n",
       "      <td>MD</td>\n",
       "      <td>ATH</td>\n",
       "      <td>MIL</td>\n",
       "      <td>0</td>\n",
       "      <td>1</td>\n",
       "      <td>ATH</td>\n",
       "      <td>MIL</td>\n",
       "      <td>2013-01-04</td>\n",
       "      <td>NaN</td>\n",
       "      <td>NaN</td>\n",
       "      <td>NaN</td>\n",
       "      <td>NaN</td>\n",
       "      <td>NaN</td>\n",
       "      <td>NaN</td>\n",
       "      <td>NaN</td>\n",
       "      <td>NaN</td>\n",
       "      <td>NaN</td>\n",
       "      <td>NaN</td>\n",
       "      <td>NaN</td>\n",
       "      <td>NaN</td>\n",
       "      <td>NaN</td>\n",
       "      <td>NaN</td>\n",
       "      <td>NaN</td>\n",
       "      <td>NaN</td>\n",
       "      <td>NaN</td>\n",
       "      <td>NaN</td>\n",
       "      <td>NaN</td>\n",
       "      <td>NaN</td>\n",
       "      <td>NaN</td>\n",
       "      <td>NaN</td>\n",
       "      <td>NaN</td>\n",
       "      <td>NaN</td>\n",
       "      <td>NaN</td>\n",
       "      <td>NaN</td>\n",
       "      <td>NaN</td>\n",
       "      <td>1ASIWS</td>\n",
       "      <td>0</td>\n",
       "      <td>0</td>\n",
       "      <td>0</td>\n",
       "      <td>d41d8cd98f00b204e9800998ecf8427e</td>\n",
       "      <td>KIV</td>\n",
       "    </tr>\n",
       "    <tr>\n",
       "      <th>2</th>\n",
       "      <td>2013-01-01</td>\n",
       "      <td>18:04:49</td>\n",
       "      <td>MPT</td>\n",
       "      <td>3561a60621de06ab1badc8ca55699ef3</td>\n",
       "      <td>US</td>\n",
       "      <td>ICT</td>\n",
       "      <td>SFO</td>\n",
       "      <td>1</td>\n",
       "      <td>2</td>\n",
       "      <td>ICT</td>\n",
       "      <td>SFO</td>\n",
       "      <td>2013-08-02</td>\n",
       "      <td>NaN</td>\n",
       "      <td>NaN</td>\n",
       "      <td>SFO</td>\n",
       "      <td>ICT</td>\n",
       "      <td>2013-08-09</td>\n",
       "      <td>NaN</td>\n",
       "      <td>NaN</td>\n",
       "      <td>NaN</td>\n",
       "      <td>NaN</td>\n",
       "      <td>NaN</td>\n",
       "      <td>NaN</td>\n",
       "      <td>NaN</td>\n",
       "      <td>NaN</td>\n",
       "      <td>NaN</td>\n",
       "      <td>NaN</td>\n",
       "      <td>NaN</td>\n",
       "      <td>NaN</td>\n",
       "      <td>NaN</td>\n",
       "      <td>NaN</td>\n",
       "      <td>NaN</td>\n",
       "      <td>NaN</td>\n",
       "      <td>NaN</td>\n",
       "      <td>NaN</td>\n",
       "      <td>NaN</td>\n",
       "      <td>NaN</td>\n",
       "      <td>NaN</td>\n",
       "      <td>NaN</td>\n",
       "      <td>1ASIWS</td>\n",
       "      <td>0</td>\n",
       "      <td>0</td>\n",
       "      <td>0</td>\n",
       "      <td>d41d8cd98f00b204e9800998ecf8427e</td>\n",
       "      <td>NYC</td>\n",
       "    </tr>\n",
       "    <tr>\n",
       "      <th>3</th>\n",
       "      <td>2013-01-01</td>\n",
       "      <td>17:42:40</td>\n",
       "      <td>FXP</td>\n",
       "      <td>1864e5e8013d9414150e91d26b6a558b</td>\n",
       "      <td>SE</td>\n",
       "      <td>RNB</td>\n",
       "      <td>ARN</td>\n",
       "      <td>0</td>\n",
       "      <td>1</td>\n",
       "      <td>RNB</td>\n",
       "      <td>ARN</td>\n",
       "      <td>2013-01-02</td>\n",
       "      <td>DU</td>\n",
       "      <td>W</td>\n",
       "      <td>NaN</td>\n",
       "      <td>NaN</td>\n",
       "      <td>NaN</td>\n",
       "      <td>NaN</td>\n",
       "      <td>NaN</td>\n",
       "      <td>NaN</td>\n",
       "      <td>NaN</td>\n",
       "      <td>NaN</td>\n",
       "      <td>NaN</td>\n",
       "      <td>NaN</td>\n",
       "      <td>NaN</td>\n",
       "      <td>NaN</td>\n",
       "      <td>NaN</td>\n",
       "      <td>NaN</td>\n",
       "      <td>NaN</td>\n",
       "      <td>NaN</td>\n",
       "      <td>NaN</td>\n",
       "      <td>NaN</td>\n",
       "      <td>NaN</td>\n",
       "      <td>NaN</td>\n",
       "      <td>NaN</td>\n",
       "      <td>NaN</td>\n",
       "      <td>NaN</td>\n",
       "      <td>NaN</td>\n",
       "      <td>NaN</td>\n",
       "      <td>1ASI</td>\n",
       "      <td>0</td>\n",
       "      <td>0</td>\n",
       "      <td>0</td>\n",
       "      <td>d41d8cd98f00b204e9800998ecf8427e</td>\n",
       "      <td>STO</td>\n",
       "    </tr>\n",
       "    <tr>\n",
       "      <th>4</th>\n",
       "      <td>2013-01-01</td>\n",
       "      <td>17:48:29</td>\n",
       "      <td>MPT</td>\n",
       "      <td>1ec336348f44207d2e0027dc3a68c118</td>\n",
       "      <td>NO</td>\n",
       "      <td>OSL</td>\n",
       "      <td>MAD</td>\n",
       "      <td>1</td>\n",
       "      <td>2</td>\n",
       "      <td>OSL</td>\n",
       "      <td>MAD</td>\n",
       "      <td>2013-03-22</td>\n",
       "      <td>NaN</td>\n",
       "      <td>NaN</td>\n",
       "      <td>MAD</td>\n",
       "      <td>OSL</td>\n",
       "      <td>2013-03-31</td>\n",
       "      <td>NaN</td>\n",
       "      <td>NaN</td>\n",
       "      <td>NaN</td>\n",
       "      <td>NaN</td>\n",
       "      <td>NaN</td>\n",
       "      <td>NaN</td>\n",
       "      <td>NaN</td>\n",
       "      <td>NaN</td>\n",
       "      <td>NaN</td>\n",
       "      <td>NaN</td>\n",
       "      <td>NaN</td>\n",
       "      <td>NaN</td>\n",
       "      <td>NaN</td>\n",
       "      <td>NaN</td>\n",
       "      <td>NaN</td>\n",
       "      <td>NaN</td>\n",
       "      <td>NaN</td>\n",
       "      <td>NaN</td>\n",
       "      <td>NaN</td>\n",
       "      <td>NaN</td>\n",
       "      <td>NaN</td>\n",
       "      <td>NaN</td>\n",
       "      <td>1ASIWS</td>\n",
       "      <td>0</td>\n",
       "      <td>0</td>\n",
       "      <td>0</td>\n",
       "      <td>d41d8cd98f00b204e9800998ecf8427e</td>\n",
       "      <td>OSL</td>\n",
       "    </tr>\n",
       "  </tbody>\n",
       "</table>\n",
       "</div>"
      ],
      "text/plain": [
       "        Date      Time TxnCode                          OfficeID Country  \\\n",
       "0 2013-01-01  20:25:57     MPT  624d8c3ac0b3a7ca03e3c167e0f48327      DE   \n",
       "1 2013-01-01  10:15:33     MPT  b0af35b31588dc4ab06d5cf2986e8e02      MD   \n",
       "2 2013-01-01  18:04:49     MPT  3561a60621de06ab1badc8ca55699ef3      US   \n",
       "3 2013-01-01  17:42:40     FXP  1864e5e8013d9414150e91d26b6a558b      SE   \n",
       "4 2013-01-01  17:48:29     MPT  1ec336348f44207d2e0027dc3a68c118      NO   \n",
       "\n",
       "  Origin Destination  RoundTrip  NbSegments Seg1Departure Seg1Arrival  \\\n",
       "0    TXL         AUH          1           2           TXL         AUH   \n",
       "1    ATH         MIL          0           1           ATH         MIL   \n",
       "2    ICT         SFO          1           2           ICT         SFO   \n",
       "3    RNB         ARN          0           1           RNB         ARN   \n",
       "4    OSL         MAD          1           2           OSL         MAD   \n",
       "\n",
       "     Seg1Date Seg1Carrier Seg1BookingCode Seg2Departure Seg2Arrival  \\\n",
       "0  2013-01-26          D2             NaN           AUH         TXL   \n",
       "1  2013-01-04         NaN             NaN           NaN         NaN   \n",
       "2  2013-08-02         NaN             NaN           SFO         ICT   \n",
       "3  2013-01-02          DU               W           NaN         NaN   \n",
       "4  2013-03-22         NaN             NaN           MAD         OSL   \n",
       "\n",
       "     Seg2Date Seg2Carrier  Seg2BookingCode  Seg3Departure  Seg3Arrival  \\\n",
       "0  2013-02-02          D2              NaN            NaN          NaN   \n",
       "1         NaN         NaN              NaN            NaN          NaN   \n",
       "2  2013-08-09         NaN              NaN            NaN          NaN   \n",
       "3         NaN         NaN              NaN            NaN          NaN   \n",
       "4  2013-03-31         NaN              NaN            NaN          NaN   \n",
       "\n",
       "   Seg3Date  Seg3Carrier  Seg3BookingCode  Seg4Departure  Seg4Arrival  \\\n",
       "0       NaN          NaN              NaN            NaN          NaN   \n",
       "1       NaN          NaN              NaN            NaN          NaN   \n",
       "2       NaN          NaN              NaN            NaN          NaN   \n",
       "3       NaN          NaN              NaN            NaN          NaN   \n",
       "4       NaN          NaN              NaN            NaN          NaN   \n",
       "\n",
       "   Seg4Date  Seg4Carrier  Seg4BookingCode  Seg5Departure  Seg5Arrival  \\\n",
       "0       NaN          NaN              NaN            NaN          NaN   \n",
       "1       NaN          NaN              NaN            NaN          NaN   \n",
       "2       NaN          NaN              NaN            NaN          NaN   \n",
       "3       NaN          NaN              NaN            NaN          NaN   \n",
       "4       NaN          NaN              NaN            NaN          NaN   \n",
       "\n",
       "   Seg5Date  Seg5Carrier  Seg5BookingCode  Seg6Departure  Seg6Arrival  \\\n",
       "0       NaN          NaN              NaN            NaN          NaN   \n",
       "1       NaN          NaN              NaN            NaN          NaN   \n",
       "2       NaN          NaN              NaN            NaN          NaN   \n",
       "3       NaN          NaN              NaN            NaN          NaN   \n",
       "4       NaN          NaN              NaN            NaN          NaN   \n",
       "\n",
       "   Seg6Date  Seg6Carrier  Seg6BookingCode    From  IsPublishedForNeg  \\\n",
       "0       NaN          NaN              NaN  1ASIWS                  0   \n",
       "1       NaN          NaN              NaN  1ASIWS                  0   \n",
       "2       NaN          NaN              NaN  1ASIWS                  0   \n",
       "3       NaN          NaN              NaN    1ASI                  0   \n",
       "4       NaN          NaN              NaN  1ASIWS                  0   \n",
       "\n",
       "   IsFromInternet  IsFromVista                        TerminalID  \\\n",
       "0               0            0  d41d8cd98f00b204e9800998ecf8427e   \n",
       "1               0            0  d41d8cd98f00b204e9800998ecf8427e   \n",
       "2               0            0  d41d8cd98f00b204e9800998ecf8427e   \n",
       "3               0            0  d41d8cd98f00b204e9800998ecf8427e   \n",
       "4               0            0  d41d8cd98f00b204e9800998ecf8427e   \n",
       "\n",
       "  InternetOffice  \n",
       "0            FRA  \n",
       "1            KIV  \n",
       "2            NYC  \n",
       "3            STO  \n",
       "4            OSL  "
      ]
     },
     "execution_count": 10,
     "metadata": {},
     "output_type": "execute_result"
    }
   ],
   "source": [
    "searches = pd.read_csv('../challenge/searches.csv.bz2', nrows=10, sep='^', \n",
    "                       compression='bz2', parse_dates=['Date'])\n",
    "searches.head()"
   ]
  },
  {
   "cell_type": "code",
   "execution_count": 11,
   "metadata": {
    "scrolled": true
   },
   "outputs": [
    {
     "name": "stdout",
     "output_type": "stream",
     "text": [
      "<class 'pandas.core.frame.DataFrame'>\n",
      "RangeIndex: 10 entries, 0 to 9\n",
      "Data columns (total 45 columns):\n",
      " #   Column             Non-Null Count  Dtype         \n",
      "---  ------             --------------  -----         \n",
      " 0   Date               10 non-null     datetime64[ns]\n",
      " 1   Time               10 non-null     object        \n",
      " 2   TxnCode            10 non-null     object        \n",
      " 3   OfficeID           10 non-null     object        \n",
      " 4   Country            10 non-null     object        \n",
      " 5   Origin             10 non-null     object        \n",
      " 6   Destination        10 non-null     object        \n",
      " 7   RoundTrip          10 non-null     int64         \n",
      " 8   NbSegments         10 non-null     int64         \n",
      " 9   Seg1Departure      10 non-null     object        \n",
      " 10  Seg1Arrival        10 non-null     object        \n",
      " 11  Seg1Date           10 non-null     object        \n",
      " 12  Seg1Carrier        2 non-null      object        \n",
      " 13  Seg1BookingCode    1 non-null      object        \n",
      " 14  Seg2Departure      8 non-null      object        \n",
      " 15  Seg2Arrival        8 non-null      object        \n",
      " 16  Seg2Date           8 non-null      object        \n",
      " 17  Seg2Carrier        1 non-null      object        \n",
      " 18  Seg2BookingCode    0 non-null      float64       \n",
      " 19  Seg3Departure      0 non-null      float64       \n",
      " 20  Seg3Arrival        0 non-null      float64       \n",
      " 21  Seg3Date           0 non-null      float64       \n",
      " 22  Seg3Carrier        0 non-null      float64       \n",
      " 23  Seg3BookingCode    0 non-null      float64       \n",
      " 24  Seg4Departure      0 non-null      float64       \n",
      " 25  Seg4Arrival        0 non-null      float64       \n",
      " 26  Seg4Date           0 non-null      float64       \n",
      " 27  Seg4Carrier        0 non-null      float64       \n",
      " 28  Seg4BookingCode    0 non-null      float64       \n",
      " 29  Seg5Departure      0 non-null      float64       \n",
      " 30  Seg5Arrival        0 non-null      float64       \n",
      " 31  Seg5Date           0 non-null      float64       \n",
      " 32  Seg5Carrier        0 non-null      float64       \n",
      " 33  Seg5BookingCode    0 non-null      float64       \n",
      " 34  Seg6Departure      0 non-null      float64       \n",
      " 35  Seg6Arrival        0 non-null      float64       \n",
      " 36  Seg6Date           0 non-null      float64       \n",
      " 37  Seg6Carrier        0 non-null      float64       \n",
      " 38  Seg6BookingCode    0 non-null      float64       \n",
      " 39  From               10 non-null     object        \n",
      " 40  IsPublishedForNeg  10 non-null     int64         \n",
      " 41  IsFromInternet     10 non-null     int64         \n",
      " 42  IsFromVista        10 non-null     int64         \n",
      " 43  TerminalID         10 non-null     object        \n",
      " 44  InternetOffice     10 non-null     object        \n",
      "dtypes: datetime64[ns](1), float64(21), int64(5), object(18)\n",
      "memory usage: 3.6+ KB\n"
     ]
    }
   ],
   "source": [
    "searches.info()"
   ]
  },
  {
   "cell_type": "markdown",
   "metadata": {},
   "source": [
    "Next, we load only the columns we will use."
   ]
  },
  {
   "cell_type": "code",
   "execution_count": 17,
   "metadata": {},
   "outputs": [],
   "source": [
    "chunks = pd.read_csv('../challenge/searches.csv.bz2', chunksize=10**6,  \n",
    "                     sep='^', compression='bz2', \n",
    "                     usecols=['Date', 'Destination'],\n",
    "                     #nrows=10**6\n",
    "                    )\n",
    "\n",
    "searches = pd.concat(chunks)"
   ]
  },
  {
   "cell_type": "code",
   "execution_count": 18,
   "metadata": {},
   "outputs": [
    {
     "name": "stdout",
     "output_type": "stream",
     "text": [
      "<class 'pandas.core.frame.DataFrame'>\n",
      "RangeIndex: 20390198 entries, 0 to 20390197\n",
      "Data columns (total 2 columns):\n",
      " #   Column       Dtype \n",
      "---  ------       ----- \n",
      " 0   Date         object\n",
      " 1   Destination  object\n",
      "dtypes: object(2)\n",
      "memory usage: 311.1+ MB\n"
     ]
    }
   ],
   "source": [
    "searches.info()"
   ]
  },
  {
   "cell_type": "code",
   "execution_count": 19,
   "metadata": {},
   "outputs": [
    {
     "data": {
      "text/html": [
       "<div>\n",
       "<style scoped>\n",
       "    .dataframe tbody tr th:only-of-type {\n",
       "        vertical-align: middle;\n",
       "    }\n",
       "\n",
       "    .dataframe tbody tr th {\n",
       "        vertical-align: top;\n",
       "    }\n",
       "\n",
       "    .dataframe thead th {\n",
       "        text-align: right;\n",
       "    }\n",
       "</style>\n",
       "<table border=\"1\" class=\"dataframe\">\n",
       "  <thead>\n",
       "    <tr style=\"text-align: right;\">\n",
       "      <th></th>\n",
       "      <th>Date</th>\n",
       "      <th>Destination</th>\n",
       "    </tr>\n",
       "  </thead>\n",
       "  <tbody>\n",
       "    <tr>\n",
       "      <th>0</th>\n",
       "      <td>2013-01-01</td>\n",
       "      <td>AUH</td>\n",
       "    </tr>\n",
       "    <tr>\n",
       "      <th>1</th>\n",
       "      <td>2013-01-01</td>\n",
       "      <td>MIL</td>\n",
       "    </tr>\n",
       "    <tr>\n",
       "      <th>2</th>\n",
       "      <td>2013-01-01</td>\n",
       "      <td>SFO</td>\n",
       "    </tr>\n",
       "    <tr>\n",
       "      <th>3</th>\n",
       "      <td>2013-01-01</td>\n",
       "      <td>ARN</td>\n",
       "    </tr>\n",
       "    <tr>\n",
       "      <th>4</th>\n",
       "      <td>2013-01-01</td>\n",
       "      <td>MAD</td>\n",
       "    </tr>\n",
       "  </tbody>\n",
       "</table>\n",
       "</div>"
      ],
      "text/plain": [
       "         Date Destination\n",
       "0  2013-01-01         AUH\n",
       "1  2013-01-01         MIL\n",
       "2  2013-01-01         SFO\n",
       "3  2013-01-01         ARN\n",
       "4  2013-01-01         MAD"
      ]
     },
     "execution_count": 19,
     "metadata": {},
     "output_type": "execute_result"
    }
   ],
   "source": [
    "searches.head()"
   ]
  },
  {
   "cell_type": "markdown",
   "metadata": {},
   "source": [
    "We look for missing values. If we had converted the `Date` column to `datetype` we would have missing values there. We will drop it but maybe it could be fixed."
   ]
  },
  {
   "cell_type": "code",
   "execution_count": 20,
   "metadata": {
    "scrolled": false
   },
   "outputs": [
    {
     "data": {
      "text/plain": [
       "0"
      ]
     },
     "execution_count": 20,
     "metadata": {},
     "output_type": "execute_result"
    }
   ],
   "source": [
    "searches['Date'].isna().sum()"
   ]
  },
  {
   "cell_type": "code",
   "execution_count": 21,
   "metadata": {},
   "outputs": [
    {
     "data": {
      "text/plain": [
       "33"
      ]
     },
     "execution_count": 21,
     "metadata": {},
     "output_type": "execute_result"
    }
   ],
   "source": [
    "searches['Destination'].isna().sum()"
   ]
  },
  {
   "cell_type": "code",
   "execution_count": 22,
   "metadata": {
    "scrolled": true
   },
   "outputs": [
    {
     "data": {
      "text/html": [
       "<div>\n",
       "<style scoped>\n",
       "    .dataframe tbody tr th:only-of-type {\n",
       "        vertical-align: middle;\n",
       "    }\n",
       "\n",
       "    .dataframe tbody tr th {\n",
       "        vertical-align: top;\n",
       "    }\n",
       "\n",
       "    .dataframe thead th {\n",
       "        text-align: right;\n",
       "    }\n",
       "</style>\n",
       "<table border=\"1\" class=\"dataframe\">\n",
       "  <thead>\n",
       "    <tr style=\"text-align: right;\">\n",
       "      <th></th>\n",
       "      <th>Date</th>\n",
       "      <th>Destination</th>\n",
       "    </tr>\n",
       "  </thead>\n",
       "  <tbody>\n",
       "    <tr>\n",
       "      <th>1436001</th>\n",
       "      <td>2013-01-01,10:15:33,MPT,b0af35b31588dc4ab06d5c...</td>\n",
       "      <td>NaN</td>\n",
       "    </tr>\n",
       "    <tr>\n",
       "      <th>1795011</th>\n",
       "      <td>2013-01-01,10:15:33,MPT,b0af35b31588dc4ab06d5c...</td>\n",
       "      <td>NaN</td>\n",
       "    </tr>\n",
       "    <tr>\n",
       "      <th>1795021</th>\n",
       "      <td>2013-01-01,10:15:33,MPT,b0af35b31588dc4ab06d5c...</td>\n",
       "      <td>NaN</td>\n",
       "    </tr>\n",
       "    <tr>\n",
       "      <th>3231031</th>\n",
       "      <td>2013-01-01,10:15:33,MPT,b0af35b31588dc4ab06d5c...</td>\n",
       "      <td>NaN</td>\n",
       "    </tr>\n",
       "    <tr>\n",
       "      <th>3590041</th>\n",
       "      <td>2013-01-01,10:15:33,MPT,b0af35b31588dc4ab06d5c...</td>\n",
       "      <td>NaN</td>\n",
       "    </tr>\n",
       "    <tr>\n",
       "      <th>3590051</th>\n",
       "      <td>2013-01-01,10:15:33,MPT,b0af35b31588dc4ab06d5c...</td>\n",
       "      <td>NaN</td>\n",
       "    </tr>\n",
       "    <tr>\n",
       "      <th>5026061</th>\n",
       "      <td>2013-01-01,10:15:33,MPT,b0af35b31588dc4ab06d5c...</td>\n",
       "      <td>NaN</td>\n",
       "    </tr>\n",
       "    <tr>\n",
       "      <th>5385071</th>\n",
       "      <td>2013-01-01,10:15:33,MPT,b0af35b31588dc4ab06d5c...</td>\n",
       "      <td>NaN</td>\n",
       "    </tr>\n",
       "    <tr>\n",
       "      <th>5385081</th>\n",
       "      <td>2013-01-01,10:15:33,MPT,b0af35b31588dc4ab06d5c...</td>\n",
       "      <td>NaN</td>\n",
       "    </tr>\n",
       "    <tr>\n",
       "      <th>6821091</th>\n",
       "      <td>2013-01-01,10:15:33,MPT,b0af35b31588dc4ab06d5c...</td>\n",
       "      <td>NaN</td>\n",
       "    </tr>\n",
       "    <tr>\n",
       "      <th>7180101</th>\n",
       "      <td>2013-01-01,10:15:33,MPT,b0af35b31588dc4ab06d5c...</td>\n",
       "      <td>NaN</td>\n",
       "    </tr>\n",
       "    <tr>\n",
       "      <th>7180111</th>\n",
       "      <td>2013-01-01,10:15:33,MPT,b0af35b31588dc4ab06d5c...</td>\n",
       "      <td>NaN</td>\n",
       "    </tr>\n",
       "    <tr>\n",
       "      <th>8616121</th>\n",
       "      <td>2013-01-01,10:15:33,MPT,b0af35b31588dc4ab06d5c...</td>\n",
       "      <td>NaN</td>\n",
       "    </tr>\n",
       "    <tr>\n",
       "      <th>8975131</th>\n",
       "      <td>2013-01-01,10:15:33,MPT,b0af35b31588dc4ab06d5c...</td>\n",
       "      <td>NaN</td>\n",
       "    </tr>\n",
       "    <tr>\n",
       "      <th>8975141</th>\n",
       "      <td>2013-01-01,10:15:33,MPT,b0af35b31588dc4ab06d5c...</td>\n",
       "      <td>NaN</td>\n",
       "    </tr>\n",
       "    <tr>\n",
       "      <th>10411151</th>\n",
       "      <td>2013-01-01,10:15:33,MPT,b0af35b31588dc4ab06d5c...</td>\n",
       "      <td>NaN</td>\n",
       "    </tr>\n",
       "    <tr>\n",
       "      <th>10770161</th>\n",
       "      <td>2013-01-01,10:15:33,MPT,b0af35b31588dc4ab06d5c...</td>\n",
       "      <td>NaN</td>\n",
       "    </tr>\n",
       "    <tr>\n",
       "      <th>10770171</th>\n",
       "      <td>2013-01-01,10:15:33,MPT,b0af35b31588dc4ab06d5c...</td>\n",
       "      <td>NaN</td>\n",
       "    </tr>\n",
       "    <tr>\n",
       "      <th>12206181</th>\n",
       "      <td>2013-01-01,10:15:33,MPT,b0af35b31588dc4ab06d5c...</td>\n",
       "      <td>NaN</td>\n",
       "    </tr>\n",
       "    <tr>\n",
       "      <th>12565191</th>\n",
       "      <td>2013-01-01,10:15:33,MPT,b0af35b31588dc4ab06d5c...</td>\n",
       "      <td>NaN</td>\n",
       "    </tr>\n",
       "    <tr>\n",
       "      <th>12565201</th>\n",
       "      <td>2013-01-01,10:15:33,MPT,b0af35b31588dc4ab06d5c...</td>\n",
       "      <td>NaN</td>\n",
       "    </tr>\n",
       "    <tr>\n",
       "      <th>14001211</th>\n",
       "      <td>2013-01-01,10:15:33,MPT,b0af35b31588dc4ab06d5c...</td>\n",
       "      <td>NaN</td>\n",
       "    </tr>\n",
       "    <tr>\n",
       "      <th>14360221</th>\n",
       "      <td>2013-01-01,10:15:33,MPT,b0af35b31588dc4ab06d5c...</td>\n",
       "      <td>NaN</td>\n",
       "    </tr>\n",
       "    <tr>\n",
       "      <th>14360231</th>\n",
       "      <td>2013-01-01,10:15:33,MPT,b0af35b31588dc4ab06d5c...</td>\n",
       "      <td>NaN</td>\n",
       "    </tr>\n",
       "    <tr>\n",
       "      <th>15796241</th>\n",
       "      <td>2013-01-01,10:15:33,MPT,b0af35b31588dc4ab06d5c...</td>\n",
       "      <td>NaN</td>\n",
       "    </tr>\n",
       "    <tr>\n",
       "      <th>16155251</th>\n",
       "      <td>2013-01-01,10:15:33,MPT,b0af35b31588dc4ab06d5c...</td>\n",
       "      <td>NaN</td>\n",
       "    </tr>\n",
       "    <tr>\n",
       "      <th>16155261</th>\n",
       "      <td>2013-01-01,10:15:33,MPT,b0af35b31588dc4ab06d5c...</td>\n",
       "      <td>NaN</td>\n",
       "    </tr>\n",
       "    <tr>\n",
       "      <th>17591271</th>\n",
       "      <td>2013-01-01,10:15:33,MPT,b0af35b31588dc4ab06d5c...</td>\n",
       "      <td>NaN</td>\n",
       "    </tr>\n",
       "    <tr>\n",
       "      <th>17950281</th>\n",
       "      <td>2013-01-01,10:15:33,MPT,b0af35b31588dc4ab06d5c...</td>\n",
       "      <td>NaN</td>\n",
       "    </tr>\n",
       "    <tr>\n",
       "      <th>17950291</th>\n",
       "      <td>2013-01-01,10:15:33,MPT,b0af35b31588dc4ab06d5c...</td>\n",
       "      <td>NaN</td>\n",
       "    </tr>\n",
       "    <tr>\n",
       "      <th>19386301</th>\n",
       "      <td>2013-01-01,10:15:33,MPT,b0af35b31588dc4ab06d5c...</td>\n",
       "      <td>NaN</td>\n",
       "    </tr>\n",
       "    <tr>\n",
       "      <th>19745311</th>\n",
       "      <td>2013-01-01,10:15:33,MPT,b0af35b31588dc4ab06d5c...</td>\n",
       "      <td>NaN</td>\n",
       "    </tr>\n",
       "    <tr>\n",
       "      <th>19745321</th>\n",
       "      <td>2013-01-01,10:15:33,MPT,b0af35b31588dc4ab06d5c...</td>\n",
       "      <td>NaN</td>\n",
       "    </tr>\n",
       "  </tbody>\n",
       "</table>\n",
       "</div>"
      ],
      "text/plain": [
       "                                                       Date Destination\n",
       "1436001   2013-01-01,10:15:33,MPT,b0af35b31588dc4ab06d5c...         NaN\n",
       "1795011   2013-01-01,10:15:33,MPT,b0af35b31588dc4ab06d5c...         NaN\n",
       "1795021   2013-01-01,10:15:33,MPT,b0af35b31588dc4ab06d5c...         NaN\n",
       "3231031   2013-01-01,10:15:33,MPT,b0af35b31588dc4ab06d5c...         NaN\n",
       "3590041   2013-01-01,10:15:33,MPT,b0af35b31588dc4ab06d5c...         NaN\n",
       "3590051   2013-01-01,10:15:33,MPT,b0af35b31588dc4ab06d5c...         NaN\n",
       "5026061   2013-01-01,10:15:33,MPT,b0af35b31588dc4ab06d5c...         NaN\n",
       "5385071   2013-01-01,10:15:33,MPT,b0af35b31588dc4ab06d5c...         NaN\n",
       "5385081   2013-01-01,10:15:33,MPT,b0af35b31588dc4ab06d5c...         NaN\n",
       "6821091   2013-01-01,10:15:33,MPT,b0af35b31588dc4ab06d5c...         NaN\n",
       "7180101   2013-01-01,10:15:33,MPT,b0af35b31588dc4ab06d5c...         NaN\n",
       "7180111   2013-01-01,10:15:33,MPT,b0af35b31588dc4ab06d5c...         NaN\n",
       "8616121   2013-01-01,10:15:33,MPT,b0af35b31588dc4ab06d5c...         NaN\n",
       "8975131   2013-01-01,10:15:33,MPT,b0af35b31588dc4ab06d5c...         NaN\n",
       "8975141   2013-01-01,10:15:33,MPT,b0af35b31588dc4ab06d5c...         NaN\n",
       "10411151  2013-01-01,10:15:33,MPT,b0af35b31588dc4ab06d5c...         NaN\n",
       "10770161  2013-01-01,10:15:33,MPT,b0af35b31588dc4ab06d5c...         NaN\n",
       "10770171  2013-01-01,10:15:33,MPT,b0af35b31588dc4ab06d5c...         NaN\n",
       "12206181  2013-01-01,10:15:33,MPT,b0af35b31588dc4ab06d5c...         NaN\n",
       "12565191  2013-01-01,10:15:33,MPT,b0af35b31588dc4ab06d5c...         NaN\n",
       "12565201  2013-01-01,10:15:33,MPT,b0af35b31588dc4ab06d5c...         NaN\n",
       "14001211  2013-01-01,10:15:33,MPT,b0af35b31588dc4ab06d5c...         NaN\n",
       "14360221  2013-01-01,10:15:33,MPT,b0af35b31588dc4ab06d5c...         NaN\n",
       "14360231  2013-01-01,10:15:33,MPT,b0af35b31588dc4ab06d5c...         NaN\n",
       "15796241  2013-01-01,10:15:33,MPT,b0af35b31588dc4ab06d5c...         NaN\n",
       "16155251  2013-01-01,10:15:33,MPT,b0af35b31588dc4ab06d5c...         NaN\n",
       "16155261  2013-01-01,10:15:33,MPT,b0af35b31588dc4ab06d5c...         NaN\n",
       "17591271  2013-01-01,10:15:33,MPT,b0af35b31588dc4ab06d5c...         NaN\n",
       "17950281  2013-01-01,10:15:33,MPT,b0af35b31588dc4ab06d5c...         NaN\n",
       "17950291  2013-01-01,10:15:33,MPT,b0af35b31588dc4ab06d5c...         NaN\n",
       "19386301  2013-01-01,10:15:33,MPT,b0af35b31588dc4ab06d5c...         NaN\n",
       "19745311  2013-01-01,10:15:33,MPT,b0af35b31588dc4ab06d5c...         NaN\n",
       "19745321  2013-01-01,10:15:33,MPT,b0af35b31588dc4ab06d5c...         NaN"
      ]
     },
     "execution_count": 22,
     "metadata": {},
     "output_type": "execute_result"
    }
   ],
   "source": [
    "searches[searches['Destination'].isna()]"
   ]
  },
  {
   "cell_type": "code",
   "execution_count": 27,
   "metadata": {},
   "outputs": [
    {
     "data": {
      "text/plain": [
       "1436001    2013-01-01,10:15:33,MPT,b0af35b31588dc4ab06d5c...\n",
       "1795011    2013-01-01,10:15:33,MPT,b0af35b31588dc4ab06d5c...\n",
       "Name: Date, dtype: object"
      ]
     },
     "execution_count": 27,
     "metadata": {},
     "output_type": "execute_result"
    }
   ],
   "source": [
    "searches.loc[searches['Destination'].isna(), 'Date'].head(2)"
   ]
  },
  {
   "cell_type": "code",
   "execution_count": 29,
   "metadata": {},
   "outputs": [],
   "source": [
    "searches.dropna(inplace=True, subset=['Destination'])"
   ]
  },
  {
   "cell_type": "code",
   "execution_count": 31,
   "metadata": {},
   "outputs": [
    {
     "data": {
      "text/plain": [
       "0"
      ]
     },
     "execution_count": 31,
     "metadata": {},
     "output_type": "execute_result"
    }
   ],
   "source": [
    "searches['Destination'].isna().sum()"
   ]
  },
  {
   "cell_type": "code",
   "execution_count": 32,
   "metadata": {},
   "outputs": [],
   "source": [
    "searches['Destination'] = searches['Destination'].str.strip()"
   ]
  },
  {
   "cell_type": "code",
   "execution_count": null,
   "metadata": {},
   "outputs": [],
   "source": [
    "searches['Date'].dt.year.value_counts()"
   ]
  },
  {
   "cell_type": "markdown",
   "metadata": {},
   "source": [
    "|City|IATA Code|\n",
    "|:----:|:----:|\n",
    "|Madrid|MAD|\n",
    "|Málaga|AGP|\n",
    "|Barcelona|BCN|"
   ]
  },
  {
   "cell_type": "code",
   "execution_count": null,
   "metadata": {},
   "outputs": [],
   "source": [
    "madrid_searches = searches[searches['Destination'] == 'MAD']\n",
    "madrid_searches.head()"
   ]
  },
  {
   "cell_type": "code",
   "execution_count": null,
   "metadata": {},
   "outputs": [],
   "source": [
    "malaga_searches = searches[searches['Destination'] == 'AGP']\n",
    "malaga_searches.head()"
   ]
  },
  {
   "cell_type": "code",
   "execution_count": null,
   "metadata": {},
   "outputs": [],
   "source": [
    "barcelona_searches = searches[searches['Destination'] == 'BCN']\n",
    "barcelona_searches.head()"
   ]
  },
  {
   "cell_type": "code",
   "execution_count": null,
   "metadata": {},
   "outputs": [],
   "source": [
    "plt.style.use('seaborn')\n",
    "fig, ax = plt.subplots(figsize=(10,8))\n",
    "\n",
    "madrid_searches['Date'].dt.month.value_counts().sort_index().plot(label='MAD')\n",
    "malaga_searches['Date'].dt.month.value_counts().sort_index().plot(label='AGP')\n",
    "barcelona_searches['Date'].dt.month.value_counts().sort_index().plot(label='BCN')\n",
    "\n",
    "ax.set_title('Monthly Number of Searches', \n",
    "             fontsize=18, \n",
    "             fontweight ='bold')\n",
    "\n",
    "ax.set_xticks([2, 4, 6, 8, 10, 12])\n",
    "months = ['february', 'april', 'june', \n",
    "          'august', 'october', 'december']\n",
    "ax.set_xticklabels(months)\n",
    "\n",
    "ax.legend();"
   ]
  },
  {
   "cell_type": "code",
   "execution_count": null,
   "metadata": {},
   "outputs": [],
   "source": []
  },
  {
   "cell_type": "code",
   "execution_count": null,
   "metadata": {},
   "outputs": [],
   "source": []
  },
  {
   "cell_type": "code",
   "execution_count": null,
   "metadata": {},
   "outputs": [],
   "source": []
  },
  {
   "cell_type": "code",
   "execution_count": null,
   "metadata": {},
   "outputs": [],
   "source": []
  }
 ],
 "metadata": {
  "kernelspec": {
   "display_name": "Python 3",
   "language": "python",
   "name": "python3"
  },
  "language_info": {
   "codemirror_mode": {
    "name": "ipython",
    "version": 3
   },
   "file_extension": ".py",
   "mimetype": "text/x-python",
   "name": "python",
   "nbconvert_exporter": "python",
   "pygments_lexer": "ipython3",
   "version": "3.8.5"
  }
 },
 "nbformat": 4,
 "nbformat_minor": 4
}
