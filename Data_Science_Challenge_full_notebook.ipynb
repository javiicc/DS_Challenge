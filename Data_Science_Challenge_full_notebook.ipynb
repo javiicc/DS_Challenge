{
 "cells": [
  {
   "cell_type": "code",
   "execution_count": 1,
   "metadata": {},
   "outputs": [],
   "source": [
    "import numpy as np\n",
    "import pandas as pd\n",
    "import matplotlib.pyplot as plt\n",
    "#import seaborn as sns\n",
    "import bz2\n",
    "from neobase import NeoBase\n",
    "\n",
    "pd.options.display.max_columns = None\n",
    "#pd.options.display.max_rows = 100"
   ]
  },
  {
   "cell_type": "markdown",
   "metadata": {},
   "source": [
    "# Exercise 1\n",
    "\n",
    "**Count the number of lines in Python for\n",
    "each file**"
   ]
  },
  {
   "cell_type": "code",
   "execution_count": 93,
   "metadata": {},
   "outputs": [
    {
     "data": {
      "text/plain": [
       "10000011"
      ]
     },
     "execution_count": 93,
     "metadata": {},
     "output_type": "execute_result"
    }
   ],
   "source": [
    "with bz2.open(\"../challenge/bookings.csv.bz2\", \"r\") as bookings:\n",
    "    count = 0\n",
    "    for line in bookings:\n",
    "        count += 1\n",
    "booking_count = count\n",
    "booking_count"
   ]
  },
  {
   "cell_type": "code",
   "execution_count": 94,
   "metadata": {},
   "outputs": [
    {
     "data": {
      "text/plain": [
       "20390199"
      ]
     },
     "execution_count": 94,
     "metadata": {},
     "output_type": "execute_result"
    }
   ],
   "source": [
    "with bz2.open(\"../challenge/searches.csv.bz2\", \"r\") as bookings:\n",
    "    count = 0\n",
    "    for line in bookings:\n",
    "        count += 1\n",
    "searches_count = count\n",
    "searches_count"
   ]
  },
  {
   "cell_type": "code",
   "execution_count": 95,
   "metadata": {},
   "outputs": [
    {
     "data": {
      "text/html": [
       "<div>\n",
       "<style scoped>\n",
       "    .dataframe tbody tr th:only-of-type {\n",
       "        vertical-align: middle;\n",
       "    }\n",
       "\n",
       "    .dataframe tbody tr th {\n",
       "        vertical-align: top;\n",
       "    }\n",
       "\n",
       "    .dataframe thead th {\n",
       "        text-align: right;\n",
       "    }\n",
       "</style>\n",
       "<table border=\"1\" class=\"dataframe\">\n",
       "  <thead>\n",
       "    <tr style=\"text-align: right;\">\n",
       "      <th></th>\n",
       "      <th>number_of_lines</th>\n",
       "    </tr>\n",
       "  </thead>\n",
       "  <tbody>\n",
       "    <tr>\n",
       "      <th>booking.csv</th>\n",
       "      <td>10000011</td>\n",
       "    </tr>\n",
       "    <tr>\n",
       "      <th>searches.csv</th>\n",
       "      <td>20390199</td>\n",
       "    </tr>\n",
       "  </tbody>\n",
       "</table>\n",
       "</div>"
      ],
      "text/plain": [
       "              number_of_lines\n",
       "booking.csv          10000011\n",
       "searches.csv         20390199"
      ]
     },
     "execution_count": 95,
     "metadata": {},
     "output_type": "execute_result"
    }
   ],
   "source": [
    "counts = [booking_count, searches_count]\n",
    "index = ['booking.csv', 'searches.csv']\n",
    "column = ['number_of_lines']\n",
    "\n",
    "counts_df = pd.DataFrame(counts, index=index, columns=column)\n",
    "counts_df"
   ]
  },
  {
   "cell_type": "code",
   "execution_count": 97,
   "metadata": {},
   "outputs": [],
   "source": [
    "counts_df.to_csv('exercise_1.csv', sep = ',')"
   ]
  },
  {
   "cell_type": "markdown",
   "metadata": {},
   "source": [
    "# Exercise 2\n",
    "\n",
    "**Top 10 arrival airports in the world in 2013 (using the bookings file)**\n",
    "\n",
    "- To get the total number of passengers for an airport, you can sum the column `pax`, grouping by `arr_port`. Note that there is negative pax. That corresponds to cancelations. So to get the total number of passengers that have actually booked, you should sum including the negatives (that will remove the canceled bookings).\n",
    "- Print the top 10 arrival airports in the standard output, including the number of passengers.\n",
    "- **Bonus point**: Get the name of the city or airport corresponding to that airport (programatically, we suggest to have a look at **GeoBases in Github**)\n",
    "- **Bonus point**: Solve this problem using pandas (instead of any other approach)"
   ]
  },
  {
   "cell_type": "markdown",
   "metadata": {},
   "source": [
    "### Finished Exercise"
   ]
  },
  {
   "cell_type": "markdown",
   "metadata": {},
   "source": [
    "We define a function to filter and clean the data:\n",
    "- Filter by `2013` \n",
    "- Drop '`year` column because we don't need it anymore.\n",
    "- Drop missing values.\n",
    "- Delete possible blank spaces and make sure all cells are capitalized.\n",
    "- Finally we add an alert message that shows us if there is any cell with length other than `3`."
   ]
  },
  {
   "cell_type": "code",
   "execution_count": 7,
   "metadata": {},
   "outputs": [],
   "source": [
    "def data_preprocessing(df, year=2013):\n",
    "    '''\n",
    "    Takes a dataframe and a year, filters it by year, drops the year,\n",
    "    and drops null values. Cleans the 'arr_port' column.\n",
    "    Returns a dataframe.\n",
    "    \n",
    "    PARAMETERS\n",
    "    df: Dataframe\n",
    "    year: Year to filter by. 2013 by default\n",
    "    '''\n",
    "    df[df['year'] == year]\n",
    "    df.drop('year', axis=1, inplace=True)\n",
    "    df.dropna(inplace=True)\n",
    "    \n",
    "    df['arr_port'] = df['arr_port'].str.strip().str.upper()\n",
    "    \n",
    "    arr_port_length = (df['arr_port'].map(len) != 3).sum()\n",
    "    if arr_port_length != 0:\n",
    "        print('Alert! There are `arr_port` values with length different than 3, check it.')\n",
    "    \n",
    "    return df"
   ]
  },
  {
   "cell_type": "markdown",
   "metadata": {},
   "source": [
    "We read the dataset in chunks. We process each chunk passing it as an argument in our function. Then we aggregate the data and append them to `bookings`. It is not strictly necessary aggregating the data here."
   ]
  },
  {
   "cell_type": "code",
   "execution_count": 8,
   "metadata": {},
   "outputs": [
    {
     "name": "stdout",
     "output_type": "stream",
     "text": [
      "Chunk: 1, size of chunk 1000000\n",
      "Chunk: 2, size of chunk 1000000\n",
      "Chunk: 3, size of chunk 1000000\n",
      "Chunk: 4, size of chunk 1000000\n",
      "Chunk: 5, size of chunk 1000000\n",
      "Chunk: 6, size of chunk 1000000\n",
      "Chunk: 7, size of chunk 1000000\n",
      "Chunk: 8, size of chunk 1000000\n",
      "Chunk: 9, size of chunk 1000000\n",
      "Chunk: 10, size of chunk 1000000\n",
      "Chunk: 11, size of chunk 10\n"
     ]
    }
   ],
   "source": [
    "data_iterator = pd.read_csv(\"../challenge/bookings.csv.bz2\", \n",
    "                            chunksize=10**6, \n",
    "                            sep='^', \n",
    "                            usecols=['arr_port', 'pax', 'year'],\n",
    "                            compression='bz2',\n",
    "                            #nrows=10**5\n",
    "                           )\n",
    "\n",
    "bookings = pd.DataFrame()\n",
    "for i, data_chunk in enumerate(data_iterator):\n",
    "    print(\"Chunk: %d, size of chunk %d\"%(i+1, len(data_chunk)))\n",
    "    \n",
    "    data_chunk = data_preprocessing(data_chunk)\n",
    "    chunk_result = data_chunk.pivot_table(values='pax', index='arr_port', \n",
    "                                          aggfunc=np.sum)\n",
    "    #chunk_result = data_chunk.groupby('arr_port').sum()\n",
    "    \n",
    "    bookings = bookings.append(chunk_result) "
   ]
  },
  {
   "cell_type": "markdown",
   "metadata": {},
   "source": [
    "Finally we aggregate the data stored in `bookings` and we take the top ten airports by number of passengers."
   ]
  },
  {
   "cell_type": "code",
   "execution_count": 9,
   "metadata": {
    "scrolled": false
   },
   "outputs": [
    {
     "data": {
      "text/html": [
       "<div>\n",
       "<style scoped>\n",
       "    .dataframe tbody tr th:only-of-type {\n",
       "        vertical-align: middle;\n",
       "    }\n",
       "\n",
       "    .dataframe tbody tr th {\n",
       "        vertical-align: top;\n",
       "    }\n",
       "\n",
       "    .dataframe thead th {\n",
       "        text-align: right;\n",
       "    }\n",
       "</style>\n",
       "<table border=\"1\" class=\"dataframe\">\n",
       "  <thead>\n",
       "    <tr style=\"text-align: right;\">\n",
       "      <th></th>\n",
       "      <th>pax</th>\n",
       "    </tr>\n",
       "    <tr>\n",
       "      <th>arr_port</th>\n",
       "      <th></th>\n",
       "    </tr>\n",
       "  </thead>\n",
       "  <tbody>\n",
       "    <tr>\n",
       "      <th>LHR</th>\n",
       "      <td>88809.0</td>\n",
       "    </tr>\n",
       "    <tr>\n",
       "      <th>MCO</th>\n",
       "      <td>70930.0</td>\n",
       "    </tr>\n",
       "    <tr>\n",
       "      <th>LAX</th>\n",
       "      <td>70530.0</td>\n",
       "    </tr>\n",
       "    <tr>\n",
       "      <th>LAS</th>\n",
       "      <td>69630.0</td>\n",
       "    </tr>\n",
       "    <tr>\n",
       "      <th>JFK</th>\n",
       "      <td>66270.0</td>\n",
       "    </tr>\n",
       "    <tr>\n",
       "      <th>CDG</th>\n",
       "      <td>64490.0</td>\n",
       "    </tr>\n",
       "    <tr>\n",
       "      <th>BKK</th>\n",
       "      <td>59460.0</td>\n",
       "    </tr>\n",
       "    <tr>\n",
       "      <th>MIA</th>\n",
       "      <td>58150.0</td>\n",
       "    </tr>\n",
       "    <tr>\n",
       "      <th>SFO</th>\n",
       "      <td>58000.0</td>\n",
       "    </tr>\n",
       "    <tr>\n",
       "      <th>DXB</th>\n",
       "      <td>55590.0</td>\n",
       "    </tr>\n",
       "  </tbody>\n",
       "</table>\n",
       "</div>"
      ],
      "text/plain": [
       "              pax\n",
       "arr_port         \n",
       "LHR       88809.0\n",
       "MCO       70930.0\n",
       "LAX       70530.0\n",
       "LAS       69630.0\n",
       "JFK       66270.0\n",
       "CDG       64490.0\n",
       "BKK       59460.0\n",
       "MIA       58150.0\n",
       "SFO       58000.0\n",
       "DXB       55590.0"
      ]
     },
     "execution_count": 9,
     "metadata": {},
     "output_type": "execute_result"
    }
   ],
   "source": [
    "top_10 = bookings.groupby(by='arr_port').sum().sort_values('pax', ascending=False).head(10)\n",
    "top_10"
   ]
  },
  {
   "cell_type": "markdown",
   "metadata": {},
   "source": [
    "**Bonus point**: Get the name of the city or airport corresponding to that airport. "
   ]
  },
  {
   "cell_type": "markdown",
   "metadata": {},
   "source": [
    "We use NeoBase API to get the data about airports by passing in the IATA code as argument in the `get()` method. We make a list o lists to make it easier if we wanted to add more information to our final dataframe. The `for` loop lets us creating a new column and indicating the field we want to get. We use an `if` statement because sometimes the API give us the information in a list."
   ]
  },
  {
   "cell_type": "code",
   "execution_count": 10,
   "metadata": {
    "scrolled": true
   },
   "outputs": [
    {
     "data": {
      "text/html": [
       "<div>\n",
       "<style scoped>\n",
       "    .dataframe tbody tr th:only-of-type {\n",
       "        vertical-align: middle;\n",
       "    }\n",
       "\n",
       "    .dataframe tbody tr th {\n",
       "        vertical-align: top;\n",
       "    }\n",
       "\n",
       "    .dataframe thead th {\n",
       "        text-align: right;\n",
       "    }\n",
       "</style>\n",
       "<table border=\"1\" class=\"dataframe\">\n",
       "  <thead>\n",
       "    <tr style=\"text-align: right;\">\n",
       "      <th></th>\n",
       "      <th>pax</th>\n",
       "      <th>arr_port_name</th>\n",
       "      <th>city</th>\n",
       "      <th>country</th>\n",
       "      <th>currency</th>\n",
       "    </tr>\n",
       "    <tr>\n",
       "      <th>arr_port</th>\n",
       "      <th></th>\n",
       "      <th></th>\n",
       "      <th></th>\n",
       "      <th></th>\n",
       "      <th></th>\n",
       "    </tr>\n",
       "  </thead>\n",
       "  <tbody>\n",
       "    <tr>\n",
       "      <th>LHR</th>\n",
       "      <td>88809.0</td>\n",
       "      <td>London Heathrow Airport</td>\n",
       "      <td>London</td>\n",
       "      <td>United Kingdom</td>\n",
       "      <td>GBP</td>\n",
       "    </tr>\n",
       "    <tr>\n",
       "      <th>MCO</th>\n",
       "      <td>70930.0</td>\n",
       "      <td>Orlando International Airport</td>\n",
       "      <td>Orlando</td>\n",
       "      <td>United States</td>\n",
       "      <td>USD</td>\n",
       "    </tr>\n",
       "    <tr>\n",
       "      <th>LAX</th>\n",
       "      <td>70530.0</td>\n",
       "      <td>Los Angeles International Airport</td>\n",
       "      <td>Los Angeles</td>\n",
       "      <td>United States</td>\n",
       "      <td>USD</td>\n",
       "    </tr>\n",
       "    <tr>\n",
       "      <th>LAS</th>\n",
       "      <td>69630.0</td>\n",
       "      <td>McCarran International Airport</td>\n",
       "      <td>Las Vegas</td>\n",
       "      <td>United States</td>\n",
       "      <td>USD</td>\n",
       "    </tr>\n",
       "    <tr>\n",
       "      <th>JFK</th>\n",
       "      <td>66270.0</td>\n",
       "      <td>John F. Kennedy International Airport</td>\n",
       "      <td>New York City</td>\n",
       "      <td>United States</td>\n",
       "      <td>USD</td>\n",
       "    </tr>\n",
       "    <tr>\n",
       "      <th>CDG</th>\n",
       "      <td>64490.0</td>\n",
       "      <td>Paris Charles de Gaulle Airport</td>\n",
       "      <td>Paris</td>\n",
       "      <td>France</td>\n",
       "      <td>EUR</td>\n",
       "    </tr>\n",
       "    <tr>\n",
       "      <th>BKK</th>\n",
       "      <td>59460.0</td>\n",
       "      <td>Suvarnabhumi Airport</td>\n",
       "      <td>Bangkok</td>\n",
       "      <td>Thailand</td>\n",
       "      <td>THB</td>\n",
       "    </tr>\n",
       "    <tr>\n",
       "      <th>MIA</th>\n",
       "      <td>58150.0</td>\n",
       "      <td>Miami International Airport</td>\n",
       "      <td>Miami</td>\n",
       "      <td>United States</td>\n",
       "      <td>USD</td>\n",
       "    </tr>\n",
       "    <tr>\n",
       "      <th>SFO</th>\n",
       "      <td>58000.0</td>\n",
       "      <td>San Francisco International Airport</td>\n",
       "      <td>San Francisco</td>\n",
       "      <td>United States</td>\n",
       "      <td>USD</td>\n",
       "    </tr>\n",
       "    <tr>\n",
       "      <th>DXB</th>\n",
       "      <td>55590.0</td>\n",
       "      <td>Dubai International Airport</td>\n",
       "      <td>Dubai</td>\n",
       "      <td>United Arab Emirates</td>\n",
       "      <td>AED</td>\n",
       "    </tr>\n",
       "  </tbody>\n",
       "</table>\n",
       "</div>"
      ],
      "text/plain": [
       "              pax                          arr_port_name           city  \\\n",
       "arr_port                                                                  \n",
       "LHR       88809.0                London Heathrow Airport         London   \n",
       "MCO       70930.0          Orlando International Airport        Orlando   \n",
       "LAX       70530.0      Los Angeles International Airport    Los Angeles   \n",
       "LAS       69630.0         McCarran International Airport      Las Vegas   \n",
       "JFK       66270.0  John F. Kennedy International Airport  New York City   \n",
       "CDG       64490.0        Paris Charles de Gaulle Airport          Paris   \n",
       "BKK       59460.0                   Suvarnabhumi Airport        Bangkok   \n",
       "MIA       58150.0            Miami International Airport          Miami   \n",
       "SFO       58000.0    San Francisco International Airport  San Francisco   \n",
       "DXB       55590.0            Dubai International Airport          Dubai   \n",
       "\n",
       "                       country currency  \n",
       "arr_port                                 \n",
       "LHR             United Kingdom      GBP  \n",
       "MCO              United States      USD  \n",
       "LAX              United States      USD  \n",
       "LAS              United States      USD  \n",
       "JFK              United States      USD  \n",
       "CDG                     France      EUR  \n",
       "BKK                   Thailand      THB  \n",
       "MIA              United States      USD  \n",
       "SFO              United States      USD  \n",
       "DXB       United Arab Emirates      AED  "
      ]
     },
     "execution_count": 10,
     "metadata": {},
     "output_type": "execute_result"
    }
   ],
   "source": [
    "elements = [['arr_port_name', 'name'], \n",
    "            ['city', 'city_name_list'],\n",
    "            ['country', 'country_name'],\n",
    "            ['currency', 'currency'],\n",
    "           ]\n",
    "\n",
    "b = NeoBase()\n",
    "for element in elements:\n",
    "    if 'list' in element[1]:\n",
    "        top_10[element[0]] = top_10.index.map(lambda x: b.get(x, element[1])[0])\n",
    "    else:\n",
    "        top_10[element[0]] = top_10.index.map(lambda x: b.get(x, element[1]))\n",
    "top_10"
   ]
  },
  {
   "cell_type": "code",
   "execution_count": 96,
   "metadata": {},
   "outputs": [],
   "source": [
    "top_10.to_csv('exercise_2.csv', sep = ',')"
   ]
  },
  {
   "cell_type": "markdown",
   "metadata": {},
   "source": [
    "----------------------------------------"
   ]
  },
  {
   "cell_type": "markdown",
   "metadata": {},
   "source": [
    "### First Approximation"
   ]
  },
  {
   "cell_type": "code",
   "execution_count": 30,
   "metadata": {
    "scrolled": true
   },
   "outputs": [
    {
     "data": {
      "text/html": [
       "<div>\n",
       "<style scoped>\n",
       "    .dataframe tbody tr th:only-of-type {\n",
       "        vertical-align: middle;\n",
       "    }\n",
       "\n",
       "    .dataframe tbody tr th {\n",
       "        vertical-align: top;\n",
       "    }\n",
       "\n",
       "    .dataframe thead th {\n",
       "        text-align: right;\n",
       "    }\n",
       "</style>\n",
       "<table border=\"1\" class=\"dataframe\">\n",
       "  <thead>\n",
       "    <tr style=\"text-align: right;\">\n",
       "      <th></th>\n",
       "      <th>act_date</th>\n",
       "      <th>source</th>\n",
       "      <th>pos_ctry</th>\n",
       "      <th>pos_iata</th>\n",
       "      <th>pos_oid</th>\n",
       "      <th>rloc</th>\n",
       "      <th>cre_date</th>\n",
       "      <th>duration</th>\n",
       "      <th>distance</th>\n",
       "      <th>dep_port</th>\n",
       "      <th>dep_city</th>\n",
       "      <th>dep_ctry</th>\n",
       "      <th>arr_port</th>\n",
       "      <th>arr_city</th>\n",
       "      <th>arr_ctry</th>\n",
       "      <th>lst_port</th>\n",
       "      <th>lst_city</th>\n",
       "      <th>lst_ctry</th>\n",
       "      <th>brd_port</th>\n",
       "      <th>brd_city</th>\n",
       "      <th>brd_ctry</th>\n",
       "      <th>off_port</th>\n",
       "      <th>off_city</th>\n",
       "      <th>off_ctry</th>\n",
       "      <th>mkt_port</th>\n",
       "      <th>mkt_city</th>\n",
       "      <th>mkt_ctry</th>\n",
       "      <th>intl</th>\n",
       "      <th>route</th>\n",
       "      <th>carrier</th>\n",
       "      <th>bkg_class</th>\n",
       "      <th>cab_class</th>\n",
       "      <th>brd_time</th>\n",
       "      <th>off_time</th>\n",
       "      <th>pax</th>\n",
       "      <th>year</th>\n",
       "      <th>month</th>\n",
       "      <th>oid</th>\n",
       "    </tr>\n",
       "  </thead>\n",
       "  <tbody>\n",
       "    <tr>\n",
       "      <th>0</th>\n",
       "      <td>2013-03-05 00:00:00</td>\n",
       "      <td>1A</td>\n",
       "      <td>DE</td>\n",
       "      <td>a68dd7ae953c8acfb187a1af2dcbe123</td>\n",
       "      <td>1a11ae49fcbf545fd2afc1a24d88d2b7</td>\n",
       "      <td>ea65900e72d71f4626378e2ebd298267</td>\n",
       "      <td>2013-02-22 00:00:00</td>\n",
       "      <td>1708</td>\n",
       "      <td>0</td>\n",
       "      <td>ZRH</td>\n",
       "      <td>ZRH</td>\n",
       "      <td>CH</td>\n",
       "      <td>LHR</td>\n",
       "      <td>LON</td>\n",
       "      <td>GB</td>\n",
       "      <td>ZRH</td>\n",
       "      <td>ZRH</td>\n",
       "      <td>CH</td>\n",
       "      <td>LHR</td>\n",
       "      <td>LON</td>\n",
       "      <td>GB</td>\n",
       "      <td>ZRH</td>\n",
       "      <td>ZRH</td>\n",
       "      <td>CH</td>\n",
       "      <td>LHRZRH</td>\n",
       "      <td>LONZRH</td>\n",
       "      <td>CHGB</td>\n",
       "      <td>1</td>\n",
       "      <td>LHRZRH</td>\n",
       "      <td>VI</td>\n",
       "      <td>T</td>\n",
       "      <td>Y</td>\n",
       "      <td>2013-03-07 08:50:00</td>\n",
       "      <td>2013-03-07 11:33:37</td>\n",
       "      <td>-1</td>\n",
       "      <td>2013</td>\n",
       "      <td>3</td>\n",
       "      <td>NULL</td>\n",
       "    </tr>\n",
       "    <tr>\n",
       "      <th>1</th>\n",
       "      <td>2013-03-26 00:00:00</td>\n",
       "      <td>1A</td>\n",
       "      <td>US</td>\n",
       "      <td>e612b9eeeee6f17f42d9b0d3b79e75ca</td>\n",
       "      <td>7437560d8f276d6d05eeb806d9e7edee</td>\n",
       "      <td>737295a86982c941f1c2da9a46a14043</td>\n",
       "      <td>2013-03-26 00:00:00</td>\n",
       "      <td>135270</td>\n",
       "      <td>0</td>\n",
       "      <td>SAL</td>\n",
       "      <td>SAL</td>\n",
       "      <td>SV</td>\n",
       "      <td>CLT</td>\n",
       "      <td>CLT</td>\n",
       "      <td>US</td>\n",
       "      <td>SAL</td>\n",
       "      <td>SAL</td>\n",
       "      <td>SV</td>\n",
       "      <td>SAL</td>\n",
       "      <td>SAL</td>\n",
       "      <td>SV</td>\n",
       "      <td>CLT</td>\n",
       "      <td>CLT</td>\n",
       "      <td>US</td>\n",
       "      <td>CLTSAL</td>\n",
       "      <td>CLTSAL</td>\n",
       "      <td>SVUS</td>\n",
       "      <td>1</td>\n",
       "      <td>SALATLCLT</td>\n",
       "      <td>NV</td>\n",
       "      <td>L</td>\n",
       "      <td>Y</td>\n",
       "      <td>2013-04-12 13:04:00</td>\n",
       "      <td>2013-04-12 22:05:40</td>\n",
       "      <td>1</td>\n",
       "      <td>2013</td>\n",
       "      <td>3</td>\n",
       "      <td>NULL</td>\n",
       "    </tr>\n",
       "    <tr>\n",
       "      <th>2</th>\n",
       "      <td>2013-03-26 00:00:00</td>\n",
       "      <td>1A</td>\n",
       "      <td>US</td>\n",
       "      <td>e612b9eeeee6f17f42d9b0d3b79e75ca</td>\n",
       "      <td>7437560d8f276d6d05eeb806d9e7edee</td>\n",
       "      <td>737295a86982c941f1c2da9a46a14043</td>\n",
       "      <td>2013-03-26 00:00:00</td>\n",
       "      <td>135270</td>\n",
       "      <td>0</td>\n",
       "      <td>SAL</td>\n",
       "      <td>SAL</td>\n",
       "      <td>SV</td>\n",
       "      <td>CLT</td>\n",
       "      <td>CLT</td>\n",
       "      <td>US</td>\n",
       "      <td>SAL</td>\n",
       "      <td>SAL</td>\n",
       "      <td>SV</td>\n",
       "      <td>CLT</td>\n",
       "      <td>CLT</td>\n",
       "      <td>US</td>\n",
       "      <td>SAL</td>\n",
       "      <td>SAL</td>\n",
       "      <td>SV</td>\n",
       "      <td>CLTSAL</td>\n",
       "      <td>CLTSAL</td>\n",
       "      <td>SVUS</td>\n",
       "      <td>1</td>\n",
       "      <td>CLTATLSAL</td>\n",
       "      <td>NV</td>\n",
       "      <td>U</td>\n",
       "      <td>Y</td>\n",
       "      <td>2013-07-15 07:00:00</td>\n",
       "      <td>2013-07-15 11:34:51</td>\n",
       "      <td>1</td>\n",
       "      <td>2013</td>\n",
       "      <td>3</td>\n",
       "      <td>NULL</td>\n",
       "    </tr>\n",
       "    <tr>\n",
       "      <th>3</th>\n",
       "      <td>2013-03-26 00:00:00</td>\n",
       "      <td>1A</td>\n",
       "      <td>AU</td>\n",
       "      <td>0f984b3bb6bd06661c95529bbd6193bc</td>\n",
       "      <td>36472c6dbaf7afec9136ac40364e2794</td>\n",
       "      <td>5ecf00fdcbcec761c43dc7285253d0c1</td>\n",
       "      <td>2013-03-26 00:00:00</td>\n",
       "      <td>30885</td>\n",
       "      <td>0</td>\n",
       "      <td>AKL</td>\n",
       "      <td>AKL</td>\n",
       "      <td>NZ</td>\n",
       "      <td>SVO</td>\n",
       "      <td>MOW</td>\n",
       "      <td>RU</td>\n",
       "      <td>AKL</td>\n",
       "      <td>AKL</td>\n",
       "      <td>NZ</td>\n",
       "      <td>AKL</td>\n",
       "      <td>AKL</td>\n",
       "      <td>NZ</td>\n",
       "      <td>SVO</td>\n",
       "      <td>MOW</td>\n",
       "      <td>RU</td>\n",
       "      <td>AKLSVO</td>\n",
       "      <td>AKLMOW</td>\n",
       "      <td>NZRU</td>\n",
       "      <td>1</td>\n",
       "      <td>AKLHKGSVO</td>\n",
       "      <td>XK</td>\n",
       "      <td>G</td>\n",
       "      <td>Y</td>\n",
       "      <td>2013-04-24 23:59:00</td>\n",
       "      <td>2013-04-25 16:06:31</td>\n",
       "      <td>1</td>\n",
       "      <td>2013</td>\n",
       "      <td>3</td>\n",
       "      <td>SYDA82546</td>\n",
       "    </tr>\n",
       "    <tr>\n",
       "      <th>4</th>\n",
       "      <td>2013-03-26 00:00:00</td>\n",
       "      <td>1A</td>\n",
       "      <td>AU</td>\n",
       "      <td>0f984b3bb6bd06661c95529bbd6193bc</td>\n",
       "      <td>36472c6dbaf7afec9136ac40364e2794</td>\n",
       "      <td>5ecf00fdcbcec761c43dc7285253d0c1</td>\n",
       "      <td>2013-03-26 00:00:00</td>\n",
       "      <td>30885</td>\n",
       "      <td>0</td>\n",
       "      <td>AKL</td>\n",
       "      <td>AKL</td>\n",
       "      <td>NZ</td>\n",
       "      <td>SVO</td>\n",
       "      <td>MOW</td>\n",
       "      <td>RU</td>\n",
       "      <td>AKL</td>\n",
       "      <td>AKL</td>\n",
       "      <td>NZ</td>\n",
       "      <td>SVO</td>\n",
       "      <td>MOW</td>\n",
       "      <td>RU</td>\n",
       "      <td>AKL</td>\n",
       "      <td>AKL</td>\n",
       "      <td>NZ</td>\n",
       "      <td>AKLSVO</td>\n",
       "      <td>AKLMOW</td>\n",
       "      <td>NZRU</td>\n",
       "      <td>1</td>\n",
       "      <td>SVOHKGAKL</td>\n",
       "      <td>XK</td>\n",
       "      <td>G</td>\n",
       "      <td>Y</td>\n",
       "      <td>2013-05-14 20:15:00</td>\n",
       "      <td>2013-05-16 10:44:50</td>\n",
       "      <td>1</td>\n",
       "      <td>2013</td>\n",
       "      <td>3</td>\n",
       "      <td>SYDA82546</td>\n",
       "    </tr>\n",
       "  </tbody>\n",
       "</table>\n",
       "</div>"
      ],
      "text/plain": [
       "   act_date             source  pos_ctry                          pos_iata  \\\n",
       "0  2013-03-05 00:00:00  1A      DE        a68dd7ae953c8acfb187a1af2dcbe123   \n",
       "1  2013-03-26 00:00:00  1A      US        e612b9eeeee6f17f42d9b0d3b79e75ca   \n",
       "2  2013-03-26 00:00:00  1A      US        e612b9eeeee6f17f42d9b0d3b79e75ca   \n",
       "3  2013-03-26 00:00:00  1A      AU        0f984b3bb6bd06661c95529bbd6193bc   \n",
       "4  2013-03-26 00:00:00  1A      AU        0f984b3bb6bd06661c95529bbd6193bc   \n",
       "\n",
       "                          pos_oid                      rloc            \\\n",
       "0  1a11ae49fcbf545fd2afc1a24d88d2b7  ea65900e72d71f4626378e2ebd298267   \n",
       "1  7437560d8f276d6d05eeb806d9e7edee  737295a86982c941f1c2da9a46a14043   \n",
       "2  7437560d8f276d6d05eeb806d9e7edee  737295a86982c941f1c2da9a46a14043   \n",
       "3  36472c6dbaf7afec9136ac40364e2794  5ecf00fdcbcec761c43dc7285253d0c1   \n",
       "4  36472c6dbaf7afec9136ac40364e2794  5ecf00fdcbcec761c43dc7285253d0c1   \n",
       "\n",
       "   cre_date             duration  distance  dep_port  dep_city  dep_ctry  \\\n",
       "0  2013-02-22 00:00:00      1708         0  ZRH       ZRH       CH         \n",
       "1  2013-03-26 00:00:00    135270         0  SAL       SAL       SV         \n",
       "2  2013-03-26 00:00:00    135270         0  SAL       SAL       SV         \n",
       "3  2013-03-26 00:00:00     30885         0  AKL       AKL       NZ         \n",
       "4  2013-03-26 00:00:00     30885         0  AKL       AKL       NZ         \n",
       "\n",
       "   arr_port  arr_city  arr_ctry  lst_port  lst_city  lst_ctry  brd_port  \\\n",
       "0  LHR       LON       GB        ZRH       ZRH       CH        LHR        \n",
       "1  CLT       CLT       US        SAL       SAL       SV        SAL        \n",
       "2  CLT       CLT       US        SAL       SAL       SV        CLT        \n",
       "3  SVO       MOW       RU        AKL       AKL       NZ        AKL        \n",
       "4  SVO       MOW       RU        AKL       AKL       NZ        SVO        \n",
       "\n",
       "   brd_city  brd_ctry  off_port  off_city  off_ctry  mkt_port  mkt_city  \\\n",
       "0  LON       GB        ZRH       ZRH       CH        LHRZRH    LONZRH     \n",
       "1  SAL       SV        CLT       CLT       US        CLTSAL    CLTSAL     \n",
       "2  CLT       US        SAL       SAL       SV        CLTSAL    CLTSAL     \n",
       "3  AKL       NZ        SVO       MOW       RU        AKLSVO    AKLMOW     \n",
       "4  MOW       RU        AKL       AKL       NZ        AKLSVO    AKLMOW     \n",
       "\n",
       "   mkt_ctry  intl  route           carrier  bkg_class  cab_class  \\\n",
       "0  CHGB         1  LHRZRH               VI  T          Y           \n",
       "1  SVUS         1  SALATLCLT            NV  L          Y           \n",
       "2  SVUS         1  CLTATLSAL            NV  U          Y           \n",
       "3  NZRU         1  AKLHKGSVO            XK  G          Y           \n",
       "4  NZRU         1  SVOHKGAKL            XK  G          Y           \n",
       "\n",
       "   brd_time             off_time             pax  year  month  oid        \n",
       "0  2013-03-07 08:50:00  2013-03-07 11:33:37   -1  2013      3  NULL       \n",
       "1  2013-04-12 13:04:00  2013-04-12 22:05:40    1  2013      3  NULL       \n",
       "2  2013-07-15 07:00:00  2013-07-15 11:34:51    1  2013      3  NULL       \n",
       "3  2013-04-24 23:59:00  2013-04-25 16:06:31    1  2013      3  SYDA82546  \n",
       "4  2013-05-14 20:15:00  2013-05-16 10:44:50    1  2013      3  SYDA82546  "
      ]
     },
     "execution_count": 30,
     "metadata": {},
     "output_type": "execute_result"
    }
   ],
   "source": [
    "bookings = pd.read_csv('../challenge/bookings.csv', nrows=10, sep='^', )\n",
    "bookings.head()"
   ]
  },
  {
   "cell_type": "code",
   "execution_count": 31,
   "metadata": {
    "scrolled": true
   },
   "outputs": [
    {
     "name": "stdout",
     "output_type": "stream",
     "text": [
      "<class 'pandas.core.frame.DataFrame'>\n",
      "RangeIndex: 10 entries, 0 to 9\n",
      "Data columns (total 38 columns):\n",
      " #   Column               Non-Null Count  Dtype \n",
      "---  ------               --------------  ----- \n",
      " 0   act_date             10 non-null     object\n",
      " 1   source               10 non-null     object\n",
      " 2   pos_ctry             10 non-null     object\n",
      " 3   pos_iata             10 non-null     object\n",
      " 4   pos_oid              10 non-null     object\n",
      " 5   rloc                 10 non-null     object\n",
      " 6   cre_date             10 non-null     object\n",
      " 7   duration             10 non-null     int64 \n",
      " 8   distance             10 non-null     int64 \n",
      " 9   dep_port             10 non-null     object\n",
      " 10  dep_city             10 non-null     object\n",
      " 11  dep_ctry             10 non-null     object\n",
      " 12  arr_port             10 non-null     object\n",
      " 13  arr_city             10 non-null     object\n",
      " 14  arr_ctry             10 non-null     object\n",
      " 15  lst_port             10 non-null     object\n",
      " 16  lst_city             10 non-null     object\n",
      " 17  lst_ctry             10 non-null     object\n",
      " 18  brd_port             10 non-null     object\n",
      " 19  brd_city             10 non-null     object\n",
      " 20  brd_ctry             10 non-null     object\n",
      " 21  off_port             10 non-null     object\n",
      " 22  off_city             10 non-null     object\n",
      " 23  off_ctry             10 non-null     object\n",
      " 24  mkt_port             10 non-null     object\n",
      " 25  mkt_city             10 non-null     object\n",
      " 26  mkt_ctry             10 non-null     object\n",
      " 27  intl                 10 non-null     int64 \n",
      " 28  route                10 non-null     object\n",
      " 29  carrier              10 non-null     object\n",
      " 30  bkg_class            10 non-null     object\n",
      " 31  cab_class            10 non-null     object\n",
      " 32  brd_time             10 non-null     object\n",
      " 33  off_time             10 non-null     object\n",
      " 34  pax                  10 non-null     int64 \n",
      " 35  year                 10 non-null     int64 \n",
      " 36  month                10 non-null     int64 \n",
      " 37  oid                  10 non-null     object\n",
      "dtypes: int64(6), object(32)\n",
      "memory usage: 3.1+ KB\n"
     ]
    }
   ],
   "source": [
    "bookings.info()"
   ]
  },
  {
   "cell_type": "markdown",
   "metadata": {},
   "source": [
    "`pax` and `year` columns are `int64` data type, so they can't have blank spaces."
   ]
  },
  {
   "cell_type": "code",
   "execution_count": 8,
   "metadata": {
    "scrolled": true
   },
   "outputs": [
    {
     "data": {
      "text/html": [
       "<div>\n",
       "<style scoped>\n",
       "    .dataframe tbody tr th:only-of-type {\n",
       "        vertical-align: middle;\n",
       "    }\n",
       "\n",
       "    .dataframe tbody tr th {\n",
       "        vertical-align: top;\n",
       "    }\n",
       "\n",
       "    .dataframe thead th {\n",
       "        text-align: right;\n",
       "    }\n",
       "</style>\n",
       "<table border=\"1\" class=\"dataframe\">\n",
       "  <thead>\n",
       "    <tr style=\"text-align: right;\">\n",
       "      <th></th>\n",
       "      <th>arr_port</th>\n",
       "      <th>pax</th>\n",
       "      <th>year</th>\n",
       "    </tr>\n",
       "  </thead>\n",
       "  <tbody>\n",
       "    <tr>\n",
       "      <th>0</th>\n",
       "      <td>LHR</td>\n",
       "      <td>-1</td>\n",
       "      <td>2013</td>\n",
       "    </tr>\n",
       "    <tr>\n",
       "      <th>1</th>\n",
       "      <td>CLT</td>\n",
       "      <td>1</td>\n",
       "      <td>2013</td>\n",
       "    </tr>\n",
       "    <tr>\n",
       "      <th>2</th>\n",
       "      <td>CLT</td>\n",
       "      <td>1</td>\n",
       "      <td>2013</td>\n",
       "    </tr>\n",
       "    <tr>\n",
       "      <th>3</th>\n",
       "      <td>SVO</td>\n",
       "      <td>1</td>\n",
       "      <td>2013</td>\n",
       "    </tr>\n",
       "    <tr>\n",
       "      <th>4</th>\n",
       "      <td>SVO</td>\n",
       "      <td>1</td>\n",
       "      <td>2013</td>\n",
       "    </tr>\n",
       "  </tbody>\n",
       "</table>\n",
       "</div>"
      ],
      "text/plain": [
       "   arr_port  pax  year\n",
       "0  LHR        -1  2013\n",
       "1  CLT         1  2013\n",
       "2  CLT         1  2013\n",
       "3  SVO         1  2013\n",
       "4  SVO         1  2013"
      ]
     },
     "execution_count": 8,
     "metadata": {},
     "output_type": "execute_result"
    }
   ],
   "source": [
    "bookings = pd.read_csv('../challenge/bookings.csv', nrows=100000, sep='^', \n",
    "                       usecols=['arr_port', 'pax', 'year'])\n",
    "bookings.head()"
   ]
  },
  {
   "cell_type": "code",
   "execution_count": 32,
   "metadata": {
    "scrolled": true
   },
   "outputs": [
    {
     "data": {
      "text/plain": [
       "['LHR     ', 'CLT     ', 'CLT     ', 'SVO     ', 'SVO     ']"
      ]
     },
     "execution_count": 32,
     "metadata": {},
     "output_type": "execute_result"
    }
   ],
   "source": [
    "bookings['arr_port'].head().tolist()"
   ]
  },
  {
   "cell_type": "markdown",
   "metadata": {},
   "source": [
    "We must clean well that column."
   ]
  },
  {
   "cell_type": "code",
   "execution_count": 34,
   "metadata": {},
   "outputs": [
    {
     "data": {
      "text/plain": [
       "['LHR', 'CLT', 'CLT', 'SVO', 'SVO']"
      ]
     },
     "execution_count": 34,
     "metadata": {},
     "output_type": "execute_result"
    }
   ],
   "source": [
    "bookings['arr_port'] = bookings['arr_port'].str.strip().str.upper()\n",
    "bookings['arr_port'].head().tolist()"
   ]
  },
  {
   "cell_type": "code",
   "execution_count": 41,
   "metadata": {},
   "outputs": [
    {
     "name": "stdout",
     "output_type": "stream",
     "text": [
      "Alert! There are `arr_port` values with length other than 3, check it.\n"
     ]
    }
   ],
   "source": [
    "arr_port_length = (bookings['arr_port'].map(len) != 3).sum()\n",
    "holacaracola = 4\n",
    "if holacaracola != 0:\n",
    "    print('Alert! There are `arr_port` values with length other than 3, check it.')"
   ]
  },
  {
   "cell_type": "code",
   "execution_count": 17,
   "metadata": {},
   "outputs": [
    {
     "data": {
      "text/html": [
       "<div>\n",
       "<style scoped>\n",
       "    .dataframe tbody tr th:only-of-type {\n",
       "        vertical-align: middle;\n",
       "    }\n",
       "\n",
       "    .dataframe tbody tr th {\n",
       "        vertical-align: top;\n",
       "    }\n",
       "\n",
       "    .dataframe thead th {\n",
       "        text-align: right;\n",
       "    }\n",
       "</style>\n",
       "<table border=\"1\" class=\"dataframe\">\n",
       "  <thead>\n",
       "    <tr style=\"text-align: right;\">\n",
       "      <th></th>\n",
       "      <th>pax</th>\n",
       "    </tr>\n",
       "    <tr>\n",
       "      <th>arr_port</th>\n",
       "      <th></th>\n",
       "    </tr>\n",
       "  </thead>\n",
       "  <tbody>\n",
       "    <tr>\n",
       "      <th>LHR</th>\n",
       "      <td>1006</td>\n",
       "    </tr>\n",
       "    <tr>\n",
       "      <th>MCO</th>\n",
       "      <td>861</td>\n",
       "    </tr>\n",
       "    <tr>\n",
       "      <th>JFK</th>\n",
       "      <td>795</td>\n",
       "    </tr>\n",
       "    <tr>\n",
       "      <th>LAX</th>\n",
       "      <td>761</td>\n",
       "    </tr>\n",
       "    <tr>\n",
       "      <th>BKK</th>\n",
       "      <td>747</td>\n",
       "    </tr>\n",
       "    <tr>\n",
       "      <th>LAS</th>\n",
       "      <td>732</td>\n",
       "    </tr>\n",
       "    <tr>\n",
       "      <th>SFO</th>\n",
       "      <td>705</td>\n",
       "    </tr>\n",
       "    <tr>\n",
       "      <th>ORD</th>\n",
       "      <td>686</td>\n",
       "    </tr>\n",
       "    <tr>\n",
       "      <th>CDG</th>\n",
       "      <td>676</td>\n",
       "    </tr>\n",
       "    <tr>\n",
       "      <th>DXB</th>\n",
       "      <td>587</td>\n",
       "    </tr>\n",
       "  </tbody>\n",
       "</table>\n",
       "</div>"
      ],
      "text/plain": [
       "           pax\n",
       "arr_port      \n",
       "LHR       1006\n",
       "MCO        861\n",
       "JFK        795\n",
       "LAX        761\n",
       "BKK        747\n",
       "LAS        732\n",
       "SFO        705\n",
       "ORD        686\n",
       "CDG        676\n",
       "DXB        587"
      ]
     },
     "execution_count": 17,
     "metadata": {},
     "output_type": "execute_result"
    }
   ],
   "source": [
    "bookings_2013 = bookings[bookings['year'] == 2013]\n",
    "\n",
    "top_10_2013 = bookings_2013.groupby('arr_port').sum().sort_values(by='pax', ascending=False).head(10)\n",
    "top_10_2013.drop('year', axis=1)"
   ]
  },
  {
   "cell_type": "code",
   "execution_count": 28,
   "metadata": {},
   "outputs": [],
   "source": [
    "def data_preprocessing(df, year):\n",
    "    '''\n",
    "    Takes a dataframe and a year, filters it by year, drops the year,\n",
    "    and drops null values.\n",
    "    Returns a dataframe.\n",
    "    \n",
    "    PARAMETERS\n",
    "    df: Dataframe\n",
    "    year: Year to filter by\n",
    "    '''\n",
    "    df[df['year'] == year]\n",
    "    df.drop('year', axis=1, inplace=True)\n",
    "    df.dropna(inplace=True)\n",
    "    return df"
   ]
  },
  {
   "cell_type": "code",
   "execution_count": 29,
   "metadata": {},
   "outputs": [],
   "source": [
    "data_iterator = pd.read_csv(\"../challenge/bookings.csv\", chunksize=10**6, \n",
    "                            sep='^', usecols=['arr_port', 'pax', 'year'])\n",
    "\n",
    "chunk_list = []  \n",
    "# Each chunk is in dataframe format\n",
    "for data_chunk in data_iterator: \n",
    "    data_chunk = data_preprocessing(data_chunk, 2013)\n",
    "    chunk_list.append(data_chunk)\n",
    "\n",
    "bookings = pd.concat(chunk_list)"
   ]
  },
  {
   "cell_type": "raw",
   "metadata": {},
   "source": [
    "chunks = pd.read_csv(\"../challenge/bookings.csv\", chunksize=10**6, \n",
    "                           sep='^', usecols=['arr_port', 'pax', 'year'])\n",
    "\n",
    "bookings = pd.concat(chunks)"
   ]
  },
  {
   "cell_type": "code",
   "execution_count": 13,
   "metadata": {},
   "outputs": [
    {
     "data": {
      "text/plain": [
       "(10000009, 2)"
      ]
     },
     "execution_count": 13,
     "metadata": {},
     "output_type": "execute_result"
    }
   ],
   "source": [
    "bookings.shape"
   ]
  },
  {
   "cell_type": "code",
   "execution_count": 33,
   "metadata": {
    "scrolled": true
   },
   "outputs": [
    {
     "data": {
      "text/plain": [
       "3    10000009\n",
       "Name: arr_port, dtype: int64"
      ]
     },
     "execution_count": 33,
     "metadata": {},
     "output_type": "execute_result"
    }
   ],
   "source": [
    "bookings['arr_port'] = bookings['arr_port'].str.strip().str.upper()\n",
    "bookings['arr_port'].apply(len).value_counts()"
   ]
  },
  {
   "cell_type": "code",
   "execution_count": 34,
   "metadata": {
    "scrolled": false
   },
   "outputs": [
    {
     "data": {
      "text/html": [
       "<div>\n",
       "<style scoped>\n",
       "    .dataframe tbody tr th:only-of-type {\n",
       "        vertical-align: middle;\n",
       "    }\n",
       "\n",
       "    .dataframe tbody tr th {\n",
       "        vertical-align: top;\n",
       "    }\n",
       "\n",
       "    .dataframe thead th {\n",
       "        text-align: right;\n",
       "    }\n",
       "</style>\n",
       "<table border=\"1\" class=\"dataframe\">\n",
       "  <thead>\n",
       "    <tr style=\"text-align: right;\">\n",
       "      <th></th>\n",
       "      <th>pax</th>\n",
       "    </tr>\n",
       "    <tr>\n",
       "      <th>arr_port</th>\n",
       "      <th></th>\n",
       "    </tr>\n",
       "  </thead>\n",
       "  <tbody>\n",
       "    <tr>\n",
       "      <th>LHR</th>\n",
       "      <td>88809.0</td>\n",
       "    </tr>\n",
       "    <tr>\n",
       "      <th>MCO</th>\n",
       "      <td>70930.0</td>\n",
       "    </tr>\n",
       "    <tr>\n",
       "      <th>LAX</th>\n",
       "      <td>70530.0</td>\n",
       "    </tr>\n",
       "    <tr>\n",
       "      <th>LAS</th>\n",
       "      <td>69630.0</td>\n",
       "    </tr>\n",
       "    <tr>\n",
       "      <th>JFK</th>\n",
       "      <td>66270.0</td>\n",
       "    </tr>\n",
       "    <tr>\n",
       "      <th>CDG</th>\n",
       "      <td>64490.0</td>\n",
       "    </tr>\n",
       "    <tr>\n",
       "      <th>BKK</th>\n",
       "      <td>59460.0</td>\n",
       "    </tr>\n",
       "    <tr>\n",
       "      <th>MIA</th>\n",
       "      <td>58150.0</td>\n",
       "    </tr>\n",
       "    <tr>\n",
       "      <th>SFO</th>\n",
       "      <td>58000.0</td>\n",
       "    </tr>\n",
       "    <tr>\n",
       "      <th>DXB</th>\n",
       "      <td>55590.0</td>\n",
       "    </tr>\n",
       "  </tbody>\n",
       "</table>\n",
       "</div>"
      ],
      "text/plain": [
       "              pax\n",
       "arr_port         \n",
       "LHR       88809.0\n",
       "MCO       70930.0\n",
       "LAX       70530.0\n",
       "LAS       69630.0\n",
       "JFK       66270.0\n",
       "CDG       64490.0\n",
       "BKK       59460.0\n",
       "MIA       58150.0\n",
       "SFO       58000.0\n",
       "DXB       55590.0"
      ]
     },
     "execution_count": 34,
     "metadata": {},
     "output_type": "execute_result"
    }
   ],
   "source": [
    "top_10 = bookings.pivot_table(values='pax', index='arr_port', \n",
    "                              aggfunc=np.sum).sort_values(by='pax', ascending=False).head(10)\n",
    "top_10"
   ]
  },
  {
   "cell_type": "code",
   "execution_count": 49,
   "metadata": {
    "scrolled": true
   },
   "outputs": [],
   "source": [
    "from neobase import NeoBase"
   ]
  },
  {
   "cell_type": "code",
   "execution_count": 53,
   "metadata": {},
   "outputs": [],
   "source": [
    "b = NeoBase()"
   ]
  },
  {
   "cell_type": "code",
   "execution_count": 57,
   "metadata": {},
   "outputs": [
    {
     "data": {
      "text/plain": [
       "['London']"
      ]
     },
     "execution_count": 57,
     "metadata": {},
     "output_type": "execute_result"
    }
   ],
   "source": [
    "b.get('LHR','city_name_list')"
   ]
  },
  {
   "cell_type": "code",
   "execution_count": 56,
   "metadata": {},
   "outputs": [
    {
     "data": {
      "text/plain": [
       "'London Heathrow Airport'"
      ]
     },
     "execution_count": 56,
     "metadata": {},
     "output_type": "execute_result"
    }
   ],
   "source": [
    "b.get('LHR','name')"
   ]
  },
  {
   "cell_type": "code",
   "execution_count": 64,
   "metadata": {},
   "outputs": [
    {
     "data": {
      "text/plain": [
       "'LHR'"
      ]
     },
     "execution_count": 64,
     "metadata": {},
     "output_type": "execute_result"
    }
   ],
   "source": [
    "top_10.index[0]"
   ]
  },
  {
   "cell_type": "code",
   "execution_count": 70,
   "metadata": {},
   "outputs": [
    {
     "data": {
      "text/plain": [
       "{'__dup__': set(),\n",
       " 'iata_code': 'LHR',\n",
       " 'name': 'London Heathrow Airport',\n",
       " 'lat': '51.4775',\n",
       " 'lng': '-0.461389',\n",
       " 'page_rank': 0.6631884761241168,\n",
       " 'country_code': 'GB',\n",
       " 'country_name': 'United Kingdom',\n",
       " 'continent_name': 'Europe',\n",
       " 'timezone': 'Europe/London',\n",
       " 'city_code_list': ['LON'],\n",
       " 'city_name_list': ['London'],\n",
       " 'location_type': ['A'],\n",
       " 'currency': 'GBP'}"
      ]
     },
     "execution_count": 70,
     "metadata": {},
     "output_type": "execute_result"
    }
   ],
   "source": [
    "b.get(top_10.index[0]) # My index is 'arr_port'"
   ]
  },
  {
   "cell_type": "code",
   "execution_count": 65,
   "metadata": {
    "scrolled": true
   },
   "outputs": [
    {
     "data": {
      "text/plain": [
       "'London Heathrow Airport'"
      ]
     },
     "execution_count": 65,
     "metadata": {},
     "output_type": "execute_result"
    }
   ],
   "source": [
    "b.get(top_10.index[0])['name']"
   ]
  },
  {
   "cell_type": "code",
   "execution_count": 90,
   "metadata": {},
   "outputs": [
    {
     "data": {
      "text/html": [
       "<div>\n",
       "<style scoped>\n",
       "    .dataframe tbody tr th:only-of-type {\n",
       "        vertical-align: middle;\n",
       "    }\n",
       "\n",
       "    .dataframe tbody tr th {\n",
       "        vertical-align: top;\n",
       "    }\n",
       "\n",
       "    .dataframe thead th {\n",
       "        text-align: right;\n",
       "    }\n",
       "</style>\n",
       "<table border=\"1\" class=\"dataframe\">\n",
       "  <thead>\n",
       "    <tr style=\"text-align: right;\">\n",
       "      <th></th>\n",
       "      <th>pax</th>\n",
       "      <th>arr_port_name</th>\n",
       "      <th>city</th>\n",
       "      <th>country</th>\n",
       "      <th>currency</th>\n",
       "    </tr>\n",
       "    <tr>\n",
       "      <th>arr_port</th>\n",
       "      <th></th>\n",
       "      <th></th>\n",
       "      <th></th>\n",
       "      <th></th>\n",
       "      <th></th>\n",
       "    </tr>\n",
       "  </thead>\n",
       "  <tbody>\n",
       "    <tr>\n",
       "      <th>LHR</th>\n",
       "      <td>88809.0</td>\n",
       "      <td>London Heathrow Airport</td>\n",
       "      <td>London</td>\n",
       "      <td>United Kingdom</td>\n",
       "      <td>GBP</td>\n",
       "    </tr>\n",
       "    <tr>\n",
       "      <th>MCO</th>\n",
       "      <td>70930.0</td>\n",
       "      <td>Orlando International Airport</td>\n",
       "      <td>Orlando</td>\n",
       "      <td>United States</td>\n",
       "      <td>USD</td>\n",
       "    </tr>\n",
       "    <tr>\n",
       "      <th>LAX</th>\n",
       "      <td>70530.0</td>\n",
       "      <td>Los Angeles International Airport</td>\n",
       "      <td>Los Angeles</td>\n",
       "      <td>United States</td>\n",
       "      <td>USD</td>\n",
       "    </tr>\n",
       "    <tr>\n",
       "      <th>LAS</th>\n",
       "      <td>69630.0</td>\n",
       "      <td>McCarran International Airport</td>\n",
       "      <td>Las Vegas</td>\n",
       "      <td>United States</td>\n",
       "      <td>USD</td>\n",
       "    </tr>\n",
       "    <tr>\n",
       "      <th>JFK</th>\n",
       "      <td>66270.0</td>\n",
       "      <td>John F. Kennedy International Airport</td>\n",
       "      <td>New York City</td>\n",
       "      <td>United States</td>\n",
       "      <td>USD</td>\n",
       "    </tr>\n",
       "    <tr>\n",
       "      <th>CDG</th>\n",
       "      <td>64490.0</td>\n",
       "      <td>Paris Charles de Gaulle Airport</td>\n",
       "      <td>Paris</td>\n",
       "      <td>France</td>\n",
       "      <td>EUR</td>\n",
       "    </tr>\n",
       "    <tr>\n",
       "      <th>BKK</th>\n",
       "      <td>59460.0</td>\n",
       "      <td>Suvarnabhumi Airport</td>\n",
       "      <td>Bangkok</td>\n",
       "      <td>Thailand</td>\n",
       "      <td>THB</td>\n",
       "    </tr>\n",
       "    <tr>\n",
       "      <th>MIA</th>\n",
       "      <td>58150.0</td>\n",
       "      <td>Miami International Airport</td>\n",
       "      <td>Miami</td>\n",
       "      <td>United States</td>\n",
       "      <td>USD</td>\n",
       "    </tr>\n",
       "    <tr>\n",
       "      <th>SFO</th>\n",
       "      <td>58000.0</td>\n",
       "      <td>San Francisco International Airport</td>\n",
       "      <td>San Francisco</td>\n",
       "      <td>United States</td>\n",
       "      <td>USD</td>\n",
       "    </tr>\n",
       "    <tr>\n",
       "      <th>DXB</th>\n",
       "      <td>55590.0</td>\n",
       "      <td>Dubai International Airport</td>\n",
       "      <td>Dubai</td>\n",
       "      <td>United Arab Emirates</td>\n",
       "      <td>AED</td>\n",
       "    </tr>\n",
       "  </tbody>\n",
       "</table>\n",
       "</div>"
      ],
      "text/plain": [
       "              pax                          arr_port_name           city  \\\n",
       "arr_port                                                                  \n",
       "LHR       88809.0                London Heathrow Airport         London   \n",
       "MCO       70930.0          Orlando International Airport        Orlando   \n",
       "LAX       70530.0      Los Angeles International Airport    Los Angeles   \n",
       "LAS       69630.0         McCarran International Airport      Las Vegas   \n",
       "JFK       66270.0  John F. Kennedy International Airport  New York City   \n",
       "CDG       64490.0        Paris Charles de Gaulle Airport          Paris   \n",
       "BKK       59460.0                   Suvarnabhumi Airport        Bangkok   \n",
       "MIA       58150.0            Miami International Airport          Miami   \n",
       "SFO       58000.0    San Francisco International Airport  San Francisco   \n",
       "DXB       55590.0            Dubai International Airport          Dubai   \n",
       "\n",
       "                       country currency  \n",
       "arr_port                                 \n",
       "LHR             United Kingdom      GBP  \n",
       "MCO              United States      USD  \n",
       "LAX              United States      USD  \n",
       "LAS              United States      USD  \n",
       "JFK              United States      USD  \n",
       "CDG                     France      EUR  \n",
       "BKK                   Thailand      THB  \n",
       "MIA              United States      USD  \n",
       "SFO              United States      USD  \n",
       "DXB       United Arab Emirates      AED  "
      ]
     },
     "execution_count": 90,
     "metadata": {},
     "output_type": "execute_result"
    }
   ],
   "source": [
    "b = NeoBase()\n",
    "top_10['arr_port_name'] = top_10.index.map(lambda x: b.get(x, 'name'))\n",
    "top_10['city'] = top_10.index.map(lambda x: b.get(x, 'city_name_list')[0])\n",
    "top_10['country'] = top_10.index.map(lambda x: b.get(x, 'country_name'))\n",
    "top_10['currency'] = top_10.index.map(lambda x: b.get(x, 'currency'))\n",
    "top_10"
   ]
  },
  {
   "cell_type": "raw",
   "metadata": {},
   "source": [
    "top_10.to_csv('exercise_2.csv', sep = '^', index = False)"
   ]
  },
  {
   "cell_type": "markdown",
   "metadata": {},
   "source": [
    "# Exercise 3\n",
    "\n",
    "**Plot the monthly number of searches for flights arriving at Málaga, Madrid or Barcelona**\n",
    "\n",
    "- For the arriving airport, you can use the Destination column in the searches file. \n",
    "- Plot a curve for Málaga, another one for Madrid, and another one for Barcelona, in the same figure.\n",
    "- **Bonus point**: Solving this problem using pandas (instead of any other approach)"
   ]
  },
  {
   "cell_type": "markdown",
   "metadata": {},
   "source": [
    "### Finished Exercise"
   ]
  },
  {
   "cell_type": "markdown",
   "metadata": {},
   "source": [
    "|City|IATA Code|\n",
    "|:----:|:----:|\n",
    "|Madrid|MAD|\n",
    "|Málaga|AGP|\n",
    "|Barcelona|BCN|"
   ]
  },
  {
   "cell_type": "markdown",
   "metadata": {},
   "source": [
    "##### Option 1"
   ]
  },
  {
   "cell_type": "markdown",
   "metadata": {},
   "source": [
    "First we need to adapt our function from the last exercise to the current exercise. Let's take a look at the changes.\n",
    "- Now we don't need to filter by the year. \n",
    "- Delete possible blank spaces and drop the day from `Date` column.\n",
    "- Delete possible blank spaces and make sure all cells from `Destination` column are capitalized.\n",
    "- Drop `NaN` values.\n",
    "- Finally we add an alert message that shows us if there is any cell with length other than 3 in the `Destination` column."
   ]
  },
  {
   "cell_type": "code",
   "execution_count": 14,
   "metadata": {},
   "outputs": [],
   "source": [
    "def data_preprocessing(df): #year=2013\n",
    "    '''\n",
    "\n",
    "    '''\n",
    "\n",
    "    df['Date'] = df['Date'].str.strip().str[:7]\n",
    "    \n",
    "    df['Destination'] = df['Destination'].str.strip().str.upper()\n",
    "    df.dropna(inplace=True)\n",
    "    #data_chunk.reset_index(inplace=True)\n",
    "    \n",
    "    destination_length = (df['Destination'].map(len) != 3).sum()\n",
    "    if destination_length != 0:\n",
    "        print('Alert! Thsearchesere are `Destination` values with length different than 3, check it.')\n",
    "        wrong_data = df[(df['Destination'].map(len) != 3)]\n",
    "        print(wrong_data)\n",
    "        df.drop(df[(df['Destination'].map(len) != 3)].index, inplace=True)\n",
    "        \n",
    "    return df"
   ]
  },
  {
   "cell_type": "markdown",
   "metadata": {},
   "source": [
    "Next, we read the dataset in chunks. We process each chunk passing it as an argument in our function. Then we append the data to searches. "
   ]
  },
  {
   "cell_type": "code",
   "execution_count": 15,
   "metadata": {},
   "outputs": [
    {
     "name": "stdout",
     "output_type": "stream",
     "text": [
      "Alert! Thsearchesere are `Destination` values with length different than 3, check it.\n",
      "             Date Destination\n",
      "20390197  2013-10          HA\n"
     ]
    }
   ],
   "source": [
    "data_iterator = pd.read_csv(\"../challenge/searches.csv.bz2\", \n",
    "                            chunksize=10**6, \n",
    "                            sep='^', \n",
    "                            usecols=['Date', 'Destination'],\n",
    "                            compression='bz2',\n",
    "                            #nrows=10**5\n",
    "                           )\n",
    "\n",
    "\n",
    "searches = pd.DataFrame()\n",
    "for i, data_chunk in enumerate(data_iterator):\n",
    "    #print(\"Chunk: %d, size of chunk %d\"%(i+1, len(data_chunk)))\n",
    "    data_chunk = data_preprocessing(data_chunk)\n",
    "    #data_chunk.reset_index(inplace=True)\n",
    "    searches = searches.append(data_chunk)"
   ]
  },
  {
   "cell_type": "code",
   "execution_count": 16,
   "metadata": {
    "scrolled": true
   },
   "outputs": [
    {
     "data": {
      "text/html": [
       "<div>\n",
       "<style scoped>\n",
       "    .dataframe tbody tr th:only-of-type {\n",
       "        vertical-align: middle;\n",
       "    }\n",
       "\n",
       "    .dataframe tbody tr th {\n",
       "        vertical-align: top;\n",
       "    }\n",
       "\n",
       "    .dataframe thead th {\n",
       "        text-align: right;\n",
       "    }\n",
       "</style>\n",
       "<table border=\"1\" class=\"dataframe\">\n",
       "  <thead>\n",
       "    <tr style=\"text-align: right;\">\n",
       "      <th></th>\n",
       "      <th>Date</th>\n",
       "      <th>Destination</th>\n",
       "    </tr>\n",
       "  </thead>\n",
       "  <tbody>\n",
       "  </tbody>\n",
       "</table>\n",
       "</div>"
      ],
      "text/plain": [
       "Empty DataFrame\n",
       "Columns: [Date, Destination]\n",
       "Index: []"
      ]
     },
     "execution_count": 16,
     "metadata": {},
     "output_type": "execute_result"
    }
   ],
   "source": [
    "searches[(searches['Destination'].map(len) != 3)]"
   ]
  },
  {
   "cell_type": "markdown",
   "metadata": {},
   "source": [
    "Finally we plot a line for each airport by filtering the dataframe by the IATA code, and then we group the filtered data by `Date` and calculate its length."
   ]
  },
  {
   "cell_type": "code",
   "execution_count": 17,
   "metadata": {
    "scrolled": false
   },
   "outputs": [
    {
     "data": {
      "image/png": "[encoded data removed]",
      "text/plain": [
       "<Figure size 720x576 with 1 Axes>"
      ]
     },
     "metadata": {},
     "output_type": "display_data"
    }
   ],
   "source": [
    "plt.style.use('seaborn')\n",
    "fig, ax = plt.subplots(figsize=(10,8))\n",
    "\n",
    "iata_codes = ['MAD', 'AGP', 'BCN']\n",
    "for code in iata_codes:\n",
    "    searches[searches['Destination'] == code].groupby('Date').agg([len]).plot(ax=ax)\n",
    "\n",
    "ax.set_title('Monthly Number of Searches', \n",
    "             fontsize=18, \n",
    "             fontweight ='bold')\n",
    "\n",
    "ax.set_xticks([0, 1, 2, 3, 4, 5, 6, 7, 8, 9, 10, 11])\n",
    "months = ['january', 'february', 'march', \n",
    "          'april', 'may', 'june',\n",
    "          'july', 'august', 'september', \n",
    "          'october', 'november', 'december']\n",
    "ax.set_xticklabels(months, rotation=30)\n",
    "ax.set_xlabel('')\n",
    "\n",
    "leg = ax.legend(['MAD', 'AGP', 'BCN']);\n",
    "ax.figure.savefig('exercise_3.png');"
   ]
  },
  {
   "cell_type": "code",
   "execution_count": null,
   "metadata": {},
   "outputs": [],
   "source": []
  },
  {
   "cell_type": "markdown",
   "metadata": {},
   "source": [
    "No entiendo por qué cuando hago el `reset_index` me cambia el color de las lineas pero no el de la `legend`. -> Preguntar"
   ]
  },
  {
   "cell_type": "markdown",
   "metadata": {},
   "source": [
    "##### Option 2"
   ]
  },
  {
   "cell_type": "markdown",
   "metadata": {},
   "source": [
    "In the second option we make a dataframe for each airport instead of an unique dataframe."
   ]
  },
  {
   "cell_type": "code",
   "execution_count": 196,
   "metadata": {
    "scrolled": true
   },
   "outputs": [],
   "source": [
    "data_iterator = pd.read_csv(\"../challenge/searches.csv.bz2\", \n",
    "                            chunksize=10**6, \n",
    "                            sep='^', \n",
    "                            usecols=['Date', 'Destination'],\n",
    "                            compression='bz2',\n",
    "                            #nrows=10**5\n",
    "                           )\n",
    "\n",
    "madrid_searches = pd.DataFrame()\n",
    "barcelona_searches = pd.DataFrame()\n",
    "malaga_searches = pd.DataFrame()\n",
    "\n",
    "for i, data_chunk in enumerate(data_iterator):\n",
    "    #print(\"Chunk: %d, size of chunk %d\"%(i+1, len(data_chunk)))\n",
    "    \n",
    "    data_chunk = data_preprocessing(data_chunk)\n",
    "    #data_chunk.reset_index(inplace=True)\n",
    "    \n",
    "    madrid_data_chunk = data_chunk[data_chunk['Destination'] == 'MAD']\n",
    "    madrid_searches = madrid_searches.append(madrid_data_chunk)\n",
    "\n",
    "    barcelona_data_chunk = data_chunk[data_chunk['Destination'] == 'BCN']\n",
    "    barcelona_searches = barcelona_searches.append(barcelona_data_chunk)\n",
    "    \n",
    "    malaga_data_chunk = data_chunk[data_chunk['Destination'] == 'AGP']\n",
    "    malaga_searches = malaga_searches.append(malaga_data_chunk)"
   ]
  },
  {
   "cell_type": "code",
   "execution_count": 197,
   "metadata": {},
   "outputs": [
    {
     "data": {
      "image/png": "[encoded data removed]",
      "text/plain": [
       "<Figure size 720x576 with 1 Axes>"
      ]
     },
     "metadata": {},
     "output_type": "display_data"
    }
   ],
   "source": [
    "plt.style.use('seaborn')\n",
    "fig, ax = plt.subplots(figsize=(10,8))\n",
    "\n",
    "#madrid_searches['Date'].dt.month.value_counts().sort_index().plot(label='MAD')\n",
    "#malaga_searches['Date'].dt.month.value_counts().sort_index().plot(label='AGP')\n",
    "#barcelona_searches['Date'].dt.month.value_counts().sort_index().plot(label='BCN')\n",
    "madrid_searches.groupby('Date').agg([len]).plot(ax=ax)\n",
    "malaga_searches.groupby('Date').agg([len]).plot(ax=ax)\n",
    "barcelona_searches.groupby('Date').agg([len]).plot(ax=ax)\n",
    "\n",
    "ax.set_title('Monthly Number of Searches', \n",
    "             fontsize=18, \n",
    "             fontweight ='bold')\n",
    "\n",
    "ax.set_xticks([0, 1, 2, 3, 4, 5, 6, 7, 8, 9, 10, 11])\n",
    "months = ['january', 'february', 'march', \n",
    "          'april', 'may', 'june',\n",
    "          'july', 'august', 'september', \n",
    "          'october', 'november', 'december']\n",
    "ax.set_xticklabels(months, rotation=30)\n",
    "ax.set_xlabel('')\n",
    "\n",
    "leg = ax.legend(['MAD', 'AGP', 'BCN']);"
   ]
  },
  {
   "cell_type": "markdown",
   "metadata": {},
   "source": [
    "------------------------------"
   ]
  },
  {
   "cell_type": "markdown",
   "metadata": {},
   "source": [
    "### First Approximation "
   ]
  },
  {
   "cell_type": "code",
   "execution_count": 3,
   "metadata": {
    "scrolled": true
   },
   "outputs": [
    {
     "data": {
      "text/html": [
       "<div>\n",
       "<style scoped>\n",
       "    .dataframe tbody tr th:only-of-type {\n",
       "        vertical-align: middle;\n",
       "    }\n",
       "\n",
       "    .dataframe tbody tr th {\n",
       "        vertical-align: top;\n",
       "    }\n",
       "\n",
       "    .dataframe thead th {\n",
       "        text-align: right;\n",
       "    }\n",
       "</style>\n",
       "<table border=\"1\" class=\"dataframe\">\n",
       "  <thead>\n",
       "    <tr style=\"text-align: right;\">\n",
       "      <th></th>\n",
       "      <th>Date</th>\n",
       "      <th>Time</th>\n",
       "      <th>TxnCode</th>\n",
       "      <th>OfficeID</th>\n",
       "      <th>Country</th>\n",
       "      <th>Origin</th>\n",
       "      <th>Destination</th>\n",
       "      <th>RoundTrip</th>\n",
       "      <th>NbSegments</th>\n",
       "      <th>Seg1Departure</th>\n",
       "      <th>Seg1Arrival</th>\n",
       "      <th>Seg1Date</th>\n",
       "      <th>Seg1Carrier</th>\n",
       "      <th>Seg1BookingCode</th>\n",
       "      <th>Seg2Departure</th>\n",
       "      <th>Seg2Arrival</th>\n",
       "      <th>Seg2Date</th>\n",
       "      <th>Seg2Carrier</th>\n",
       "      <th>Seg2BookingCode</th>\n",
       "      <th>Seg3Departure</th>\n",
       "      <th>Seg3Arrival</th>\n",
       "      <th>Seg3Date</th>\n",
       "      <th>Seg3Carrier</th>\n",
       "      <th>Seg3BookingCode</th>\n",
       "      <th>Seg4Departure</th>\n",
       "      <th>Seg4Arrival</th>\n",
       "      <th>Seg4Date</th>\n",
       "      <th>Seg4Carrier</th>\n",
       "      <th>Seg4BookingCode</th>\n",
       "      <th>Seg5Departure</th>\n",
       "      <th>Seg5Arrival</th>\n",
       "      <th>Seg5Date</th>\n",
       "      <th>Seg5Carrier</th>\n",
       "      <th>Seg5BookingCode</th>\n",
       "      <th>Seg6Departure</th>\n",
       "      <th>Seg6Arrival</th>\n",
       "      <th>Seg6Date</th>\n",
       "      <th>Seg6Carrier</th>\n",
       "      <th>Seg6BookingCode</th>\n",
       "      <th>From</th>\n",
       "      <th>IsPublishedForNeg</th>\n",
       "      <th>IsFromInternet</th>\n",
       "      <th>IsFromVista</th>\n",
       "      <th>TerminalID</th>\n",
       "      <th>InternetOffice</th>\n",
       "    </tr>\n",
       "  </thead>\n",
       "  <tbody>\n",
       "    <tr>\n",
       "      <th>0</th>\n",
       "      <td>2013-01-01</td>\n",
       "      <td>20:25:57</td>\n",
       "      <td>MPT</td>\n",
       "      <td>624d8c3ac0b3a7ca03e3c167e0f48327</td>\n",
       "      <td>DE</td>\n",
       "      <td>TXL</td>\n",
       "      <td>AUH</td>\n",
       "      <td>1</td>\n",
       "      <td>2</td>\n",
       "      <td>TXL</td>\n",
       "      <td>AUH</td>\n",
       "      <td>2013-01-26</td>\n",
       "      <td>D2</td>\n",
       "      <td>NaN</td>\n",
       "      <td>AUH</td>\n",
       "      <td>TXL</td>\n",
       "      <td>2013-02-02</td>\n",
       "      <td>D2</td>\n",
       "      <td>NaN</td>\n",
       "      <td>NaN</td>\n",
       "      <td>NaN</td>\n",
       "      <td>NaN</td>\n",
       "      <td>NaN</td>\n",
       "      <td>NaN</td>\n",
       "      <td>NaN</td>\n",
       "      <td>NaN</td>\n",
       "      <td>NaN</td>\n",
       "      <td>NaN</td>\n",
       "      <td>NaN</td>\n",
       "      <td>NaN</td>\n",
       "      <td>NaN</td>\n",
       "      <td>NaN</td>\n",
       "      <td>NaN</td>\n",
       "      <td>NaN</td>\n",
       "      <td>NaN</td>\n",
       "      <td>NaN</td>\n",
       "      <td>NaN</td>\n",
       "      <td>NaN</td>\n",
       "      <td>NaN</td>\n",
       "      <td>1ASIWS</td>\n",
       "      <td>0</td>\n",
       "      <td>0</td>\n",
       "      <td>0</td>\n",
       "      <td>d41d8cd98f00b204e9800998ecf8427e</td>\n",
       "      <td>FRA</td>\n",
       "    </tr>\n",
       "    <tr>\n",
       "      <th>1</th>\n",
       "      <td>2013-01-01</td>\n",
       "      <td>10:15:33</td>\n",
       "      <td>MPT</td>\n",
       "      <td>b0af35b31588dc4ab06d5cf2986e8e02</td>\n",
       "      <td>MD</td>\n",
       "      <td>ATH</td>\n",
       "      <td>MIL</td>\n",
       "      <td>0</td>\n",
       "      <td>1</td>\n",
       "      <td>ATH</td>\n",
       "      <td>MIL</td>\n",
       "      <td>2013-01-04</td>\n",
       "      <td>NaN</td>\n",
       "      <td>NaN</td>\n",
       "      <td>NaN</td>\n",
       "      <td>NaN</td>\n",
       "      <td>NaN</td>\n",
       "      <td>NaN</td>\n",
       "      <td>NaN</td>\n",
       "      <td>NaN</td>\n",
       "      <td>NaN</td>\n",
       "      <td>NaN</td>\n",
       "      <td>NaN</td>\n",
       "      <td>NaN</td>\n",
       "      <td>NaN</td>\n",
       "      <td>NaN</td>\n",
       "      <td>NaN</td>\n",
       "      <td>NaN</td>\n",
       "      <td>NaN</td>\n",
       "      <td>NaN</td>\n",
       "      <td>NaN</td>\n",
       "      <td>NaN</td>\n",
       "      <td>NaN</td>\n",
       "      <td>NaN</td>\n",
       "      <td>NaN</td>\n",
       "      <td>NaN</td>\n",
       "      <td>NaN</td>\n",
       "      <td>NaN</td>\n",
       "      <td>NaN</td>\n",
       "      <td>1ASIWS</td>\n",
       "      <td>0</td>\n",
       "      <td>0</td>\n",
       "      <td>0</td>\n",
       "      <td>d41d8cd98f00b204e9800998ecf8427e</td>\n",
       "      <td>KIV</td>\n",
       "    </tr>\n",
       "    <tr>\n",
       "      <th>2</th>\n",
       "      <td>2013-01-01</td>\n",
       "      <td>18:04:49</td>\n",
       "      <td>MPT</td>\n",
       "      <td>3561a60621de06ab1badc8ca55699ef3</td>\n",
       "      <td>US</td>\n",
       "      <td>ICT</td>\n",
       "      <td>SFO</td>\n",
       "      <td>1</td>\n",
       "      <td>2</td>\n",
       "      <td>ICT</td>\n",
       "      <td>SFO</td>\n",
       "      <td>2013-08-02</td>\n",
       "      <td>NaN</td>\n",
       "      <td>NaN</td>\n",
       "      <td>SFO</td>\n",
       "      <td>ICT</td>\n",
       "      <td>2013-08-09</td>\n",
       "      <td>NaN</td>\n",
       "      <td>NaN</td>\n",
       "      <td>NaN</td>\n",
       "      <td>NaN</td>\n",
       "      <td>NaN</td>\n",
       "      <td>NaN</td>\n",
       "      <td>NaN</td>\n",
       "      <td>NaN</td>\n",
       "      <td>NaN</td>\n",
       "      <td>NaN</td>\n",
       "      <td>NaN</td>\n",
       "      <td>NaN</td>\n",
       "      <td>NaN</td>\n",
       "      <td>NaN</td>\n",
       "      <td>NaN</td>\n",
       "      <td>NaN</td>\n",
       "      <td>NaN</td>\n",
       "      <td>NaN</td>\n",
       "      <td>NaN</td>\n",
       "      <td>NaN</td>\n",
       "      <td>NaN</td>\n",
       "      <td>NaN</td>\n",
       "      <td>1ASIWS</td>\n",
       "      <td>0</td>\n",
       "      <td>0</td>\n",
       "      <td>0</td>\n",
       "      <td>d41d8cd98f00b204e9800998ecf8427e</td>\n",
       "      <td>NYC</td>\n",
       "    </tr>\n",
       "    <tr>\n",
       "      <th>3</th>\n",
       "      <td>2013-01-01</td>\n",
       "      <td>17:42:40</td>\n",
       "      <td>FXP</td>\n",
       "      <td>1864e5e8013d9414150e91d26b6a558b</td>\n",
       "      <td>SE</td>\n",
       "      <td>RNB</td>\n",
       "      <td>ARN</td>\n",
       "      <td>0</td>\n",
       "      <td>1</td>\n",
       "      <td>RNB</td>\n",
       "      <td>ARN</td>\n",
       "      <td>2013-01-02</td>\n",
       "      <td>DU</td>\n",
       "      <td>W</td>\n",
       "      <td>NaN</td>\n",
       "      <td>NaN</td>\n",
       "      <td>NaN</td>\n",
       "      <td>NaN</td>\n",
       "      <td>NaN</td>\n",
       "      <td>NaN</td>\n",
       "      <td>NaN</td>\n",
       "      <td>NaN</td>\n",
       "      <td>NaN</td>\n",
       "      <td>NaN</td>\n",
       "      <td>NaN</td>\n",
       "      <td>NaN</td>\n",
       "      <td>NaN</td>\n",
       "      <td>NaN</td>\n",
       "      <td>NaN</td>\n",
       "      <td>NaN</td>\n",
       "      <td>NaN</td>\n",
       "      <td>NaN</td>\n",
       "      <td>NaN</td>\n",
       "      <td>NaN</td>\n",
       "      <td>NaN</td>\n",
       "      <td>NaN</td>\n",
       "      <td>NaN</td>\n",
       "      <td>NaN</td>\n",
       "      <td>NaN</td>\n",
       "      <td>1ASI</td>\n",
       "      <td>0</td>\n",
       "      <td>0</td>\n",
       "      <td>0</td>\n",
       "      <td>d41d8cd98f00b204e9800998ecf8427e</td>\n",
       "      <td>STO</td>\n",
       "    </tr>\n",
       "    <tr>\n",
       "      <th>4</th>\n",
       "      <td>2013-01-01</td>\n",
       "      <td>17:48:29</td>\n",
       "      <td>MPT</td>\n",
       "      <td>1ec336348f44207d2e0027dc3a68c118</td>\n",
       "      <td>NO</td>\n",
       "      <td>OSL</td>\n",
       "      <td>MAD</td>\n",
       "      <td>1</td>\n",
       "      <td>2</td>\n",
       "      <td>OSL</td>\n",
       "      <td>MAD</td>\n",
       "      <td>2013-03-22</td>\n",
       "      <td>NaN</td>\n",
       "      <td>NaN</td>\n",
       "      <td>MAD</td>\n",
       "      <td>OSL</td>\n",
       "      <td>2013-03-31</td>\n",
       "      <td>NaN</td>\n",
       "      <td>NaN</td>\n",
       "      <td>NaN</td>\n",
       "      <td>NaN</td>\n",
       "      <td>NaN</td>\n",
       "      <td>NaN</td>\n",
       "      <td>NaN</td>\n",
       "      <td>NaN</td>\n",
       "      <td>NaN</td>\n",
       "      <td>NaN</td>\n",
       "      <td>NaN</td>\n",
       "      <td>NaN</td>\n",
       "      <td>NaN</td>\n",
       "      <td>NaN</td>\n",
       "      <td>NaN</td>\n",
       "      <td>NaN</td>\n",
       "      <td>NaN</td>\n",
       "      <td>NaN</td>\n",
       "      <td>NaN</td>\n",
       "      <td>NaN</td>\n",
       "      <td>NaN</td>\n",
       "      <td>NaN</td>\n",
       "      <td>1ASIWS</td>\n",
       "      <td>0</td>\n",
       "      <td>0</td>\n",
       "      <td>0</td>\n",
       "      <td>d41d8cd98f00b204e9800998ecf8427e</td>\n",
       "      <td>OSL</td>\n",
       "    </tr>\n",
       "  </tbody>\n",
       "</table>\n",
       "</div>"
      ],
      "text/plain": [
       "        Date      Time TxnCode                          OfficeID Country  \\\n",
       "0 2013-01-01  20:25:57     MPT  624d8c3ac0b3a7ca03e3c167e0f48327      DE   \n",
       "1 2013-01-01  10:15:33     MPT  b0af35b31588dc4ab06d5cf2986e8e02      MD   \n",
       "2 2013-01-01  18:04:49     MPT  3561a60621de06ab1badc8ca55699ef3      US   \n",
       "3 2013-01-01  17:42:40     FXP  1864e5e8013d9414150e91d26b6a558b      SE   \n",
       "4 2013-01-01  17:48:29     MPT  1ec336348f44207d2e0027dc3a68c118      NO   \n",
       "\n",
       "  Origin Destination  RoundTrip  NbSegments Seg1Departure Seg1Arrival  \\\n",
       "0    TXL         AUH          1           2           TXL         AUH   \n",
       "1    ATH         MIL          0           1           ATH         MIL   \n",
       "2    ICT         SFO          1           2           ICT         SFO   \n",
       "3    RNB         ARN          0           1           RNB         ARN   \n",
       "4    OSL         MAD          1           2           OSL         MAD   \n",
       "\n",
       "     Seg1Date Seg1Carrier Seg1BookingCode Seg2Departure Seg2Arrival  \\\n",
       "0  2013-01-26          D2             NaN           AUH         TXL   \n",
       "1  2013-01-04         NaN             NaN           NaN         NaN   \n",
       "2  2013-08-02         NaN             NaN           SFO         ICT   \n",
       "3  2013-01-02          DU               W           NaN         NaN   \n",
       "4  2013-03-22         NaN             NaN           MAD         OSL   \n",
       "\n",
       "     Seg2Date Seg2Carrier  Seg2BookingCode  Seg3Departure  Seg3Arrival  \\\n",
       "0  2013-02-02          D2              NaN            NaN          NaN   \n",
       "1         NaN         NaN              NaN            NaN          NaN   \n",
       "2  2013-08-09         NaN              NaN            NaN          NaN   \n",
       "3         NaN         NaN              NaN            NaN          NaN   \n",
       "4  2013-03-31         NaN              NaN            NaN          NaN   \n",
       "\n",
       "   Seg3Date  Seg3Carrier  Seg3BookingCode  Seg4Departure  Seg4Arrival  \\\n",
       "0       NaN          NaN              NaN            NaN          NaN   \n",
       "1       NaN          NaN              NaN            NaN          NaN   \n",
       "2       NaN          NaN              NaN            NaN          NaN   \n",
       "3       NaN          NaN              NaN            NaN          NaN   \n",
       "4       NaN          NaN              NaN            NaN          NaN   \n",
       "\n",
       "   Seg4Date  Seg4Carrier  Seg4BookingCode  Seg5Departure  Seg5Arrival  \\\n",
       "0       NaN          NaN              NaN            NaN          NaN   \n",
       "1       NaN          NaN              NaN            NaN          NaN   \n",
       "2       NaN          NaN              NaN            NaN          NaN   \n",
       "3       NaN          NaN              NaN            NaN          NaN   \n",
       "4       NaN          NaN              NaN            NaN          NaN   \n",
       "\n",
       "   Seg5Date  Seg5Carrier  Seg5BookingCode  Seg6Departure  Seg6Arrival  \\\n",
       "0       NaN          NaN              NaN            NaN          NaN   \n",
       "1       NaN          NaN              NaN            NaN          NaN   \n",
       "2       NaN          NaN              NaN            NaN          NaN   \n",
       "3       NaN          NaN              NaN            NaN          NaN   \n",
       "4       NaN          NaN              NaN            NaN          NaN   \n",
       "\n",
       "   Seg6Date  Seg6Carrier  Seg6BookingCode    From  IsPublishedForNeg  \\\n",
       "0       NaN          NaN              NaN  1ASIWS                  0   \n",
       "1       NaN          NaN              NaN  1ASIWS                  0   \n",
       "2       NaN          NaN              NaN  1ASIWS                  0   \n",
       "3       NaN          NaN              NaN    1ASI                  0   \n",
       "4       NaN          NaN              NaN  1ASIWS                  0   \n",
       "\n",
       "   IsFromInternet  IsFromVista                        TerminalID  \\\n",
       "0               0            0  d41d8cd98f00b204e9800998ecf8427e   \n",
       "1               0            0  d41d8cd98f00b204e9800998ecf8427e   \n",
       "2               0            0  d41d8cd98f00b204e9800998ecf8427e   \n",
       "3               0            0  d41d8cd98f00b204e9800998ecf8427e   \n",
       "4               0            0  d41d8cd98f00b204e9800998ecf8427e   \n",
       "\n",
       "  InternetOffice  \n",
       "0            FRA  \n",
       "1            KIV  \n",
       "2            NYC  \n",
       "3            STO  \n",
       "4            OSL  "
      ]
     },
     "execution_count": 3,
     "metadata": {},
     "output_type": "execute_result"
    }
   ],
   "source": [
    "searches = pd.read_csv('../challenge/searches.csv.bz2', nrows=10, sep='^', \n",
    "                       compression='bz2', parse_dates=['Date'])\n",
    "searches.head()"
   ]
  },
  {
   "cell_type": "code",
   "execution_count": 4,
   "metadata": {
    "scrolled": true
   },
   "outputs": [
    {
     "name": "stdout",
     "output_type": "stream",
     "text": [
      "<class 'pandas.core.frame.DataFrame'>\n",
      "RangeIndex: 10 entries, 0 to 9\n",
      "Data columns (total 45 columns):\n",
      " #   Column             Non-Null Count  Dtype         \n",
      "---  ------             --------------  -----         \n",
      " 0   Date               10 non-null     datetime64[ns]\n",
      " 1   Time               10 non-null     object        \n",
      " 2   TxnCode            10 non-null     object        \n",
      " 3   OfficeID           10 non-null     object        \n",
      " 4   Country            10 non-null     object        \n",
      " 5   Origin             10 non-null     object        \n",
      " 6   Destination        10 non-null     object        \n",
      " 7   RoundTrip          10 non-null     int64         \n",
      " 8   NbSegments         10 non-null     int64         \n",
      " 9   Seg1Departure      10 non-null     object        \n",
      " 10  Seg1Arrival        10 non-null     object        \n",
      " 11  Seg1Date           10 non-null     object        \n",
      " 12  Seg1Carrier        2 non-null      object        \n",
      " 13  Seg1BookingCode    1 non-null      object        \n",
      " 14  Seg2Departure      8 non-null      object        \n",
      " 15  Seg2Arrival        8 non-null      object        \n",
      " 16  Seg2Date           8 non-null      object        \n",
      " 17  Seg2Carrier        1 non-null      object        \n",
      " 18  Seg2BookingCode    0 non-null      float64       \n",
      " 19  Seg3Departure      0 non-null      float64       \n",
      " 20  Seg3Arrival        0 non-null      float64       \n",
      " 21  Seg3Date           0 non-null      float64       \n",
      " 22  Seg3Carrier        0 non-null      float64       \n",
      " 23  Seg3BookingCode    0 non-null      float64       \n",
      " 24  Seg4Departure      0 non-null      float64       \n",
      " 25  Seg4Arrival        0 non-null      float64       \n",
      " 26  Seg4Date           0 non-null      float64       \n",
      " 27  Seg4Carrier        0 non-null      float64       \n",
      " 28  Seg4BookingCode    0 non-null      float64       \n",
      " 29  Seg5Departure      0 non-null      float64       \n",
      " 30  Seg5Arrival        0 non-null      float64       \n",
      " 31  Seg5Date           0 non-null      float64       \n",
      " 32  Seg5Carrier        0 non-null      float64       \n",
      " 33  Seg5BookingCode    0 non-null      float64       \n",
      " 34  Seg6Departure      0 non-null      float64       \n",
      " 35  Seg6Arrival        0 non-null      float64       \n",
      " 36  Seg6Date           0 non-null      float64       \n",
      " 37  Seg6Carrier        0 non-null      float64       \n",
      " 38  Seg6BookingCode    0 non-null      float64       \n",
      " 39  From               10 non-null     object        \n",
      " 40  IsPublishedForNeg  10 non-null     int64         \n",
      " 41  IsFromInternet     10 non-null     int64         \n",
      " 42  IsFromVista        10 non-null     int64         \n",
      " 43  TerminalID         10 non-null     object        \n",
      " 44  InternetOffice     10 non-null     object        \n",
      "dtypes: datetime64[ns](1), float64(21), int64(5), object(18)\n",
      "memory usage: 3.6+ KB\n"
     ]
    }
   ],
   "source": [
    "searches.info()"
   ]
  },
  {
   "cell_type": "code",
   "execution_count": 5,
   "metadata": {},
   "outputs": [],
   "source": [
    "chunks = pd.read_csv('../challenge/searches.csv.bz2', chunksize=10**6,  \n",
    "                     sep='^', compression='bz2', \n",
    "                     usecols=['Date', 'Destination'])\n",
    "\n",
    "searches = pd.concat(chunks)"
   ]
  },
  {
   "cell_type": "code",
   "execution_count": 6,
   "metadata": {},
   "outputs": [
    {
     "name": "stdout",
     "output_type": "stream",
     "text": [
      "<class 'pandas.core.frame.DataFrame'>\n",
      "RangeIndex: 20390198 entries, 0 to 20390197\n",
      "Data columns (total 2 columns):\n",
      " #   Column       Dtype \n",
      "---  ------       ----- \n",
      " 0   Date         object\n",
      " 1   Destination  object\n",
      "dtypes: object(2)\n",
      "memory usage: 311.1+ MB\n"
     ]
    }
   ],
   "source": [
    "searches.info()"
   ]
  },
  {
   "cell_type": "code",
   "execution_count": 7,
   "metadata": {},
   "outputs": [
    {
     "data": {
      "text/html": [
       "<div>\n",
       "<style scoped>\n",
       "    .dataframe tbody tr th:only-of-type {\n",
       "        vertical-align: middle;\n",
       "    }\n",
       "\n",
       "    .dataframe tbody tr th {\n",
       "        vertical-align: top;\n",
       "    }\n",
       "\n",
       "    .dataframe thead th {\n",
       "        text-align: right;\n",
       "    }\n",
       "</style>\n",
       "<table border=\"1\" class=\"dataframe\">\n",
       "  <thead>\n",
       "    <tr style=\"text-align: right;\">\n",
       "      <th></th>\n",
       "      <th>Date</th>\n",
       "      <th>Destination</th>\n",
       "    </tr>\n",
       "  </thead>\n",
       "  <tbody>\n",
       "    <tr>\n",
       "      <th>0</th>\n",
       "      <td>2013-01-01</td>\n",
       "      <td>AUH</td>\n",
       "    </tr>\n",
       "    <tr>\n",
       "      <th>1</th>\n",
       "      <td>2013-01-01</td>\n",
       "      <td>MIL</td>\n",
       "    </tr>\n",
       "    <tr>\n",
       "      <th>2</th>\n",
       "      <td>2013-01-01</td>\n",
       "      <td>SFO</td>\n",
       "    </tr>\n",
       "    <tr>\n",
       "      <th>3</th>\n",
       "      <td>2013-01-01</td>\n",
       "      <td>ARN</td>\n",
       "    </tr>\n",
       "    <tr>\n",
       "      <th>4</th>\n",
       "      <td>2013-01-01</td>\n",
       "      <td>MAD</td>\n",
       "    </tr>\n",
       "  </tbody>\n",
       "</table>\n",
       "</div>"
      ],
      "text/plain": [
       "         Date Destination\n",
       "0  2013-01-01         AUH\n",
       "1  2013-01-01         MIL\n",
       "2  2013-01-01         SFO\n",
       "3  2013-01-01         ARN\n",
       "4  2013-01-01         MAD"
      ]
     },
     "execution_count": 7,
     "metadata": {},
     "output_type": "execute_result"
    }
   ],
   "source": [
    "searches.head()"
   ]
  },
  {
   "cell_type": "code",
   "execution_count": 38,
   "metadata": {},
   "outputs": [],
   "source": [
    "searches['Date'] = pd.to_datetime(searches['Date'], errors='coerce')"
   ]
  },
  {
   "cell_type": "code",
   "execution_count": 9,
   "metadata": {},
   "outputs": [
    {
     "name": "stdout",
     "output_type": "stream",
     "text": [
      "<class 'pandas.core.frame.DataFrame'>\n",
      "RangeIndex: 20390198 entries, 0 to 20390197\n",
      "Data columns (total 2 columns):\n",
      " #   Column       Dtype         \n",
      "---  ------       -----         \n",
      " 0   Date         datetime64[ns]\n",
      " 1   Destination  object        \n",
      "dtypes: datetime64[ns](1), object(1)\n",
      "memory usage: 311.1+ MB\n"
     ]
    }
   ],
   "source": [
    "searches.info()"
   ]
  },
  {
   "cell_type": "code",
   "execution_count": 10,
   "metadata": {},
   "outputs": [
    {
     "data": {
      "text/plain": [
       "33"
      ]
     },
     "execution_count": 10,
     "metadata": {},
     "output_type": "execute_result"
    }
   ],
   "source": [
    "searches['Date'].isna().sum()"
   ]
  },
  {
   "cell_type": "code",
   "execution_count": 11,
   "metadata": {
    "scrolled": true
   },
   "outputs": [
    {
     "data": {
      "text/plain": [
       "33"
      ]
     },
     "execution_count": 11,
     "metadata": {},
     "output_type": "execute_result"
    }
   ],
   "source": [
    "searches['Destination'].isna().sum()"
   ]
  },
  {
   "cell_type": "code",
   "execution_count": 12,
   "metadata": {},
   "outputs": [],
   "source": [
    "searches.dropna(inplace=True)"
   ]
  },
  {
   "cell_type": "code",
   "execution_count": 13,
   "metadata": {},
   "outputs": [
    {
     "data": {
      "text/plain": [
       "0"
      ]
     },
     "execution_count": 13,
     "metadata": {},
     "output_type": "execute_result"
    }
   ],
   "source": [
    "searches['Date'].isna().sum()"
   ]
  },
  {
   "cell_type": "code",
   "execution_count": 21,
   "metadata": {},
   "outputs": [],
   "source": [
    "searches['Destination'] = searches['Destination'].str.strip()"
   ]
  },
  {
   "cell_type": "code",
   "execution_count": 40,
   "metadata": {
    "scrolled": true
   },
   "outputs": [
    {
     "data": {
      "text/plain": [
       "2013    20390165\n",
       "Name: Date, dtype: int64"
      ]
     },
     "execution_count": 40,
     "metadata": {},
     "output_type": "execute_result"
    }
   ],
   "source": [
    "searches['Date'].dt.year.value_counts()"
   ]
  },
  {
   "cell_type": "markdown",
   "metadata": {},
   "source": [
    "|City|IATA Code|\n",
    "|:----:|:----:|\n",
    "|Madrid|MAD|\n",
    "|Málaga|AGP|\n",
    "|Barcelona|BCN|"
   ]
  },
  {
   "cell_type": "code",
   "execution_count": 23,
   "metadata": {},
   "outputs": [
    {
     "data": {
      "text/html": [
       "<div>\n",
       "<style scoped>\n",
       "    .dataframe tbody tr th:only-of-type {\n",
       "        vertical-align: middle;\n",
       "    }\n",
       "\n",
       "    .dataframe tbody tr th {\n",
       "        vertical-align: top;\n",
       "    }\n",
       "\n",
       "    .dataframe thead th {\n",
       "        text-align: right;\n",
       "    }\n",
       "</style>\n",
       "<table border=\"1\" class=\"dataframe\">\n",
       "  <thead>\n",
       "    <tr style=\"text-align: right;\">\n",
       "      <th></th>\n",
       "      <th>Date</th>\n",
       "      <th>Destination</th>\n",
       "    </tr>\n",
       "  </thead>\n",
       "  <tbody>\n",
       "    <tr>\n",
       "      <th>4</th>\n",
       "      <td>2013-01-01</td>\n",
       "      <td>MAD</td>\n",
       "    </tr>\n",
       "    <tr>\n",
       "      <th>151</th>\n",
       "      <td>2013-01-01</td>\n",
       "      <td>MAD</td>\n",
       "    </tr>\n",
       "    <tr>\n",
       "      <th>375</th>\n",
       "      <td>2013-01-01</td>\n",
       "      <td>MAD</td>\n",
       "    </tr>\n",
       "    <tr>\n",
       "      <th>406</th>\n",
       "      <td>2013-01-01</td>\n",
       "      <td>MAD</td>\n",
       "    </tr>\n",
       "    <tr>\n",
       "      <th>509</th>\n",
       "      <td>2013-01-01</td>\n",
       "      <td>MAD</td>\n",
       "    </tr>\n",
       "  </tbody>\n",
       "</table>\n",
       "</div>"
      ],
      "text/plain": [
       "          Date Destination\n",
       "4   2013-01-01         MAD\n",
       "151 2013-01-01         MAD\n",
       "375 2013-01-01         MAD\n",
       "406 2013-01-01         MAD\n",
       "509 2013-01-01         MAD"
      ]
     },
     "execution_count": 23,
     "metadata": {},
     "output_type": "execute_result"
    }
   ],
   "source": [
    "madrid_searches = searches[searches['Destination'] == 'MAD']\n",
    "madrid_searches.head()"
   ]
  },
  {
   "cell_type": "code",
   "execution_count": 24,
   "metadata": {},
   "outputs": [
    {
     "data": {
      "text/html": [
       "<div>\n",
       "<style scoped>\n",
       "    .dataframe tbody tr th:only-of-type {\n",
       "        vertical-align: middle;\n",
       "    }\n",
       "\n",
       "    .dataframe tbody tr th {\n",
       "        vertical-align: top;\n",
       "    }\n",
       "\n",
       "    .dataframe thead th {\n",
       "        text-align: right;\n",
       "    }\n",
       "</style>\n",
       "<table border=\"1\" class=\"dataframe\">\n",
       "  <thead>\n",
       "    <tr style=\"text-align: right;\">\n",
       "      <th></th>\n",
       "      <th>Date</th>\n",
       "      <th>Destination</th>\n",
       "    </tr>\n",
       "  </thead>\n",
       "  <tbody>\n",
       "    <tr>\n",
       "      <th>93</th>\n",
       "      <td>2013-01-01</td>\n",
       "      <td>AGP</td>\n",
       "    </tr>\n",
       "    <tr>\n",
       "      <th>147</th>\n",
       "      <td>2013-01-01</td>\n",
       "      <td>AGP</td>\n",
       "    </tr>\n",
       "    <tr>\n",
       "      <th>242</th>\n",
       "      <td>2013-01-01</td>\n",
       "      <td>AGP</td>\n",
       "    </tr>\n",
       "    <tr>\n",
       "      <th>458</th>\n",
       "      <td>2013-01-01</td>\n",
       "      <td>AGP</td>\n",
       "    </tr>\n",
       "    <tr>\n",
       "      <th>674</th>\n",
       "      <td>2013-01-01</td>\n",
       "      <td>AGP</td>\n",
       "    </tr>\n",
       "  </tbody>\n",
       "</table>\n",
       "</div>"
      ],
      "text/plain": [
       "          Date Destination\n",
       "93  2013-01-01         AGP\n",
       "147 2013-01-01         AGP\n",
       "242 2013-01-01         AGP\n",
       "458 2013-01-01         AGP\n",
       "674 2013-01-01         AGP"
      ]
     },
     "execution_count": 24,
     "metadata": {},
     "output_type": "execute_result"
    }
   ],
   "source": [
    "malaga_searches = searches[searches['Destination'] == 'AGP']\n",
    "malaga_searches.head()"
   ]
  },
  {
   "cell_type": "code",
   "execution_count": 25,
   "metadata": {},
   "outputs": [
    {
     "data": {
      "text/html": [
       "<div>\n",
       "<style scoped>\n",
       "    .dataframe tbody tr th:only-of-type {\n",
       "        vertical-align: middle;\n",
       "    }\n",
       "\n",
       "    .dataframe tbody tr th {\n",
       "        vertical-align: top;\n",
       "    }\n",
       "\n",
       "    .dataframe thead th {\n",
       "        text-align: right;\n",
       "    }\n",
       "</style>\n",
       "<table border=\"1\" class=\"dataframe\">\n",
       "  <thead>\n",
       "    <tr style=\"text-align: right;\">\n",
       "      <th></th>\n",
       "      <th>Date</th>\n",
       "      <th>Destination</th>\n",
       "    </tr>\n",
       "  </thead>\n",
       "  <tbody>\n",
       "    <tr>\n",
       "      <th>113</th>\n",
       "      <td>2013-01-01</td>\n",
       "      <td>BCN</td>\n",
       "    </tr>\n",
       "    <tr>\n",
       "      <th>165</th>\n",
       "      <td>2013-01-01</td>\n",
       "      <td>BCN</td>\n",
       "    </tr>\n",
       "    <tr>\n",
       "      <th>177</th>\n",
       "      <td>2013-01-01</td>\n",
       "      <td>BCN</td>\n",
       "    </tr>\n",
       "    <tr>\n",
       "      <th>186</th>\n",
       "      <td>2013-01-01</td>\n",
       "      <td>BCN</td>\n",
       "    </tr>\n",
       "    <tr>\n",
       "      <th>188</th>\n",
       "      <td>2013-01-01</td>\n",
       "      <td>BCN</td>\n",
       "    </tr>\n",
       "  </tbody>\n",
       "</table>\n",
       "</div>"
      ],
      "text/plain": [
       "          Date Destination\n",
       "113 2013-01-01         BCN\n",
       "165 2013-01-01         BCN\n",
       "177 2013-01-01         BCN\n",
       "186 2013-01-01         BCN\n",
       "188 2013-01-01         BCN"
      ]
     },
     "execution_count": 25,
     "metadata": {},
     "output_type": "execute_result"
    }
   ],
   "source": [
    "barcelona_searches = searches[searches['Destination'] == 'BCN']\n",
    "barcelona_searches.head()"
   ]
  },
  {
   "cell_type": "code",
   "execution_count": 26,
   "metadata": {
    "collapsed": true
   },
   "outputs": [
    {
     "data": {
      "image/png": "[encoded data removed]",
      "text/plain": [
       "<Figure size 720x576 with 1 Axes>"
      ]
     },
     "metadata": {},
     "output_type": "display_data"
    }
   ],
   "source": [
    "plt.style.use('seaborn')\n",
    "fig, ax = plt.subplots(figsize=(10,8))\n",
    "\n",
    "madrid_searches['Date'].dt.month.value_counts().sort_index().plot(label='MAD')\n",
    "malaga_searches['Date'].dt.month.value_counts().sort_index().plot(label='AGP')\n",
    "barcelona_searches['Date'].dt.month.value_counts().sort_index().plot(label='BCN')\n",
    "\n",
    "ax.set_title('Monthly Number of Searches', \n",
    "             fontsize=18, \n",
    "             fontweight ='bold')\n",
    "\n",
    "ax.set_xticks([2, 4, 6, 8, 10, 12])\n",
    "months = ['february', 'april', 'june', \n",
    "          'august', 'october', 'december']\n",
    "ax.set_xticklabels(months)\n",
    "\n",
    "ax.legend();"
   ]
  },
  {
   "cell_type": "markdown",
   "metadata": {},
   "source": [
    "# Exercise 4\n",
    "\n",
    "**Match searches with bookings**\n",
    "\n",
    "- For every search in the searches file, find out whether the search ended up in a booking or not (using the info in the bookings file). For instance, search and booking origin and destination should match.\n",
    "- For the bookings file, origin and destination are the columns `dep_port` and `arr_port`, respectively.\n",
    "- Generate a CSV file with the search data, and an additional field, containing 1 if the search ended up in a booking, and 0 otherwise."
   ]
  },
  {
   "cell_type": "code",
   "execution_count": 248,
   "metadata": {
    "scrolled": true
   },
   "outputs": [
    {
     "name": "stderr",
     "output_type": "stream",
     "text": [
      "/home/javi/anaconda3/lib/python3.8/site-packages/IPython/core/interactiveshell.py:3146: DtypeWarning: Columns (44) have mixed types.Specify dtype option on import or set low_memory=False.\n",
      "  has_raised = await self.run_ast_nodes(code_ast.body, cell_name,\n"
     ]
    },
    {
     "data": {
      "text/html": [
       "<div>\n",
       "<style scoped>\n",
       "    .dataframe tbody tr th:only-of-type {\n",
       "        vertical-align: middle;\n",
       "    }\n",
       "\n",
       "    .dataframe tbody tr th {\n",
       "        vertical-align: top;\n",
       "    }\n",
       "\n",
       "    .dataframe thead th {\n",
       "        text-align: right;\n",
       "    }\n",
       "</style>\n",
       "<table border=\"1\" class=\"dataframe\">\n",
       "  <thead>\n",
       "    <tr style=\"text-align: right;\">\n",
       "      <th></th>\n",
       "      <th>Date</th>\n",
       "      <th>Time</th>\n",
       "      <th>TxnCode</th>\n",
       "      <th>OfficeID</th>\n",
       "      <th>Country</th>\n",
       "      <th>Origin</th>\n",
       "      <th>Destination</th>\n",
       "      <th>RoundTrip</th>\n",
       "      <th>NbSegments</th>\n",
       "      <th>Seg1Departure</th>\n",
       "      <th>Seg1Arrival</th>\n",
       "      <th>Seg1Date</th>\n",
       "      <th>Seg1Carrier</th>\n",
       "      <th>Seg1BookingCode</th>\n",
       "      <th>Seg2Departure</th>\n",
       "      <th>Seg2Arrival</th>\n",
       "      <th>Seg2Date</th>\n",
       "      <th>Seg2Carrier</th>\n",
       "      <th>Seg2BookingCode</th>\n",
       "      <th>Seg3Departure</th>\n",
       "      <th>Seg3Arrival</th>\n",
       "      <th>Seg3Date</th>\n",
       "      <th>Seg3Carrier</th>\n",
       "      <th>Seg3BookingCode</th>\n",
       "      <th>Seg4Departure</th>\n",
       "      <th>Seg4Arrival</th>\n",
       "      <th>Seg4Date</th>\n",
       "      <th>Seg4Carrier</th>\n",
       "      <th>Seg4BookingCode</th>\n",
       "      <th>Seg5Departure</th>\n",
       "      <th>Seg5Arrival</th>\n",
       "      <th>Seg5Date</th>\n",
       "      <th>Seg5Carrier</th>\n",
       "      <th>Seg5BookingCode</th>\n",
       "      <th>Seg6Departure</th>\n",
       "      <th>Seg6Arrival</th>\n",
       "      <th>Seg6Date</th>\n",
       "      <th>Seg6Carrier</th>\n",
       "      <th>Seg6BookingCode</th>\n",
       "      <th>From</th>\n",
       "      <th>IsPublishedForNeg</th>\n",
       "      <th>IsFromInternet</th>\n",
       "      <th>IsFromVista</th>\n",
       "      <th>TerminalID</th>\n",
       "      <th>InternetOffice</th>\n",
       "    </tr>\n",
       "  </thead>\n",
       "  <tbody>\n",
       "    <tr>\n",
       "      <th>0</th>\n",
       "      <td>2013-01-01</td>\n",
       "      <td>20:25:57</td>\n",
       "      <td>MPT</td>\n",
       "      <td>624d8c3ac0b3a7ca03e3c167e0f48327</td>\n",
       "      <td>DE</td>\n",
       "      <td>TXL</td>\n",
       "      <td>AUH</td>\n",
       "      <td>1</td>\n",
       "      <td>2</td>\n",
       "      <td>TXL</td>\n",
       "      <td>AUH</td>\n",
       "      <td>2013-01-26</td>\n",
       "      <td>D2</td>\n",
       "      <td>NaN</td>\n",
       "      <td>AUH</td>\n",
       "      <td>TXL</td>\n",
       "      <td>2013-02-02</td>\n",
       "      <td>D2</td>\n",
       "      <td>NaN</td>\n",
       "      <td>NaN</td>\n",
       "      <td>NaN</td>\n",
       "      <td>NaN</td>\n",
       "      <td>NaN</td>\n",
       "      <td>NaN</td>\n",
       "      <td>NaN</td>\n",
       "      <td>NaN</td>\n",
       "      <td>NaN</td>\n",
       "      <td>NaN</td>\n",
       "      <td>NaN</td>\n",
       "      <td>NaN</td>\n",
       "      <td>NaN</td>\n",
       "      <td>NaN</td>\n",
       "      <td>NaN</td>\n",
       "      <td>NaN</td>\n",
       "      <td>NaN</td>\n",
       "      <td>NaN</td>\n",
       "      <td>NaN</td>\n",
       "      <td>NaN</td>\n",
       "      <td>NaN</td>\n",
       "      <td>1ASIWS</td>\n",
       "      <td>0</td>\n",
       "      <td>0</td>\n",
       "      <td>0</td>\n",
       "      <td>d41d8cd98f00b204e9800998ecf8427e</td>\n",
       "      <td>FRA</td>\n",
       "    </tr>\n",
       "    <tr>\n",
       "      <th>1</th>\n",
       "      <td>2013-01-01</td>\n",
       "      <td>10:15:33</td>\n",
       "      <td>MPT</td>\n",
       "      <td>b0af35b31588dc4ab06d5cf2986e8e02</td>\n",
       "      <td>MD</td>\n",
       "      <td>ATH</td>\n",
       "      <td>MIL</td>\n",
       "      <td>0</td>\n",
       "      <td>1</td>\n",
       "      <td>ATH</td>\n",
       "      <td>MIL</td>\n",
       "      <td>2013-01-04</td>\n",
       "      <td>NaN</td>\n",
       "      <td>NaN</td>\n",
       "      <td>NaN</td>\n",
       "      <td>NaN</td>\n",
       "      <td>NaN</td>\n",
       "      <td>NaN</td>\n",
       "      <td>NaN</td>\n",
       "      <td>NaN</td>\n",
       "      <td>NaN</td>\n",
       "      <td>NaN</td>\n",
       "      <td>NaN</td>\n",
       "      <td>NaN</td>\n",
       "      <td>NaN</td>\n",
       "      <td>NaN</td>\n",
       "      <td>NaN</td>\n",
       "      <td>NaN</td>\n",
       "      <td>NaN</td>\n",
       "      <td>NaN</td>\n",
       "      <td>NaN</td>\n",
       "      <td>NaN</td>\n",
       "      <td>NaN</td>\n",
       "      <td>NaN</td>\n",
       "      <td>NaN</td>\n",
       "      <td>NaN</td>\n",
       "      <td>NaN</td>\n",
       "      <td>NaN</td>\n",
       "      <td>NaN</td>\n",
       "      <td>1ASIWS</td>\n",
       "      <td>0</td>\n",
       "      <td>0</td>\n",
       "      <td>0</td>\n",
       "      <td>d41d8cd98f00b204e9800998ecf8427e</td>\n",
       "      <td>KIV</td>\n",
       "    </tr>\n",
       "    <tr>\n",
       "      <th>2</th>\n",
       "      <td>2013-01-01</td>\n",
       "      <td>18:04:49</td>\n",
       "      <td>MPT</td>\n",
       "      <td>3561a60621de06ab1badc8ca55699ef3</td>\n",
       "      <td>US</td>\n",
       "      <td>ICT</td>\n",
       "      <td>SFO</td>\n",
       "      <td>1</td>\n",
       "      <td>2</td>\n",
       "      <td>ICT</td>\n",
       "      <td>SFO</td>\n",
       "      <td>2013-08-02</td>\n",
       "      <td>NaN</td>\n",
       "      <td>NaN</td>\n",
       "      <td>SFO</td>\n",
       "      <td>ICT</td>\n",
       "      <td>2013-08-09</td>\n",
       "      <td>NaN</td>\n",
       "      <td>NaN</td>\n",
       "      <td>NaN</td>\n",
       "      <td>NaN</td>\n",
       "      <td>NaN</td>\n",
       "      <td>NaN</td>\n",
       "      <td>NaN</td>\n",
       "      <td>NaN</td>\n",
       "      <td>NaN</td>\n",
       "      <td>NaN</td>\n",
       "      <td>NaN</td>\n",
       "      <td>NaN</td>\n",
       "      <td>NaN</td>\n",
       "      <td>NaN</td>\n",
       "      <td>NaN</td>\n",
       "      <td>NaN</td>\n",
       "      <td>NaN</td>\n",
       "      <td>NaN</td>\n",
       "      <td>NaN</td>\n",
       "      <td>NaN</td>\n",
       "      <td>NaN</td>\n",
       "      <td>NaN</td>\n",
       "      <td>1ASIWS</td>\n",
       "      <td>0</td>\n",
       "      <td>0</td>\n",
       "      <td>0</td>\n",
       "      <td>d41d8cd98f00b204e9800998ecf8427e</td>\n",
       "      <td>NYC</td>\n",
       "    </tr>\n",
       "    <tr>\n",
       "      <th>3</th>\n",
       "      <td>2013-01-01</td>\n",
       "      <td>17:42:40</td>\n",
       "      <td>FXP</td>\n",
       "      <td>1864e5e8013d9414150e91d26b6a558b</td>\n",
       "      <td>SE</td>\n",
       "      <td>RNB</td>\n",
       "      <td>ARN</td>\n",
       "      <td>0</td>\n",
       "      <td>1</td>\n",
       "      <td>RNB</td>\n",
       "      <td>ARN</td>\n",
       "      <td>2013-01-02</td>\n",
       "      <td>DU</td>\n",
       "      <td>W</td>\n",
       "      <td>NaN</td>\n",
       "      <td>NaN</td>\n",
       "      <td>NaN</td>\n",
       "      <td>NaN</td>\n",
       "      <td>NaN</td>\n",
       "      <td>NaN</td>\n",
       "      <td>NaN</td>\n",
       "      <td>NaN</td>\n",
       "      <td>NaN</td>\n",
       "      <td>NaN</td>\n",
       "      <td>NaN</td>\n",
       "      <td>NaN</td>\n",
       "      <td>NaN</td>\n",
       "      <td>NaN</td>\n",
       "      <td>NaN</td>\n",
       "      <td>NaN</td>\n",
       "      <td>NaN</td>\n",
       "      <td>NaN</td>\n",
       "      <td>NaN</td>\n",
       "      <td>NaN</td>\n",
       "      <td>NaN</td>\n",
       "      <td>NaN</td>\n",
       "      <td>NaN</td>\n",
       "      <td>NaN</td>\n",
       "      <td>NaN</td>\n",
       "      <td>1ASI</td>\n",
       "      <td>0</td>\n",
       "      <td>0</td>\n",
       "      <td>0</td>\n",
       "      <td>d41d8cd98f00b204e9800998ecf8427e</td>\n",
       "      <td>STO</td>\n",
       "    </tr>\n",
       "    <tr>\n",
       "      <th>4</th>\n",
       "      <td>2013-01-01</td>\n",
       "      <td>17:48:29</td>\n",
       "      <td>MPT</td>\n",
       "      <td>1ec336348f44207d2e0027dc3a68c118</td>\n",
       "      <td>NO</td>\n",
       "      <td>OSL</td>\n",
       "      <td>MAD</td>\n",
       "      <td>1</td>\n",
       "      <td>2</td>\n",
       "      <td>OSL</td>\n",
       "      <td>MAD</td>\n",
       "      <td>2013-03-22</td>\n",
       "      <td>NaN</td>\n",
       "      <td>NaN</td>\n",
       "      <td>MAD</td>\n",
       "      <td>OSL</td>\n",
       "      <td>2013-03-31</td>\n",
       "      <td>NaN</td>\n",
       "      <td>NaN</td>\n",
       "      <td>NaN</td>\n",
       "      <td>NaN</td>\n",
       "      <td>NaN</td>\n",
       "      <td>NaN</td>\n",
       "      <td>NaN</td>\n",
       "      <td>NaN</td>\n",
       "      <td>NaN</td>\n",
       "      <td>NaN</td>\n",
       "      <td>NaN</td>\n",
       "      <td>NaN</td>\n",
       "      <td>NaN</td>\n",
       "      <td>NaN</td>\n",
       "      <td>NaN</td>\n",
       "      <td>NaN</td>\n",
       "      <td>NaN</td>\n",
       "      <td>NaN</td>\n",
       "      <td>NaN</td>\n",
       "      <td>NaN</td>\n",
       "      <td>NaN</td>\n",
       "      <td>NaN</td>\n",
       "      <td>1ASIWS</td>\n",
       "      <td>0</td>\n",
       "      <td>0</td>\n",
       "      <td>0</td>\n",
       "      <td>d41d8cd98f00b204e9800998ecf8427e</td>\n",
       "      <td>OSL</td>\n",
       "    </tr>\n",
       "  </tbody>\n",
       "</table>\n",
       "</div>"
      ],
      "text/plain": [
       "         Date      Time TxnCode                          OfficeID Country  \\\n",
       "0  2013-01-01  20:25:57     MPT  624d8c3ac0b3a7ca03e3c167e0f48327      DE   \n",
       "1  2013-01-01  10:15:33     MPT  b0af35b31588dc4ab06d5cf2986e8e02      MD   \n",
       "2  2013-01-01  18:04:49     MPT  3561a60621de06ab1badc8ca55699ef3      US   \n",
       "3  2013-01-01  17:42:40     FXP  1864e5e8013d9414150e91d26b6a558b      SE   \n",
       "4  2013-01-01  17:48:29     MPT  1ec336348f44207d2e0027dc3a68c118      NO   \n",
       "\n",
       "  Origin Destination  RoundTrip  NbSegments Seg1Departure Seg1Arrival  \\\n",
       "0    TXL         AUH          1           2           TXL         AUH   \n",
       "1    ATH         MIL          0           1           ATH         MIL   \n",
       "2    ICT         SFO          1           2           ICT         SFO   \n",
       "3    RNB         ARN          0           1           RNB         ARN   \n",
       "4    OSL         MAD          1           2           OSL         MAD   \n",
       "\n",
       "     Seg1Date Seg1Carrier Seg1BookingCode Seg2Departure Seg2Arrival  \\\n",
       "0  2013-01-26          D2             NaN           AUH         TXL   \n",
       "1  2013-01-04         NaN             NaN           NaN         NaN   \n",
       "2  2013-08-02         NaN             NaN           SFO         ICT   \n",
       "3  2013-01-02          DU               W           NaN         NaN   \n",
       "4  2013-03-22         NaN             NaN           MAD         OSL   \n",
       "\n",
       "     Seg2Date Seg2Carrier Seg2BookingCode Seg3Departure Seg3Arrival Seg3Date  \\\n",
       "0  2013-02-02          D2             NaN           NaN         NaN      NaN   \n",
       "1         NaN         NaN             NaN           NaN         NaN      NaN   \n",
       "2  2013-08-09         NaN             NaN           NaN         NaN      NaN   \n",
       "3         NaN         NaN             NaN           NaN         NaN      NaN   \n",
       "4  2013-03-31         NaN             NaN           NaN         NaN      NaN   \n",
       "\n",
       "  Seg3Carrier Seg3BookingCode Seg4Departure Seg4Arrival Seg4Date Seg4Carrier  \\\n",
       "0         NaN             NaN           NaN         NaN      NaN         NaN   \n",
       "1         NaN             NaN           NaN         NaN      NaN         NaN   \n",
       "2         NaN             NaN           NaN         NaN      NaN         NaN   \n",
       "3         NaN             NaN           NaN         NaN      NaN         NaN   \n",
       "4         NaN             NaN           NaN         NaN      NaN         NaN   \n",
       "\n",
       "  Seg4BookingCode Seg5Departure Seg5Arrival Seg5Date Seg5Carrier  \\\n",
       "0             NaN           NaN         NaN      NaN         NaN   \n",
       "1             NaN           NaN         NaN      NaN         NaN   \n",
       "2             NaN           NaN         NaN      NaN         NaN   \n",
       "3             NaN           NaN         NaN      NaN         NaN   \n",
       "4             NaN           NaN         NaN      NaN         NaN   \n",
       "\n",
       "  Seg5BookingCode Seg6Departure Seg6Arrival Seg6Date Seg6Carrier  \\\n",
       "0             NaN           NaN         NaN      NaN         NaN   \n",
       "1             NaN           NaN         NaN      NaN         NaN   \n",
       "2             NaN           NaN         NaN      NaN         NaN   \n",
       "3             NaN           NaN         NaN      NaN         NaN   \n",
       "4             NaN           NaN         NaN      NaN         NaN   \n",
       "\n",
       "  Seg6BookingCode    From  IsPublishedForNeg  IsFromInternet  IsFromVista  \\\n",
       "0             NaN  1ASIWS                  0               0            0   \n",
       "1             NaN  1ASIWS                  0               0            0   \n",
       "2             NaN  1ASIWS                  0               0            0   \n",
       "3             NaN    1ASI                  0               0            0   \n",
       "4             NaN  1ASIWS                  0               0            0   \n",
       "\n",
       "                         TerminalID InternetOffice  \n",
       "0  d41d8cd98f00b204e9800998ecf8427e            FRA  \n",
       "1  d41d8cd98f00b204e9800998ecf8427e            KIV  \n",
       "2  d41d8cd98f00b204e9800998ecf8427e            NYC  \n",
       "3  d41d8cd98f00b204e9800998ecf8427e            STO  \n",
       "4  d41d8cd98f00b204e9800998ecf8427e            OSL  "
      ]
     },
     "execution_count": 248,
     "metadata": {},
     "output_type": "execute_result"
    }
   ],
   "source": [
    "searches = pd.read_csv('../challenge/searches.csv.bz2', nrows=10**6, sep='^', \n",
    "                       compression='bz2')#parse_dates=['Date']\n",
    "searches.head()"
   ]
  },
  {
   "cell_type": "code",
   "execution_count": 242,
   "metadata": {},
   "outputs": [
    {
     "name": "stdout",
     "output_type": "stream",
     "text": [
      "<class 'pandas.core.frame.DataFrame'>\n",
      "RangeIndex: 1000000 entries, 0 to 999999\n",
      "Data columns (total 45 columns):\n",
      " #   Column             Non-Null Count    Dtype \n",
      "---  ------             --------------    ----- \n",
      " 0   Date               1000000 non-null  object\n",
      " 1   Time               1000000 non-null  object\n",
      " 2   TxnCode            1000000 non-null  object\n",
      " 3   OfficeID           1000000 non-null  object\n",
      " 4   Country            999878 non-null   object\n",
      " 5   Origin             1000000 non-null  object\n",
      " 6   Destination        1000000 non-null  object\n",
      " 7   RoundTrip          1000000 non-null  int64 \n",
      " 8   NbSegments         1000000 non-null  int64 \n",
      " 9   Seg1Departure      1000000 non-null  object\n",
      " 10  Seg1Arrival        1000000 non-null  object\n",
      " 11  Seg1Date           997115 non-null   object\n",
      " 12  Seg1Carrier        375381 non-null   object\n",
      " 13  Seg1BookingCode    102150 non-null   object\n",
      " 14  Seg2Departure      709149 non-null   object\n",
      " 15  Seg2Arrival        709149 non-null   object\n",
      " 16  Seg2Date           705715 non-null   object\n",
      " 17  Seg2Carrier        260679 non-null   object\n",
      " 18  Seg2BookingCode    87751 non-null    object\n",
      " 19  Seg3Departure      51910 non-null    object\n",
      " 20  Seg3Arrival        51910 non-null    object\n",
      " 21  Seg3Date           51600 non-null    object\n",
      " 22  Seg3Carrier        49383 non-null    object\n",
      " 23  Seg3BookingCode    47297 non-null    object\n",
      " 24  Seg4Departure      42044 non-null    object\n",
      " 25  Seg4Arrival        42044 non-null    object\n",
      " 26  Seg4Date           41769 non-null    object\n",
      " 27  Seg4Carrier        41696 non-null    object\n",
      " 28  Seg4BookingCode    41177 non-null    object\n",
      " 29  Seg5Departure      8007 non-null     object\n",
      " 30  Seg5Arrival        8007 non-null     object\n",
      " 31  Seg5Date           7936 non-null     object\n",
      " 32  Seg5Carrier        7965 non-null     object\n",
      " 33  Seg5BookingCode    7840 non-null     object\n",
      " 34  Seg6Departure      4791 non-null     object\n",
      " 35  Seg6Arrival        4791 non-null     object\n",
      " 36  Seg6Date           4738 non-null     object\n",
      " 37  Seg6Carrier        4786 non-null     object\n",
      " 38  Seg6BookingCode    4695 non-null     object\n",
      " 39  From               983376 non-null   object\n",
      " 40  IsPublishedForNeg  1000000 non-null  int64 \n",
      " 41  IsFromInternet     1000000 non-null  int64 \n",
      " 42  IsFromVista        1000000 non-null  int64 \n",
      " 43  TerminalID         1000000 non-null  object\n",
      " 44  InternetOffice     1000000 non-null  object\n",
      "dtypes: int64(5), object(40)\n",
      "memory usage: 343.3+ MB\n"
     ]
    }
   ],
   "source": [
    "searches.info()"
   ]
  },
  {
   "cell_type": "code",
   "execution_count": 243,
   "metadata": {},
   "outputs": [
    {
     "data": {
      "text/plain": [
       "'2013-01-01'"
      ]
     },
     "execution_count": 243,
     "metadata": {},
     "output_type": "execute_result"
    }
   ],
   "source": [
    "searches.iloc[0,0]"
   ]
  },
  {
   "cell_type": "code",
   "execution_count": 245,
   "metadata": {},
   "outputs": [
    {
     "data": {
      "text/plain": [
       "'2013-01-26'"
      ]
     },
     "execution_count": 245,
     "metadata": {},
     "output_type": "execute_result"
    }
   ],
   "source": [
    "searches.iloc[0,11]"
   ]
  },
  {
   "cell_type": "code",
   "execution_count": 239,
   "metadata": {
    "collapsed": true
   },
   "outputs": [
    {
     "data": {
      "text/plain": [
       "['Date',\n",
       " 'Time',\n",
       " 'TxnCode',\n",
       " 'OfficeID',\n",
       " 'Country',\n",
       " 'Origin',\n",
       " 'Destination',\n",
       " 'RoundTrip',\n",
       " 'NbSegments',\n",
       " 'Seg1Departure',\n",
       " 'Seg1Arrival',\n",
       " 'Seg1Date',\n",
       " 'Seg1Carrier',\n",
       " 'Seg1BookingCode',\n",
       " 'Seg2Departure',\n",
       " 'Seg2Arrival',\n",
       " 'Seg2Date',\n",
       " 'Seg2Carrier',\n",
       " 'Seg2BookingCode',\n",
       " 'Seg3Departure',\n",
       " 'Seg3Arrival',\n",
       " 'Seg3Date',\n",
       " 'Seg3Carrier',\n",
       " 'Seg3BookingCode',\n",
       " 'Seg4Departure',\n",
       " 'Seg4Arrival',\n",
       " 'Seg4Date',\n",
       " 'Seg4Carrier',\n",
       " 'Seg4BookingCode',\n",
       " 'Seg5Departure',\n",
       " 'Seg5Arrival',\n",
       " 'Seg5Date',\n",
       " 'Seg5Carrier',\n",
       " 'Seg5BookingCode',\n",
       " 'Seg6Departure',\n",
       " 'Seg6Arrival',\n",
       " 'Seg6Date',\n",
       " 'Seg6Carrier',\n",
       " 'Seg6BookingCode',\n",
       " 'From',\n",
       " 'IsPublishedForNeg',\n",
       " 'IsFromInternet',\n",
       " 'IsFromVista',\n",
       " 'TerminalID',\n",
       " 'InternetOffice']"
      ]
     },
     "execution_count": 239,
     "metadata": {},
     "output_type": "execute_result"
    }
   ],
   "source": [
    "searches.columns.tolist()"
   ]
  },
  {
   "cell_type": "code",
   "execution_count": 202,
   "metadata": {
    "collapsed": true
   },
   "outputs": [
    {
     "data": {
      "text/plain": [
       "['act_date           ',\n",
       " 'source',\n",
       " 'pos_ctry',\n",
       " 'pos_iata',\n",
       " 'pos_oid  ',\n",
       " 'rloc          ',\n",
       " 'cre_date           ',\n",
       " 'duration',\n",
       " 'distance',\n",
       " 'dep_port',\n",
       " 'dep_city',\n",
       " 'dep_ctry',\n",
       " 'arr_port',\n",
       " 'arr_city',\n",
       " 'arr_ctry',\n",
       " 'lst_port',\n",
       " 'lst_city',\n",
       " 'lst_ctry',\n",
       " 'brd_port',\n",
       " 'brd_city',\n",
       " 'brd_ctry',\n",
       " 'off_port',\n",
       " 'off_city',\n",
       " 'off_ctry',\n",
       " 'mkt_port',\n",
       " 'mkt_city',\n",
       " 'mkt_ctry',\n",
       " 'intl',\n",
       " 'route          ',\n",
       " 'carrier',\n",
       " 'bkg_class',\n",
       " 'cab_class',\n",
       " 'brd_time           ',\n",
       " 'off_time           ',\n",
       " 'pax',\n",
       " 'year',\n",
       " 'month',\n",
       " 'oid      ']"
      ]
     },
     "execution_count": 202,
     "metadata": {},
     "output_type": "execute_result"
    }
   ],
   "source": [
    "bookings.columns.tolist()"
   ]
  },
  {
   "cell_type": "code",
   "execution_count": 206,
   "metadata": {
    "scrolled": true
   },
   "outputs": [
    {
     "data": {
      "text/html": [
       "<div>\n",
       "<style scoped>\n",
       "    .dataframe tbody tr th:only-of-type {\n",
       "        vertical-align: middle;\n",
       "    }\n",
       "\n",
       "    .dataframe tbody tr th {\n",
       "        vertical-align: top;\n",
       "    }\n",
       "\n",
       "    .dataframe thead th {\n",
       "        text-align: right;\n",
       "    }\n",
       "</style>\n",
       "<table border=\"1\" class=\"dataframe\">\n",
       "  <thead>\n",
       "    <tr style=\"text-align: right;\">\n",
       "      <th></th>\n",
       "      <th>act_date</th>\n",
       "      <th>source</th>\n",
       "      <th>pos_ctry</th>\n",
       "      <th>pos_iata</th>\n",
       "      <th>pos_oid</th>\n",
       "      <th>rloc</th>\n",
       "      <th>cre_date</th>\n",
       "      <th>duration</th>\n",
       "      <th>distance</th>\n",
       "      <th>dep_port</th>\n",
       "      <th>dep_city</th>\n",
       "      <th>dep_ctry</th>\n",
       "      <th>arr_port</th>\n",
       "      <th>arr_city</th>\n",
       "      <th>arr_ctry</th>\n",
       "      <th>lst_port</th>\n",
       "      <th>lst_city</th>\n",
       "      <th>lst_ctry</th>\n",
       "      <th>brd_port</th>\n",
       "      <th>brd_city</th>\n",
       "      <th>brd_ctry</th>\n",
       "      <th>off_port</th>\n",
       "      <th>off_city</th>\n",
       "      <th>off_ctry</th>\n",
       "      <th>mkt_port</th>\n",
       "      <th>mkt_city</th>\n",
       "      <th>mkt_ctry</th>\n",
       "      <th>intl</th>\n",
       "      <th>route</th>\n",
       "      <th>carrier</th>\n",
       "      <th>bkg_class</th>\n",
       "      <th>cab_class</th>\n",
       "      <th>brd_time</th>\n",
       "      <th>off_time</th>\n",
       "      <th>pax</th>\n",
       "      <th>year</th>\n",
       "      <th>month</th>\n",
       "      <th>oid</th>\n",
       "    </tr>\n",
       "  </thead>\n",
       "  <tbody>\n",
       "    <tr>\n",
       "      <th>0</th>\n",
       "      <td>2013-03-05 00:00:00</td>\n",
       "      <td>1A</td>\n",
       "      <td>DE</td>\n",
       "      <td>a68dd7ae953c8acfb187a1af2dcbe123</td>\n",
       "      <td>1a11ae49fcbf545fd2afc1a24d88d2b7</td>\n",
       "      <td>ea65900e72d71f4626378e2ebd298267</td>\n",
       "      <td>2013-02-22 00:00:00</td>\n",
       "      <td>1708</td>\n",
       "      <td>0</td>\n",
       "      <td>ZRH</td>\n",
       "      <td>ZRH</td>\n",
       "      <td>CH</td>\n",
       "      <td>LHR</td>\n",
       "      <td>LON</td>\n",
       "      <td>GB</td>\n",
       "      <td>ZRH</td>\n",
       "      <td>ZRH</td>\n",
       "      <td>CH</td>\n",
       "      <td>LHR</td>\n",
       "      <td>LON</td>\n",
       "      <td>GB</td>\n",
       "      <td>ZRH</td>\n",
       "      <td>ZRH</td>\n",
       "      <td>CH</td>\n",
       "      <td>LHRZRH</td>\n",
       "      <td>LONZRH</td>\n",
       "      <td>CHGB</td>\n",
       "      <td>1</td>\n",
       "      <td>LHRZRH</td>\n",
       "      <td>VI</td>\n",
       "      <td>T</td>\n",
       "      <td>Y</td>\n",
       "      <td>2013-03-07 08:50:00</td>\n",
       "      <td>2013-03-07 11:33:37</td>\n",
       "      <td>-1</td>\n",
       "      <td>2013</td>\n",
       "      <td>3</td>\n",
       "      <td>NULL</td>\n",
       "    </tr>\n",
       "    <tr>\n",
       "      <th>1</th>\n",
       "      <td>2013-03-26 00:00:00</td>\n",
       "      <td>1A</td>\n",
       "      <td>US</td>\n",
       "      <td>e612b9eeeee6f17f42d9b0d3b79e75ca</td>\n",
       "      <td>7437560d8f276d6d05eeb806d9e7edee</td>\n",
       "      <td>737295a86982c941f1c2da9a46a14043</td>\n",
       "      <td>2013-03-26 00:00:00</td>\n",
       "      <td>135270</td>\n",
       "      <td>0</td>\n",
       "      <td>SAL</td>\n",
       "      <td>SAL</td>\n",
       "      <td>SV</td>\n",
       "      <td>CLT</td>\n",
       "      <td>CLT</td>\n",
       "      <td>US</td>\n",
       "      <td>SAL</td>\n",
       "      <td>SAL</td>\n",
       "      <td>SV</td>\n",
       "      <td>SAL</td>\n",
       "      <td>SAL</td>\n",
       "      <td>SV</td>\n",
       "      <td>CLT</td>\n",
       "      <td>CLT</td>\n",
       "      <td>US</td>\n",
       "      <td>CLTSAL</td>\n",
       "      <td>CLTSAL</td>\n",
       "      <td>SVUS</td>\n",
       "      <td>1</td>\n",
       "      <td>SALATLCLT</td>\n",
       "      <td>NV</td>\n",
       "      <td>L</td>\n",
       "      <td>Y</td>\n",
       "      <td>2013-04-12 13:04:00</td>\n",
       "      <td>2013-04-12 22:05:40</td>\n",
       "      <td>1</td>\n",
       "      <td>2013</td>\n",
       "      <td>3</td>\n",
       "      <td>NULL</td>\n",
       "    </tr>\n",
       "    <tr>\n",
       "      <th>2</th>\n",
       "      <td>2013-03-26 00:00:00</td>\n",
       "      <td>1A</td>\n",
       "      <td>US</td>\n",
       "      <td>e612b9eeeee6f17f42d9b0d3b79e75ca</td>\n",
       "      <td>7437560d8f276d6d05eeb806d9e7edee</td>\n",
       "      <td>737295a86982c941f1c2da9a46a14043</td>\n",
       "      <td>2013-03-26 00:00:00</td>\n",
       "      <td>135270</td>\n",
       "      <td>0</td>\n",
       "      <td>SAL</td>\n",
       "      <td>SAL</td>\n",
       "      <td>SV</td>\n",
       "      <td>CLT</td>\n",
       "      <td>CLT</td>\n",
       "      <td>US</td>\n",
       "      <td>SAL</td>\n",
       "      <td>SAL</td>\n",
       "      <td>SV</td>\n",
       "      <td>CLT</td>\n",
       "      <td>CLT</td>\n",
       "      <td>US</td>\n",
       "      <td>SAL</td>\n",
       "      <td>SAL</td>\n",
       "      <td>SV</td>\n",
       "      <td>CLTSAL</td>\n",
       "      <td>CLTSAL</td>\n",
       "      <td>SVUS</td>\n",
       "      <td>1</td>\n",
       "      <td>CLTATLSAL</td>\n",
       "      <td>NV</td>\n",
       "      <td>U</td>\n",
       "      <td>Y</td>\n",
       "      <td>2013-07-15 07:00:00</td>\n",
       "      <td>2013-07-15 11:34:51</td>\n",
       "      <td>1</td>\n",
       "      <td>2013</td>\n",
       "      <td>3</td>\n",
       "      <td>NULL</td>\n",
       "    </tr>\n",
       "    <tr>\n",
       "      <th>3</th>\n",
       "      <td>2013-03-26 00:00:00</td>\n",
       "      <td>1A</td>\n",
       "      <td>AU</td>\n",
       "      <td>0f984b3bb6bd06661c95529bbd6193bc</td>\n",
       "      <td>36472c6dbaf7afec9136ac40364e2794</td>\n",
       "      <td>5ecf00fdcbcec761c43dc7285253d0c1</td>\n",
       "      <td>2013-03-26 00:00:00</td>\n",
       "      <td>30885</td>\n",
       "      <td>0</td>\n",
       "      <td>AKL</td>\n",
       "      <td>AKL</td>\n",
       "      <td>NZ</td>\n",
       "      <td>SVO</td>\n",
       "      <td>MOW</td>\n",
       "      <td>RU</td>\n",
       "      <td>AKL</td>\n",
       "      <td>AKL</td>\n",
       "      <td>NZ</td>\n",
       "      <td>AKL</td>\n",
       "      <td>AKL</td>\n",
       "      <td>NZ</td>\n",
       "      <td>SVO</td>\n",
       "      <td>MOW</td>\n",
       "      <td>RU</td>\n",
       "      <td>AKLSVO</td>\n",
       "      <td>AKLMOW</td>\n",
       "      <td>NZRU</td>\n",
       "      <td>1</td>\n",
       "      <td>AKLHKGSVO</td>\n",
       "      <td>XK</td>\n",
       "      <td>G</td>\n",
       "      <td>Y</td>\n",
       "      <td>2013-04-24 23:59:00</td>\n",
       "      <td>2013-04-25 16:06:31</td>\n",
       "      <td>1</td>\n",
       "      <td>2013</td>\n",
       "      <td>3</td>\n",
       "      <td>SYDA82546</td>\n",
       "    </tr>\n",
       "    <tr>\n",
       "      <th>4</th>\n",
       "      <td>2013-03-26 00:00:00</td>\n",
       "      <td>1A</td>\n",
       "      <td>AU</td>\n",
       "      <td>0f984b3bb6bd06661c95529bbd6193bc</td>\n",
       "      <td>36472c6dbaf7afec9136ac40364e2794</td>\n",
       "      <td>5ecf00fdcbcec761c43dc7285253d0c1</td>\n",
       "      <td>2013-03-26 00:00:00</td>\n",
       "      <td>30885</td>\n",
       "      <td>0</td>\n",
       "      <td>AKL</td>\n",
       "      <td>AKL</td>\n",
       "      <td>NZ</td>\n",
       "      <td>SVO</td>\n",
       "      <td>MOW</td>\n",
       "      <td>RU</td>\n",
       "      <td>AKL</td>\n",
       "      <td>AKL</td>\n",
       "      <td>NZ</td>\n",
       "      <td>SVO</td>\n",
       "      <td>MOW</td>\n",
       "      <td>RU</td>\n",
       "      <td>AKL</td>\n",
       "      <td>AKL</td>\n",
       "      <td>NZ</td>\n",
       "      <td>AKLSVO</td>\n",
       "      <td>AKLMOW</td>\n",
       "      <td>NZRU</td>\n",
       "      <td>1</td>\n",
       "      <td>SVOHKGAKL</td>\n",
       "      <td>XK</td>\n",
       "      <td>G</td>\n",
       "      <td>Y</td>\n",
       "      <td>2013-05-14 20:15:00</td>\n",
       "      <td>2013-05-16 10:44:50</td>\n",
       "      <td>1</td>\n",
       "      <td>2013</td>\n",
       "      <td>3</td>\n",
       "      <td>SYDA82546</td>\n",
       "    </tr>\n",
       "  </tbody>\n",
       "</table>\n",
       "</div>"
      ],
      "text/plain": [
       "   act_date             source  pos_ctry                          pos_iata  \\\n",
       "0  2013-03-05 00:00:00  1A      DE        a68dd7ae953c8acfb187a1af2dcbe123   \n",
       "1  2013-03-26 00:00:00  1A      US        e612b9eeeee6f17f42d9b0d3b79e75ca   \n",
       "2  2013-03-26 00:00:00  1A      US        e612b9eeeee6f17f42d9b0d3b79e75ca   \n",
       "3  2013-03-26 00:00:00  1A      AU        0f984b3bb6bd06661c95529bbd6193bc   \n",
       "4  2013-03-26 00:00:00  1A      AU        0f984b3bb6bd06661c95529bbd6193bc   \n",
       "\n",
       "                          pos_oid                      rloc            \\\n",
       "0  1a11ae49fcbf545fd2afc1a24d88d2b7  ea65900e72d71f4626378e2ebd298267   \n",
       "1  7437560d8f276d6d05eeb806d9e7edee  737295a86982c941f1c2da9a46a14043   \n",
       "2  7437560d8f276d6d05eeb806d9e7edee  737295a86982c941f1c2da9a46a14043   \n",
       "3  36472c6dbaf7afec9136ac40364e2794  5ecf00fdcbcec761c43dc7285253d0c1   \n",
       "4  36472c6dbaf7afec9136ac40364e2794  5ecf00fdcbcec761c43dc7285253d0c1   \n",
       "\n",
       "   cre_date             duration  distance  dep_port  dep_city  dep_ctry  \\\n",
       "0  2013-02-22 00:00:00      1708         0  ZRH       ZRH       CH         \n",
       "1  2013-03-26 00:00:00    135270         0  SAL       SAL       SV         \n",
       "2  2013-03-26 00:00:00    135270         0  SAL       SAL       SV         \n",
       "3  2013-03-26 00:00:00     30885         0  AKL       AKL       NZ         \n",
       "4  2013-03-26 00:00:00     30885         0  AKL       AKL       NZ         \n",
       "\n",
       "   arr_port  arr_city  arr_ctry  lst_port  lst_city  lst_ctry  brd_port  \\\n",
       "0  LHR       LON       GB        ZRH       ZRH       CH        LHR        \n",
       "1  CLT       CLT       US        SAL       SAL       SV        SAL        \n",
       "2  CLT       CLT       US        SAL       SAL       SV        CLT        \n",
       "3  SVO       MOW       RU        AKL       AKL       NZ        AKL        \n",
       "4  SVO       MOW       RU        AKL       AKL       NZ        SVO        \n",
       "\n",
       "   brd_city  brd_ctry  off_port  off_city  off_ctry  mkt_port  mkt_city  \\\n",
       "0  LON       GB        ZRH       ZRH       CH        LHRZRH    LONZRH     \n",
       "1  SAL       SV        CLT       CLT       US        CLTSAL    CLTSAL     \n",
       "2  CLT       US        SAL       SAL       SV        CLTSAL    CLTSAL     \n",
       "3  AKL       NZ        SVO       MOW       RU        AKLSVO    AKLMOW     \n",
       "4  MOW       RU        AKL       AKL       NZ        AKLSVO    AKLMOW     \n",
       "\n",
       "   mkt_ctry  intl  route           carrier  bkg_class  cab_class  \\\n",
       "0  CHGB         1  LHRZRH               VI  T          Y           \n",
       "1  SVUS         1  SALATLCLT            NV  L          Y           \n",
       "2  SVUS         1  CLTATLSAL            NV  U          Y           \n",
       "3  NZRU         1  AKLHKGSVO            XK  G          Y           \n",
       "4  NZRU         1  SVOHKGAKL            XK  G          Y           \n",
       "\n",
       "   brd_time             off_time             pax  year  month  oid        \n",
       "0  2013-03-07 08:50:00  2013-03-07 11:33:37   -1  2013      3  NULL       \n",
       "1  2013-04-12 13:04:00  2013-04-12 22:05:40    1  2013      3  NULL       \n",
       "2  2013-07-15 07:00:00  2013-07-15 11:34:51    1  2013      3  NULL       \n",
       "3  2013-04-24 23:59:00  2013-04-25 16:06:31    1  2013      3  SYDA82546  \n",
       "4  2013-05-14 20:15:00  2013-05-16 10:44:50    1  2013      3  SYDA82546  "
      ]
     },
     "execution_count": 206,
     "metadata": {},
     "output_type": "execute_result"
    }
   ],
   "source": [
    "bookings = pd.read_csv('../challenge/bookings.csv.bz2', nrows=10**6, sep='^', \n",
    "                       compression='bz2', \n",
    "                      )\n",
    "bookings.head()"
   ]
  },
  {
   "cell_type": "code",
   "execution_count": 246,
   "metadata": {
    "collapsed": true
   },
   "outputs": [
    {
     "name": "stdout",
     "output_type": "stream",
     "text": [
      "<class 'pandas.core.frame.DataFrame'>\n",
      "RangeIndex: 1000000 entries, 0 to 999999\n",
      "Data columns (total 38 columns):\n",
      " #   Column     Non-Null Count    Dtype \n",
      "---  ------     --------------    ----- \n",
      " 0   act_date   1000000 non-null  object\n",
      " 1   source     1000000 non-null  object\n",
      " 2   pos_ctry   1000000 non-null  object\n",
      " 3   pos_iata   1000000 non-null  object\n",
      " 4   pos_oid    1000000 non-null  object\n",
      " 5   rloc       1000000 non-null  object\n",
      " 6   cre_date   1000000 non-null  object\n",
      " 7   duration   1000000 non-null  int64 \n",
      " 8   distance   1000000 non-null  int64 \n",
      " 9   dep_port   1000000 non-null  object\n",
      " 10  dep_city   1000000 non-null  object\n",
      " 11  dep_ctry   1000000 non-null  object\n",
      " 12  arr_port   1000000 non-null  object\n",
      " 13  arr_city   1000000 non-null  object\n",
      " 14  arr_ctry   1000000 non-null  object\n",
      " 15  lst_port   1000000 non-null  object\n",
      " 16  lst_city   1000000 non-null  object\n",
      " 17  lst_ctry   1000000 non-null  object\n",
      " 18  brd_port   1000000 non-null  object\n",
      " 19  brd_city   1000000 non-null  object\n",
      " 20  brd_ctry   1000000 non-null  object\n",
      " 21  off_port   1000000 non-null  object\n",
      " 22  off_city   1000000 non-null  object\n",
      " 23  off_ctry   1000000 non-null  object\n",
      " 24  mkt_port   1000000 non-null  object\n",
      " 25  mkt_city   1000000 non-null  object\n",
      " 26  mkt_ctry   1000000 non-null  object\n",
      " 27  intl       1000000 non-null  int64 \n",
      " 28  route      1000000 non-null  object\n",
      " 29  carrier    1000000 non-null  object\n",
      " 30  bkg_class  1000000 non-null  object\n",
      " 31  cab_class  1000000 non-null  object\n",
      " 32  brd_time   1000000 non-null  object\n",
      " 33  off_time   1000000 non-null  object\n",
      " 34  pax        1000000 non-null  int64 \n",
      " 35  year       1000000 non-null  int64 \n",
      " 36  month      1000000 non-null  int64 \n",
      " 37  oid        1000000 non-null  object\n",
      "dtypes: int64(6), object(32)\n",
      "memory usage: 289.9+ MB\n"
     ]
    }
   ],
   "source": [
    "bookings.info()"
   ]
  },
  {
   "cell_type": "code",
   "execution_count": 210,
   "metadata": {
    "scrolled": true
   },
   "outputs": [
    {
     "data": {
      "text/plain": [
       "['act_date',\n",
       " 'source',\n",
       " 'pos_ctry',\n",
       " 'pos_iata',\n",
       " 'pos_oid',\n",
       " 'rloc',\n",
       " 'cre_date',\n",
       " 'duration',\n",
       " 'distance',\n",
       " 'dep_port',\n",
       " 'dep_city',\n",
       " 'dep_ctry',\n",
       " 'arr_port',\n",
       " 'arr_city',\n",
       " 'arr_ctry',\n",
       " 'lst_port',\n",
       " 'lst_city',\n",
       " 'lst_ctry',\n",
       " 'brd_port',\n",
       " 'brd_city',\n",
       " 'brd_ctry',\n",
       " 'off_port',\n",
       " 'off_city',\n",
       " 'off_ctry',\n",
       " 'mkt_port',\n",
       " 'mkt_city',\n",
       " 'mkt_ctry',\n",
       " 'intl',\n",
       " 'route',\n",
       " 'carrier',\n",
       " 'bkg_class',\n",
       " 'cab_class',\n",
       " 'brd_time',\n",
       " 'off_time',\n",
       " 'pax',\n",
       " 'year',\n",
       " 'month',\n",
       " 'oid']"
      ]
     },
     "execution_count": 210,
     "metadata": {},
     "output_type": "execute_result"
    }
   ],
   "source": [
    "bookings.columns = bookings.columns.str.strip()\n",
    "bookings.columns.tolist()"
   ]
  },
  {
   "cell_type": "code",
   "execution_count": 211,
   "metadata": {},
   "outputs": [
    {
     "data": {
      "text/html": [
       "<div>\n",
       "<style scoped>\n",
       "    .dataframe tbody tr th:only-of-type {\n",
       "        vertical-align: middle;\n",
       "    }\n",
       "\n",
       "    .dataframe tbody tr th {\n",
       "        vertical-align: top;\n",
       "    }\n",
       "\n",
       "    .dataframe thead th {\n",
       "        text-align: right;\n",
       "    }\n",
       "</style>\n",
       "<table border=\"1\" class=\"dataframe\">\n",
       "  <thead>\n",
       "    <tr style=\"text-align: right;\">\n",
       "      <th></th>\n",
       "      <th>pos_iata</th>\n",
       "      <th>pos_oid</th>\n",
       "      <th>rloc</th>\n",
       "    </tr>\n",
       "  </thead>\n",
       "  <tbody>\n",
       "    <tr>\n",
       "      <th>0</th>\n",
       "      <td>a68dd7ae953c8acfb187a1af2dcbe123</td>\n",
       "      <td>1a11ae49fcbf545fd2afc1a24d88d2b7</td>\n",
       "      <td>ea65900e72d71f4626378e2ebd298267</td>\n",
       "    </tr>\n",
       "    <tr>\n",
       "      <th>1</th>\n",
       "      <td>e612b9eeeee6f17f42d9b0d3b79e75ca</td>\n",
       "      <td>7437560d8f276d6d05eeb806d9e7edee</td>\n",
       "      <td>737295a86982c941f1c2da9a46a14043</td>\n",
       "    </tr>\n",
       "    <tr>\n",
       "      <th>2</th>\n",
       "      <td>e612b9eeeee6f17f42d9b0d3b79e75ca</td>\n",
       "      <td>7437560d8f276d6d05eeb806d9e7edee</td>\n",
       "      <td>737295a86982c941f1c2da9a46a14043</td>\n",
       "    </tr>\n",
       "    <tr>\n",
       "      <th>3</th>\n",
       "      <td>0f984b3bb6bd06661c95529bbd6193bc</td>\n",
       "      <td>36472c6dbaf7afec9136ac40364e2794</td>\n",
       "      <td>5ecf00fdcbcec761c43dc7285253d0c1</td>\n",
       "    </tr>\n",
       "    <tr>\n",
       "      <th>4</th>\n",
       "      <td>0f984b3bb6bd06661c95529bbd6193bc</td>\n",
       "      <td>36472c6dbaf7afec9136ac40364e2794</td>\n",
       "      <td>5ecf00fdcbcec761c43dc7285253d0c1</td>\n",
       "    </tr>\n",
       "    <tr>\n",
       "      <th>...</th>\n",
       "      <td>...</td>\n",
       "      <td>...</td>\n",
       "      <td>...</td>\n",
       "    </tr>\n",
       "    <tr>\n",
       "      <th>999995</th>\n",
       "      <td>1a5585bef21f0bf8dc865a87843635f9</td>\n",
       "      <td>6ff8fd087f94799d7aed903683384775</td>\n",
       "      <td>3b339797f7eca14c24e8b7565da822c0</td>\n",
       "    </tr>\n",
       "    <tr>\n",
       "      <th>999996</th>\n",
       "      <td>1a5585bef21f0bf8dc865a87843635f9</td>\n",
       "      <td>6ff8fd087f94799d7aed903683384775</td>\n",
       "      <td>3b339797f7eca14c24e8b7565da822c0</td>\n",
       "    </tr>\n",
       "    <tr>\n",
       "      <th>999997</th>\n",
       "      <td>07e98d2fd3cd4b737266b99727f7faa8</td>\n",
       "      <td>e8741eaf2fa2f71f931475d18fa72096</td>\n",
       "      <td>2b22597bdad931843c3b1d5219836e07</td>\n",
       "    </tr>\n",
       "    <tr>\n",
       "      <th>999998</th>\n",
       "      <td>e2679367673d50f1ee085127d8a00eba</td>\n",
       "      <td>5f26f53ca29672815e0ee3bd93a2b0e4</td>\n",
       "      <td>4eb40315a7263131ae17712cd505b62a</td>\n",
       "    </tr>\n",
       "    <tr>\n",
       "      <th>999999</th>\n",
       "      <td>e2679367673d50f1ee085127d8a00eba</td>\n",
       "      <td>5f26f53ca29672815e0ee3bd93a2b0e4</td>\n",
       "      <td>4eb40315a7263131ae17712cd505b62a</td>\n",
       "    </tr>\n",
       "  </tbody>\n",
       "</table>\n",
       "<p>1000000 rows × 3 columns</p>\n",
       "</div>"
      ],
      "text/plain": [
       "                                pos_iata                           pos_oid  \\\n",
       "0       a68dd7ae953c8acfb187a1af2dcbe123  1a11ae49fcbf545fd2afc1a24d88d2b7   \n",
       "1       e612b9eeeee6f17f42d9b0d3b79e75ca  7437560d8f276d6d05eeb806d9e7edee   \n",
       "2       e612b9eeeee6f17f42d9b0d3b79e75ca  7437560d8f276d6d05eeb806d9e7edee   \n",
       "3       0f984b3bb6bd06661c95529bbd6193bc  36472c6dbaf7afec9136ac40364e2794   \n",
       "4       0f984b3bb6bd06661c95529bbd6193bc  36472c6dbaf7afec9136ac40364e2794   \n",
       "...                                  ...                               ...   \n",
       "999995  1a5585bef21f0bf8dc865a87843635f9  6ff8fd087f94799d7aed903683384775   \n",
       "999996  1a5585bef21f0bf8dc865a87843635f9  6ff8fd087f94799d7aed903683384775   \n",
       "999997  07e98d2fd3cd4b737266b99727f7faa8  e8741eaf2fa2f71f931475d18fa72096   \n",
       "999998  e2679367673d50f1ee085127d8a00eba  5f26f53ca29672815e0ee3bd93a2b0e4   \n",
       "999999  e2679367673d50f1ee085127d8a00eba  5f26f53ca29672815e0ee3bd93a2b0e4   \n",
       "\n",
       "                                    rloc  \n",
       "0       ea65900e72d71f4626378e2ebd298267  \n",
       "1       737295a86982c941f1c2da9a46a14043  \n",
       "2       737295a86982c941f1c2da9a46a14043  \n",
       "3       5ecf00fdcbcec761c43dc7285253d0c1  \n",
       "4       5ecf00fdcbcec761c43dc7285253d0c1  \n",
       "...                                  ...  \n",
       "999995  3b339797f7eca14c24e8b7565da822c0  \n",
       "999996  3b339797f7eca14c24e8b7565da822c0  \n",
       "999997  2b22597bdad931843c3b1d5219836e07  \n",
       "999998  4eb40315a7263131ae17712cd505b62a  \n",
       "999999  4eb40315a7263131ae17712cd505b62a  \n",
       "\n",
       "[1000000 rows x 3 columns]"
      ]
     },
     "execution_count": 211,
     "metadata": {},
     "output_type": "execute_result"
    }
   ],
   "source": [
    "bookings[['pos_iata', 'pos_oid', 'rloc']]"
   ]
  },
  {
   "cell_type": "code",
   "execution_count": 226,
   "metadata": {},
   "outputs": [],
   "source": [
    "bookings['pos_iata'] = bookings['pos_iata'].str.strip()\n",
    "bookings['pos_oid'] = bookings['pos_oid'].str.strip()\n",
    "bookings['rloc'] = bookings['rloc'].str.strip()"
   ]
  },
  {
   "cell_type": "code",
   "execution_count": null,
   "metadata": {},
   "outputs": [],
   "source": []
  },
  {
   "cell_type": "code",
   "execution_count": 230,
   "metadata": {
    "scrolled": true
   },
   "outputs": [
    {
     "data": {
      "text/plain": [
       "pos_iata     0\n",
       "pos_oid     35\n",
       "rloc         0\n",
       "dtype: int64"
      ]
     },
     "execution_count": 230,
     "metadata": {},
     "output_type": "execute_result"
    }
   ],
   "source": [
    "bookings[['pos_iata', 'pos_oid', 'rloc']].isin([searches.iloc[100,3]]).sum()"
   ]
  },
  {
   "cell_type": "code",
   "execution_count": 228,
   "metadata": {},
   "outputs": [
    {
     "data": {
      "text/plain": [
       "['b2771a31dc32d1e4af0ea7d758b8442b']"
      ]
     },
     "execution_count": 228,
     "metadata": {},
     "output_type": "execute_result"
    }
   ],
   "source": [
    "[searches.iloc[10,3]]"
   ]
  },
  {
   "cell_type": "markdown",
   "metadata": {},
   "source": [
    "Parece que no nos sirven esas columnas, habia que intentarlo "
   ]
  },
  {
   "cell_type": "markdown",
   "metadata": {},
   "source": [
    "|searches|bookings|\n",
    "|:---:|:---:|\n",
    "|Seg`n`Departure|dep_port|\n",
    "|Seg`n`Arrival|arr_port|\n",
    "|Seg`n`Date|brd_time|\n",
    "|Date|cre_date|"
   ]
  },
  {
   "cell_type": "code",
   "execution_count": 3,
   "metadata": {},
   "outputs": [
    {
     "name": "stderr",
     "output_type": "stream",
     "text": [
      "/home/javi/anaconda3/lib/python3.8/site-packages/IPython/core/interactiveshell.py:3146: DtypeWarning: Columns (44) have mixed types.Specify dtype option on import or set low_memory=False.\n",
      "  has_raised = await self.run_ast_nodes(code_ast.body, cell_name,\n"
     ]
    }
   ],
   "source": [
    "searches = pd.read_csv('../challenge/searches.csv.bz2', \n",
    "                       nrows = 10**6, \n",
    "                       sep = '^', \n",
    "                       compression = 'bz2',\n",
    "                       #usecols = ['Date', \n",
    "                        #              'Seg1Date', \n",
    "                         #             'Seg1Departure', \n",
    "                          #            'Seg1Arrival']\n",
    "                      )#parse_dates=['Date']\n",
    "\n",
    "\n",
    "bookings = pd.read_csv('../challenge/bookings.csv.bz2', \n",
    "                       nrows=10**6, \n",
    "                       sep='^', \n",
    "                       compression='bz2', \n",
    "                       #usecols = ['dep_port', \n",
    "                        #              'arr_port', \n",
    "                         #             'brd_time           ', \n",
    "                          #            'cre_date           ']\n",
    "                      )"
   ]
  },
  {
   "cell_type": "code",
   "execution_count": 111,
   "metadata": {},
   "outputs": [
    {
     "data": {
      "text/html": [
       "<div>\n",
       "<style scoped>\n",
       "    .dataframe tbody tr th:only-of-type {\n",
       "        vertical-align: middle;\n",
       "    }\n",
       "\n",
       "    .dataframe tbody tr th {\n",
       "        vertical-align: top;\n",
       "    }\n",
       "\n",
       "    .dataframe thead th {\n",
       "        text-align: right;\n",
       "    }\n",
       "</style>\n",
       "<table border=\"1\" class=\"dataframe\">\n",
       "  <thead>\n",
       "    <tr style=\"text-align: right;\">\n",
       "      <th></th>\n",
       "      <th>Date</th>\n",
       "      <th>Time</th>\n",
       "      <th>TxnCode</th>\n",
       "      <th>OfficeID</th>\n",
       "      <th>Country</th>\n",
       "      <th>Origin</th>\n",
       "      <th>Destination</th>\n",
       "      <th>RoundTrip</th>\n",
       "      <th>NbSegments</th>\n",
       "      <th>Seg1Departure</th>\n",
       "      <th>Seg1Arrival</th>\n",
       "      <th>Seg1Date</th>\n",
       "      <th>Seg1Carrier</th>\n",
       "      <th>Seg1BookingCode</th>\n",
       "      <th>Seg2Departure</th>\n",
       "      <th>Seg2Arrival</th>\n",
       "      <th>Seg2Date</th>\n",
       "      <th>Seg2Carrier</th>\n",
       "      <th>Seg2BookingCode</th>\n",
       "      <th>Seg3Departure</th>\n",
       "      <th>Seg3Arrival</th>\n",
       "      <th>Seg3Date</th>\n",
       "      <th>Seg3Carrier</th>\n",
       "      <th>Seg3BookingCode</th>\n",
       "      <th>Seg4Departure</th>\n",
       "      <th>Seg4Arrival</th>\n",
       "      <th>Seg4Date</th>\n",
       "      <th>Seg4Carrier</th>\n",
       "      <th>Seg4BookingCode</th>\n",
       "      <th>Seg5Departure</th>\n",
       "      <th>Seg5Arrival</th>\n",
       "      <th>Seg5Date</th>\n",
       "      <th>Seg5Carrier</th>\n",
       "      <th>Seg5BookingCode</th>\n",
       "      <th>Seg6Departure</th>\n",
       "      <th>Seg6Arrival</th>\n",
       "      <th>Seg6Date</th>\n",
       "      <th>Seg6Carrier</th>\n",
       "      <th>Seg6BookingCode</th>\n",
       "      <th>From</th>\n",
       "      <th>IsPublishedForNeg</th>\n",
       "      <th>IsFromInternet</th>\n",
       "      <th>IsFromVista</th>\n",
       "      <th>TerminalID</th>\n",
       "      <th>InternetOffice</th>\n",
       "    </tr>\n",
       "  </thead>\n",
       "  <tbody>\n",
       "    <tr>\n",
       "      <th>0</th>\n",
       "      <td>2013-01-01</td>\n",
       "      <td>20:25:57</td>\n",
       "      <td>MPT</td>\n",
       "      <td>624d8c3ac0b3a7ca03e3c167e0f48327</td>\n",
       "      <td>DE</td>\n",
       "      <td>TXL</td>\n",
       "      <td>AUH</td>\n",
       "      <td>1</td>\n",
       "      <td>2</td>\n",
       "      <td>TXL</td>\n",
       "      <td>AUH</td>\n",
       "      <td>2013-01-26</td>\n",
       "      <td>D2</td>\n",
       "      <td>NaN</td>\n",
       "      <td>AUH</td>\n",
       "      <td>TXL</td>\n",
       "      <td>2013-02-02</td>\n",
       "      <td>D2</td>\n",
       "      <td>NaN</td>\n",
       "      <td>NaN</td>\n",
       "      <td>NaN</td>\n",
       "      <td>NaN</td>\n",
       "      <td>NaN</td>\n",
       "      <td>NaN</td>\n",
       "      <td>NaN</td>\n",
       "      <td>NaN</td>\n",
       "      <td>NaN</td>\n",
       "      <td>NaN</td>\n",
       "      <td>NaN</td>\n",
       "      <td>NaN</td>\n",
       "      <td>NaN</td>\n",
       "      <td>NaN</td>\n",
       "      <td>NaN</td>\n",
       "      <td>NaN</td>\n",
       "      <td>NaN</td>\n",
       "      <td>NaN</td>\n",
       "      <td>NaN</td>\n",
       "      <td>NaN</td>\n",
       "      <td>NaN</td>\n",
       "      <td>1ASIWS</td>\n",
       "      <td>0</td>\n",
       "      <td>0</td>\n",
       "      <td>0</td>\n",
       "      <td>d41d8cd98f00b204e9800998ecf8427e</td>\n",
       "      <td>FRA</td>\n",
       "    </tr>\n",
       "    <tr>\n",
       "      <th>1</th>\n",
       "      <td>2013-01-01</td>\n",
       "      <td>10:15:33</td>\n",
       "      <td>MPT</td>\n",
       "      <td>b0af35b31588dc4ab06d5cf2986e8e02</td>\n",
       "      <td>MD</td>\n",
       "      <td>ATH</td>\n",
       "      <td>MIL</td>\n",
       "      <td>0</td>\n",
       "      <td>1</td>\n",
       "      <td>ATH</td>\n",
       "      <td>MIL</td>\n",
       "      <td>2013-01-04</td>\n",
       "      <td>NaN</td>\n",
       "      <td>NaN</td>\n",
       "      <td>NaN</td>\n",
       "      <td>NaN</td>\n",
       "      <td>NaN</td>\n",
       "      <td>NaN</td>\n",
       "      <td>NaN</td>\n",
       "      <td>NaN</td>\n",
       "      <td>NaN</td>\n",
       "      <td>NaN</td>\n",
       "      <td>NaN</td>\n",
       "      <td>NaN</td>\n",
       "      <td>NaN</td>\n",
       "      <td>NaN</td>\n",
       "      <td>NaN</td>\n",
       "      <td>NaN</td>\n",
       "      <td>NaN</td>\n",
       "      <td>NaN</td>\n",
       "      <td>NaN</td>\n",
       "      <td>NaN</td>\n",
       "      <td>NaN</td>\n",
       "      <td>NaN</td>\n",
       "      <td>NaN</td>\n",
       "      <td>NaN</td>\n",
       "      <td>NaN</td>\n",
       "      <td>NaN</td>\n",
       "      <td>NaN</td>\n",
       "      <td>1ASIWS</td>\n",
       "      <td>0</td>\n",
       "      <td>0</td>\n",
       "      <td>0</td>\n",
       "      <td>d41d8cd98f00b204e9800998ecf8427e</td>\n",
       "      <td>KIV</td>\n",
       "    </tr>\n",
       "  </tbody>\n",
       "</table>\n",
       "</div>"
      ],
      "text/plain": [
       "         Date      Time TxnCode                          OfficeID Country  \\\n",
       "0  2013-01-01  20:25:57     MPT  624d8c3ac0b3a7ca03e3c167e0f48327      DE   \n",
       "1  2013-01-01  10:15:33     MPT  b0af35b31588dc4ab06d5cf2986e8e02      MD   \n",
       "\n",
       "  Origin Destination  RoundTrip  NbSegments Seg1Departure Seg1Arrival  \\\n",
       "0    TXL         AUH          1           2           TXL         AUH   \n",
       "1    ATH         MIL          0           1           ATH         MIL   \n",
       "\n",
       "     Seg1Date Seg1Carrier Seg1BookingCode Seg2Departure Seg2Arrival  \\\n",
       "0  2013-01-26          D2             NaN           AUH         TXL   \n",
       "1  2013-01-04         NaN             NaN           NaN         NaN   \n",
       "\n",
       "     Seg2Date Seg2Carrier Seg2BookingCode Seg3Departure Seg3Arrival Seg3Date  \\\n",
       "0  2013-02-02          D2             NaN           NaN         NaN      NaN   \n",
       "1         NaN         NaN             NaN           NaN         NaN      NaN   \n",
       "\n",
       "  Seg3Carrier Seg3BookingCode Seg4Departure Seg4Arrival Seg4Date Seg4Carrier  \\\n",
       "0         NaN             NaN           NaN         NaN      NaN         NaN   \n",
       "1         NaN             NaN           NaN         NaN      NaN         NaN   \n",
       "\n",
       "  Seg4BookingCode Seg5Departure Seg5Arrival Seg5Date Seg5Carrier  \\\n",
       "0             NaN           NaN         NaN      NaN         NaN   \n",
       "1             NaN           NaN         NaN      NaN         NaN   \n",
       "\n",
       "  Seg5BookingCode Seg6Departure Seg6Arrival Seg6Date Seg6Carrier  \\\n",
       "0             NaN           NaN         NaN      NaN         NaN   \n",
       "1             NaN           NaN         NaN      NaN         NaN   \n",
       "\n",
       "  Seg6BookingCode    From  IsPublishedForNeg  IsFromInternet  IsFromVista  \\\n",
       "0             NaN  1ASIWS                  0               0            0   \n",
       "1             NaN  1ASIWS                  0               0            0   \n",
       "\n",
       "                         TerminalID InternetOffice  \n",
       "0  d41d8cd98f00b204e9800998ecf8427e            FRA  \n",
       "1  d41d8cd98f00b204e9800998ecf8427e            KIV  "
      ]
     },
     "execution_count": 111,
     "metadata": {},
     "output_type": "execute_result"
    }
   ],
   "source": [
    "searches.head(2)"
   ]
  },
  {
   "cell_type": "code",
   "execution_count": 112,
   "metadata": {
    "scrolled": true
   },
   "outputs": [
    {
     "data": {
      "text/html": [
       "<div>\n",
       "<style scoped>\n",
       "    .dataframe tbody tr th:only-of-type {\n",
       "        vertical-align: middle;\n",
       "    }\n",
       "\n",
       "    .dataframe tbody tr th {\n",
       "        vertical-align: top;\n",
       "    }\n",
       "\n",
       "    .dataframe thead th {\n",
       "        text-align: right;\n",
       "    }\n",
       "</style>\n",
       "<table border=\"1\" class=\"dataframe\">\n",
       "  <thead>\n",
       "    <tr style=\"text-align: right;\">\n",
       "      <th></th>\n",
       "      <th>act_date</th>\n",
       "      <th>source</th>\n",
       "      <th>pos_ctry</th>\n",
       "      <th>pos_iata</th>\n",
       "      <th>pos_oid</th>\n",
       "      <th>rloc</th>\n",
       "      <th>cre_date</th>\n",
       "      <th>duration</th>\n",
       "      <th>distance</th>\n",
       "      <th>dep_port</th>\n",
       "      <th>dep_city</th>\n",
       "      <th>dep_ctry</th>\n",
       "      <th>arr_port</th>\n",
       "      <th>arr_city</th>\n",
       "      <th>arr_ctry</th>\n",
       "      <th>lst_port</th>\n",
       "      <th>lst_city</th>\n",
       "      <th>lst_ctry</th>\n",
       "      <th>brd_port</th>\n",
       "      <th>brd_city</th>\n",
       "      <th>brd_ctry</th>\n",
       "      <th>off_port</th>\n",
       "      <th>off_city</th>\n",
       "      <th>off_ctry</th>\n",
       "      <th>mkt_port</th>\n",
       "      <th>mkt_city</th>\n",
       "      <th>mkt_ctry</th>\n",
       "      <th>intl</th>\n",
       "      <th>route</th>\n",
       "      <th>carrier</th>\n",
       "      <th>bkg_class</th>\n",
       "      <th>cab_class</th>\n",
       "      <th>brd_time</th>\n",
       "      <th>off_time</th>\n",
       "      <th>pax</th>\n",
       "      <th>year</th>\n",
       "      <th>month</th>\n",
       "      <th>oid</th>\n",
       "    </tr>\n",
       "  </thead>\n",
       "  <tbody>\n",
       "    <tr>\n",
       "      <th>0</th>\n",
       "      <td>2013-03-05 00:00:00</td>\n",
       "      <td>1A</td>\n",
       "      <td>DE</td>\n",
       "      <td>a68dd7ae953c8acfb187a1af2dcbe123</td>\n",
       "      <td>1a11ae49fcbf545fd2afc1a24d88d2b7</td>\n",
       "      <td>ea65900e72d71f4626378e2ebd298267</td>\n",
       "      <td>2013-02-22 00:00:00</td>\n",
       "      <td>1708</td>\n",
       "      <td>0</td>\n",
       "      <td>ZRH</td>\n",
       "      <td>ZRH</td>\n",
       "      <td>CH</td>\n",
       "      <td>LHR</td>\n",
       "      <td>LON</td>\n",
       "      <td>GB</td>\n",
       "      <td>ZRH</td>\n",
       "      <td>ZRH</td>\n",
       "      <td>CH</td>\n",
       "      <td>LHR</td>\n",
       "      <td>LON</td>\n",
       "      <td>GB</td>\n",
       "      <td>ZRH</td>\n",
       "      <td>ZRH</td>\n",
       "      <td>CH</td>\n",
       "      <td>LHRZRH</td>\n",
       "      <td>LONZRH</td>\n",
       "      <td>CHGB</td>\n",
       "      <td>1</td>\n",
       "      <td>LHRZRH</td>\n",
       "      <td>VI</td>\n",
       "      <td>T</td>\n",
       "      <td>Y</td>\n",
       "      <td>2013-03-07 08:50:00</td>\n",
       "      <td>2013-03-07 11:33:37</td>\n",
       "      <td>-1</td>\n",
       "      <td>2013</td>\n",
       "      <td>3</td>\n",
       "      <td>NULL</td>\n",
       "    </tr>\n",
       "    <tr>\n",
       "      <th>1</th>\n",
       "      <td>2013-03-26 00:00:00</td>\n",
       "      <td>1A</td>\n",
       "      <td>US</td>\n",
       "      <td>e612b9eeeee6f17f42d9b0d3b79e75ca</td>\n",
       "      <td>7437560d8f276d6d05eeb806d9e7edee</td>\n",
       "      <td>737295a86982c941f1c2da9a46a14043</td>\n",
       "      <td>2013-03-26 00:00:00</td>\n",
       "      <td>135270</td>\n",
       "      <td>0</td>\n",
       "      <td>SAL</td>\n",
       "      <td>SAL</td>\n",
       "      <td>SV</td>\n",
       "      <td>CLT</td>\n",
       "      <td>CLT</td>\n",
       "      <td>US</td>\n",
       "      <td>SAL</td>\n",
       "      <td>SAL</td>\n",
       "      <td>SV</td>\n",
       "      <td>SAL</td>\n",
       "      <td>SAL</td>\n",
       "      <td>SV</td>\n",
       "      <td>CLT</td>\n",
       "      <td>CLT</td>\n",
       "      <td>US</td>\n",
       "      <td>CLTSAL</td>\n",
       "      <td>CLTSAL</td>\n",
       "      <td>SVUS</td>\n",
       "      <td>1</td>\n",
       "      <td>SALATLCLT</td>\n",
       "      <td>NV</td>\n",
       "      <td>L</td>\n",
       "      <td>Y</td>\n",
       "      <td>2013-04-12 13:04:00</td>\n",
       "      <td>2013-04-12 22:05:40</td>\n",
       "      <td>1</td>\n",
       "      <td>2013</td>\n",
       "      <td>3</td>\n",
       "      <td>NULL</td>\n",
       "    </tr>\n",
       "  </tbody>\n",
       "</table>\n",
       "</div>"
      ],
      "text/plain": [
       "   act_date             source  pos_ctry                          pos_iata  \\\n",
       "0  2013-03-05 00:00:00  1A      DE        a68dd7ae953c8acfb187a1af2dcbe123   \n",
       "1  2013-03-26 00:00:00  1A      US        e612b9eeeee6f17f42d9b0d3b79e75ca   \n",
       "\n",
       "                          pos_oid                      rloc            \\\n",
       "0  1a11ae49fcbf545fd2afc1a24d88d2b7  ea65900e72d71f4626378e2ebd298267   \n",
       "1  7437560d8f276d6d05eeb806d9e7edee  737295a86982c941f1c2da9a46a14043   \n",
       "\n",
       "   cre_date             duration  distance  dep_port  dep_city  dep_ctry  \\\n",
       "0  2013-02-22 00:00:00      1708         0  ZRH       ZRH       CH         \n",
       "1  2013-03-26 00:00:00    135270         0  SAL       SAL       SV         \n",
       "\n",
       "   arr_port  arr_city  arr_ctry  lst_port  lst_city  lst_ctry  brd_port  \\\n",
       "0  LHR       LON       GB        ZRH       ZRH       CH        LHR        \n",
       "1  CLT       CLT       US        SAL       SAL       SV        SAL        \n",
       "\n",
       "   brd_city  brd_ctry  off_port  off_city  off_ctry  mkt_port  mkt_city  \\\n",
       "0  LON       GB        ZRH       ZRH       CH        LHRZRH    LONZRH     \n",
       "1  SAL       SV        CLT       CLT       US        CLTSAL    CLTSAL     \n",
       "\n",
       "   mkt_ctry  intl  route           carrier  bkg_class  cab_class  \\\n",
       "0  CHGB         1  LHRZRH               VI  T          Y           \n",
       "1  SVUS         1  SALATLCLT            NV  L          Y           \n",
       "\n",
       "   brd_time             off_time             pax  year  month  oid        \n",
       "0  2013-03-07 08:50:00  2013-03-07 11:33:37   -1  2013      3  NULL       \n",
       "1  2013-04-12 13:04:00  2013-04-12 22:05:40    1  2013      3  NULL       "
      ]
     },
     "execution_count": 112,
     "metadata": {},
     "output_type": "execute_result"
    }
   ],
   "source": [
    "bookings.head(2)"
   ]
  },
  {
   "cell_type": "code",
   "execution_count": 113,
   "metadata": {},
   "outputs": [
    {
     "data": {
      "text/plain": [
       "0"
      ]
     },
     "execution_count": 113,
     "metadata": {},
     "output_type": "execute_result"
    }
   ],
   "source": [
    "(searches['Origin'] != searches['Seg1Departure']).sum() # para verificar que son lo mimso"
   ]
  },
  {
   "cell_type": "code",
   "execution_count": 114,
   "metadata": {
    "scrolled": true
   },
   "outputs": [
    {
     "data": {
      "text/plain": [
       "act_date               0\n",
       "source                 0\n",
       "pos_ctry               0\n",
       "pos_iata               0\n",
       "pos_oid                0\n",
       "rloc                   0\n",
       "cre_date               0\n",
       "duration               0\n",
       "distance               0\n",
       "dep_port               0\n",
       "dep_city               0\n",
       "dep_ctry               0\n",
       "arr_port               0\n",
       "arr_city               0\n",
       "arr_ctry               0\n",
       "lst_port               0\n",
       "lst_city               0\n",
       "lst_ctry               0\n",
       "brd_port               0\n",
       "brd_city               0\n",
       "brd_ctry               0\n",
       "off_port               0\n",
       "off_city               0\n",
       "off_ctry               0\n",
       "mkt_port               0\n",
       "mkt_city               0\n",
       "mkt_ctry               0\n",
       "intl                   0\n",
       "route                  0\n",
       "carrier                0\n",
       "bkg_class              0\n",
       "cab_class              0\n",
       "brd_time               0\n",
       "off_time               0\n",
       "pax                    0\n",
       "year                   0\n",
       "month                  0\n",
       "oid                    0\n",
       "dtype: int64"
      ]
     },
     "execution_count": 114,
     "metadata": {},
     "output_type": "execute_result"
    }
   ],
   "source": [
    "bookings.isna().sum()"
   ]
  },
  {
   "cell_type": "code",
   "execution_count": 115,
   "metadata": {
    "scrolled": true
   },
   "outputs": [
    {
     "data": {
      "text/plain": [
       "Date                      0\n",
       "Time                      0\n",
       "TxnCode                   0\n",
       "OfficeID                  0\n",
       "Country                 122\n",
       "Origin                    0\n",
       "Destination               0\n",
       "RoundTrip                 0\n",
       "NbSegments                0\n",
       "Seg1Departure             0\n",
       "Seg1Arrival               0\n",
       "Seg1Date               2885\n",
       "Seg1Carrier          624619\n",
       "Seg1BookingCode      897850\n",
       "Seg2Departure        290851\n",
       "Seg2Arrival          290851\n",
       "Seg2Date             294285\n",
       "Seg2Carrier          739321\n",
       "Seg2BookingCode      912249\n",
       "Seg3Departure        948090\n",
       "Seg3Arrival          948090\n",
       "Seg3Date             948400\n",
       "Seg3Carrier          950617\n",
       "Seg3BookingCode      952703\n",
       "Seg4Departure        957956\n",
       "Seg4Arrival          957956\n",
       "Seg4Date             958231\n",
       "Seg4Carrier          958304\n",
       "Seg4BookingCode      958823\n",
       "Seg5Departure        991993\n",
       "Seg5Arrival          991993\n",
       "Seg5Date             992064\n",
       "Seg5Carrier          992035\n",
       "Seg5BookingCode      992160\n",
       "Seg6Departure        995209\n",
       "Seg6Arrival          995209\n",
       "Seg6Date             995262\n",
       "Seg6Carrier          995214\n",
       "Seg6BookingCode      995305\n",
       "From                  16624\n",
       "IsPublishedForNeg         0\n",
       "IsFromInternet            0\n",
       "IsFromVista               0\n",
       "TerminalID                0\n",
       "InternetOffice            0\n",
       "dtype: int64"
      ]
     },
     "execution_count": 115,
     "metadata": {},
     "output_type": "execute_result"
    }
   ],
   "source": [
    "searches.isna().sum()"
   ]
  },
  {
   "cell_type": "markdown",
   "metadata": {},
   "source": [
    "No se si me cuadra del todo usar estas columnas \n",
    "Parece que cada search podria terminar en varias bookings, hasta 6\n",
    "Usamos `cre_date` en lugar de `act_date` porque `cre_date` es anterior, y la fecha de creacion de la reserva debe ser la anterior."
   ]
  },
  {
   "cell_type": "code",
   "execution_count": 61,
   "metadata": {},
   "outputs": [
    {
     "data": {
      "text/plain": [
       "636657"
      ]
     },
     "execution_count": 61,
     "metadata": {},
     "output_type": "execute_result"
    }
   ],
   "source": [
    "searches.duplicated().sum()"
   ]
  },
  {
   "cell_type": "markdown",
   "metadata": {},
   "source": [
    "Cuando hago esa ultima por chunks los numeros cambian un poco"
   ]
  },
  {
   "cell_type": "code",
   "execution_count": 117,
   "metadata": {},
   "outputs": [
    {
     "data": {
      "text/html": [
       "<div>\n",
       "<style scoped>\n",
       "    .dataframe tbody tr th:only-of-type {\n",
       "        vertical-align: middle;\n",
       "    }\n",
       "\n",
       "    .dataframe tbody tr th {\n",
       "        vertical-align: top;\n",
       "    }\n",
       "\n",
       "    .dataframe thead th {\n",
       "        text-align: right;\n",
       "    }\n",
       "</style>\n",
       "<table border=\"1\" class=\"dataframe\">\n",
       "  <thead>\n",
       "    <tr style=\"text-align: right;\">\n",
       "      <th></th>\n",
       "      <th>Date</th>\n",
       "      <th>Time</th>\n",
       "      <th>TxnCode</th>\n",
       "      <th>OfficeID</th>\n",
       "      <th>Country</th>\n",
       "      <th>Origin</th>\n",
       "      <th>Destination</th>\n",
       "      <th>RoundTrip</th>\n",
       "      <th>NbSegments</th>\n",
       "      <th>Seg1Departure</th>\n",
       "      <th>Seg1Arrival</th>\n",
       "      <th>Seg1Date</th>\n",
       "      <th>Seg1Carrier</th>\n",
       "      <th>Seg1BookingCode</th>\n",
       "      <th>Seg2Departure</th>\n",
       "      <th>Seg2Arrival</th>\n",
       "      <th>Seg2Date</th>\n",
       "      <th>Seg2Carrier</th>\n",
       "      <th>Seg2BookingCode</th>\n",
       "      <th>Seg3Departure</th>\n",
       "      <th>Seg3Arrival</th>\n",
       "      <th>Seg3Date</th>\n",
       "      <th>Seg3Carrier</th>\n",
       "      <th>Seg3BookingCode</th>\n",
       "      <th>Seg4Departure</th>\n",
       "      <th>Seg4Arrival</th>\n",
       "      <th>Seg4Date</th>\n",
       "      <th>Seg4Carrier</th>\n",
       "      <th>Seg4BookingCode</th>\n",
       "      <th>Seg5Departure</th>\n",
       "      <th>Seg5Arrival</th>\n",
       "      <th>Seg5Date</th>\n",
       "      <th>Seg5Carrier</th>\n",
       "      <th>Seg5BookingCode</th>\n",
       "      <th>Seg6Departure</th>\n",
       "      <th>Seg6Arrival</th>\n",
       "      <th>Seg6Date</th>\n",
       "      <th>Seg6Carrier</th>\n",
       "      <th>Seg6BookingCode</th>\n",
       "      <th>From</th>\n",
       "      <th>IsPublishedForNeg</th>\n",
       "      <th>IsFromInternet</th>\n",
       "      <th>IsFromVista</th>\n",
       "      <th>TerminalID</th>\n",
       "      <th>InternetOffice</th>\n",
       "    </tr>\n",
       "  </thead>\n",
       "  <tbody>\n",
       "    <tr>\n",
       "      <th>999995</th>\n",
       "      <td>2013-10-09</td>\n",
       "      <td>06:33:40</td>\n",
       "      <td>FXA</td>\n",
       "      <td>0ae4fec5a2d9c17fb33b32343ef17ef2</td>\n",
       "      <td>AU</td>\n",
       "      <td>ADL</td>\n",
       "      <td>MEL</td>\n",
       "      <td>0</td>\n",
       "      <td>2</td>\n",
       "      <td>ADL</td>\n",
       "      <td>MEL</td>\n",
       "      <td>2013-10-27</td>\n",
       "      <td>GK</td>\n",
       "      <td>J</td>\n",
       "      <td>MEL</td>\n",
       "      <td>CBR</td>\n",
       "      <td>2013-10-27</td>\n",
       "      <td>GK</td>\n",
       "      <td>J</td>\n",
       "      <td>NaN</td>\n",
       "      <td>NaN</td>\n",
       "      <td>NaN</td>\n",
       "      <td>NaN</td>\n",
       "      <td>NaN</td>\n",
       "      <td>NaN</td>\n",
       "      <td>NaN</td>\n",
       "      <td>NaN</td>\n",
       "      <td>NaN</td>\n",
       "      <td>NaN</td>\n",
       "      <td>NaN</td>\n",
       "      <td>NaN</td>\n",
       "      <td>NaN</td>\n",
       "      <td>NaN</td>\n",
       "      <td>NaN</td>\n",
       "      <td>NaN</td>\n",
       "      <td>NaN</td>\n",
       "      <td>NaN</td>\n",
       "      <td>NaN</td>\n",
       "      <td>NaN</td>\n",
       "      <td>1ASI</td>\n",
       "      <td>0</td>\n",
       "      <td>0</td>\n",
       "      <td>0</td>\n",
       "      <td>537c4fd32d4068dd358b24fbd82bc7e0</td>\n",
       "      <td>0</td>\n",
       "    </tr>\n",
       "    <tr>\n",
       "      <th>999996</th>\n",
       "      <td>2013-10-09</td>\n",
       "      <td>14:44:05</td>\n",
       "      <td>MPT</td>\n",
       "      <td>7d8850b517b997d2261756d0c42e412e</td>\n",
       "      <td>TR</td>\n",
       "      <td>IST</td>\n",
       "      <td>LAS</td>\n",
       "      <td>1</td>\n",
       "      <td>2</td>\n",
       "      <td>IST</td>\n",
       "      <td>LAS</td>\n",
       "      <td>2013-10-10</td>\n",
       "      <td>NaN</td>\n",
       "      <td>NaN</td>\n",
       "      <td>LAS</td>\n",
       "      <td>IST</td>\n",
       "      <td>2013-10-15</td>\n",
       "      <td>NaN</td>\n",
       "      <td>NaN</td>\n",
       "      <td>NaN</td>\n",
       "      <td>NaN</td>\n",
       "      <td>NaN</td>\n",
       "      <td>NaN</td>\n",
       "      <td>NaN</td>\n",
       "      <td>NaN</td>\n",
       "      <td>NaN</td>\n",
       "      <td>NaN</td>\n",
       "      <td>NaN</td>\n",
       "      <td>NaN</td>\n",
       "      <td>NaN</td>\n",
       "      <td>NaN</td>\n",
       "      <td>NaN</td>\n",
       "      <td>NaN</td>\n",
       "      <td>NaN</td>\n",
       "      <td>NaN</td>\n",
       "      <td>NaN</td>\n",
       "      <td>NaN</td>\n",
       "      <td>NaN</td>\n",
       "      <td>NaN</td>\n",
       "      <td>1ASI</td>\n",
       "      <td>0</td>\n",
       "      <td>0</td>\n",
       "      <td>0</td>\n",
       "      <td>d41d8cd98f00b204e9800998ecf8427e</td>\n",
       "      <td>0</td>\n",
       "    </tr>\n",
       "    <tr>\n",
       "      <th>999997</th>\n",
       "      <td>2013-10-09</td>\n",
       "      <td>05:39:47</td>\n",
       "      <td>MPT</td>\n",
       "      <td>4caf98fe1b209342883e5bbf5a81cd1f</td>\n",
       "      <td>DK</td>\n",
       "      <td>CPH</td>\n",
       "      <td>AGP</td>\n",
       "      <td>0</td>\n",
       "      <td>1</td>\n",
       "      <td>CPH</td>\n",
       "      <td>AGP</td>\n",
       "      <td>2014-01-19</td>\n",
       "      <td>NaN</td>\n",
       "      <td>NaN</td>\n",
       "      <td>NaN</td>\n",
       "      <td>NaN</td>\n",
       "      <td>NaN</td>\n",
       "      <td>NaN</td>\n",
       "      <td>NaN</td>\n",
       "      <td>NaN</td>\n",
       "      <td>NaN</td>\n",
       "      <td>NaN</td>\n",
       "      <td>NaN</td>\n",
       "      <td>NaN</td>\n",
       "      <td>NaN</td>\n",
       "      <td>NaN</td>\n",
       "      <td>NaN</td>\n",
       "      <td>NaN</td>\n",
       "      <td>NaN</td>\n",
       "      <td>NaN</td>\n",
       "      <td>NaN</td>\n",
       "      <td>NaN</td>\n",
       "      <td>NaN</td>\n",
       "      <td>NaN</td>\n",
       "      <td>NaN</td>\n",
       "      <td>NaN</td>\n",
       "      <td>NaN</td>\n",
       "      <td>NaN</td>\n",
       "      <td>NaN</td>\n",
       "      <td>1ASIWS</td>\n",
       "      <td>0</td>\n",
       "      <td>0</td>\n",
       "      <td>0</td>\n",
       "      <td>d41d8cd98f00b204e9800998ecf8427e</td>\n",
       "      <td>0</td>\n",
       "    </tr>\n",
       "    <tr>\n",
       "      <th>999998</th>\n",
       "      <td>2013-10-09</td>\n",
       "      <td>08:15:30</td>\n",
       "      <td>MPT</td>\n",
       "      <td>eee76fcf858b70383b482882bcb36880</td>\n",
       "      <td>GB</td>\n",
       "      <td>LON</td>\n",
       "      <td>BJS</td>\n",
       "      <td>1</td>\n",
       "      <td>2</td>\n",
       "      <td>LON</td>\n",
       "      <td>BJS</td>\n",
       "      <td>2014-05-16</td>\n",
       "      <td>NaN</td>\n",
       "      <td>NaN</td>\n",
       "      <td>BJS</td>\n",
       "      <td>LON</td>\n",
       "      <td>2014-05-31</td>\n",
       "      <td>NaN</td>\n",
       "      <td>NaN</td>\n",
       "      <td>NaN</td>\n",
       "      <td>NaN</td>\n",
       "      <td>NaN</td>\n",
       "      <td>NaN</td>\n",
       "      <td>NaN</td>\n",
       "      <td>NaN</td>\n",
       "      <td>NaN</td>\n",
       "      <td>NaN</td>\n",
       "      <td>NaN</td>\n",
       "      <td>NaN</td>\n",
       "      <td>NaN</td>\n",
       "      <td>NaN</td>\n",
       "      <td>NaN</td>\n",
       "      <td>NaN</td>\n",
       "      <td>NaN</td>\n",
       "      <td>NaN</td>\n",
       "      <td>NaN</td>\n",
       "      <td>NaN</td>\n",
       "      <td>NaN</td>\n",
       "      <td>NaN</td>\n",
       "      <td>1ASIWS</td>\n",
       "      <td>0</td>\n",
       "      <td>0</td>\n",
       "      <td>0</td>\n",
       "      <td>d41d8cd98f00b204e9800998ecf8427e</td>\n",
       "      <td>0</td>\n",
       "    </tr>\n",
       "    <tr>\n",
       "      <th>999999</th>\n",
       "      <td>2013-10-09</td>\n",
       "      <td>15:24:04</td>\n",
       "      <td>MPT</td>\n",
       "      <td>8a920c89312c383c860f9faf2e693b84</td>\n",
       "      <td>IT</td>\n",
       "      <td>STO</td>\n",
       "      <td>PAR</td>\n",
       "      <td>1</td>\n",
       "      <td>2</td>\n",
       "      <td>STO</td>\n",
       "      <td>PAR</td>\n",
       "      <td>2013-10-17</td>\n",
       "      <td>NaN</td>\n",
       "      <td>NaN</td>\n",
       "      <td>PAR</td>\n",
       "      <td>STO</td>\n",
       "      <td>2013-10-21</td>\n",
       "      <td>NaN</td>\n",
       "      <td>NaN</td>\n",
       "      <td>NaN</td>\n",
       "      <td>NaN</td>\n",
       "      <td>NaN</td>\n",
       "      <td>NaN</td>\n",
       "      <td>NaN</td>\n",
       "      <td>NaN</td>\n",
       "      <td>NaN</td>\n",
       "      <td>NaN</td>\n",
       "      <td>NaN</td>\n",
       "      <td>NaN</td>\n",
       "      <td>NaN</td>\n",
       "      <td>NaN</td>\n",
       "      <td>NaN</td>\n",
       "      <td>NaN</td>\n",
       "      <td>NaN</td>\n",
       "      <td>NaN</td>\n",
       "      <td>NaN</td>\n",
       "      <td>NaN</td>\n",
       "      <td>NaN</td>\n",
       "      <td>NaN</td>\n",
       "      <td>1ASIWS</td>\n",
       "      <td>0</td>\n",
       "      <td>0</td>\n",
       "      <td>0</td>\n",
       "      <td>d41d8cd98f00b204e9800998ecf8427e</td>\n",
       "      <td>0</td>\n",
       "    </tr>\n",
       "  </tbody>\n",
       "</table>\n",
       "</div>"
      ],
      "text/plain": [
       "              Date      Time TxnCode                          OfficeID  \\\n",
       "999995  2013-10-09  06:33:40     FXA  0ae4fec5a2d9c17fb33b32343ef17ef2   \n",
       "999996  2013-10-09  14:44:05     MPT  7d8850b517b997d2261756d0c42e412e   \n",
       "999997  2013-10-09  05:39:47     MPT  4caf98fe1b209342883e5bbf5a81cd1f   \n",
       "999998  2013-10-09  08:15:30     MPT  eee76fcf858b70383b482882bcb36880   \n",
       "999999  2013-10-09  15:24:04     MPT  8a920c89312c383c860f9faf2e693b84   \n",
       "\n",
       "       Country Origin Destination  RoundTrip  NbSegments Seg1Departure  \\\n",
       "999995      AU    ADL         MEL          0           2           ADL   \n",
       "999996      TR    IST         LAS          1           2           IST   \n",
       "999997      DK    CPH         AGP          0           1           CPH   \n",
       "999998      GB    LON         BJS          1           2           LON   \n",
       "999999      IT    STO         PAR          1           2           STO   \n",
       "\n",
       "       Seg1Arrival    Seg1Date Seg1Carrier Seg1BookingCode Seg2Departure  \\\n",
       "999995         MEL  2013-10-27          GK               J           MEL   \n",
       "999996         LAS  2013-10-10         NaN             NaN           LAS   \n",
       "999997         AGP  2014-01-19         NaN             NaN           NaN   \n",
       "999998         BJS  2014-05-16         NaN             NaN           BJS   \n",
       "999999         PAR  2013-10-17         NaN             NaN           PAR   \n",
       "\n",
       "       Seg2Arrival    Seg2Date Seg2Carrier Seg2BookingCode Seg3Departure  \\\n",
       "999995         CBR  2013-10-27          GK               J           NaN   \n",
       "999996         IST  2013-10-15         NaN             NaN           NaN   \n",
       "999997         NaN         NaN         NaN             NaN           NaN   \n",
       "999998         LON  2014-05-31         NaN             NaN           NaN   \n",
       "999999         STO  2013-10-21         NaN             NaN           NaN   \n",
       "\n",
       "       Seg3Arrival Seg3Date Seg3Carrier Seg3BookingCode Seg4Departure  \\\n",
       "999995         NaN      NaN         NaN             NaN           NaN   \n",
       "999996         NaN      NaN         NaN             NaN           NaN   \n",
       "999997         NaN      NaN         NaN             NaN           NaN   \n",
       "999998         NaN      NaN         NaN             NaN           NaN   \n",
       "999999         NaN      NaN         NaN             NaN           NaN   \n",
       "\n",
       "       Seg4Arrival Seg4Date Seg4Carrier Seg4BookingCode Seg5Departure  \\\n",
       "999995         NaN      NaN         NaN             NaN           NaN   \n",
       "999996         NaN      NaN         NaN             NaN           NaN   \n",
       "999997         NaN      NaN         NaN             NaN           NaN   \n",
       "999998         NaN      NaN         NaN             NaN           NaN   \n",
       "999999         NaN      NaN         NaN             NaN           NaN   \n",
       "\n",
       "       Seg5Arrival Seg5Date Seg5Carrier Seg5BookingCode Seg6Departure  \\\n",
       "999995         NaN      NaN         NaN             NaN           NaN   \n",
       "999996         NaN      NaN         NaN             NaN           NaN   \n",
       "999997         NaN      NaN         NaN             NaN           NaN   \n",
       "999998         NaN      NaN         NaN             NaN           NaN   \n",
       "999999         NaN      NaN         NaN             NaN           NaN   \n",
       "\n",
       "       Seg6Arrival Seg6Date Seg6Carrier Seg6BookingCode    From  \\\n",
       "999995         NaN      NaN         NaN             NaN    1ASI   \n",
       "999996         NaN      NaN         NaN             NaN    1ASI   \n",
       "999997         NaN      NaN         NaN             NaN  1ASIWS   \n",
       "999998         NaN      NaN         NaN             NaN  1ASIWS   \n",
       "999999         NaN      NaN         NaN             NaN  1ASIWS   \n",
       "\n",
       "        IsPublishedForNeg  IsFromInternet  IsFromVista  \\\n",
       "999995                  0               0            0   \n",
       "999996                  0               0            0   \n",
       "999997                  0               0            0   \n",
       "999998                  0               0            0   \n",
       "999999                  0               0            0   \n",
       "\n",
       "                              TerminalID InternetOffice  \n",
       "999995  537c4fd32d4068dd358b24fbd82bc7e0              0  \n",
       "999996  d41d8cd98f00b204e9800998ecf8427e              0  \n",
       "999997  d41d8cd98f00b204e9800998ecf8427e              0  \n",
       "999998  d41d8cd98f00b204e9800998ecf8427e              0  \n",
       "999999  d41d8cd98f00b204e9800998ecf8427e              0  "
      ]
     },
     "execution_count": 117,
     "metadata": {},
     "output_type": "execute_result"
    }
   ],
   "source": [
    "searches.tail()"
   ]
  },
  {
   "cell_type": "code",
   "execution_count": 118,
   "metadata": {},
   "outputs": [
    {
     "data": {
      "text/plain": [
       "0"
      ]
     },
     "execution_count": 118,
     "metadata": {},
     "output_type": "execute_result"
    }
   ],
   "source": [
    "bookings.duplicated().sum()"
   ]
  },
  {
   "cell_type": "markdown",
   "metadata": {},
   "source": [
    "Deberiamos eliminar las busquedas repetidas, no tiene sentido mantenerlas "
   ]
  },
  {
   "cell_type": "code",
   "execution_count": 119,
   "metadata": {
    "scrolled": true
   },
   "outputs": [
    {
     "data": {
      "text/plain": [
       "(363343, 45)"
      ]
     },
     "execution_count": 119,
     "metadata": {},
     "output_type": "execute_result"
    }
   ],
   "source": [
    "searches.drop_duplicates(inplace=True)\n",
    "searches.shape"
   ]
  },
  {
   "cell_type": "markdown",
   "metadata": {},
   "source": [
    "Tambien deberiamos eliminarlas en bookings porque cuando cargemos todas las filas igual si que salen duplicadso"
   ]
  },
  {
   "cell_type": "code",
   "execution_count": 120,
   "metadata": {},
   "outputs": [
    {
     "data": {
      "text/plain": [
       "(1000000, 38)"
      ]
     },
     "execution_count": 120,
     "metadata": {},
     "output_type": "execute_result"
    }
   ],
   "source": [
    "bookings.drop_duplicates(inplace=True)\n",
    "bookings.shape"
   ]
  },
  {
   "cell_type": "markdown",
   "metadata": {},
   "source": [
    "Ahora que hemos eliminado las filas duplicadas podemos deshacernos de las columnas que no necesitamos."
   ]
  },
  {
   "cell_type": "markdown",
   "metadata": {},
   "source": [
    "----------------"
   ]
  },
  {
   "cell_type": "markdown",
   "metadata": {},
   "source": [
    "Esto estaba mal, necesitaremos todas las columnas en searches porque tenemos que guardarlas al final"
   ]
  },
  {
   "cell_type": "raw",
   "metadata": {
    "collapsed": true
   },
   "source": [
    "drop_searches = searches.columns.tolist()\n",
    "drop_searches"
   ]
  },
  {
   "cell_type": "raw",
   "metadata": {
    "scrolled": true
   },
   "source": [
    "drop_searches.remove('Date')\n",
    "drop_searches.remove('Seg1Date')\n",
    "drop_searches.remove('Seg1Departure')\n",
    "drop_searches.remove('Seg1Arrival')"
   ]
  },
  {
   "cell_type": "raw",
   "metadata": {},
   "source": [
    "len(drop_searches)"
   ]
  },
  {
   "cell_type": "markdown",
   "metadata": {},
   "source": [
    "Ahora usamos esa lista para eliminar las columnas que no queremos"
   ]
  },
  {
   "cell_type": "raw",
   "metadata": {
    "scrolled": true
   },
   "source": [
    "searches.drop(columns=drop_searches, inplace=True)\n",
    "print(searches.shape)\n",
    "searches.head(2)"
   ]
  },
  {
   "cell_type": "markdown",
   "metadata": {},
   "source": [
    "----------------"
   ]
  },
  {
   "cell_type": "markdown",
   "metadata": {},
   "source": [
    "Ahora eliminemos las columnas que no queremos de bookings. \n",
    "\n",
    "No podria cargar el dataset solo con las columnas que quiero porque podrian salir muchos mas duplicados."
   ]
  },
  {
   "cell_type": "code",
   "execution_count": 121,
   "metadata": {
    "scrolled": true
   },
   "outputs": [
    {
     "data": {
      "text/plain": [
       "['act_date',\n",
       " 'source',\n",
       " 'pos_ctry',\n",
       " 'pos_iata',\n",
       " 'pos_oid',\n",
       " 'rloc',\n",
       " 'cre_date',\n",
       " 'duration',\n",
       " 'distance',\n",
       " 'dep_port',\n",
       " 'dep_city',\n",
       " 'dep_ctry',\n",
       " 'arr_port',\n",
       " 'arr_city',\n",
       " 'arr_ctry',\n",
       " 'lst_port',\n",
       " 'lst_city',\n",
       " 'lst_ctry',\n",
       " 'brd_port',\n",
       " 'brd_city',\n",
       " 'brd_ctry',\n",
       " 'off_port',\n",
       " 'off_city',\n",
       " 'off_ctry',\n",
       " 'mkt_port',\n",
       " 'mkt_city',\n",
       " 'mkt_ctry',\n",
       " 'intl',\n",
       " 'route',\n",
       " 'carrier',\n",
       " 'bkg_class',\n",
       " 'cab_class',\n",
       " 'brd_time',\n",
       " 'off_time',\n",
       " 'pax',\n",
       " 'year',\n",
       " 'month',\n",
       " 'oid']"
      ]
     },
     "execution_count": 121,
     "metadata": {},
     "output_type": "execute_result"
    }
   ],
   "source": [
    "bookings.columns = bookings.columns.str.strip()\n",
    "bookings.columns.tolist()"
   ]
  },
  {
   "cell_type": "code",
   "execution_count": 122,
   "metadata": {
    "scrolled": true
   },
   "outputs": [
    {
     "data": {
      "text/plain": [
       "['act_date',\n",
       " 'source',\n",
       " 'pos_ctry',\n",
       " 'pos_iata',\n",
       " 'pos_oid',\n",
       " 'rloc',\n",
       " 'cre_date',\n",
       " 'duration',\n",
       " 'distance',\n",
       " 'dep_port',\n",
       " 'dep_city',\n",
       " 'dep_ctry',\n",
       " 'arr_port',\n",
       " 'arr_city',\n",
       " 'arr_ctry',\n",
       " 'lst_port',\n",
       " 'lst_city',\n",
       " 'lst_ctry',\n",
       " 'brd_port',\n",
       " 'brd_city',\n",
       " 'brd_ctry',\n",
       " 'off_port',\n",
       " 'off_city',\n",
       " 'off_ctry',\n",
       " 'mkt_port',\n",
       " 'mkt_city',\n",
       " 'mkt_ctry',\n",
       " 'intl',\n",
       " 'route',\n",
       " 'carrier',\n",
       " 'bkg_class',\n",
       " 'cab_class',\n",
       " 'brd_time',\n",
       " 'off_time',\n",
       " 'pax',\n",
       " 'year',\n",
       " 'month',\n",
       " 'oid']"
      ]
     },
     "execution_count": 122,
     "metadata": {},
     "output_type": "execute_result"
    }
   ],
   "source": [
    "drop_bookings = bookings.columns.tolist()\n",
    "drop_bookings"
   ]
  },
  {
   "cell_type": "code",
   "execution_count": 123,
   "metadata": {},
   "outputs": [
    {
     "data": {
      "text/plain": [
       "34"
      ]
     },
     "execution_count": 123,
     "metadata": {},
     "output_type": "execute_result"
    }
   ],
   "source": [
    "for column in ['cre_date', 'dep_port', 'arr_port', 'brd_time']:\n",
    "    drop_bookings.remove(column)\n",
    "len(drop_bookings)"
   ]
  },
  {
   "cell_type": "code",
   "execution_count": 124,
   "metadata": {},
   "outputs": [
    {
     "name": "stdout",
     "output_type": "stream",
     "text": [
      "(1000000, 4)\n"
     ]
    },
    {
     "data": {
      "text/html": [
       "<div>\n",
       "<style scoped>\n",
       "    .dataframe tbody tr th:only-of-type {\n",
       "        vertical-align: middle;\n",
       "    }\n",
       "\n",
       "    .dataframe tbody tr th {\n",
       "        vertical-align: top;\n",
       "    }\n",
       "\n",
       "    .dataframe thead th {\n",
       "        text-align: right;\n",
       "    }\n",
       "</style>\n",
       "<table border=\"1\" class=\"dataframe\">\n",
       "  <thead>\n",
       "    <tr style=\"text-align: right;\">\n",
       "      <th></th>\n",
       "      <th>cre_date</th>\n",
       "      <th>dep_port</th>\n",
       "      <th>arr_port</th>\n",
       "      <th>brd_time</th>\n",
       "    </tr>\n",
       "  </thead>\n",
       "  <tbody>\n",
       "    <tr>\n",
       "      <th>0</th>\n",
       "      <td>2013-02-22 00:00:00</td>\n",
       "      <td>ZRH</td>\n",
       "      <td>LHR</td>\n",
       "      <td>2013-03-07 08:50:00</td>\n",
       "    </tr>\n",
       "    <tr>\n",
       "      <th>1</th>\n",
       "      <td>2013-03-26 00:00:00</td>\n",
       "      <td>SAL</td>\n",
       "      <td>CLT</td>\n",
       "      <td>2013-04-12 13:04:00</td>\n",
       "    </tr>\n",
       "  </tbody>\n",
       "</table>\n",
       "</div>"
      ],
      "text/plain": [
       "              cre_date  dep_port  arr_port             brd_time\n",
       "0  2013-02-22 00:00:00  ZRH       LHR       2013-03-07 08:50:00\n",
       "1  2013-03-26 00:00:00  SAL       CLT       2013-04-12 13:04:00"
      ]
     },
     "execution_count": 124,
     "metadata": {},
     "output_type": "execute_result"
    }
   ],
   "source": [
    "bookings.drop(columns=drop_bookings, inplace=True)\n",
    "print(bookings.shape)\n",
    "bookings.head(2)"
   ]
  },
  {
   "cell_type": "markdown",
   "metadata": {},
   "source": [
    "#### Cleaning columns"
   ]
  },
  {
   "cell_type": "code",
   "execution_count": 125,
   "metadata": {
    "scrolled": true
   },
   "outputs": [
    {
     "data": {
      "text/plain": [
       "['Date',\n",
       " 'Time',\n",
       " 'TxnCode',\n",
       " 'OfficeID',\n",
       " 'Country',\n",
       " 'Origin',\n",
       " 'Destination',\n",
       " 'RoundTrip',\n",
       " 'NbSegments',\n",
       " 'Seg1Departure',\n",
       " 'Seg1Arrival',\n",
       " 'Seg1Date',\n",
       " 'Seg1Carrier',\n",
       " 'Seg1BookingCode',\n",
       " 'Seg2Departure',\n",
       " 'Seg2Arrival',\n",
       " 'Seg2Date',\n",
       " 'Seg2Carrier',\n",
       " 'Seg2BookingCode',\n",
       " 'Seg3Departure',\n",
       " 'Seg3Arrival',\n",
       " 'Seg3Date',\n",
       " 'Seg3Carrier',\n",
       " 'Seg3BookingCode',\n",
       " 'Seg4Departure',\n",
       " 'Seg4Arrival',\n",
       " 'Seg4Date',\n",
       " 'Seg4Carrier',\n",
       " 'Seg4BookingCode',\n",
       " 'Seg5Departure',\n",
       " 'Seg5Arrival',\n",
       " 'Seg5Date',\n",
       " 'Seg5Carrier',\n",
       " 'Seg5BookingCode',\n",
       " 'Seg6Departure',\n",
       " 'Seg6Arrival',\n",
       " 'Seg6Date',\n",
       " 'Seg6Carrier',\n",
       " 'Seg6BookingCode',\n",
       " 'From',\n",
       " 'IsPublishedForNeg',\n",
       " 'IsFromInternet',\n",
       " 'IsFromVista',\n",
       " 'TerminalID',\n",
       " 'InternetOffice']"
      ]
     },
     "execution_count": 125,
     "metadata": {},
     "output_type": "execute_result"
    }
   ],
   "source": [
    "searches.columns.tolist()"
   ]
  },
  {
   "cell_type": "markdown",
   "metadata": {},
   "source": [
    "Limpiaremos las columnas que necesitamos para el merge"
   ]
  },
  {
   "cell_type": "code",
   "execution_count": 128,
   "metadata": {},
   "outputs": [],
   "source": [
    "searches_columns = ['Date', 'Seg1Departure', 'Seg1Arrival', 'Seg1Date']\n",
    "\n",
    "for column in searches_columns:\n",
    "    searches[column] = searches[column].str.strip()\n",
    "\n",
    "    if 'Date' not in column:\n",
    "        searches[column] = searches[column].str.upper()\n",
    "        \n",
    "        cell_length = (searches[column].map(len) != 3).sum()\n",
    "        if cell_length != 0:\n",
    "            print(f'Alert! There are `{column}` values with length different than 3, check it.')"
   ]
  },
  {
   "cell_type": "code",
   "execution_count": 129,
   "metadata": {},
   "outputs": [
    {
     "data": {
      "text/html": [
       "<div>\n",
       "<style scoped>\n",
       "    .dataframe tbody tr th:only-of-type {\n",
       "        vertical-align: middle;\n",
       "    }\n",
       "\n",
       "    .dataframe tbody tr th {\n",
       "        vertical-align: top;\n",
       "    }\n",
       "\n",
       "    .dataframe thead th {\n",
       "        text-align: right;\n",
       "    }\n",
       "</style>\n",
       "<table border=\"1\" class=\"dataframe\">\n",
       "  <thead>\n",
       "    <tr style=\"text-align: right;\">\n",
       "      <th></th>\n",
       "      <th>Date</th>\n",
       "      <th>Time</th>\n",
       "      <th>TxnCode</th>\n",
       "      <th>OfficeID</th>\n",
       "      <th>Country</th>\n",
       "      <th>Origin</th>\n",
       "      <th>Destination</th>\n",
       "      <th>RoundTrip</th>\n",
       "      <th>NbSegments</th>\n",
       "      <th>Seg1Departure</th>\n",
       "      <th>Seg1Arrival</th>\n",
       "      <th>Seg1Date</th>\n",
       "      <th>Seg1Carrier</th>\n",
       "      <th>Seg1BookingCode</th>\n",
       "      <th>Seg2Departure</th>\n",
       "      <th>Seg2Arrival</th>\n",
       "      <th>Seg2Date</th>\n",
       "      <th>Seg2Carrier</th>\n",
       "      <th>Seg2BookingCode</th>\n",
       "      <th>Seg3Departure</th>\n",
       "      <th>Seg3Arrival</th>\n",
       "      <th>Seg3Date</th>\n",
       "      <th>Seg3Carrier</th>\n",
       "      <th>Seg3BookingCode</th>\n",
       "      <th>Seg4Departure</th>\n",
       "      <th>Seg4Arrival</th>\n",
       "      <th>Seg4Date</th>\n",
       "      <th>Seg4Carrier</th>\n",
       "      <th>Seg4BookingCode</th>\n",
       "      <th>Seg5Departure</th>\n",
       "      <th>Seg5Arrival</th>\n",
       "      <th>Seg5Date</th>\n",
       "      <th>Seg5Carrier</th>\n",
       "      <th>Seg5BookingCode</th>\n",
       "      <th>Seg6Departure</th>\n",
       "      <th>Seg6Arrival</th>\n",
       "      <th>Seg6Date</th>\n",
       "      <th>Seg6Carrier</th>\n",
       "      <th>Seg6BookingCode</th>\n",
       "      <th>From</th>\n",
       "      <th>IsPublishedForNeg</th>\n",
       "      <th>IsFromInternet</th>\n",
       "      <th>IsFromVista</th>\n",
       "      <th>TerminalID</th>\n",
       "      <th>InternetOffice</th>\n",
       "    </tr>\n",
       "  </thead>\n",
       "  <tbody>\n",
       "    <tr>\n",
       "      <th>0</th>\n",
       "      <td>2013-01-01</td>\n",
       "      <td>20:25:57</td>\n",
       "      <td>MPT</td>\n",
       "      <td>624D8C3AC0B3A7CA03E3C167E0F48327</td>\n",
       "      <td>DE</td>\n",
       "      <td>TXL</td>\n",
       "      <td>AUH</td>\n",
       "      <td>1</td>\n",
       "      <td>2</td>\n",
       "      <td>TXL</td>\n",
       "      <td>AUH</td>\n",
       "      <td>2013-01-26</td>\n",
       "      <td>D2</td>\n",
       "      <td>NaN</td>\n",
       "      <td>AUH</td>\n",
       "      <td>TXL</td>\n",
       "      <td>2013-02-02</td>\n",
       "      <td>D2</td>\n",
       "      <td>NaN</td>\n",
       "      <td>NaN</td>\n",
       "      <td>NaN</td>\n",
       "      <td>NaN</td>\n",
       "      <td>NaN</td>\n",
       "      <td>NaN</td>\n",
       "      <td>NaN</td>\n",
       "      <td>NaN</td>\n",
       "      <td>NaN</td>\n",
       "      <td>NaN</td>\n",
       "      <td>NaN</td>\n",
       "      <td>NaN</td>\n",
       "      <td>NaN</td>\n",
       "      <td>NaN</td>\n",
       "      <td>NaN</td>\n",
       "      <td>NaN</td>\n",
       "      <td>NaN</td>\n",
       "      <td>NaN</td>\n",
       "      <td>NaN</td>\n",
       "      <td>NaN</td>\n",
       "      <td>NaN</td>\n",
       "      <td>1ASIWS</td>\n",
       "      <td>0</td>\n",
       "      <td>0</td>\n",
       "      <td>0</td>\n",
       "      <td>d41d8cd98f00b204e9800998ecf8427e</td>\n",
       "      <td>FRA</td>\n",
       "    </tr>\n",
       "    <tr>\n",
       "      <th>1</th>\n",
       "      <td>2013-01-01</td>\n",
       "      <td>10:15:33</td>\n",
       "      <td>MPT</td>\n",
       "      <td>B0AF35B31588DC4AB06D5CF2986E8E02</td>\n",
       "      <td>MD</td>\n",
       "      <td>ATH</td>\n",
       "      <td>MIL</td>\n",
       "      <td>0</td>\n",
       "      <td>1</td>\n",
       "      <td>ATH</td>\n",
       "      <td>MIL</td>\n",
       "      <td>2013-01-04</td>\n",
       "      <td>NaN</td>\n",
       "      <td>NaN</td>\n",
       "      <td>NaN</td>\n",
       "      <td>NaN</td>\n",
       "      <td>NaN</td>\n",
       "      <td>NaN</td>\n",
       "      <td>NaN</td>\n",
       "      <td>NaN</td>\n",
       "      <td>NaN</td>\n",
       "      <td>NaN</td>\n",
       "      <td>NaN</td>\n",
       "      <td>NaN</td>\n",
       "      <td>NaN</td>\n",
       "      <td>NaN</td>\n",
       "      <td>NaN</td>\n",
       "      <td>NaN</td>\n",
       "      <td>NaN</td>\n",
       "      <td>NaN</td>\n",
       "      <td>NaN</td>\n",
       "      <td>NaN</td>\n",
       "      <td>NaN</td>\n",
       "      <td>NaN</td>\n",
       "      <td>NaN</td>\n",
       "      <td>NaN</td>\n",
       "      <td>NaN</td>\n",
       "      <td>NaN</td>\n",
       "      <td>NaN</td>\n",
       "      <td>1ASIWS</td>\n",
       "      <td>0</td>\n",
       "      <td>0</td>\n",
       "      <td>0</td>\n",
       "      <td>d41d8cd98f00b204e9800998ecf8427e</td>\n",
       "      <td>KIV</td>\n",
       "    </tr>\n",
       "  </tbody>\n",
       "</table>\n",
       "</div>"
      ],
      "text/plain": [
       "         Date      Time TxnCode                          OfficeID Country  \\\n",
       "0  2013-01-01  20:25:57     MPT  624D8C3AC0B3A7CA03E3C167E0F48327      DE   \n",
       "1  2013-01-01  10:15:33     MPT  B0AF35B31588DC4AB06D5CF2986E8E02      MD   \n",
       "\n",
       "  Origin Destination  RoundTrip  NbSegments Seg1Departure Seg1Arrival  \\\n",
       "0    TXL         AUH          1           2           TXL         AUH   \n",
       "1    ATH         MIL          0           1           ATH         MIL   \n",
       "\n",
       "     Seg1Date Seg1Carrier Seg1BookingCode Seg2Departure Seg2Arrival  \\\n",
       "0  2013-01-26          D2             NaN           AUH         TXL   \n",
       "1  2013-01-04         NaN             NaN           NaN         NaN   \n",
       "\n",
       "     Seg2Date Seg2Carrier Seg2BookingCode Seg3Departure Seg3Arrival Seg3Date  \\\n",
       "0  2013-02-02          D2             NaN           NaN         NaN      NaN   \n",
       "1         NaN         NaN             NaN           NaN         NaN      NaN   \n",
       "\n",
       "  Seg3Carrier Seg3BookingCode Seg4Departure Seg4Arrival Seg4Date Seg4Carrier  \\\n",
       "0         NaN             NaN           NaN         NaN      NaN         NaN   \n",
       "1         NaN             NaN           NaN         NaN      NaN         NaN   \n",
       "\n",
       "  Seg4BookingCode Seg5Departure Seg5Arrival Seg5Date Seg5Carrier  \\\n",
       "0             NaN           NaN         NaN      NaN         NaN   \n",
       "1             NaN           NaN         NaN      NaN         NaN   \n",
       "\n",
       "  Seg5BookingCode Seg6Departure Seg6Arrival Seg6Date Seg6Carrier  \\\n",
       "0             NaN           NaN         NaN      NaN         NaN   \n",
       "1             NaN           NaN         NaN      NaN         NaN   \n",
       "\n",
       "  Seg6BookingCode    From  IsPublishedForNeg  IsFromInternet  IsFromVista  \\\n",
       "0             NaN  1ASIWS                  0               0            0   \n",
       "1             NaN  1ASIWS                  0               0            0   \n",
       "\n",
       "                         TerminalID InternetOffice  \n",
       "0  d41d8cd98f00b204e9800998ecf8427e            FRA  \n",
       "1  d41d8cd98f00b204e9800998ecf8427e            KIV  "
      ]
     },
     "execution_count": 129,
     "metadata": {},
     "output_type": "execute_result"
    }
   ],
   "source": [
    "searches.head(2)"
   ]
  },
  {
   "cell_type": "code",
   "execution_count": 130,
   "metadata": {
    "scrolled": true
   },
   "outputs": [
    {
     "data": {
      "text/plain": [
       "['cre_date', 'dep_port', 'arr_port', 'brd_time']"
      ]
     },
     "execution_count": 130,
     "metadata": {},
     "output_type": "execute_result"
    }
   ],
   "source": [
    "bookings.columns.tolist()"
   ]
  },
  {
   "cell_type": "code",
   "execution_count": 131,
   "metadata": {},
   "outputs": [],
   "source": [
    "bookings_columns = bookings.columns.tolist()\n",
    "\n",
    "for column in bookings_columns:\n",
    "    bookings[column] = bookings[column].str.strip()\n",
    "\n",
    "    if 'port' in column:\n",
    "        bookings[column] = bookings[column].str.upper()\n",
    "        \n",
    "        cell_length = (bookings[column].map(len) != 3).sum()\n",
    "        if cell_length != 0:\n",
    "            print(f'Alert! There are `{column}` values with length different than 3, check it.')\n",
    "    else:\n",
    "        bookings[column] = bookings[column].str.split().str[0]"
   ]
  },
  {
   "cell_type": "code",
   "execution_count": 132,
   "metadata": {},
   "outputs": [
    {
     "data": {
      "text/html": [
       "<div>\n",
       "<style scoped>\n",
       "    .dataframe tbody tr th:only-of-type {\n",
       "        vertical-align: middle;\n",
       "    }\n",
       "\n",
       "    .dataframe tbody tr th {\n",
       "        vertical-align: top;\n",
       "    }\n",
       "\n",
       "    .dataframe thead th {\n",
       "        text-align: right;\n",
       "    }\n",
       "</style>\n",
       "<table border=\"1\" class=\"dataframe\">\n",
       "  <thead>\n",
       "    <tr style=\"text-align: right;\">\n",
       "      <th></th>\n",
       "      <th>cre_date</th>\n",
       "      <th>dep_port</th>\n",
       "      <th>arr_port</th>\n",
       "      <th>brd_time</th>\n",
       "    </tr>\n",
       "  </thead>\n",
       "  <tbody>\n",
       "    <tr>\n",
       "      <th>0</th>\n",
       "      <td>2013-02-22</td>\n",
       "      <td>ZRH</td>\n",
       "      <td>LHR</td>\n",
       "      <td>2013-03-07</td>\n",
       "    </tr>\n",
       "    <tr>\n",
       "      <th>1</th>\n",
       "      <td>2013-03-26</td>\n",
       "      <td>SAL</td>\n",
       "      <td>CLT</td>\n",
       "      <td>2013-04-12</td>\n",
       "    </tr>\n",
       "  </tbody>\n",
       "</table>\n",
       "</div>"
      ],
      "text/plain": [
       "     cre_date dep_port arr_port    brd_time\n",
       "0  2013-02-22      ZRH      LHR  2013-03-07\n",
       "1  2013-03-26      SAL      CLT  2013-04-12"
      ]
     },
     "execution_count": 132,
     "metadata": {},
     "output_type": "execute_result"
    }
   ],
   "source": [
    "bookings.head(2)"
   ]
  },
  {
   "cell_type": "code",
   "execution_count": 133,
   "metadata": {},
   "outputs": [
    {
     "data": {
      "text/plain": [
       "cre_date    0\n",
       "dep_port    0\n",
       "arr_port    0\n",
       "brd_time    0\n",
       "dtype: int64"
      ]
     },
     "execution_count": 133,
     "metadata": {},
     "output_type": "execute_result"
    }
   ],
   "source": [
    "bookings.isna().sum()"
   ]
  },
  {
   "cell_type": "code",
   "execution_count": 134,
   "metadata": {
    "scrolled": true
   },
   "outputs": [
    {
     "data": {
      "text/plain": [
       "Date                      0\n",
       "Time                      0\n",
       "TxnCode                   0\n",
       "OfficeID                  0\n",
       "Country                  43\n",
       "Origin                    0\n",
       "Destination               0\n",
       "RoundTrip                 0\n",
       "NbSegments                0\n",
       "Seg1Departure             0\n",
       "Seg1Arrival               0\n",
       "Seg1Date               1034\n",
       "Seg1Carrier          226260\n",
       "Seg1BookingCode      326321\n",
       "Seg2Departure        105403\n",
       "Seg2Arrival          105403\n",
       "Seg2Date             106632\n",
       "Seg2Carrier          268028\n",
       "Seg2BookingCode      331522\n",
       "Seg3Departure        344410\n",
       "Seg3Arrival          344410\n",
       "Seg3Date             344518\n",
       "Seg3Carrier          345343\n",
       "Seg3BookingCode      346164\n",
       "Seg4Departure        348084\n",
       "Seg4Arrival          348084\n",
       "Seg4Date             348180\n",
       "Seg4Carrier          348212\n",
       "Seg4BookingCode      348412\n",
       "Seg5Departure        360434\n",
       "Seg5Arrival          360434\n",
       "Seg5Date             360458\n",
       "Seg5Carrier          360450\n",
       "Seg5BookingCode      360497\n",
       "Seg6Departure        361608\n",
       "Seg6Arrival          361608\n",
       "Seg6Date             361626\n",
       "Seg6Carrier          361610\n",
       "Seg6BookingCode      361642\n",
       "From                   6221\n",
       "IsPublishedForNeg         0\n",
       "IsFromInternet            0\n",
       "IsFromVista               0\n",
       "TerminalID                0\n",
       "InternetOffice            0\n",
       "dtype: int64"
      ]
     },
     "execution_count": 134,
     "metadata": {},
     "output_type": "execute_result"
    }
   ],
   "source": [
    "searches.isna().sum()"
   ]
  },
  {
   "cell_type": "raw",
   "metadata": {},
   "source": [
    "bookings_tomerge = bookings[['cre_date', 'dep_port', 'arr_port', 'brd_time', 'booking']].copy()\n",
    "bookings_tomerge.shape"
   ]
  },
  {
   "cell_type": "markdown",
   "metadata": {},
   "source": [
    "#### Primer intento de merge\n",
    "\n",
    "|searches|bookings|\n",
    "|:---:|:---:|\n",
    "|Seg1Departure|dep_port|\n",
    "|Seg1Arrival|arr_port|\n",
    "|Seg1Date|brd_time|\n",
    "|Date|cre_date|"
   ]
  },
  {
   "cell_type": "markdown",
   "metadata": {},
   "source": [
    "Vamos a hacer copias de los dataframes para trabajar con ellas y asi si tenemos que empezar de nuevo no hara falta cargar todo de nuevo."
   ]
  },
  {
   "cell_type": "code",
   "execution_count": 135,
   "metadata": {
    "scrolled": true
   },
   "outputs": [
    {
     "name": "stdout",
     "output_type": "stream",
     "text": [
      "(1000000, 5)\n"
     ]
    },
    {
     "data": {
      "text/html": [
       "<div>\n",
       "<style scoped>\n",
       "    .dataframe tbody tr th:only-of-type {\n",
       "        vertical-align: middle;\n",
       "    }\n",
       "\n",
       "    .dataframe tbody tr th {\n",
       "        vertical-align: top;\n",
       "    }\n",
       "\n",
       "    .dataframe thead th {\n",
       "        text-align: right;\n",
       "    }\n",
       "</style>\n",
       "<table border=\"1\" class=\"dataframe\">\n",
       "  <thead>\n",
       "    <tr style=\"text-align: right;\">\n",
       "      <th></th>\n",
       "      <th>cre_date</th>\n",
       "      <th>dep_port</th>\n",
       "      <th>arr_port</th>\n",
       "      <th>brd_time</th>\n",
       "      <th>booking</th>\n",
       "    </tr>\n",
       "  </thead>\n",
       "  <tbody>\n",
       "    <tr>\n",
       "      <th>0</th>\n",
       "      <td>2013-02-22</td>\n",
       "      <td>ZRH</td>\n",
       "      <td>LHR</td>\n",
       "      <td>2013-03-07</td>\n",
       "      <td>1</td>\n",
       "    </tr>\n",
       "    <tr>\n",
       "      <th>1</th>\n",
       "      <td>2013-03-26</td>\n",
       "      <td>SAL</td>\n",
       "      <td>CLT</td>\n",
       "      <td>2013-04-12</td>\n",
       "      <td>1</td>\n",
       "    </tr>\n",
       "  </tbody>\n",
       "</table>\n",
       "</div>"
      ],
      "text/plain": [
       "     cre_date dep_port arr_port    brd_time  booking\n",
       "0  2013-02-22      ZRH      LHR  2013-03-07        1\n",
       "1  2013-03-26      SAL      CLT  2013-04-12        1"
      ]
     },
     "execution_count": 135,
     "metadata": {},
     "output_type": "execute_result"
    }
   ],
   "source": [
    "bookings['booking'] = 1\n",
    "print(bookings.shape)\n",
    "bookings_to_merge = bookings.copy()\n",
    "bookings_to_merge.head(2)"
   ]
  },
  {
   "cell_type": "code",
   "execution_count": 136,
   "metadata": {},
   "outputs": [
    {
     "data": {
      "text/html": [
       "<div>\n",
       "<style scoped>\n",
       "    .dataframe tbody tr th:only-of-type {\n",
       "        vertical-align: middle;\n",
       "    }\n",
       "\n",
       "    .dataframe tbody tr th {\n",
       "        vertical-align: top;\n",
       "    }\n",
       "\n",
       "    .dataframe thead th {\n",
       "        text-align: right;\n",
       "    }\n",
       "</style>\n",
       "<table border=\"1\" class=\"dataframe\">\n",
       "  <thead>\n",
       "    <tr style=\"text-align: right;\">\n",
       "      <th></th>\n",
       "      <th>Date</th>\n",
       "      <th>Time</th>\n",
       "      <th>TxnCode</th>\n",
       "      <th>OfficeID</th>\n",
       "      <th>Country</th>\n",
       "      <th>Origin</th>\n",
       "      <th>Destination</th>\n",
       "      <th>RoundTrip</th>\n",
       "      <th>NbSegments</th>\n",
       "      <th>Seg1Departure</th>\n",
       "      <th>Seg1Arrival</th>\n",
       "      <th>Seg1Date</th>\n",
       "      <th>Seg1Carrier</th>\n",
       "      <th>Seg1BookingCode</th>\n",
       "      <th>Seg2Departure</th>\n",
       "      <th>Seg2Arrival</th>\n",
       "      <th>Seg2Date</th>\n",
       "      <th>Seg2Carrier</th>\n",
       "      <th>Seg2BookingCode</th>\n",
       "      <th>Seg3Departure</th>\n",
       "      <th>Seg3Arrival</th>\n",
       "      <th>Seg3Date</th>\n",
       "      <th>Seg3Carrier</th>\n",
       "      <th>Seg3BookingCode</th>\n",
       "      <th>Seg4Departure</th>\n",
       "      <th>Seg4Arrival</th>\n",
       "      <th>Seg4Date</th>\n",
       "      <th>Seg4Carrier</th>\n",
       "      <th>Seg4BookingCode</th>\n",
       "      <th>Seg5Departure</th>\n",
       "      <th>Seg5Arrival</th>\n",
       "      <th>Seg5Date</th>\n",
       "      <th>Seg5Carrier</th>\n",
       "      <th>Seg5BookingCode</th>\n",
       "      <th>Seg6Departure</th>\n",
       "      <th>Seg6Arrival</th>\n",
       "      <th>Seg6Date</th>\n",
       "      <th>Seg6Carrier</th>\n",
       "      <th>Seg6BookingCode</th>\n",
       "      <th>From</th>\n",
       "      <th>IsPublishedForNeg</th>\n",
       "      <th>IsFromInternet</th>\n",
       "      <th>IsFromVista</th>\n",
       "      <th>TerminalID</th>\n",
       "      <th>InternetOffice</th>\n",
       "    </tr>\n",
       "  </thead>\n",
       "  <tbody>\n",
       "    <tr>\n",
       "      <th>0</th>\n",
       "      <td>2013-01-01</td>\n",
       "      <td>20:25:57</td>\n",
       "      <td>MPT</td>\n",
       "      <td>624D8C3AC0B3A7CA03E3C167E0F48327</td>\n",
       "      <td>DE</td>\n",
       "      <td>TXL</td>\n",
       "      <td>AUH</td>\n",
       "      <td>1</td>\n",
       "      <td>2</td>\n",
       "      <td>TXL</td>\n",
       "      <td>AUH</td>\n",
       "      <td>2013-01-26</td>\n",
       "      <td>D2</td>\n",
       "      <td>NaN</td>\n",
       "      <td>AUH</td>\n",
       "      <td>TXL</td>\n",
       "      <td>2013-02-02</td>\n",
       "      <td>D2</td>\n",
       "      <td>NaN</td>\n",
       "      <td>NaN</td>\n",
       "      <td>NaN</td>\n",
       "      <td>NaN</td>\n",
       "      <td>NaN</td>\n",
       "      <td>NaN</td>\n",
       "      <td>NaN</td>\n",
       "      <td>NaN</td>\n",
       "      <td>NaN</td>\n",
       "      <td>NaN</td>\n",
       "      <td>NaN</td>\n",
       "      <td>NaN</td>\n",
       "      <td>NaN</td>\n",
       "      <td>NaN</td>\n",
       "      <td>NaN</td>\n",
       "      <td>NaN</td>\n",
       "      <td>NaN</td>\n",
       "      <td>NaN</td>\n",
       "      <td>NaN</td>\n",
       "      <td>NaN</td>\n",
       "      <td>NaN</td>\n",
       "      <td>1ASIWS</td>\n",
       "      <td>0</td>\n",
       "      <td>0</td>\n",
       "      <td>0</td>\n",
       "      <td>d41d8cd98f00b204e9800998ecf8427e</td>\n",
       "      <td>FRA</td>\n",
       "    </tr>\n",
       "    <tr>\n",
       "      <th>1</th>\n",
       "      <td>2013-01-01</td>\n",
       "      <td>10:15:33</td>\n",
       "      <td>MPT</td>\n",
       "      <td>B0AF35B31588DC4AB06D5CF2986E8E02</td>\n",
       "      <td>MD</td>\n",
       "      <td>ATH</td>\n",
       "      <td>MIL</td>\n",
       "      <td>0</td>\n",
       "      <td>1</td>\n",
       "      <td>ATH</td>\n",
       "      <td>MIL</td>\n",
       "      <td>2013-01-04</td>\n",
       "      <td>NaN</td>\n",
       "      <td>NaN</td>\n",
       "      <td>NaN</td>\n",
       "      <td>NaN</td>\n",
       "      <td>NaN</td>\n",
       "      <td>NaN</td>\n",
       "      <td>NaN</td>\n",
       "      <td>NaN</td>\n",
       "      <td>NaN</td>\n",
       "      <td>NaN</td>\n",
       "      <td>NaN</td>\n",
       "      <td>NaN</td>\n",
       "      <td>NaN</td>\n",
       "      <td>NaN</td>\n",
       "      <td>NaN</td>\n",
       "      <td>NaN</td>\n",
       "      <td>NaN</td>\n",
       "      <td>NaN</td>\n",
       "      <td>NaN</td>\n",
       "      <td>NaN</td>\n",
       "      <td>NaN</td>\n",
       "      <td>NaN</td>\n",
       "      <td>NaN</td>\n",
       "      <td>NaN</td>\n",
       "      <td>NaN</td>\n",
       "      <td>NaN</td>\n",
       "      <td>NaN</td>\n",
       "      <td>1ASIWS</td>\n",
       "      <td>0</td>\n",
       "      <td>0</td>\n",
       "      <td>0</td>\n",
       "      <td>d41d8cd98f00b204e9800998ecf8427e</td>\n",
       "      <td>KIV</td>\n",
       "    </tr>\n",
       "  </tbody>\n",
       "</table>\n",
       "</div>"
      ],
      "text/plain": [
       "         Date      Time TxnCode                          OfficeID Country  \\\n",
       "0  2013-01-01  20:25:57     MPT  624D8C3AC0B3A7CA03E3C167E0F48327      DE   \n",
       "1  2013-01-01  10:15:33     MPT  B0AF35B31588DC4AB06D5CF2986E8E02      MD   \n",
       "\n",
       "  Origin Destination  RoundTrip  NbSegments Seg1Departure Seg1Arrival  \\\n",
       "0    TXL         AUH          1           2           TXL         AUH   \n",
       "1    ATH         MIL          0           1           ATH         MIL   \n",
       "\n",
       "     Seg1Date Seg1Carrier Seg1BookingCode Seg2Departure Seg2Arrival  \\\n",
       "0  2013-01-26          D2             NaN           AUH         TXL   \n",
       "1  2013-01-04         NaN             NaN           NaN         NaN   \n",
       "\n",
       "     Seg2Date Seg2Carrier Seg2BookingCode Seg3Departure Seg3Arrival Seg3Date  \\\n",
       "0  2013-02-02          D2             NaN           NaN         NaN      NaN   \n",
       "1         NaN         NaN             NaN           NaN         NaN      NaN   \n",
       "\n",
       "  Seg3Carrier Seg3BookingCode Seg4Departure Seg4Arrival Seg4Date Seg4Carrier  \\\n",
       "0         NaN             NaN           NaN         NaN      NaN         NaN   \n",
       "1         NaN             NaN           NaN         NaN      NaN         NaN   \n",
       "\n",
       "  Seg4BookingCode Seg5Departure Seg5Arrival Seg5Date Seg5Carrier  \\\n",
       "0             NaN           NaN         NaN      NaN         NaN   \n",
       "1             NaN           NaN         NaN      NaN         NaN   \n",
       "\n",
       "  Seg5BookingCode Seg6Departure Seg6Arrival Seg6Date Seg6Carrier  \\\n",
       "0             NaN           NaN         NaN      NaN         NaN   \n",
       "1             NaN           NaN         NaN      NaN         NaN   \n",
       "\n",
       "  Seg6BookingCode    From  IsPublishedForNeg  IsFromInternet  IsFromVista  \\\n",
       "0             NaN  1ASIWS                  0               0            0   \n",
       "1             NaN  1ASIWS                  0               0            0   \n",
       "\n",
       "                         TerminalID InternetOffice  \n",
       "0  d41d8cd98f00b204e9800998ecf8427e            FRA  \n",
       "1  d41d8cd98f00b204e9800998ecf8427e            KIV  "
      ]
     },
     "execution_count": 136,
     "metadata": {},
     "output_type": "execute_result"
    }
   ],
   "source": [
    "searches_to_merge = searches.copy()\n",
    "searches_to_merge.head(2)"
   ]
  },
  {
   "cell_type": "markdown",
   "metadata": {},
   "source": [
    "Aqui vamos a darle a bookings_to_merge los mismos nombres de columnas que searches_to_merge, lo cual falicitara las cosas en el merge."
   ]
  },
  {
   "cell_type": "code",
   "execution_count": 137,
   "metadata": {
    "scrolled": false
   },
   "outputs": [
    {
     "data": {
      "text/plain": [
       "Index(['cre_date', 'dep_port', 'arr_port', 'brd_time', 'booking'], dtype='object')"
      ]
     },
     "execution_count": 137,
     "metadata": {},
     "output_type": "execute_result"
    }
   ],
   "source": [
    "bookings_to_merge.columns"
   ]
  },
  {
   "cell_type": "code",
   "execution_count": 139,
   "metadata": {},
   "outputs": [
    {
     "data": {
      "text/plain": [
       "['Date',\n",
       " 'Time',\n",
       " 'TxnCode',\n",
       " 'OfficeID',\n",
       " 'Country',\n",
       " 'Origin',\n",
       " 'Destination',\n",
       " 'RoundTrip',\n",
       " 'NbSegments',\n",
       " 'Seg1Departure',\n",
       " 'Seg1Arrival',\n",
       " 'Seg1Date',\n",
       " 'Seg1Carrier',\n",
       " 'Seg1BookingCode',\n",
       " 'Seg2Departure',\n",
       " 'Seg2Arrival',\n",
       " 'Seg2Date',\n",
       " 'Seg2Carrier',\n",
       " 'Seg2BookingCode',\n",
       " 'Seg3Departure',\n",
       " 'Seg3Arrival',\n",
       " 'Seg3Date',\n",
       " 'Seg3Carrier',\n",
       " 'Seg3BookingCode',\n",
       " 'Seg4Departure',\n",
       " 'Seg4Arrival',\n",
       " 'Seg4Date',\n",
       " 'Seg4Carrier',\n",
       " 'Seg4BookingCode',\n",
       " 'Seg5Departure',\n",
       " 'Seg5Arrival',\n",
       " 'Seg5Date',\n",
       " 'Seg5Carrier',\n",
       " 'Seg5BookingCode',\n",
       " 'Seg6Departure',\n",
       " 'Seg6Arrival',\n",
       " 'Seg6Date',\n",
       " 'Seg6Carrier',\n",
       " 'Seg6BookingCode',\n",
       " 'From',\n",
       " 'IsPublishedForNeg',\n",
       " 'IsFromInternet',\n",
       " 'IsFromVista',\n",
       " 'TerminalID',\n",
       " 'InternetOffice']"
      ]
     },
     "execution_count": 139,
     "metadata": {},
     "output_type": "execute_result"
    }
   ],
   "source": [
    "searches_to_merge.columns.tolist()"
   ]
  },
  {
   "cell_type": "code",
   "execution_count": 140,
   "metadata": {},
   "outputs": [
    {
     "data": {
      "text/plain": [
       "['Date', 'Seg1Departure', 'Seg1Arrival', 'Seg1Date', 'Booking']"
      ]
     },
     "execution_count": 140,
     "metadata": {},
     "output_type": "execute_result"
    }
   ],
   "source": [
    "new_columns_bookings = ['Date', \n",
    "                        'Seg1Departure', \n",
    "                        'Seg1Arrival', \n",
    "                        'Seg1Date', \n",
    "                        'Booking']\n",
    "new_columns_bookings"
   ]
  },
  {
   "cell_type": "code",
   "execution_count": 141,
   "metadata": {},
   "outputs": [
    {
     "data": {
      "text/html": [
       "<div>\n",
       "<style scoped>\n",
       "    .dataframe tbody tr th:only-of-type {\n",
       "        vertical-align: middle;\n",
       "    }\n",
       "\n",
       "    .dataframe tbody tr th {\n",
       "        vertical-align: top;\n",
       "    }\n",
       "\n",
       "    .dataframe thead th {\n",
       "        text-align: right;\n",
       "    }\n",
       "</style>\n",
       "<table border=\"1\" class=\"dataframe\">\n",
       "  <thead>\n",
       "    <tr style=\"text-align: right;\">\n",
       "      <th></th>\n",
       "      <th>Date</th>\n",
       "      <th>Seg1Departure</th>\n",
       "      <th>Seg1Arrival</th>\n",
       "      <th>Seg1Date</th>\n",
       "      <th>Booking</th>\n",
       "    </tr>\n",
       "  </thead>\n",
       "  <tbody>\n",
       "    <tr>\n",
       "      <th>0</th>\n",
       "      <td>2013-02-22</td>\n",
       "      <td>ZRH</td>\n",
       "      <td>LHR</td>\n",
       "      <td>2013-03-07</td>\n",
       "      <td>1</td>\n",
       "    </tr>\n",
       "    <tr>\n",
       "      <th>1</th>\n",
       "      <td>2013-03-26</td>\n",
       "      <td>SAL</td>\n",
       "      <td>CLT</td>\n",
       "      <td>2013-04-12</td>\n",
       "      <td>1</td>\n",
       "    </tr>\n",
       "  </tbody>\n",
       "</table>\n",
       "</div>"
      ],
      "text/plain": [
       "         Date Seg1Departure Seg1Arrival    Seg1Date  Booking\n",
       "0  2013-02-22           ZRH         LHR  2013-03-07        1\n",
       "1  2013-03-26           SAL         CLT  2013-04-12        1"
      ]
     },
     "execution_count": 141,
     "metadata": {},
     "output_type": "execute_result"
    }
   ],
   "source": [
    "bookings_to_merge.columns = new_columns_bookings\n",
    "bookings_to_merge.head(2)"
   ]
  },
  {
   "cell_type": "markdown",
   "metadata": {},
   "source": [
    "Miremos los duplicados ahora."
   ]
  },
  {
   "cell_type": "code",
   "execution_count": 142,
   "metadata": {
    "scrolled": true
   },
   "outputs": [
    {
     "data": {
      "text/plain": [
       "341002"
      ]
     },
     "execution_count": 142,
     "metadata": {},
     "output_type": "execute_result"
    }
   ],
   "source": [
    "bookings_to_merge.duplicated().sum()"
   ]
  },
  {
   "cell_type": "code",
   "execution_count": 143,
   "metadata": {},
   "outputs": [
    {
     "data": {
      "text/plain": [
       "0"
      ]
     },
     "execution_count": 143,
     "metadata": {},
     "output_type": "execute_result"
    }
   ],
   "source": [
    "searches_to_merge.duplicated().sum()"
   ]
  },
  {
   "cell_type": "markdown",
   "metadata": {},
   "source": [
    "Ya nos habiamos quitado los duplicados pero ahora hay mas porque hemos eliminado muchas columnas. Que deberiamos hacer? Borrar los duplicados? Dejarlos?\n",
    "\n",
    "Echemos un vistazo a como tratamos los duplicados mas arriba:\n",
    "\n",
    "![](../images/image_duplicates.png)"
   ]
  },
  {
   "cell_type": "markdown",
   "metadata": {},
   "source": [
    "Bookings ni siquiera tenia duplicados, y ahora tiene un tercio. Que desastre\n",
    "\n",
    "Si eliminamos esos duplicados estaremos perdiendo informacion porque no eran duplicados cuando estudiamos si habian duplicados teniendo todas las columnas."
   ]
  },
  {
   "cell_type": "markdown",
   "metadata": {},
   "source": [
    "Hagamos una pruebecilla rapida"
   ]
  },
  {
   "cell_type": "code",
   "execution_count": 158,
   "metadata": {},
   "outputs": [
    {
     "data": {
      "text/html": [
       "<div>\n",
       "<style scoped>\n",
       "    .dataframe tbody tr th:only-of-type {\n",
       "        vertical-align: middle;\n",
       "    }\n",
       "\n",
       "    .dataframe tbody tr th {\n",
       "        vertical-align: top;\n",
       "    }\n",
       "\n",
       "    .dataframe thead th {\n",
       "        text-align: right;\n",
       "    }\n",
       "</style>\n",
       "<table border=\"1\" class=\"dataframe\">\n",
       "  <thead>\n",
       "    <tr style=\"text-align: right;\">\n",
       "      <th></th>\n",
       "      <th>cero</th>\n",
       "      <th>uno</th>\n",
       "    </tr>\n",
       "  </thead>\n",
       "  <tbody>\n",
       "    <tr>\n",
       "      <th>0</th>\n",
       "      <td>2</td>\n",
       "      <td>4</td>\n",
       "    </tr>\n",
       "    <tr>\n",
       "      <th>1</th>\n",
       "      <td>2</td>\n",
       "      <td>4</td>\n",
       "    </tr>\n",
       "    <tr>\n",
       "      <th>2</th>\n",
       "      <td>2</td>\n",
       "      <td>4</td>\n",
       "    </tr>\n",
       "    <tr>\n",
       "      <th>3</th>\n",
       "      <td>1</td>\n",
       "      <td>5</td>\n",
       "    </tr>\n",
       "    <tr>\n",
       "      <th>4</th>\n",
       "      <td>1</td>\n",
       "      <td>6</td>\n",
       "    </tr>\n",
       "  </tbody>\n",
       "</table>\n",
       "</div>"
      ],
      "text/plain": [
       "   cero  uno\n",
       "0     2    4\n",
       "1     2    4\n",
       "2     2    4\n",
       "3     1    5\n",
       "4     1    6"
      ]
     },
     "execution_count": 158,
     "metadata": {},
     "output_type": "execute_result"
    }
   ],
   "source": [
    "lista1 = [[2, 4], \n",
    "          [2, 4], \n",
    "          [2, 4], \n",
    "          [1, 5], \n",
    "          [1, 6]]\n",
    "\n",
    "df1 = pd.DataFrame(lista1, columns=['cero', 'uno'])\n",
    "df1"
   ]
  },
  {
   "cell_type": "code",
   "execution_count": 165,
   "metadata": {},
   "outputs": [
    {
     "data": {
      "text/html": [
       "<div>\n",
       "<style scoped>\n",
       "    .dataframe tbody tr th:only-of-type {\n",
       "        vertical-align: middle;\n",
       "    }\n",
       "\n",
       "    .dataframe tbody tr th {\n",
       "        vertical-align: top;\n",
       "    }\n",
       "\n",
       "    .dataframe thead th {\n",
       "        text-align: right;\n",
       "    }\n",
       "</style>\n",
       "<table border=\"1\" class=\"dataframe\">\n",
       "  <thead>\n",
       "    <tr style=\"text-align: right;\">\n",
       "      <th></th>\n",
       "      <th>cero</th>\n",
       "      <th>uno</th>\n",
       "      <th>dos</th>\n",
       "    </tr>\n",
       "  </thead>\n",
       "  <tbody>\n",
       "    <tr>\n",
       "      <th>0</th>\n",
       "      <td>2</td>\n",
       "      <td>4</td>\n",
       "      <td>1</td>\n",
       "    </tr>\n",
       "    <tr>\n",
       "      <th>1</th>\n",
       "      <td>2</td>\n",
       "      <td>4</td>\n",
       "      <td>1</td>\n",
       "    </tr>\n",
       "    <tr>\n",
       "      <th>2</th>\n",
       "      <td>1</td>\n",
       "      <td>5</td>\n",
       "      <td>1</td>\n",
       "    </tr>\n",
       "  </tbody>\n",
       "</table>\n",
       "</div>"
      ],
      "text/plain": [
       "   cero  uno  dos\n",
       "0     2    4    1\n",
       "1     2    4    1\n",
       "2     1    5    1"
      ]
     },
     "execution_count": 165,
     "metadata": {},
     "output_type": "execute_result"
    }
   ],
   "source": [
    "lista2 = [[2, 4, 1], \n",
    "          [2, 4, 1], \n",
    "          [1, 5, 1]]\n",
    "\n",
    "df2 = pd.DataFrame(lista2, columns=['cero', 'uno', 'dos'])\n",
    "df2"
   ]
  },
  {
   "cell_type": "code",
   "execution_count": 166,
   "metadata": {},
   "outputs": [
    {
     "data": {
      "text/html": [
       "<div>\n",
       "<style scoped>\n",
       "    .dataframe tbody tr th:only-of-type {\n",
       "        vertical-align: middle;\n",
       "    }\n",
       "\n",
       "    .dataframe tbody tr th {\n",
       "        vertical-align: top;\n",
       "    }\n",
       "\n",
       "    .dataframe thead th {\n",
       "        text-align: right;\n",
       "    }\n",
       "</style>\n",
       "<table border=\"1\" class=\"dataframe\">\n",
       "  <thead>\n",
       "    <tr style=\"text-align: right;\">\n",
       "      <th></th>\n",
       "      <th>cero</th>\n",
       "      <th>uno</th>\n",
       "      <th>dos</th>\n",
       "      <th>_merge</th>\n",
       "    </tr>\n",
       "  </thead>\n",
       "  <tbody>\n",
       "    <tr>\n",
       "      <th>0</th>\n",
       "      <td>2</td>\n",
       "      <td>4</td>\n",
       "      <td>1.0</td>\n",
       "      <td>both</td>\n",
       "    </tr>\n",
       "    <tr>\n",
       "      <th>1</th>\n",
       "      <td>2</td>\n",
       "      <td>4</td>\n",
       "      <td>1.0</td>\n",
       "      <td>both</td>\n",
       "    </tr>\n",
       "    <tr>\n",
       "      <th>2</th>\n",
       "      <td>2</td>\n",
       "      <td>4</td>\n",
       "      <td>1.0</td>\n",
       "      <td>both</td>\n",
       "    </tr>\n",
       "    <tr>\n",
       "      <th>3</th>\n",
       "      <td>2</td>\n",
       "      <td>4</td>\n",
       "      <td>1.0</td>\n",
       "      <td>both</td>\n",
       "    </tr>\n",
       "    <tr>\n",
       "      <th>4</th>\n",
       "      <td>2</td>\n",
       "      <td>4</td>\n",
       "      <td>1.0</td>\n",
       "      <td>both</td>\n",
       "    </tr>\n",
       "    <tr>\n",
       "      <th>5</th>\n",
       "      <td>2</td>\n",
       "      <td>4</td>\n",
       "      <td>1.0</td>\n",
       "      <td>both</td>\n",
       "    </tr>\n",
       "    <tr>\n",
       "      <th>6</th>\n",
       "      <td>1</td>\n",
       "      <td>5</td>\n",
       "      <td>1.0</td>\n",
       "      <td>both</td>\n",
       "    </tr>\n",
       "    <tr>\n",
       "      <th>7</th>\n",
       "      <td>1</td>\n",
       "      <td>6</td>\n",
       "      <td>NaN</td>\n",
       "      <td>left_only</td>\n",
       "    </tr>\n",
       "  </tbody>\n",
       "</table>\n",
       "</div>"
      ],
      "text/plain": [
       "   cero  uno  dos     _merge\n",
       "0     2    4  1.0       both\n",
       "1     2    4  1.0       both\n",
       "2     2    4  1.0       both\n",
       "3     2    4  1.0       both\n",
       "4     2    4  1.0       both\n",
       "5     2    4  1.0       both\n",
       "6     1    5  1.0       both\n",
       "7     1    6  NaN  left_only"
      ]
     },
     "execution_count": 166,
     "metadata": {},
     "output_type": "execute_result"
    }
   ],
   "source": [
    "df = df1.merge(df2, \n",
    "               how='left',\n",
    "               #left_on=['cero', 'uno'],\n",
    "               #right_on=['cero_', 'uno_'],\n",
    "               indicator=True\n",
    "              )\n",
    "df"
   ]
  },
  {
   "cell_type": "markdown",
   "metadata": {},
   "source": [
    "Si estamos estudiando solo los Seg1 dentro de searches, solo podemos tener 1 match con cada uno."
   ]
  },
  {
   "cell_type": "code",
   "execution_count": 151,
   "metadata": {},
   "outputs": [
    {
     "data": {
      "text/plain": [
       "(363343, 45)"
      ]
     },
     "execution_count": 151,
     "metadata": {},
     "output_type": "execute_result"
    }
   ],
   "source": [
    "searches_to_merge.shape"
   ]
  },
  {
   "cell_type": "code",
   "execution_count": 152,
   "metadata": {},
   "outputs": [
    {
     "data": {
      "text/plain": [
       "(1000000, 5)"
      ]
     },
     "execution_count": 152,
     "metadata": {},
     "output_type": "execute_result"
    }
   ],
   "source": [
    "bookings_to_merge.shape"
   ]
  },
  {
   "cell_type": "markdown",
   "metadata": {},
   "source": []
  },
  {
   "cell_type": "code",
   "execution_count": 169,
   "metadata": {},
   "outputs": [],
   "source": [
    "combined = searches_to_merge.merge(bookings_to_merge, \n",
    "                                   how='left',\n",
    "                                  )"
   ]
  },
  {
   "cell_type": "code",
   "execution_count": 170,
   "metadata": {},
   "outputs": [
    {
     "data": {
      "text/html": [
       "<div>\n",
       "<style scoped>\n",
       "    .dataframe tbody tr th:only-of-type {\n",
       "        vertical-align: middle;\n",
       "    }\n",
       "\n",
       "    .dataframe tbody tr th {\n",
       "        vertical-align: top;\n",
       "    }\n",
       "\n",
       "    .dataframe thead th {\n",
       "        text-align: right;\n",
       "    }\n",
       "</style>\n",
       "<table border=\"1\" class=\"dataframe\">\n",
       "  <thead>\n",
       "    <tr style=\"text-align: right;\">\n",
       "      <th></th>\n",
       "      <th>Date</th>\n",
       "      <th>Time</th>\n",
       "      <th>TxnCode</th>\n",
       "      <th>OfficeID</th>\n",
       "      <th>Country</th>\n",
       "      <th>Origin</th>\n",
       "      <th>Destination</th>\n",
       "      <th>RoundTrip</th>\n",
       "      <th>NbSegments</th>\n",
       "      <th>Seg1Departure</th>\n",
       "      <th>Seg1Arrival</th>\n",
       "      <th>Seg1Date</th>\n",
       "      <th>Seg1Carrier</th>\n",
       "      <th>Seg1BookingCode</th>\n",
       "      <th>Seg2Departure</th>\n",
       "      <th>Seg2Arrival</th>\n",
       "      <th>Seg2Date</th>\n",
       "      <th>Seg2Carrier</th>\n",
       "      <th>Seg2BookingCode</th>\n",
       "      <th>Seg3Departure</th>\n",
       "      <th>Seg3Arrival</th>\n",
       "      <th>Seg3Date</th>\n",
       "      <th>Seg3Carrier</th>\n",
       "      <th>Seg3BookingCode</th>\n",
       "      <th>Seg4Departure</th>\n",
       "      <th>Seg4Arrival</th>\n",
       "      <th>Seg4Date</th>\n",
       "      <th>Seg4Carrier</th>\n",
       "      <th>Seg4BookingCode</th>\n",
       "      <th>Seg5Departure</th>\n",
       "      <th>Seg5Arrival</th>\n",
       "      <th>Seg5Date</th>\n",
       "      <th>Seg5Carrier</th>\n",
       "      <th>Seg5BookingCode</th>\n",
       "      <th>Seg6Departure</th>\n",
       "      <th>Seg6Arrival</th>\n",
       "      <th>Seg6Date</th>\n",
       "      <th>Seg6Carrier</th>\n",
       "      <th>Seg6BookingCode</th>\n",
       "      <th>From</th>\n",
       "      <th>IsPublishedForNeg</th>\n",
       "      <th>IsFromInternet</th>\n",
       "      <th>IsFromVista</th>\n",
       "      <th>TerminalID</th>\n",
       "      <th>InternetOffice</th>\n",
       "      <th>Booking</th>\n",
       "    </tr>\n",
       "  </thead>\n",
       "  <tbody>\n",
       "    <tr>\n",
       "      <th>0</th>\n",
       "      <td>2013-01-01</td>\n",
       "      <td>20:25:57</td>\n",
       "      <td>MPT</td>\n",
       "      <td>624D8C3AC0B3A7CA03E3C167E0F48327</td>\n",
       "      <td>DE</td>\n",
       "      <td>TXL</td>\n",
       "      <td>AUH</td>\n",
       "      <td>1</td>\n",
       "      <td>2</td>\n",
       "      <td>TXL</td>\n",
       "      <td>AUH</td>\n",
       "      <td>2013-01-26</td>\n",
       "      <td>D2</td>\n",
       "      <td>NaN</td>\n",
       "      <td>AUH</td>\n",
       "      <td>TXL</td>\n",
       "      <td>2013-02-02</td>\n",
       "      <td>D2</td>\n",
       "      <td>NaN</td>\n",
       "      <td>NaN</td>\n",
       "      <td>NaN</td>\n",
       "      <td>NaN</td>\n",
       "      <td>NaN</td>\n",
       "      <td>NaN</td>\n",
       "      <td>NaN</td>\n",
       "      <td>NaN</td>\n",
       "      <td>NaN</td>\n",
       "      <td>NaN</td>\n",
       "      <td>NaN</td>\n",
       "      <td>NaN</td>\n",
       "      <td>NaN</td>\n",
       "      <td>NaN</td>\n",
       "      <td>NaN</td>\n",
       "      <td>NaN</td>\n",
       "      <td>NaN</td>\n",
       "      <td>NaN</td>\n",
       "      <td>NaN</td>\n",
       "      <td>NaN</td>\n",
       "      <td>NaN</td>\n",
       "      <td>1ASIWS</td>\n",
       "      <td>0</td>\n",
       "      <td>0</td>\n",
       "      <td>0</td>\n",
       "      <td>d41d8cd98f00b204e9800998ecf8427e</td>\n",
       "      <td>FRA</td>\n",
       "      <td>NaN</td>\n",
       "    </tr>\n",
       "    <tr>\n",
       "      <th>1</th>\n",
       "      <td>2013-01-01</td>\n",
       "      <td>10:15:33</td>\n",
       "      <td>MPT</td>\n",
       "      <td>B0AF35B31588DC4AB06D5CF2986E8E02</td>\n",
       "      <td>MD</td>\n",
       "      <td>ATH</td>\n",
       "      <td>MIL</td>\n",
       "      <td>0</td>\n",
       "      <td>1</td>\n",
       "      <td>ATH</td>\n",
       "      <td>MIL</td>\n",
       "      <td>2013-01-04</td>\n",
       "      <td>NaN</td>\n",
       "      <td>NaN</td>\n",
       "      <td>NaN</td>\n",
       "      <td>NaN</td>\n",
       "      <td>NaN</td>\n",
       "      <td>NaN</td>\n",
       "      <td>NaN</td>\n",
       "      <td>NaN</td>\n",
       "      <td>NaN</td>\n",
       "      <td>NaN</td>\n",
       "      <td>NaN</td>\n",
       "      <td>NaN</td>\n",
       "      <td>NaN</td>\n",
       "      <td>NaN</td>\n",
       "      <td>NaN</td>\n",
       "      <td>NaN</td>\n",
       "      <td>NaN</td>\n",
       "      <td>NaN</td>\n",
       "      <td>NaN</td>\n",
       "      <td>NaN</td>\n",
       "      <td>NaN</td>\n",
       "      <td>NaN</td>\n",
       "      <td>NaN</td>\n",
       "      <td>NaN</td>\n",
       "      <td>NaN</td>\n",
       "      <td>NaN</td>\n",
       "      <td>NaN</td>\n",
       "      <td>1ASIWS</td>\n",
       "      <td>0</td>\n",
       "      <td>0</td>\n",
       "      <td>0</td>\n",
       "      <td>d41d8cd98f00b204e9800998ecf8427e</td>\n",
       "      <td>KIV</td>\n",
       "      <td>NaN</td>\n",
       "    </tr>\n",
       "    <tr>\n",
       "      <th>2</th>\n",
       "      <td>2013-01-01</td>\n",
       "      <td>18:04:49</td>\n",
       "      <td>MPT</td>\n",
       "      <td>3561A60621DE06AB1BADC8CA55699EF3</td>\n",
       "      <td>US</td>\n",
       "      <td>ICT</td>\n",
       "      <td>SFO</td>\n",
       "      <td>1</td>\n",
       "      <td>2</td>\n",
       "      <td>ICT</td>\n",
       "      <td>SFO</td>\n",
       "      <td>2013-08-02</td>\n",
       "      <td>NaN</td>\n",
       "      <td>NaN</td>\n",
       "      <td>SFO</td>\n",
       "      <td>ICT</td>\n",
       "      <td>2013-08-09</td>\n",
       "      <td>NaN</td>\n",
       "      <td>NaN</td>\n",
       "      <td>NaN</td>\n",
       "      <td>NaN</td>\n",
       "      <td>NaN</td>\n",
       "      <td>NaN</td>\n",
       "      <td>NaN</td>\n",
       "      <td>NaN</td>\n",
       "      <td>NaN</td>\n",
       "      <td>NaN</td>\n",
       "      <td>NaN</td>\n",
       "      <td>NaN</td>\n",
       "      <td>NaN</td>\n",
       "      <td>NaN</td>\n",
       "      <td>NaN</td>\n",
       "      <td>NaN</td>\n",
       "      <td>NaN</td>\n",
       "      <td>NaN</td>\n",
       "      <td>NaN</td>\n",
       "      <td>NaN</td>\n",
       "      <td>NaN</td>\n",
       "      <td>NaN</td>\n",
       "      <td>1ASIWS</td>\n",
       "      <td>0</td>\n",
       "      <td>0</td>\n",
       "      <td>0</td>\n",
       "      <td>d41d8cd98f00b204e9800998ecf8427e</td>\n",
       "      <td>NYC</td>\n",
       "      <td>NaN</td>\n",
       "    </tr>\n",
       "    <tr>\n",
       "      <th>3</th>\n",
       "      <td>2013-01-01</td>\n",
       "      <td>17:42:40</td>\n",
       "      <td>FXP</td>\n",
       "      <td>1864E5E8013D9414150E91D26B6A558B</td>\n",
       "      <td>SE</td>\n",
       "      <td>RNB</td>\n",
       "      <td>ARN</td>\n",
       "      <td>0</td>\n",
       "      <td>1</td>\n",
       "      <td>RNB</td>\n",
       "      <td>ARN</td>\n",
       "      <td>2013-01-02</td>\n",
       "      <td>DU</td>\n",
       "      <td>W</td>\n",
       "      <td>NaN</td>\n",
       "      <td>NaN</td>\n",
       "      <td>NaN</td>\n",
       "      <td>NaN</td>\n",
       "      <td>NaN</td>\n",
       "      <td>NaN</td>\n",
       "      <td>NaN</td>\n",
       "      <td>NaN</td>\n",
       "      <td>NaN</td>\n",
       "      <td>NaN</td>\n",
       "      <td>NaN</td>\n",
       "      <td>NaN</td>\n",
       "      <td>NaN</td>\n",
       "      <td>NaN</td>\n",
       "      <td>NaN</td>\n",
       "      <td>NaN</td>\n",
       "      <td>NaN</td>\n",
       "      <td>NaN</td>\n",
       "      <td>NaN</td>\n",
       "      <td>NaN</td>\n",
       "      <td>NaN</td>\n",
       "      <td>NaN</td>\n",
       "      <td>NaN</td>\n",
       "      <td>NaN</td>\n",
       "      <td>NaN</td>\n",
       "      <td>1ASI</td>\n",
       "      <td>0</td>\n",
       "      <td>0</td>\n",
       "      <td>0</td>\n",
       "      <td>d41d8cd98f00b204e9800998ecf8427e</td>\n",
       "      <td>STO</td>\n",
       "      <td>NaN</td>\n",
       "    </tr>\n",
       "    <tr>\n",
       "      <th>4</th>\n",
       "      <td>2013-01-01</td>\n",
       "      <td>17:48:29</td>\n",
       "      <td>MPT</td>\n",
       "      <td>1EC336348F44207D2E0027DC3A68C118</td>\n",
       "      <td>NO</td>\n",
       "      <td>OSL</td>\n",
       "      <td>MAD</td>\n",
       "      <td>1</td>\n",
       "      <td>2</td>\n",
       "      <td>OSL</td>\n",
       "      <td>MAD</td>\n",
       "      <td>2013-03-22</td>\n",
       "      <td>NaN</td>\n",
       "      <td>NaN</td>\n",
       "      <td>MAD</td>\n",
       "      <td>OSL</td>\n",
       "      <td>2013-03-31</td>\n",
       "      <td>NaN</td>\n",
       "      <td>NaN</td>\n",
       "      <td>NaN</td>\n",
       "      <td>NaN</td>\n",
       "      <td>NaN</td>\n",
       "      <td>NaN</td>\n",
       "      <td>NaN</td>\n",
       "      <td>NaN</td>\n",
       "      <td>NaN</td>\n",
       "      <td>NaN</td>\n",
       "      <td>NaN</td>\n",
       "      <td>NaN</td>\n",
       "      <td>NaN</td>\n",
       "      <td>NaN</td>\n",
       "      <td>NaN</td>\n",
       "      <td>NaN</td>\n",
       "      <td>NaN</td>\n",
       "      <td>NaN</td>\n",
       "      <td>NaN</td>\n",
       "      <td>NaN</td>\n",
       "      <td>NaN</td>\n",
       "      <td>NaN</td>\n",
       "      <td>1ASIWS</td>\n",
       "      <td>0</td>\n",
       "      <td>0</td>\n",
       "      <td>0</td>\n",
       "      <td>d41d8cd98f00b204e9800998ecf8427e</td>\n",
       "      <td>OSL</td>\n",
       "      <td>NaN</td>\n",
       "    </tr>\n",
       "    <tr>\n",
       "      <th>...</th>\n",
       "      <td>...</td>\n",
       "      <td>...</td>\n",
       "      <td>...</td>\n",
       "      <td>...</td>\n",
       "      <td>...</td>\n",
       "      <td>...</td>\n",
       "      <td>...</td>\n",
       "      <td>...</td>\n",
       "      <td>...</td>\n",
       "      <td>...</td>\n",
       "      <td>...</td>\n",
       "      <td>...</td>\n",
       "      <td>...</td>\n",
       "      <td>...</td>\n",
       "      <td>...</td>\n",
       "      <td>...</td>\n",
       "      <td>...</td>\n",
       "      <td>...</td>\n",
       "      <td>...</td>\n",
       "      <td>...</td>\n",
       "      <td>...</td>\n",
       "      <td>...</td>\n",
       "      <td>...</td>\n",
       "      <td>...</td>\n",
       "      <td>...</td>\n",
       "      <td>...</td>\n",
       "      <td>...</td>\n",
       "      <td>...</td>\n",
       "      <td>...</td>\n",
       "      <td>...</td>\n",
       "      <td>...</td>\n",
       "      <td>...</td>\n",
       "      <td>...</td>\n",
       "      <td>...</td>\n",
       "      <td>...</td>\n",
       "      <td>...</td>\n",
       "      <td>...</td>\n",
       "      <td>...</td>\n",
       "      <td>...</td>\n",
       "      <td>...</td>\n",
       "      <td>...</td>\n",
       "      <td>...</td>\n",
       "      <td>...</td>\n",
       "      <td>...</td>\n",
       "      <td>...</td>\n",
       "      <td>...</td>\n",
       "    </tr>\n",
       "    <tr>\n",
       "      <th>363585</th>\n",
       "      <td>2013-08-04</td>\n",
       "      <td>07:14:59</td>\n",
       "      <td>MPT</td>\n",
       "      <td>D03A30F66F773A65AAD66E7BAFD1110F</td>\n",
       "      <td>GR</td>\n",
       "      <td>DXB</td>\n",
       "      <td>IST</td>\n",
       "      <td>1</td>\n",
       "      <td>2</td>\n",
       "      <td>DXB</td>\n",
       "      <td>IST</td>\n",
       "      <td>2013-08-18</td>\n",
       "      <td>NaN</td>\n",
       "      <td>NaN</td>\n",
       "      <td>IST</td>\n",
       "      <td>DXB</td>\n",
       "      <td>2013-08-21</td>\n",
       "      <td>NaN</td>\n",
       "      <td>NaN</td>\n",
       "      <td>NaN</td>\n",
       "      <td>NaN</td>\n",
       "      <td>NaN</td>\n",
       "      <td>NaN</td>\n",
       "      <td>NaN</td>\n",
       "      <td>NaN</td>\n",
       "      <td>NaN</td>\n",
       "      <td>NaN</td>\n",
       "      <td>NaN</td>\n",
       "      <td>NaN</td>\n",
       "      <td>NaN</td>\n",
       "      <td>NaN</td>\n",
       "      <td>NaN</td>\n",
       "      <td>NaN</td>\n",
       "      <td>NaN</td>\n",
       "      <td>NaN</td>\n",
       "      <td>NaN</td>\n",
       "      <td>NaN</td>\n",
       "      <td>NaN</td>\n",
       "      <td>NaN</td>\n",
       "      <td>1ASI</td>\n",
       "      <td>0</td>\n",
       "      <td>0</td>\n",
       "      <td>0</td>\n",
       "      <td>d41d8cd98f00b204e9800998ecf8427e</td>\n",
       "      <td>0</td>\n",
       "      <td>NaN</td>\n",
       "    </tr>\n",
       "    <tr>\n",
       "      <th>363586</th>\n",
       "      <td>2013-08-04</td>\n",
       "      <td>07:34:47</td>\n",
       "      <td>MPT</td>\n",
       "      <td>1EE479F5D8E435942D95363363634AEE</td>\n",
       "      <td>DE</td>\n",
       "      <td>FRA</td>\n",
       "      <td>SUF</td>\n",
       "      <td>1</td>\n",
       "      <td>2</td>\n",
       "      <td>FRA</td>\n",
       "      <td>SUF</td>\n",
       "      <td>2013-10-19</td>\n",
       "      <td>NaN</td>\n",
       "      <td>NaN</td>\n",
       "      <td>SUF</td>\n",
       "      <td>FRA</td>\n",
       "      <td>2013-10-26</td>\n",
       "      <td>NaN</td>\n",
       "      <td>NaN</td>\n",
       "      <td>NaN</td>\n",
       "      <td>NaN</td>\n",
       "      <td>NaN</td>\n",
       "      <td>NaN</td>\n",
       "      <td>NaN</td>\n",
       "      <td>NaN</td>\n",
       "      <td>NaN</td>\n",
       "      <td>NaN</td>\n",
       "      <td>NaN</td>\n",
       "      <td>NaN</td>\n",
       "      <td>NaN</td>\n",
       "      <td>NaN</td>\n",
       "      <td>NaN</td>\n",
       "      <td>NaN</td>\n",
       "      <td>NaN</td>\n",
       "      <td>NaN</td>\n",
       "      <td>NaN</td>\n",
       "      <td>NaN</td>\n",
       "      <td>NaN</td>\n",
       "      <td>NaN</td>\n",
       "      <td>1ASIWS</td>\n",
       "      <td>0</td>\n",
       "      <td>0</td>\n",
       "      <td>0</td>\n",
       "      <td>d41d8cd98f00b204e9800998ecf8427e</td>\n",
       "      <td>0</td>\n",
       "      <td>NaN</td>\n",
       "    </tr>\n",
       "    <tr>\n",
       "      <th>363587</th>\n",
       "      <td>2013-08-04</td>\n",
       "      <td>12:57:04</td>\n",
       "      <td>MPT</td>\n",
       "      <td>D8CFDEAA1E5442B0FB728A71485F426C</td>\n",
       "      <td>ES</td>\n",
       "      <td>BCN</td>\n",
       "      <td>PAR</td>\n",
       "      <td>0</td>\n",
       "      <td>1</td>\n",
       "      <td>BCN</td>\n",
       "      <td>PAR</td>\n",
       "      <td>2013-08-23</td>\n",
       "      <td>AD</td>\n",
       "      <td>NaN</td>\n",
       "      <td>NaN</td>\n",
       "      <td>NaN</td>\n",
       "      <td>NaN</td>\n",
       "      <td>NaN</td>\n",
       "      <td>NaN</td>\n",
       "      <td>NaN</td>\n",
       "      <td>NaN</td>\n",
       "      <td>NaN</td>\n",
       "      <td>NaN</td>\n",
       "      <td>NaN</td>\n",
       "      <td>NaN</td>\n",
       "      <td>NaN</td>\n",
       "      <td>NaN</td>\n",
       "      <td>NaN</td>\n",
       "      <td>NaN</td>\n",
       "      <td>NaN</td>\n",
       "      <td>NaN</td>\n",
       "      <td>NaN</td>\n",
       "      <td>NaN</td>\n",
       "      <td>NaN</td>\n",
       "      <td>NaN</td>\n",
       "      <td>NaN</td>\n",
       "      <td>NaN</td>\n",
       "      <td>NaN</td>\n",
       "      <td>NaN</td>\n",
       "      <td>1ASIWS</td>\n",
       "      <td>0</td>\n",
       "      <td>0</td>\n",
       "      <td>0</td>\n",
       "      <td>d41d8cd98f00b204e9800998ecf8427e</td>\n",
       "      <td>0</td>\n",
       "      <td>NaN</td>\n",
       "    </tr>\n",
       "    <tr>\n",
       "      <th>363588</th>\n",
       "      <td>2013-08-04</td>\n",
       "      <td>15:27:20</td>\n",
       "      <td>MPT</td>\n",
       "      <td>0A914CFB66B849DDDAA6BB2E66FF0999</td>\n",
       "      <td>DE</td>\n",
       "      <td>KTW</td>\n",
       "      <td>NYC</td>\n",
       "      <td>1</td>\n",
       "      <td>2</td>\n",
       "      <td>KTW</td>\n",
       "      <td>NYC</td>\n",
       "      <td>2013-09-25</td>\n",
       "      <td>NaN</td>\n",
       "      <td>NaN</td>\n",
       "      <td>NYC</td>\n",
       "      <td>KTW</td>\n",
       "      <td>2013-10-07</td>\n",
       "      <td>NaN</td>\n",
       "      <td>NaN</td>\n",
       "      <td>NaN</td>\n",
       "      <td>NaN</td>\n",
       "      <td>NaN</td>\n",
       "      <td>NaN</td>\n",
       "      <td>NaN</td>\n",
       "      <td>NaN</td>\n",
       "      <td>NaN</td>\n",
       "      <td>NaN</td>\n",
       "      <td>NaN</td>\n",
       "      <td>NaN</td>\n",
       "      <td>NaN</td>\n",
       "      <td>NaN</td>\n",
       "      <td>NaN</td>\n",
       "      <td>NaN</td>\n",
       "      <td>NaN</td>\n",
       "      <td>NaN</td>\n",
       "      <td>NaN</td>\n",
       "      <td>NaN</td>\n",
       "      <td>NaN</td>\n",
       "      <td>NaN</td>\n",
       "      <td>1ASIWS</td>\n",
       "      <td>0</td>\n",
       "      <td>0</td>\n",
       "      <td>0</td>\n",
       "      <td>d41d8cd98f00b204e9800998ecf8427e</td>\n",
       "      <td>0</td>\n",
       "      <td>NaN</td>\n",
       "    </tr>\n",
       "    <tr>\n",
       "      <th>363589</th>\n",
       "      <td>2013-08-04</td>\n",
       "      <td>20:17:47</td>\n",
       "      <td>MPT</td>\n",
       "      <td>BE34E1BCFFED441E2A4CA0F251594AA7</td>\n",
       "      <td>CA</td>\n",
       "      <td>BNE</td>\n",
       "      <td>BKK</td>\n",
       "      <td>1</td>\n",
       "      <td>2</td>\n",
       "      <td>BNE</td>\n",
       "      <td>BKK</td>\n",
       "      <td>2013-09-12</td>\n",
       "      <td>MK</td>\n",
       "      <td>NaN</td>\n",
       "      <td>BKK</td>\n",
       "      <td>BNE</td>\n",
       "      <td>2013-09-23</td>\n",
       "      <td>MK</td>\n",
       "      <td>NaN</td>\n",
       "      <td>NaN</td>\n",
       "      <td>NaN</td>\n",
       "      <td>NaN</td>\n",
       "      <td>NaN</td>\n",
       "      <td>NaN</td>\n",
       "      <td>NaN</td>\n",
       "      <td>NaN</td>\n",
       "      <td>NaN</td>\n",
       "      <td>NaN</td>\n",
       "      <td>NaN</td>\n",
       "      <td>NaN</td>\n",
       "      <td>NaN</td>\n",
       "      <td>NaN</td>\n",
       "      <td>NaN</td>\n",
       "      <td>NaN</td>\n",
       "      <td>NaN</td>\n",
       "      <td>NaN</td>\n",
       "      <td>NaN</td>\n",
       "      <td>NaN</td>\n",
       "      <td>NaN</td>\n",
       "      <td>1ASIWS</td>\n",
       "      <td>0</td>\n",
       "      <td>0</td>\n",
       "      <td>0</td>\n",
       "      <td>d41d8cd98f00b204e9800998ecf8427e</td>\n",
       "      <td>0</td>\n",
       "      <td>NaN</td>\n",
       "    </tr>\n",
       "  </tbody>\n",
       "</table>\n",
       "<p>363590 rows × 46 columns</p>\n",
       "</div>"
      ],
      "text/plain": [
       "              Date      Time TxnCode                          OfficeID  \\\n",
       "0       2013-01-01  20:25:57     MPT  624D8C3AC0B3A7CA03E3C167E0F48327   \n",
       "1       2013-01-01  10:15:33     MPT  B0AF35B31588DC4AB06D5CF2986E8E02   \n",
       "2       2013-01-01  18:04:49     MPT  3561A60621DE06AB1BADC8CA55699EF3   \n",
       "3       2013-01-01  17:42:40     FXP  1864E5E8013D9414150E91D26B6A558B   \n",
       "4       2013-01-01  17:48:29     MPT  1EC336348F44207D2E0027DC3A68C118   \n",
       "...            ...       ...     ...                               ...   \n",
       "363585  2013-08-04  07:14:59     MPT  D03A30F66F773A65AAD66E7BAFD1110F   \n",
       "363586  2013-08-04  07:34:47     MPT  1EE479F5D8E435942D95363363634AEE   \n",
       "363587  2013-08-04  12:57:04     MPT  D8CFDEAA1E5442B0FB728A71485F426C   \n",
       "363588  2013-08-04  15:27:20     MPT  0A914CFB66B849DDDAA6BB2E66FF0999   \n",
       "363589  2013-08-04  20:17:47     MPT  BE34E1BCFFED441E2A4CA0F251594AA7   \n",
       "\n",
       "       Country Origin Destination  RoundTrip  NbSegments Seg1Departure  \\\n",
       "0           DE    TXL         AUH          1           2           TXL   \n",
       "1           MD    ATH         MIL          0           1           ATH   \n",
       "2           US    ICT         SFO          1           2           ICT   \n",
       "3           SE    RNB         ARN          0           1           RNB   \n",
       "4           NO    OSL         MAD          1           2           OSL   \n",
       "...        ...    ...         ...        ...         ...           ...   \n",
       "363585      GR    DXB         IST          1           2           DXB   \n",
       "363586      DE    FRA         SUF          1           2           FRA   \n",
       "363587      ES    BCN         PAR          0           1           BCN   \n",
       "363588      DE    KTW         NYC          1           2           KTW   \n",
       "363589      CA    BNE         BKK          1           2           BNE   \n",
       "\n",
       "       Seg1Arrival    Seg1Date Seg1Carrier Seg1BookingCode Seg2Departure  \\\n",
       "0              AUH  2013-01-26          D2             NaN           AUH   \n",
       "1              MIL  2013-01-04         NaN             NaN           NaN   \n",
       "2              SFO  2013-08-02         NaN             NaN           SFO   \n",
       "3              ARN  2013-01-02          DU               W           NaN   \n",
       "4              MAD  2013-03-22         NaN             NaN           MAD   \n",
       "...            ...         ...         ...             ...           ...   \n",
       "363585         IST  2013-08-18         NaN             NaN           IST   \n",
       "363586         SUF  2013-10-19         NaN             NaN           SUF   \n",
       "363587         PAR  2013-08-23          AD             NaN           NaN   \n",
       "363588         NYC  2013-09-25         NaN             NaN           NYC   \n",
       "363589         BKK  2013-09-12          MK             NaN           BKK   \n",
       "\n",
       "       Seg2Arrival    Seg2Date Seg2Carrier Seg2BookingCode Seg3Departure  \\\n",
       "0              TXL  2013-02-02          D2             NaN           NaN   \n",
       "1              NaN         NaN         NaN             NaN           NaN   \n",
       "2              ICT  2013-08-09         NaN             NaN           NaN   \n",
       "3              NaN         NaN         NaN             NaN           NaN   \n",
       "4              OSL  2013-03-31         NaN             NaN           NaN   \n",
       "...            ...         ...         ...             ...           ...   \n",
       "363585         DXB  2013-08-21         NaN             NaN           NaN   \n",
       "363586         FRA  2013-10-26         NaN             NaN           NaN   \n",
       "363587         NaN         NaN         NaN             NaN           NaN   \n",
       "363588         KTW  2013-10-07         NaN             NaN           NaN   \n",
       "363589         BNE  2013-09-23          MK             NaN           NaN   \n",
       "\n",
       "       Seg3Arrival Seg3Date Seg3Carrier Seg3BookingCode Seg4Departure  \\\n",
       "0              NaN      NaN         NaN             NaN           NaN   \n",
       "1              NaN      NaN         NaN             NaN           NaN   \n",
       "2              NaN      NaN         NaN             NaN           NaN   \n",
       "3              NaN      NaN         NaN             NaN           NaN   \n",
       "4              NaN      NaN         NaN             NaN           NaN   \n",
       "...            ...      ...         ...             ...           ...   \n",
       "363585         NaN      NaN         NaN             NaN           NaN   \n",
       "363586         NaN      NaN         NaN             NaN           NaN   \n",
       "363587         NaN      NaN         NaN             NaN           NaN   \n",
       "363588         NaN      NaN         NaN             NaN           NaN   \n",
       "363589         NaN      NaN         NaN             NaN           NaN   \n",
       "\n",
       "       Seg4Arrival Seg4Date Seg4Carrier Seg4BookingCode Seg5Departure  \\\n",
       "0              NaN      NaN         NaN             NaN           NaN   \n",
       "1              NaN      NaN         NaN             NaN           NaN   \n",
       "2              NaN      NaN         NaN             NaN           NaN   \n",
       "3              NaN      NaN         NaN             NaN           NaN   \n",
       "4              NaN      NaN         NaN             NaN           NaN   \n",
       "...            ...      ...         ...             ...           ...   \n",
       "363585         NaN      NaN         NaN             NaN           NaN   \n",
       "363586         NaN      NaN         NaN             NaN           NaN   \n",
       "363587         NaN      NaN         NaN             NaN           NaN   \n",
       "363588         NaN      NaN         NaN             NaN           NaN   \n",
       "363589         NaN      NaN         NaN             NaN           NaN   \n",
       "\n",
       "       Seg5Arrival Seg5Date Seg5Carrier Seg5BookingCode Seg6Departure  \\\n",
       "0              NaN      NaN         NaN             NaN           NaN   \n",
       "1              NaN      NaN         NaN             NaN           NaN   \n",
       "2              NaN      NaN         NaN             NaN           NaN   \n",
       "3              NaN      NaN         NaN             NaN           NaN   \n",
       "4              NaN      NaN         NaN             NaN           NaN   \n",
       "...            ...      ...         ...             ...           ...   \n",
       "363585         NaN      NaN         NaN             NaN           NaN   \n",
       "363586         NaN      NaN         NaN             NaN           NaN   \n",
       "363587         NaN      NaN         NaN             NaN           NaN   \n",
       "363588         NaN      NaN         NaN             NaN           NaN   \n",
       "363589         NaN      NaN         NaN             NaN           NaN   \n",
       "\n",
       "       Seg6Arrival Seg6Date Seg6Carrier Seg6BookingCode    From  \\\n",
       "0              NaN      NaN         NaN             NaN  1ASIWS   \n",
       "1              NaN      NaN         NaN             NaN  1ASIWS   \n",
       "2              NaN      NaN         NaN             NaN  1ASIWS   \n",
       "3              NaN      NaN         NaN             NaN    1ASI   \n",
       "4              NaN      NaN         NaN             NaN  1ASIWS   \n",
       "...            ...      ...         ...             ...     ...   \n",
       "363585         NaN      NaN         NaN             NaN    1ASI   \n",
       "363586         NaN      NaN         NaN             NaN  1ASIWS   \n",
       "363587         NaN      NaN         NaN             NaN  1ASIWS   \n",
       "363588         NaN      NaN         NaN             NaN  1ASIWS   \n",
       "363589         NaN      NaN         NaN             NaN  1ASIWS   \n",
       "\n",
       "        IsPublishedForNeg  IsFromInternet  IsFromVista  \\\n",
       "0                       0               0            0   \n",
       "1                       0               0            0   \n",
       "2                       0               0            0   \n",
       "3                       0               0            0   \n",
       "4                       0               0            0   \n",
       "...                   ...             ...          ...   \n",
       "363585                  0               0            0   \n",
       "363586                  0               0            0   \n",
       "363587                  0               0            0   \n",
       "363588                  0               0            0   \n",
       "363589                  0               0            0   \n",
       "\n",
       "                              TerminalID InternetOffice  Booking  \n",
       "0       d41d8cd98f00b204e9800998ecf8427e            FRA      NaN  \n",
       "1       d41d8cd98f00b204e9800998ecf8427e            KIV      NaN  \n",
       "2       d41d8cd98f00b204e9800998ecf8427e            NYC      NaN  \n",
       "3       d41d8cd98f00b204e9800998ecf8427e            STO      NaN  \n",
       "4       d41d8cd98f00b204e9800998ecf8427e            OSL      NaN  \n",
       "...                                  ...            ...      ...  \n",
       "363585  d41d8cd98f00b204e9800998ecf8427e              0      NaN  \n",
       "363586  d41d8cd98f00b204e9800998ecf8427e              0      NaN  \n",
       "363587  d41d8cd98f00b204e9800998ecf8427e              0      NaN  \n",
       "363588  d41d8cd98f00b204e9800998ecf8427e              0      NaN  \n",
       "363589  d41d8cd98f00b204e9800998ecf8427e              0      NaN  \n",
       "\n",
       "[363590 rows x 46 columns]"
      ]
     },
     "execution_count": 170,
     "metadata": {},
     "output_type": "execute_result"
    }
   ],
   "source": [
    "combined"
   ]
  },
  {
   "cell_type": "code",
   "execution_count": 174,
   "metadata": {},
   "outputs": [
    {
     "data": {
      "text/plain": [
       "699.0"
      ]
     },
     "execution_count": 174,
     "metadata": {},
     "output_type": "execute_result"
    }
   ],
   "source": [
    "combined['Booking'].sum()"
   ]
  },
  {
   "cell_type": "code",
   "execution_count": 185,
   "metadata": {},
   "outputs": [
    {
     "data": {
      "text/plain": [
       "-247"
      ]
     },
     "execution_count": 185,
     "metadata": {},
     "output_type": "execute_result"
    }
   ],
   "source": [
    "searches_to_merge.shape[0] - combined.shape[0]"
   ]
  },
  {
   "cell_type": "code",
   "execution_count": 175,
   "metadata": {},
   "outputs": [
    {
     "data": {
      "text/plain": [
       "247"
      ]
     },
     "execution_count": 175,
     "metadata": {},
     "output_type": "execute_result"
    }
   ],
   "source": [
    "363590 - 363343"
   ]
  },
  {
   "cell_type": "markdown",
   "metadata": {},
   "source": [
    "No me cuadra que aumente el numero de filas, probemos eliminando las nuevas filas duplicadas en bookings."
   ]
  },
  {
   "cell_type": "markdown",
   "metadata": {},
   "source": [
    "------------------"
   ]
  },
  {
   "cell_type": "markdown",
   "metadata": {},
   "source": [
    "Hagamos dos nuevas copias para no usar las anteriores, por si retomamos en ese punto."
   ]
  },
  {
   "cell_type": "code",
   "execution_count": 176,
   "metadata": {},
   "outputs": [
    {
     "data": {
      "text/plain": [
       "341002"
      ]
     },
     "execution_count": 176,
     "metadata": {},
     "output_type": "execute_result"
    }
   ],
   "source": [
    "bookings_to_merge.duplicated().sum()"
   ]
  },
  {
   "cell_type": "code",
   "execution_count": 177,
   "metadata": {},
   "outputs": [
    {
     "data": {
      "text/plain": [
       "0"
      ]
     },
     "execution_count": 177,
     "metadata": {},
     "output_type": "execute_result"
    }
   ],
   "source": [
    "searches_to_merge.duplicated().sum()"
   ]
  },
  {
   "cell_type": "code",
   "execution_count": 180,
   "metadata": {},
   "outputs": [
    {
     "data": {
      "text/plain": [
       "(363343, 45)"
      ]
     },
     "execution_count": 180,
     "metadata": {},
     "output_type": "execute_result"
    }
   ],
   "source": [
    "searches_to_merge.shape"
   ]
  },
  {
   "cell_type": "code",
   "execution_count": 179,
   "metadata": {},
   "outputs": [
    {
     "data": {
      "text/plain": [
       "341002"
      ]
     },
     "execution_count": 179,
     "metadata": {},
     "output_type": "execute_result"
    }
   ],
   "source": [
    "bookings_to_merge_2 = bookings_to_merge.copy()\n",
    "bookings_to_merge_2.duplicated().sum()"
   ]
  },
  {
   "cell_type": "code",
   "execution_count": 181,
   "metadata": {},
   "outputs": [
    {
     "data": {
      "text/plain": [
       "(363343, 45)"
      ]
     },
     "execution_count": 181,
     "metadata": {},
     "output_type": "execute_result"
    }
   ],
   "source": [
    "searches_to_merge_2 = searches_to_merge.copy()\n",
    "searches_to_merge_2.shape"
   ]
  },
  {
   "cell_type": "code",
   "execution_count": null,
   "metadata": {},
   "outputs": [],
   "source": []
  },
  {
   "cell_type": "code",
   "execution_count": 183,
   "metadata": {},
   "outputs": [
    {
     "data": {
      "text/plain": [
       "658998"
      ]
     },
     "execution_count": 183,
     "metadata": {},
     "output_type": "execute_result"
    }
   ],
   "source": [
    "bookings_to_merge_2.shape[0] - bookings_to_merge_2.duplicated().sum()"
   ]
  },
  {
   "cell_type": "code",
   "execution_count": 184,
   "metadata": {},
   "outputs": [
    {
     "name": "stdout",
     "output_type": "stream",
     "text": [
      "(658998, 5)\n"
     ]
    },
    {
     "data": {
      "text/plain": [
       "0"
      ]
     },
     "execution_count": 184,
     "metadata": {},
     "output_type": "execute_result"
    }
   ],
   "source": [
    "bookings_to_merge_2.drop_duplicates(inplace=True)\n",
    "print(bookings_to_merge_2.shape)\n",
    "bookings_to_merge_2.duplicated().sum()"
   ]
  },
  {
   "cell_type": "markdown",
   "metadata": {},
   "source": [
    "Ahora hacemos el merge"
   ]
  },
  {
   "cell_type": "code",
   "execution_count": 186,
   "metadata": {},
   "outputs": [],
   "source": [
    "combined_2 = searches_to_merge_2.merge(bookings_to_merge_2, \n",
    "                                       how='left',\n",
    "                                      )"
   ]
  },
  {
   "cell_type": "code",
   "execution_count": 190,
   "metadata": {},
   "outputs": [
    {
     "data": {
      "text/html": [
       "<div>\n",
       "<style scoped>\n",
       "    .dataframe tbody tr th:only-of-type {\n",
       "        vertical-align: middle;\n",
       "    }\n",
       "\n",
       "    .dataframe tbody tr th {\n",
       "        vertical-align: top;\n",
       "    }\n",
       "\n",
       "    .dataframe thead th {\n",
       "        text-align: right;\n",
       "    }\n",
       "</style>\n",
       "<table border=\"1\" class=\"dataframe\">\n",
       "  <thead>\n",
       "    <tr style=\"text-align: right;\">\n",
       "      <th></th>\n",
       "      <th>Date</th>\n",
       "      <th>Time</th>\n",
       "      <th>TxnCode</th>\n",
       "      <th>OfficeID</th>\n",
       "      <th>Country</th>\n",
       "      <th>Origin</th>\n",
       "      <th>Destination</th>\n",
       "      <th>RoundTrip</th>\n",
       "      <th>NbSegments</th>\n",
       "      <th>Seg1Departure</th>\n",
       "      <th>Seg1Arrival</th>\n",
       "      <th>Seg1Date</th>\n",
       "      <th>Seg1Carrier</th>\n",
       "      <th>Seg1BookingCode</th>\n",
       "      <th>Seg2Departure</th>\n",
       "      <th>Seg2Arrival</th>\n",
       "      <th>Seg2Date</th>\n",
       "      <th>Seg2Carrier</th>\n",
       "      <th>Seg2BookingCode</th>\n",
       "      <th>Seg3Departure</th>\n",
       "      <th>Seg3Arrival</th>\n",
       "      <th>Seg3Date</th>\n",
       "      <th>Seg3Carrier</th>\n",
       "      <th>Seg3BookingCode</th>\n",
       "      <th>Seg4Departure</th>\n",
       "      <th>Seg4Arrival</th>\n",
       "      <th>Seg4Date</th>\n",
       "      <th>Seg4Carrier</th>\n",
       "      <th>Seg4BookingCode</th>\n",
       "      <th>Seg5Departure</th>\n",
       "      <th>Seg5Arrival</th>\n",
       "      <th>Seg5Date</th>\n",
       "      <th>Seg5Carrier</th>\n",
       "      <th>Seg5BookingCode</th>\n",
       "      <th>Seg6Departure</th>\n",
       "      <th>Seg6Arrival</th>\n",
       "      <th>Seg6Date</th>\n",
       "      <th>Seg6Carrier</th>\n",
       "      <th>Seg6BookingCode</th>\n",
       "      <th>From</th>\n",
       "      <th>IsPublishedForNeg</th>\n",
       "      <th>IsFromInternet</th>\n",
       "      <th>IsFromVista</th>\n",
       "      <th>TerminalID</th>\n",
       "      <th>InternetOffice</th>\n",
       "      <th>Booking</th>\n",
       "    </tr>\n",
       "  </thead>\n",
       "  <tbody>\n",
       "    <tr>\n",
       "      <th>0</th>\n",
       "      <td>2013-01-01</td>\n",
       "      <td>20:25:57</td>\n",
       "      <td>MPT</td>\n",
       "      <td>624D8C3AC0B3A7CA03E3C167E0F48327</td>\n",
       "      <td>DE</td>\n",
       "      <td>TXL</td>\n",
       "      <td>AUH</td>\n",
       "      <td>1</td>\n",
       "      <td>2</td>\n",
       "      <td>TXL</td>\n",
       "      <td>AUH</td>\n",
       "      <td>2013-01-26</td>\n",
       "      <td>D2</td>\n",
       "      <td>NaN</td>\n",
       "      <td>AUH</td>\n",
       "      <td>TXL</td>\n",
       "      <td>2013-02-02</td>\n",
       "      <td>D2</td>\n",
       "      <td>NaN</td>\n",
       "      <td>NaN</td>\n",
       "      <td>NaN</td>\n",
       "      <td>NaN</td>\n",
       "      <td>NaN</td>\n",
       "      <td>NaN</td>\n",
       "      <td>NaN</td>\n",
       "      <td>NaN</td>\n",
       "      <td>NaN</td>\n",
       "      <td>NaN</td>\n",
       "      <td>NaN</td>\n",
       "      <td>NaN</td>\n",
       "      <td>NaN</td>\n",
       "      <td>NaN</td>\n",
       "      <td>NaN</td>\n",
       "      <td>NaN</td>\n",
       "      <td>NaN</td>\n",
       "      <td>NaN</td>\n",
       "      <td>NaN</td>\n",
       "      <td>NaN</td>\n",
       "      <td>NaN</td>\n",
       "      <td>1ASIWS</td>\n",
       "      <td>0</td>\n",
       "      <td>0</td>\n",
       "      <td>0</td>\n",
       "      <td>d41d8cd98f00b204e9800998ecf8427e</td>\n",
       "      <td>FRA</td>\n",
       "      <td>NaN</td>\n",
       "    </tr>\n",
       "    <tr>\n",
       "      <th>1</th>\n",
       "      <td>2013-01-01</td>\n",
       "      <td>10:15:33</td>\n",
       "      <td>MPT</td>\n",
       "      <td>B0AF35B31588DC4AB06D5CF2986E8E02</td>\n",
       "      <td>MD</td>\n",
       "      <td>ATH</td>\n",
       "      <td>MIL</td>\n",
       "      <td>0</td>\n",
       "      <td>1</td>\n",
       "      <td>ATH</td>\n",
       "      <td>MIL</td>\n",
       "      <td>2013-01-04</td>\n",
       "      <td>NaN</td>\n",
       "      <td>NaN</td>\n",
       "      <td>NaN</td>\n",
       "      <td>NaN</td>\n",
       "      <td>NaN</td>\n",
       "      <td>NaN</td>\n",
       "      <td>NaN</td>\n",
       "      <td>NaN</td>\n",
       "      <td>NaN</td>\n",
       "      <td>NaN</td>\n",
       "      <td>NaN</td>\n",
       "      <td>NaN</td>\n",
       "      <td>NaN</td>\n",
       "      <td>NaN</td>\n",
       "      <td>NaN</td>\n",
       "      <td>NaN</td>\n",
       "      <td>NaN</td>\n",
       "      <td>NaN</td>\n",
       "      <td>NaN</td>\n",
       "      <td>NaN</td>\n",
       "      <td>NaN</td>\n",
       "      <td>NaN</td>\n",
       "      <td>NaN</td>\n",
       "      <td>NaN</td>\n",
       "      <td>NaN</td>\n",
       "      <td>NaN</td>\n",
       "      <td>NaN</td>\n",
       "      <td>1ASIWS</td>\n",
       "      <td>0</td>\n",
       "      <td>0</td>\n",
       "      <td>0</td>\n",
       "      <td>d41d8cd98f00b204e9800998ecf8427e</td>\n",
       "      <td>KIV</td>\n",
       "      <td>NaN</td>\n",
       "    </tr>\n",
       "    <tr>\n",
       "      <th>2</th>\n",
       "      <td>2013-01-01</td>\n",
       "      <td>18:04:49</td>\n",
       "      <td>MPT</td>\n",
       "      <td>3561A60621DE06AB1BADC8CA55699EF3</td>\n",
       "      <td>US</td>\n",
       "      <td>ICT</td>\n",
       "      <td>SFO</td>\n",
       "      <td>1</td>\n",
       "      <td>2</td>\n",
       "      <td>ICT</td>\n",
       "      <td>SFO</td>\n",
       "      <td>2013-08-02</td>\n",
       "      <td>NaN</td>\n",
       "      <td>NaN</td>\n",
       "      <td>SFO</td>\n",
       "      <td>ICT</td>\n",
       "      <td>2013-08-09</td>\n",
       "      <td>NaN</td>\n",
       "      <td>NaN</td>\n",
       "      <td>NaN</td>\n",
       "      <td>NaN</td>\n",
       "      <td>NaN</td>\n",
       "      <td>NaN</td>\n",
       "      <td>NaN</td>\n",
       "      <td>NaN</td>\n",
       "      <td>NaN</td>\n",
       "      <td>NaN</td>\n",
       "      <td>NaN</td>\n",
       "      <td>NaN</td>\n",
       "      <td>NaN</td>\n",
       "      <td>NaN</td>\n",
       "      <td>NaN</td>\n",
       "      <td>NaN</td>\n",
       "      <td>NaN</td>\n",
       "      <td>NaN</td>\n",
       "      <td>NaN</td>\n",
       "      <td>NaN</td>\n",
       "      <td>NaN</td>\n",
       "      <td>NaN</td>\n",
       "      <td>1ASIWS</td>\n",
       "      <td>0</td>\n",
       "      <td>0</td>\n",
       "      <td>0</td>\n",
       "      <td>d41d8cd98f00b204e9800998ecf8427e</td>\n",
       "      <td>NYC</td>\n",
       "      <td>NaN</td>\n",
       "    </tr>\n",
       "    <tr>\n",
       "      <th>3</th>\n",
       "      <td>2013-01-01</td>\n",
       "      <td>17:42:40</td>\n",
       "      <td>FXP</td>\n",
       "      <td>1864E5E8013D9414150E91D26B6A558B</td>\n",
       "      <td>SE</td>\n",
       "      <td>RNB</td>\n",
       "      <td>ARN</td>\n",
       "      <td>0</td>\n",
       "      <td>1</td>\n",
       "      <td>RNB</td>\n",
       "      <td>ARN</td>\n",
       "      <td>2013-01-02</td>\n",
       "      <td>DU</td>\n",
       "      <td>W</td>\n",
       "      <td>NaN</td>\n",
       "      <td>NaN</td>\n",
       "      <td>NaN</td>\n",
       "      <td>NaN</td>\n",
       "      <td>NaN</td>\n",
       "      <td>NaN</td>\n",
       "      <td>NaN</td>\n",
       "      <td>NaN</td>\n",
       "      <td>NaN</td>\n",
       "      <td>NaN</td>\n",
       "      <td>NaN</td>\n",
       "      <td>NaN</td>\n",
       "      <td>NaN</td>\n",
       "      <td>NaN</td>\n",
       "      <td>NaN</td>\n",
       "      <td>NaN</td>\n",
       "      <td>NaN</td>\n",
       "      <td>NaN</td>\n",
       "      <td>NaN</td>\n",
       "      <td>NaN</td>\n",
       "      <td>NaN</td>\n",
       "      <td>NaN</td>\n",
       "      <td>NaN</td>\n",
       "      <td>NaN</td>\n",
       "      <td>NaN</td>\n",
       "      <td>1ASI</td>\n",
       "      <td>0</td>\n",
       "      <td>0</td>\n",
       "      <td>0</td>\n",
       "      <td>d41d8cd98f00b204e9800998ecf8427e</td>\n",
       "      <td>STO</td>\n",
       "      <td>NaN</td>\n",
       "    </tr>\n",
       "    <tr>\n",
       "      <th>4</th>\n",
       "      <td>2013-01-01</td>\n",
       "      <td>17:48:29</td>\n",
       "      <td>MPT</td>\n",
       "      <td>1EC336348F44207D2E0027DC3A68C118</td>\n",
       "      <td>NO</td>\n",
       "      <td>OSL</td>\n",
       "      <td>MAD</td>\n",
       "      <td>1</td>\n",
       "      <td>2</td>\n",
       "      <td>OSL</td>\n",
       "      <td>MAD</td>\n",
       "      <td>2013-03-22</td>\n",
       "      <td>NaN</td>\n",
       "      <td>NaN</td>\n",
       "      <td>MAD</td>\n",
       "      <td>OSL</td>\n",
       "      <td>2013-03-31</td>\n",
       "      <td>NaN</td>\n",
       "      <td>NaN</td>\n",
       "      <td>NaN</td>\n",
       "      <td>NaN</td>\n",
       "      <td>NaN</td>\n",
       "      <td>NaN</td>\n",
       "      <td>NaN</td>\n",
       "      <td>NaN</td>\n",
       "      <td>NaN</td>\n",
       "      <td>NaN</td>\n",
       "      <td>NaN</td>\n",
       "      <td>NaN</td>\n",
       "      <td>NaN</td>\n",
       "      <td>NaN</td>\n",
       "      <td>NaN</td>\n",
       "      <td>NaN</td>\n",
       "      <td>NaN</td>\n",
       "      <td>NaN</td>\n",
       "      <td>NaN</td>\n",
       "      <td>NaN</td>\n",
       "      <td>NaN</td>\n",
       "      <td>NaN</td>\n",
       "      <td>1ASIWS</td>\n",
       "      <td>0</td>\n",
       "      <td>0</td>\n",
       "      <td>0</td>\n",
       "      <td>d41d8cd98f00b204e9800998ecf8427e</td>\n",
       "      <td>OSL</td>\n",
       "      <td>NaN</td>\n",
       "    </tr>\n",
       "    <tr>\n",
       "      <th>...</th>\n",
       "      <td>...</td>\n",
       "      <td>...</td>\n",
       "      <td>...</td>\n",
       "      <td>...</td>\n",
       "      <td>...</td>\n",
       "      <td>...</td>\n",
       "      <td>...</td>\n",
       "      <td>...</td>\n",
       "      <td>...</td>\n",
       "      <td>...</td>\n",
       "      <td>...</td>\n",
       "      <td>...</td>\n",
       "      <td>...</td>\n",
       "      <td>...</td>\n",
       "      <td>...</td>\n",
       "      <td>...</td>\n",
       "      <td>...</td>\n",
       "      <td>...</td>\n",
       "      <td>...</td>\n",
       "      <td>...</td>\n",
       "      <td>...</td>\n",
       "      <td>...</td>\n",
       "      <td>...</td>\n",
       "      <td>...</td>\n",
       "      <td>...</td>\n",
       "      <td>...</td>\n",
       "      <td>...</td>\n",
       "      <td>...</td>\n",
       "      <td>...</td>\n",
       "      <td>...</td>\n",
       "      <td>...</td>\n",
       "      <td>...</td>\n",
       "      <td>...</td>\n",
       "      <td>...</td>\n",
       "      <td>...</td>\n",
       "      <td>...</td>\n",
       "      <td>...</td>\n",
       "      <td>...</td>\n",
       "      <td>...</td>\n",
       "      <td>...</td>\n",
       "      <td>...</td>\n",
       "      <td>...</td>\n",
       "      <td>...</td>\n",
       "      <td>...</td>\n",
       "      <td>...</td>\n",
       "      <td>...</td>\n",
       "    </tr>\n",
       "    <tr>\n",
       "      <th>363338</th>\n",
       "      <td>2013-08-04</td>\n",
       "      <td>07:14:59</td>\n",
       "      <td>MPT</td>\n",
       "      <td>D03A30F66F773A65AAD66E7BAFD1110F</td>\n",
       "      <td>GR</td>\n",
       "      <td>DXB</td>\n",
       "      <td>IST</td>\n",
       "      <td>1</td>\n",
       "      <td>2</td>\n",
       "      <td>DXB</td>\n",
       "      <td>IST</td>\n",
       "      <td>2013-08-18</td>\n",
       "      <td>NaN</td>\n",
       "      <td>NaN</td>\n",
       "      <td>IST</td>\n",
       "      <td>DXB</td>\n",
       "      <td>2013-08-21</td>\n",
       "      <td>NaN</td>\n",
       "      <td>NaN</td>\n",
       "      <td>NaN</td>\n",
       "      <td>NaN</td>\n",
       "      <td>NaN</td>\n",
       "      <td>NaN</td>\n",
       "      <td>NaN</td>\n",
       "      <td>NaN</td>\n",
       "      <td>NaN</td>\n",
       "      <td>NaN</td>\n",
       "      <td>NaN</td>\n",
       "      <td>NaN</td>\n",
       "      <td>NaN</td>\n",
       "      <td>NaN</td>\n",
       "      <td>NaN</td>\n",
       "      <td>NaN</td>\n",
       "      <td>NaN</td>\n",
       "      <td>NaN</td>\n",
       "      <td>NaN</td>\n",
       "      <td>NaN</td>\n",
       "      <td>NaN</td>\n",
       "      <td>NaN</td>\n",
       "      <td>1ASI</td>\n",
       "      <td>0</td>\n",
       "      <td>0</td>\n",
       "      <td>0</td>\n",
       "      <td>d41d8cd98f00b204e9800998ecf8427e</td>\n",
       "      <td>0</td>\n",
       "      <td>NaN</td>\n",
       "    </tr>\n",
       "    <tr>\n",
       "      <th>363339</th>\n",
       "      <td>2013-08-04</td>\n",
       "      <td>07:34:47</td>\n",
       "      <td>MPT</td>\n",
       "      <td>1EE479F5D8E435942D95363363634AEE</td>\n",
       "      <td>DE</td>\n",
       "      <td>FRA</td>\n",
       "      <td>SUF</td>\n",
       "      <td>1</td>\n",
       "      <td>2</td>\n",
       "      <td>FRA</td>\n",
       "      <td>SUF</td>\n",
       "      <td>2013-10-19</td>\n",
       "      <td>NaN</td>\n",
       "      <td>NaN</td>\n",
       "      <td>SUF</td>\n",
       "      <td>FRA</td>\n",
       "      <td>2013-10-26</td>\n",
       "      <td>NaN</td>\n",
       "      <td>NaN</td>\n",
       "      <td>NaN</td>\n",
       "      <td>NaN</td>\n",
       "      <td>NaN</td>\n",
       "      <td>NaN</td>\n",
       "      <td>NaN</td>\n",
       "      <td>NaN</td>\n",
       "      <td>NaN</td>\n",
       "      <td>NaN</td>\n",
       "      <td>NaN</td>\n",
       "      <td>NaN</td>\n",
       "      <td>NaN</td>\n",
       "      <td>NaN</td>\n",
       "      <td>NaN</td>\n",
       "      <td>NaN</td>\n",
       "      <td>NaN</td>\n",
       "      <td>NaN</td>\n",
       "      <td>NaN</td>\n",
       "      <td>NaN</td>\n",
       "      <td>NaN</td>\n",
       "      <td>NaN</td>\n",
       "      <td>1ASIWS</td>\n",
       "      <td>0</td>\n",
       "      <td>0</td>\n",
       "      <td>0</td>\n",
       "      <td>d41d8cd98f00b204e9800998ecf8427e</td>\n",
       "      <td>0</td>\n",
       "      <td>NaN</td>\n",
       "    </tr>\n",
       "    <tr>\n",
       "      <th>363340</th>\n",
       "      <td>2013-08-04</td>\n",
       "      <td>12:57:04</td>\n",
       "      <td>MPT</td>\n",
       "      <td>D8CFDEAA1E5442B0FB728A71485F426C</td>\n",
       "      <td>ES</td>\n",
       "      <td>BCN</td>\n",
       "      <td>PAR</td>\n",
       "      <td>0</td>\n",
       "      <td>1</td>\n",
       "      <td>BCN</td>\n",
       "      <td>PAR</td>\n",
       "      <td>2013-08-23</td>\n",
       "      <td>AD</td>\n",
       "      <td>NaN</td>\n",
       "      <td>NaN</td>\n",
       "      <td>NaN</td>\n",
       "      <td>NaN</td>\n",
       "      <td>NaN</td>\n",
       "      <td>NaN</td>\n",
       "      <td>NaN</td>\n",
       "      <td>NaN</td>\n",
       "      <td>NaN</td>\n",
       "      <td>NaN</td>\n",
       "      <td>NaN</td>\n",
       "      <td>NaN</td>\n",
       "      <td>NaN</td>\n",
       "      <td>NaN</td>\n",
       "      <td>NaN</td>\n",
       "      <td>NaN</td>\n",
       "      <td>NaN</td>\n",
       "      <td>NaN</td>\n",
       "      <td>NaN</td>\n",
       "      <td>NaN</td>\n",
       "      <td>NaN</td>\n",
       "      <td>NaN</td>\n",
       "      <td>NaN</td>\n",
       "      <td>NaN</td>\n",
       "      <td>NaN</td>\n",
       "      <td>NaN</td>\n",
       "      <td>1ASIWS</td>\n",
       "      <td>0</td>\n",
       "      <td>0</td>\n",
       "      <td>0</td>\n",
       "      <td>d41d8cd98f00b204e9800998ecf8427e</td>\n",
       "      <td>0</td>\n",
       "      <td>NaN</td>\n",
       "    </tr>\n",
       "    <tr>\n",
       "      <th>363341</th>\n",
       "      <td>2013-08-04</td>\n",
       "      <td>15:27:20</td>\n",
       "      <td>MPT</td>\n",
       "      <td>0A914CFB66B849DDDAA6BB2E66FF0999</td>\n",
       "      <td>DE</td>\n",
       "      <td>KTW</td>\n",
       "      <td>NYC</td>\n",
       "      <td>1</td>\n",
       "      <td>2</td>\n",
       "      <td>KTW</td>\n",
       "      <td>NYC</td>\n",
       "      <td>2013-09-25</td>\n",
       "      <td>NaN</td>\n",
       "      <td>NaN</td>\n",
       "      <td>NYC</td>\n",
       "      <td>KTW</td>\n",
       "      <td>2013-10-07</td>\n",
       "      <td>NaN</td>\n",
       "      <td>NaN</td>\n",
       "      <td>NaN</td>\n",
       "      <td>NaN</td>\n",
       "      <td>NaN</td>\n",
       "      <td>NaN</td>\n",
       "      <td>NaN</td>\n",
       "      <td>NaN</td>\n",
       "      <td>NaN</td>\n",
       "      <td>NaN</td>\n",
       "      <td>NaN</td>\n",
       "      <td>NaN</td>\n",
       "      <td>NaN</td>\n",
       "      <td>NaN</td>\n",
       "      <td>NaN</td>\n",
       "      <td>NaN</td>\n",
       "      <td>NaN</td>\n",
       "      <td>NaN</td>\n",
       "      <td>NaN</td>\n",
       "      <td>NaN</td>\n",
       "      <td>NaN</td>\n",
       "      <td>NaN</td>\n",
       "      <td>1ASIWS</td>\n",
       "      <td>0</td>\n",
       "      <td>0</td>\n",
       "      <td>0</td>\n",
       "      <td>d41d8cd98f00b204e9800998ecf8427e</td>\n",
       "      <td>0</td>\n",
       "      <td>NaN</td>\n",
       "    </tr>\n",
       "    <tr>\n",
       "      <th>363342</th>\n",
       "      <td>2013-08-04</td>\n",
       "      <td>20:17:47</td>\n",
       "      <td>MPT</td>\n",
       "      <td>BE34E1BCFFED441E2A4CA0F251594AA7</td>\n",
       "      <td>CA</td>\n",
       "      <td>BNE</td>\n",
       "      <td>BKK</td>\n",
       "      <td>1</td>\n",
       "      <td>2</td>\n",
       "      <td>BNE</td>\n",
       "      <td>BKK</td>\n",
       "      <td>2013-09-12</td>\n",
       "      <td>MK</td>\n",
       "      <td>NaN</td>\n",
       "      <td>BKK</td>\n",
       "      <td>BNE</td>\n",
       "      <td>2013-09-23</td>\n",
       "      <td>MK</td>\n",
       "      <td>NaN</td>\n",
       "      <td>NaN</td>\n",
       "      <td>NaN</td>\n",
       "      <td>NaN</td>\n",
       "      <td>NaN</td>\n",
       "      <td>NaN</td>\n",
       "      <td>NaN</td>\n",
       "      <td>NaN</td>\n",
       "      <td>NaN</td>\n",
       "      <td>NaN</td>\n",
       "      <td>NaN</td>\n",
       "      <td>NaN</td>\n",
       "      <td>NaN</td>\n",
       "      <td>NaN</td>\n",
       "      <td>NaN</td>\n",
       "      <td>NaN</td>\n",
       "      <td>NaN</td>\n",
       "      <td>NaN</td>\n",
       "      <td>NaN</td>\n",
       "      <td>NaN</td>\n",
       "      <td>NaN</td>\n",
       "      <td>1ASIWS</td>\n",
       "      <td>0</td>\n",
       "      <td>0</td>\n",
       "      <td>0</td>\n",
       "      <td>d41d8cd98f00b204e9800998ecf8427e</td>\n",
       "      <td>0</td>\n",
       "      <td>NaN</td>\n",
       "    </tr>\n",
       "  </tbody>\n",
       "</table>\n",
       "<p>363343 rows × 46 columns</p>\n",
       "</div>"
      ],
      "text/plain": [
       "              Date      Time TxnCode                          OfficeID  \\\n",
       "0       2013-01-01  20:25:57     MPT  624D8C3AC0B3A7CA03E3C167E0F48327   \n",
       "1       2013-01-01  10:15:33     MPT  B0AF35B31588DC4AB06D5CF2986E8E02   \n",
       "2       2013-01-01  18:04:49     MPT  3561A60621DE06AB1BADC8CA55699EF3   \n",
       "3       2013-01-01  17:42:40     FXP  1864E5E8013D9414150E91D26B6A558B   \n",
       "4       2013-01-01  17:48:29     MPT  1EC336348F44207D2E0027DC3A68C118   \n",
       "...            ...       ...     ...                               ...   \n",
       "363338  2013-08-04  07:14:59     MPT  D03A30F66F773A65AAD66E7BAFD1110F   \n",
       "363339  2013-08-04  07:34:47     MPT  1EE479F5D8E435942D95363363634AEE   \n",
       "363340  2013-08-04  12:57:04     MPT  D8CFDEAA1E5442B0FB728A71485F426C   \n",
       "363341  2013-08-04  15:27:20     MPT  0A914CFB66B849DDDAA6BB2E66FF0999   \n",
       "363342  2013-08-04  20:17:47     MPT  BE34E1BCFFED441E2A4CA0F251594AA7   \n",
       "\n",
       "       Country Origin Destination  RoundTrip  NbSegments Seg1Departure  \\\n",
       "0           DE    TXL         AUH          1           2           TXL   \n",
       "1           MD    ATH         MIL          0           1           ATH   \n",
       "2           US    ICT         SFO          1           2           ICT   \n",
       "3           SE    RNB         ARN          0           1           RNB   \n",
       "4           NO    OSL         MAD          1           2           OSL   \n",
       "...        ...    ...         ...        ...         ...           ...   \n",
       "363338      GR    DXB         IST          1           2           DXB   \n",
       "363339      DE    FRA         SUF          1           2           FRA   \n",
       "363340      ES    BCN         PAR          0           1           BCN   \n",
       "363341      DE    KTW         NYC          1           2           KTW   \n",
       "363342      CA    BNE         BKK          1           2           BNE   \n",
       "\n",
       "       Seg1Arrival    Seg1Date Seg1Carrier Seg1BookingCode Seg2Departure  \\\n",
       "0              AUH  2013-01-26          D2             NaN           AUH   \n",
       "1              MIL  2013-01-04         NaN             NaN           NaN   \n",
       "2              SFO  2013-08-02         NaN             NaN           SFO   \n",
       "3              ARN  2013-01-02          DU               W           NaN   \n",
       "4              MAD  2013-03-22         NaN             NaN           MAD   \n",
       "...            ...         ...         ...             ...           ...   \n",
       "363338         IST  2013-08-18         NaN             NaN           IST   \n",
       "363339         SUF  2013-10-19         NaN             NaN           SUF   \n",
       "363340         PAR  2013-08-23          AD             NaN           NaN   \n",
       "363341         NYC  2013-09-25         NaN             NaN           NYC   \n",
       "363342         BKK  2013-09-12          MK             NaN           BKK   \n",
       "\n",
       "       Seg2Arrival    Seg2Date Seg2Carrier Seg2BookingCode Seg3Departure  \\\n",
       "0              TXL  2013-02-02          D2             NaN           NaN   \n",
       "1              NaN         NaN         NaN             NaN           NaN   \n",
       "2              ICT  2013-08-09         NaN             NaN           NaN   \n",
       "3              NaN         NaN         NaN             NaN           NaN   \n",
       "4              OSL  2013-03-31         NaN             NaN           NaN   \n",
       "...            ...         ...         ...             ...           ...   \n",
       "363338         DXB  2013-08-21         NaN             NaN           NaN   \n",
       "363339         FRA  2013-10-26         NaN             NaN           NaN   \n",
       "363340         NaN         NaN         NaN             NaN           NaN   \n",
       "363341         KTW  2013-10-07         NaN             NaN           NaN   \n",
       "363342         BNE  2013-09-23          MK             NaN           NaN   \n",
       "\n",
       "       Seg3Arrival Seg3Date Seg3Carrier Seg3BookingCode Seg4Departure  \\\n",
       "0              NaN      NaN         NaN             NaN           NaN   \n",
       "1              NaN      NaN         NaN             NaN           NaN   \n",
       "2              NaN      NaN         NaN             NaN           NaN   \n",
       "3              NaN      NaN         NaN             NaN           NaN   \n",
       "4              NaN      NaN         NaN             NaN           NaN   \n",
       "...            ...      ...         ...             ...           ...   \n",
       "363338         NaN      NaN         NaN             NaN           NaN   \n",
       "363339         NaN      NaN         NaN             NaN           NaN   \n",
       "363340         NaN      NaN         NaN             NaN           NaN   \n",
       "363341         NaN      NaN         NaN             NaN           NaN   \n",
       "363342         NaN      NaN         NaN             NaN           NaN   \n",
       "\n",
       "       Seg4Arrival Seg4Date Seg4Carrier Seg4BookingCode Seg5Departure  \\\n",
       "0              NaN      NaN         NaN             NaN           NaN   \n",
       "1              NaN      NaN         NaN             NaN           NaN   \n",
       "2              NaN      NaN         NaN             NaN           NaN   \n",
       "3              NaN      NaN         NaN             NaN           NaN   \n",
       "4              NaN      NaN         NaN             NaN           NaN   \n",
       "...            ...      ...         ...             ...           ...   \n",
       "363338         NaN      NaN         NaN             NaN           NaN   \n",
       "363339         NaN      NaN         NaN             NaN           NaN   \n",
       "363340         NaN      NaN         NaN             NaN           NaN   \n",
       "363341         NaN      NaN         NaN             NaN           NaN   \n",
       "363342         NaN      NaN         NaN             NaN           NaN   \n",
       "\n",
       "       Seg5Arrival Seg5Date Seg5Carrier Seg5BookingCode Seg6Departure  \\\n",
       "0              NaN      NaN         NaN             NaN           NaN   \n",
       "1              NaN      NaN         NaN             NaN           NaN   \n",
       "2              NaN      NaN         NaN             NaN           NaN   \n",
       "3              NaN      NaN         NaN             NaN           NaN   \n",
       "4              NaN      NaN         NaN             NaN           NaN   \n",
       "...            ...      ...         ...             ...           ...   \n",
       "363338         NaN      NaN         NaN             NaN           NaN   \n",
       "363339         NaN      NaN         NaN             NaN           NaN   \n",
       "363340         NaN      NaN         NaN             NaN           NaN   \n",
       "363341         NaN      NaN         NaN             NaN           NaN   \n",
       "363342         NaN      NaN         NaN             NaN           NaN   \n",
       "\n",
       "       Seg6Arrival Seg6Date Seg6Carrier Seg6BookingCode    From  \\\n",
       "0              NaN      NaN         NaN             NaN  1ASIWS   \n",
       "1              NaN      NaN         NaN             NaN  1ASIWS   \n",
       "2              NaN      NaN         NaN             NaN  1ASIWS   \n",
       "3              NaN      NaN         NaN             NaN    1ASI   \n",
       "4              NaN      NaN         NaN             NaN  1ASIWS   \n",
       "...            ...      ...         ...             ...     ...   \n",
       "363338         NaN      NaN         NaN             NaN    1ASI   \n",
       "363339         NaN      NaN         NaN             NaN  1ASIWS   \n",
       "363340         NaN      NaN         NaN             NaN  1ASIWS   \n",
       "363341         NaN      NaN         NaN             NaN  1ASIWS   \n",
       "363342         NaN      NaN         NaN             NaN  1ASIWS   \n",
       "\n",
       "        IsPublishedForNeg  IsFromInternet  IsFromVista  \\\n",
       "0                       0               0            0   \n",
       "1                       0               0            0   \n",
       "2                       0               0            0   \n",
       "3                       0               0            0   \n",
       "4                       0               0            0   \n",
       "...                   ...             ...          ...   \n",
       "363338                  0               0            0   \n",
       "363339                  0               0            0   \n",
       "363340                  0               0            0   \n",
       "363341                  0               0            0   \n",
       "363342                  0               0            0   \n",
       "\n",
       "                              TerminalID InternetOffice  Booking  \n",
       "0       d41d8cd98f00b204e9800998ecf8427e            FRA      NaN  \n",
       "1       d41d8cd98f00b204e9800998ecf8427e            KIV      NaN  \n",
       "2       d41d8cd98f00b204e9800998ecf8427e            NYC      NaN  \n",
       "3       d41d8cd98f00b204e9800998ecf8427e            STO      NaN  \n",
       "4       d41d8cd98f00b204e9800998ecf8427e            OSL      NaN  \n",
       "...                                  ...            ...      ...  \n",
       "363338  d41d8cd98f00b204e9800998ecf8427e              0      NaN  \n",
       "363339  d41d8cd98f00b204e9800998ecf8427e              0      NaN  \n",
       "363340  d41d8cd98f00b204e9800998ecf8427e              0      NaN  \n",
       "363341  d41d8cd98f00b204e9800998ecf8427e              0      NaN  \n",
       "363342  d41d8cd98f00b204e9800998ecf8427e              0      NaN  \n",
       "\n",
       "[363343 rows x 46 columns]"
      ]
     },
     "execution_count": 190,
     "metadata": {},
     "output_type": "execute_result"
    }
   ],
   "source": [
    "combined_2"
   ]
  },
  {
   "cell_type": "code",
   "execution_count": 192,
   "metadata": {},
   "outputs": [
    {
     "data": {
      "text/plain": [
       "(363343, 46)"
      ]
     },
     "execution_count": 192,
     "metadata": {},
     "output_type": "execute_result"
    }
   ],
   "source": [
    "combined_2.shape"
   ]
  },
  {
   "cell_type": "code",
   "execution_count": 193,
   "metadata": {},
   "outputs": [
    {
     "data": {
      "text/plain": [
       "452.0"
      ]
     },
     "execution_count": 193,
     "metadata": {},
     "output_type": "execute_result"
    }
   ],
   "source": [
    "combined_2['Booking'].sum()"
   ]
  },
  {
   "cell_type": "code",
   "execution_count": 194,
   "metadata": {},
   "outputs": [
    {
     "data": {
      "text/plain": [
       "0"
      ]
     },
     "execution_count": 194,
     "metadata": {},
     "output_type": "execute_result"
    }
   ],
   "source": [
    "searches_to_merge.shape[0] - combined_2.shape[0]"
   ]
  },
  {
   "cell_type": "markdown",
   "metadata": {},
   "source": [
    "Esta vez no ha aumentado el numero de filas. Ahora habria que seguir con los merges con Seg2, Seg3 etc.."
   ]
  },
  {
   "cell_type": "code",
   "execution_count": 197,
   "metadata": {
    "scrolled": true
   },
   "outputs": [
    {
     "data": {
      "text/plain": [
       "Date                      0\n",
       "Time                      0\n",
       "TxnCode                   0\n",
       "OfficeID                  0\n",
       "Country                  43\n",
       "Origin                    0\n",
       "Destination               0\n",
       "RoundTrip                 0\n",
       "NbSegments                0\n",
       "Seg1Departure             0\n",
       "Seg1Arrival               0\n",
       "Seg1Date               1034\n",
       "Seg1Carrier          226260\n",
       "Seg1BookingCode      326321\n",
       "Seg2Departure        105403\n",
       "Seg2Arrival          105403\n",
       "Seg2Date             106632\n",
       "Seg2Carrier          268028\n",
       "Seg2BookingCode      331522\n",
       "Seg3Departure        344410\n",
       "Seg3Arrival          344410\n",
       "Seg3Date             344518\n",
       "Seg3Carrier          345343\n",
       "Seg3BookingCode      346164\n",
       "Seg4Departure        348084\n",
       "Seg4Arrival          348084\n",
       "Seg4Date             348180\n",
       "Seg4Carrier          348212\n",
       "Seg4BookingCode      348412\n",
       "Seg5Departure        360434\n",
       "Seg5Arrival          360434\n",
       "Seg5Date             360458\n",
       "Seg5Carrier          360450\n",
       "Seg5BookingCode      360497\n",
       "Seg6Departure        361608\n",
       "Seg6Arrival          361608\n",
       "Seg6Date             361626\n",
       "Seg6Carrier          361610\n",
       "Seg6BookingCode      361642\n",
       "From                   6221\n",
       "IsPublishedForNeg         0\n",
       "IsFromInternet            0\n",
       "IsFromVista               0\n",
       "TerminalID                0\n",
       "InternetOffice            0\n",
       "Booking              362891\n",
       "dtype: int64"
      ]
     },
     "execution_count": 197,
     "metadata": {},
     "output_type": "execute_result"
    }
   ],
   "source": [
    "combined_2.isna().sum()"
   ]
  },
  {
   "cell_type": "markdown",
   "metadata": {},
   "source": [
    "Intentemos hacer un loop para mergear los 6 a la vez. Hagamos copias de nuevo. Estos se van a llamar x_3 porque a la tercera va la vencida"
   ]
  },
  {
   "cell_type": "code",
   "execution_count": 198,
   "metadata": {},
   "outputs": [
    {
     "data": {
      "text/plain": [
       "(363343, 45)"
      ]
     },
     "execution_count": 198,
     "metadata": {},
     "output_type": "execute_result"
    }
   ],
   "source": [
    "searches_to_merge.shape"
   ]
  },
  {
   "cell_type": "code",
   "execution_count": 199,
   "metadata": {},
   "outputs": [
    {
     "data": {
      "text/plain": [
       "0"
      ]
     },
     "execution_count": 199,
     "metadata": {},
     "output_type": "execute_result"
    }
   ],
   "source": [
    "searches_to_merge.duplicated().sum()"
   ]
  },
  {
   "cell_type": "code",
   "execution_count": 208,
   "metadata": {},
   "outputs": [
    {
     "data": {
      "text/plain": [
       "(363343, 45)"
      ]
     },
     "execution_count": 208,
     "metadata": {},
     "output_type": "execute_result"
    }
   ],
   "source": [
    "searches_to_merge_3 = searches_to_merge.copy()\n",
    "searches_to_merge_3.shape"
   ]
  },
  {
   "cell_type": "code",
   "execution_count": 209,
   "metadata": {},
   "outputs": [
    {
     "data": {
      "text/plain": [
       "(658998, 5)"
      ]
     },
     "execution_count": 209,
     "metadata": {},
     "output_type": "execute_result"
    }
   ],
   "source": [
    "bookings_to_merge_2.shape"
   ]
  },
  {
   "cell_type": "code",
   "execution_count": 210,
   "metadata": {},
   "outputs": [
    {
     "data": {
      "text/plain": [
       "0"
      ]
     },
     "execution_count": 210,
     "metadata": {},
     "output_type": "execute_result"
    }
   ],
   "source": [
    "bookings_to_merge_2.duplicated().sum()"
   ]
  },
  {
   "cell_type": "code",
   "execution_count": 211,
   "metadata": {},
   "outputs": [
    {
     "data": {
      "text/plain": [
       "(658998, 5)"
      ]
     },
     "execution_count": 211,
     "metadata": {},
     "output_type": "execute_result"
    }
   ],
   "source": [
    "bookings_to_merge_3 = bookings_to_merge_2.copy()\n",
    "bookings_to_merge_3.shape"
   ]
  },
  {
   "cell_type": "markdown",
   "metadata": {},
   "source": [
    "Vamos alla"
   ]
  },
  {
   "cell_type": "code",
   "execution_count": 212,
   "metadata": {},
   "outputs": [],
   "source": [
    "list_of_lists = [['Date', 'Seg1Departure', 'Seg1Arrival', 'Seg1Date', 'booking'], \n",
    "                 ['Date', 'Seg2Departure', 'Seg2Arrival', 'Seg2Date', 'booking'],\n",
    "                 ['Date', 'Seg3Departure', 'Seg3Arrival', 'Seg3Date', 'booking'],\n",
    "                 ['Date', 'Seg4Departure', 'Seg4Arrival', 'Seg4Date', 'booking'],\n",
    "                 ['Date', 'Seg5Departure', 'Seg5Arrival', 'Seg5Date', 'booking'],\n",
    "                 ['Date', 'Seg6Departure', 'Seg6Arrival', 'Seg6Date', 'booking'],\n",
    "                ]"
   ]
  },
  {
   "cell_type": "code",
   "execution_count": 213,
   "metadata": {},
   "outputs": [
    {
     "name": "stdout",
     "output_type": "stream",
     "text": [
      "(363343, 46)\n",
      "(363343, 47)\n",
      "(363343, 48)\n",
      "(363343, 49)\n",
      "(363343, 50)\n",
      "(363343, 51)\n"
     ]
    }
   ],
   "source": [
    "for i, lista in enumerate(list_of_lists):\n",
    "    bookings_to_merge_3.columns = lista\n",
    "\n",
    "    searches_to_merge_3 = searches_to_merge_3.merge(bookings_to_merge_3, \n",
    "                                                    how = 'left', \n",
    "                                                    on = lista[:4], \n",
    "                                                    suffixes=(i, i+1),\n",
    "                                                   )\n",
    "    print(searches_to_merge_3.shape)"
   ]
  },
  {
   "cell_type": "code",
   "execution_count": 214,
   "metadata": {},
   "outputs": [
    {
     "data": {
      "text/html": [
       "<div>\n",
       "<style scoped>\n",
       "    .dataframe tbody tr th:only-of-type {\n",
       "        vertical-align: middle;\n",
       "    }\n",
       "\n",
       "    .dataframe tbody tr th {\n",
       "        vertical-align: top;\n",
       "    }\n",
       "\n",
       "    .dataframe thead th {\n",
       "        text-align: right;\n",
       "    }\n",
       "</style>\n",
       "<table border=\"1\" class=\"dataframe\">\n",
       "  <thead>\n",
       "    <tr style=\"text-align: right;\">\n",
       "      <th></th>\n",
       "      <th>Date</th>\n",
       "      <th>Time</th>\n",
       "      <th>TxnCode</th>\n",
       "      <th>OfficeID</th>\n",
       "      <th>Country</th>\n",
       "      <th>Origin</th>\n",
       "      <th>Destination</th>\n",
       "      <th>RoundTrip</th>\n",
       "      <th>NbSegments</th>\n",
       "      <th>Seg1Departure</th>\n",
       "      <th>Seg1Arrival</th>\n",
       "      <th>Seg1Date</th>\n",
       "      <th>Seg1Carrier</th>\n",
       "      <th>Seg1BookingCode</th>\n",
       "      <th>Seg2Departure</th>\n",
       "      <th>Seg2Arrival</th>\n",
       "      <th>Seg2Date</th>\n",
       "      <th>Seg2Carrier</th>\n",
       "      <th>Seg2BookingCode</th>\n",
       "      <th>Seg3Departure</th>\n",
       "      <th>Seg3Arrival</th>\n",
       "      <th>Seg3Date</th>\n",
       "      <th>Seg3Carrier</th>\n",
       "      <th>Seg3BookingCode</th>\n",
       "      <th>Seg4Departure</th>\n",
       "      <th>Seg4Arrival</th>\n",
       "      <th>Seg4Date</th>\n",
       "      <th>Seg4Carrier</th>\n",
       "      <th>Seg4BookingCode</th>\n",
       "      <th>Seg5Departure</th>\n",
       "      <th>Seg5Arrival</th>\n",
       "      <th>Seg5Date</th>\n",
       "      <th>Seg5Carrier</th>\n",
       "      <th>Seg5BookingCode</th>\n",
       "      <th>Seg6Departure</th>\n",
       "      <th>Seg6Arrival</th>\n",
       "      <th>Seg6Date</th>\n",
       "      <th>Seg6Carrier</th>\n",
       "      <th>Seg6BookingCode</th>\n",
       "      <th>From</th>\n",
       "      <th>IsPublishedForNeg</th>\n",
       "      <th>IsFromInternet</th>\n",
       "      <th>IsFromVista</th>\n",
       "      <th>TerminalID</th>\n",
       "      <th>InternetOffice</th>\n",
       "      <th>booking1</th>\n",
       "      <th>booking2</th>\n",
       "      <th>booking3</th>\n",
       "      <th>booking4</th>\n",
       "      <th>booking5</th>\n",
       "      <th>booking6</th>\n",
       "    </tr>\n",
       "  </thead>\n",
       "  <tbody>\n",
       "    <tr>\n",
       "      <th>0</th>\n",
       "      <td>2013-01-01</td>\n",
       "      <td>20:25:57</td>\n",
       "      <td>MPT</td>\n",
       "      <td>624D8C3AC0B3A7CA03E3C167E0F48327</td>\n",
       "      <td>DE</td>\n",
       "      <td>TXL</td>\n",
       "      <td>AUH</td>\n",
       "      <td>1</td>\n",
       "      <td>2</td>\n",
       "      <td>TXL</td>\n",
       "      <td>AUH</td>\n",
       "      <td>2013-01-26</td>\n",
       "      <td>D2</td>\n",
       "      <td>NaN</td>\n",
       "      <td>AUH</td>\n",
       "      <td>TXL</td>\n",
       "      <td>2013-02-02</td>\n",
       "      <td>D2</td>\n",
       "      <td>NaN</td>\n",
       "      <td>NaN</td>\n",
       "      <td>NaN</td>\n",
       "      <td>NaN</td>\n",
       "      <td>NaN</td>\n",
       "      <td>NaN</td>\n",
       "      <td>NaN</td>\n",
       "      <td>NaN</td>\n",
       "      <td>NaN</td>\n",
       "      <td>NaN</td>\n",
       "      <td>NaN</td>\n",
       "      <td>NaN</td>\n",
       "      <td>NaN</td>\n",
       "      <td>NaN</td>\n",
       "      <td>NaN</td>\n",
       "      <td>NaN</td>\n",
       "      <td>NaN</td>\n",
       "      <td>NaN</td>\n",
       "      <td>NaN</td>\n",
       "      <td>NaN</td>\n",
       "      <td>NaN</td>\n",
       "      <td>1ASIWS</td>\n",
       "      <td>0</td>\n",
       "      <td>0</td>\n",
       "      <td>0</td>\n",
       "      <td>d41d8cd98f00b204e9800998ecf8427e</td>\n",
       "      <td>FRA</td>\n",
       "      <td>NaN</td>\n",
       "      <td>NaN</td>\n",
       "      <td>NaN</td>\n",
       "      <td>NaN</td>\n",
       "      <td>NaN</td>\n",
       "      <td>NaN</td>\n",
       "    </tr>\n",
       "    <tr>\n",
       "      <th>1</th>\n",
       "      <td>2013-01-01</td>\n",
       "      <td>10:15:33</td>\n",
       "      <td>MPT</td>\n",
       "      <td>B0AF35B31588DC4AB06D5CF2986E8E02</td>\n",
       "      <td>MD</td>\n",
       "      <td>ATH</td>\n",
       "      <td>MIL</td>\n",
       "      <td>0</td>\n",
       "      <td>1</td>\n",
       "      <td>ATH</td>\n",
       "      <td>MIL</td>\n",
       "      <td>2013-01-04</td>\n",
       "      <td>NaN</td>\n",
       "      <td>NaN</td>\n",
       "      <td>NaN</td>\n",
       "      <td>NaN</td>\n",
       "      <td>NaN</td>\n",
       "      <td>NaN</td>\n",
       "      <td>NaN</td>\n",
       "      <td>NaN</td>\n",
       "      <td>NaN</td>\n",
       "      <td>NaN</td>\n",
       "      <td>NaN</td>\n",
       "      <td>NaN</td>\n",
       "      <td>NaN</td>\n",
       "      <td>NaN</td>\n",
       "      <td>NaN</td>\n",
       "      <td>NaN</td>\n",
       "      <td>NaN</td>\n",
       "      <td>NaN</td>\n",
       "      <td>NaN</td>\n",
       "      <td>NaN</td>\n",
       "      <td>NaN</td>\n",
       "      <td>NaN</td>\n",
       "      <td>NaN</td>\n",
       "      <td>NaN</td>\n",
       "      <td>NaN</td>\n",
       "      <td>NaN</td>\n",
       "      <td>NaN</td>\n",
       "      <td>1ASIWS</td>\n",
       "      <td>0</td>\n",
       "      <td>0</td>\n",
       "      <td>0</td>\n",
       "      <td>d41d8cd98f00b204e9800998ecf8427e</td>\n",
       "      <td>KIV</td>\n",
       "      <td>NaN</td>\n",
       "      <td>NaN</td>\n",
       "      <td>NaN</td>\n",
       "      <td>NaN</td>\n",
       "      <td>NaN</td>\n",
       "      <td>NaN</td>\n",
       "    </tr>\n",
       "  </tbody>\n",
       "</table>\n",
       "</div>"
      ],
      "text/plain": [
       "         Date      Time TxnCode                          OfficeID Country  \\\n",
       "0  2013-01-01  20:25:57     MPT  624D8C3AC0B3A7CA03E3C167E0F48327      DE   \n",
       "1  2013-01-01  10:15:33     MPT  B0AF35B31588DC4AB06D5CF2986E8E02      MD   \n",
       "\n",
       "  Origin Destination  RoundTrip  NbSegments Seg1Departure Seg1Arrival  \\\n",
       "0    TXL         AUH          1           2           TXL         AUH   \n",
       "1    ATH         MIL          0           1           ATH         MIL   \n",
       "\n",
       "     Seg1Date Seg1Carrier Seg1BookingCode Seg2Departure Seg2Arrival  \\\n",
       "0  2013-01-26          D2             NaN           AUH         TXL   \n",
       "1  2013-01-04         NaN             NaN           NaN         NaN   \n",
       "\n",
       "     Seg2Date Seg2Carrier Seg2BookingCode Seg3Departure Seg3Arrival Seg3Date  \\\n",
       "0  2013-02-02          D2             NaN           NaN         NaN      NaN   \n",
       "1         NaN         NaN             NaN           NaN         NaN      NaN   \n",
       "\n",
       "  Seg3Carrier Seg3BookingCode Seg4Departure Seg4Arrival Seg4Date Seg4Carrier  \\\n",
       "0         NaN             NaN           NaN         NaN      NaN         NaN   \n",
       "1         NaN             NaN           NaN         NaN      NaN         NaN   \n",
       "\n",
       "  Seg4BookingCode Seg5Departure Seg5Arrival Seg5Date Seg5Carrier  \\\n",
       "0             NaN           NaN         NaN      NaN         NaN   \n",
       "1             NaN           NaN         NaN      NaN         NaN   \n",
       "\n",
       "  Seg5BookingCode Seg6Departure Seg6Arrival Seg6Date Seg6Carrier  \\\n",
       "0             NaN           NaN         NaN      NaN         NaN   \n",
       "1             NaN           NaN         NaN      NaN         NaN   \n",
       "\n",
       "  Seg6BookingCode    From  IsPublishedForNeg  IsFromInternet  IsFromVista  \\\n",
       "0             NaN  1ASIWS                  0               0            0   \n",
       "1             NaN  1ASIWS                  0               0            0   \n",
       "\n",
       "                         TerminalID InternetOffice  booking1  booking2  \\\n",
       "0  d41d8cd98f00b204e9800998ecf8427e            FRA       NaN       NaN   \n",
       "1  d41d8cd98f00b204e9800998ecf8427e            KIV       NaN       NaN   \n",
       "\n",
       "   booking3  booking4  booking5  booking6  \n",
       "0       NaN       NaN       NaN       NaN  \n",
       "1       NaN       NaN       NaN       NaN  "
      ]
     },
     "execution_count": 214,
     "metadata": {},
     "output_type": "execute_result"
    }
   ],
   "source": [
    "searches_to_merge_3.head(2)"
   ]
  },
  {
   "cell_type": "code",
   "execution_count": 216,
   "metadata": {},
   "outputs": [
    {
     "name": "stdout",
     "output_type": "stream",
     "text": [
      "<class 'pandas.core.frame.DataFrame'>\n",
      "Int64Index: 363343 entries, 0 to 363342\n",
      "Data columns (total 6 columns):\n",
      " #   Column    Non-Null Count  Dtype  \n",
      "---  ------    --------------  -----  \n",
      " 0   booking1  452 non-null    float64\n",
      " 1   booking2  182 non-null    float64\n",
      " 2   booking3  31 non-null     float64\n",
      " 3   booking4  25 non-null     float64\n",
      " 4   booking5  3 non-null      float64\n",
      " 5   booking6  1 non-null      float64\n",
      "dtypes: float64(6)\n",
      "memory usage: 19.4 MB\n"
     ]
    }
   ],
   "source": [
    "searches_to_merge_3.iloc[:, -6:].info()"
   ]
  },
  {
   "cell_type": "raw",
   "metadata": {},
   "source": [
    "searches_to_merge_3.iloc[:, -6:].fillna(0, inplace=True) # No works"
   ]
  },
  {
   "cell_type": "code",
   "execution_count": 226,
   "metadata": {},
   "outputs": [],
   "source": [
    "searches_to_merge_3.iloc[:, -6:] = searches_to_merge_3.iloc[:, -6:].fillna(0)"
   ]
  },
  {
   "cell_type": "code",
   "execution_count": 227,
   "metadata": {
    "scrolled": false
   },
   "outputs": [
    {
     "name": "stdout",
     "output_type": "stream",
     "text": [
      "<class 'pandas.core.frame.DataFrame'>\n",
      "Int64Index: 363343 entries, 0 to 363342\n",
      "Data columns (total 6 columns):\n",
      " #   Column    Non-Null Count   Dtype  \n",
      "---  ------    --------------   -----  \n",
      " 0   booking1  363343 non-null  float64\n",
      " 1   booking2  363343 non-null  float64\n",
      " 2   booking3  363343 non-null  float64\n",
      " 3   booking4  363343 non-null  float64\n",
      " 4   booking5  363343 non-null  float64\n",
      " 5   booking6  363343 non-null  float64\n",
      "dtypes: float64(6)\n",
      "memory usage: 19.4 MB\n"
     ]
    }
   ],
   "source": [
    "searches_to_merge_3.iloc[:, -6:].info()"
   ]
  },
  {
   "cell_type": "code",
   "execution_count": 228,
   "metadata": {
    "scrolled": true
   },
   "outputs": [
    {
     "data": {
      "text/html": [
       "<div>\n",
       "<style scoped>\n",
       "    .dataframe tbody tr th:only-of-type {\n",
       "        vertical-align: middle;\n",
       "    }\n",
       "\n",
       "    .dataframe tbody tr th {\n",
       "        vertical-align: top;\n",
       "    }\n",
       "\n",
       "    .dataframe thead th {\n",
       "        text-align: right;\n",
       "    }\n",
       "</style>\n",
       "<table border=\"1\" class=\"dataframe\">\n",
       "  <thead>\n",
       "    <tr style=\"text-align: right;\">\n",
       "      <th></th>\n",
       "      <th>Date</th>\n",
       "      <th>Time</th>\n",
       "      <th>TxnCode</th>\n",
       "      <th>OfficeID</th>\n",
       "      <th>Country</th>\n",
       "      <th>Origin</th>\n",
       "      <th>Destination</th>\n",
       "      <th>RoundTrip</th>\n",
       "      <th>NbSegments</th>\n",
       "      <th>Seg1Departure</th>\n",
       "      <th>Seg1Arrival</th>\n",
       "      <th>Seg1Date</th>\n",
       "      <th>Seg1Carrier</th>\n",
       "      <th>Seg1BookingCode</th>\n",
       "      <th>Seg2Departure</th>\n",
       "      <th>Seg2Arrival</th>\n",
       "      <th>Seg2Date</th>\n",
       "      <th>Seg2Carrier</th>\n",
       "      <th>Seg2BookingCode</th>\n",
       "      <th>Seg3Departure</th>\n",
       "      <th>Seg3Arrival</th>\n",
       "      <th>Seg3Date</th>\n",
       "      <th>Seg3Carrier</th>\n",
       "      <th>Seg3BookingCode</th>\n",
       "      <th>Seg4Departure</th>\n",
       "      <th>Seg4Arrival</th>\n",
       "      <th>Seg4Date</th>\n",
       "      <th>Seg4Carrier</th>\n",
       "      <th>Seg4BookingCode</th>\n",
       "      <th>Seg5Departure</th>\n",
       "      <th>Seg5Arrival</th>\n",
       "      <th>Seg5Date</th>\n",
       "      <th>Seg5Carrier</th>\n",
       "      <th>Seg5BookingCode</th>\n",
       "      <th>Seg6Departure</th>\n",
       "      <th>Seg6Arrival</th>\n",
       "      <th>Seg6Date</th>\n",
       "      <th>Seg6Carrier</th>\n",
       "      <th>Seg6BookingCode</th>\n",
       "      <th>From</th>\n",
       "      <th>IsPublishedForNeg</th>\n",
       "      <th>IsFromInternet</th>\n",
       "      <th>IsFromVista</th>\n",
       "      <th>TerminalID</th>\n",
       "      <th>InternetOffice</th>\n",
       "      <th>booking1</th>\n",
       "      <th>booking2</th>\n",
       "      <th>booking3</th>\n",
       "      <th>booking4</th>\n",
       "      <th>booking5</th>\n",
       "      <th>booking6</th>\n",
       "    </tr>\n",
       "  </thead>\n",
       "  <tbody>\n",
       "    <tr>\n",
       "      <th>0</th>\n",
       "      <td>2013-01-01</td>\n",
       "      <td>20:25:57</td>\n",
       "      <td>MPT</td>\n",
       "      <td>624D8C3AC0B3A7CA03E3C167E0F48327</td>\n",
       "      <td>DE</td>\n",
       "      <td>TXL</td>\n",
       "      <td>AUH</td>\n",
       "      <td>1</td>\n",
       "      <td>2</td>\n",
       "      <td>TXL</td>\n",
       "      <td>AUH</td>\n",
       "      <td>2013-01-26</td>\n",
       "      <td>D2</td>\n",
       "      <td>NaN</td>\n",
       "      <td>AUH</td>\n",
       "      <td>TXL</td>\n",
       "      <td>2013-02-02</td>\n",
       "      <td>D2</td>\n",
       "      <td>NaN</td>\n",
       "      <td>NaN</td>\n",
       "      <td>NaN</td>\n",
       "      <td>NaN</td>\n",
       "      <td>NaN</td>\n",
       "      <td>NaN</td>\n",
       "      <td>NaN</td>\n",
       "      <td>NaN</td>\n",
       "      <td>NaN</td>\n",
       "      <td>NaN</td>\n",
       "      <td>NaN</td>\n",
       "      <td>NaN</td>\n",
       "      <td>NaN</td>\n",
       "      <td>NaN</td>\n",
       "      <td>NaN</td>\n",
       "      <td>NaN</td>\n",
       "      <td>NaN</td>\n",
       "      <td>NaN</td>\n",
       "      <td>NaN</td>\n",
       "      <td>NaN</td>\n",
       "      <td>NaN</td>\n",
       "      <td>1ASIWS</td>\n",
       "      <td>0</td>\n",
       "      <td>0</td>\n",
       "      <td>0</td>\n",
       "      <td>d41d8cd98f00b204e9800998ecf8427e</td>\n",
       "      <td>FRA</td>\n",
       "      <td>0.0</td>\n",
       "      <td>0.0</td>\n",
       "      <td>0.0</td>\n",
       "      <td>0.0</td>\n",
       "      <td>0.0</td>\n",
       "      <td>0.0</td>\n",
       "    </tr>\n",
       "    <tr>\n",
       "      <th>1</th>\n",
       "      <td>2013-01-01</td>\n",
       "      <td>10:15:33</td>\n",
       "      <td>MPT</td>\n",
       "      <td>B0AF35B31588DC4AB06D5CF2986E8E02</td>\n",
       "      <td>MD</td>\n",
       "      <td>ATH</td>\n",
       "      <td>MIL</td>\n",
       "      <td>0</td>\n",
       "      <td>1</td>\n",
       "      <td>ATH</td>\n",
       "      <td>MIL</td>\n",
       "      <td>2013-01-04</td>\n",
       "      <td>NaN</td>\n",
       "      <td>NaN</td>\n",
       "      <td>NaN</td>\n",
       "      <td>NaN</td>\n",
       "      <td>NaN</td>\n",
       "      <td>NaN</td>\n",
       "      <td>NaN</td>\n",
       "      <td>NaN</td>\n",
       "      <td>NaN</td>\n",
       "      <td>NaN</td>\n",
       "      <td>NaN</td>\n",
       "      <td>NaN</td>\n",
       "      <td>NaN</td>\n",
       "      <td>NaN</td>\n",
       "      <td>NaN</td>\n",
       "      <td>NaN</td>\n",
       "      <td>NaN</td>\n",
       "      <td>NaN</td>\n",
       "      <td>NaN</td>\n",
       "      <td>NaN</td>\n",
       "      <td>NaN</td>\n",
       "      <td>NaN</td>\n",
       "      <td>NaN</td>\n",
       "      <td>NaN</td>\n",
       "      <td>NaN</td>\n",
       "      <td>NaN</td>\n",
       "      <td>NaN</td>\n",
       "      <td>1ASIWS</td>\n",
       "      <td>0</td>\n",
       "      <td>0</td>\n",
       "      <td>0</td>\n",
       "      <td>d41d8cd98f00b204e9800998ecf8427e</td>\n",
       "      <td>KIV</td>\n",
       "      <td>0.0</td>\n",
       "      <td>0.0</td>\n",
       "      <td>0.0</td>\n",
       "      <td>0.0</td>\n",
       "      <td>0.0</td>\n",
       "      <td>0.0</td>\n",
       "    </tr>\n",
       "  </tbody>\n",
       "</table>\n",
       "</div>"
      ],
      "text/plain": [
       "         Date      Time TxnCode                          OfficeID Country  \\\n",
       "0  2013-01-01  20:25:57     MPT  624D8C3AC0B3A7CA03E3C167E0F48327      DE   \n",
       "1  2013-01-01  10:15:33     MPT  B0AF35B31588DC4AB06D5CF2986E8E02      MD   \n",
       "\n",
       "  Origin Destination  RoundTrip  NbSegments Seg1Departure Seg1Arrival  \\\n",
       "0    TXL         AUH          1           2           TXL         AUH   \n",
       "1    ATH         MIL          0           1           ATH         MIL   \n",
       "\n",
       "     Seg1Date Seg1Carrier Seg1BookingCode Seg2Departure Seg2Arrival  \\\n",
       "0  2013-01-26          D2             NaN           AUH         TXL   \n",
       "1  2013-01-04         NaN             NaN           NaN         NaN   \n",
       "\n",
       "     Seg2Date Seg2Carrier Seg2BookingCode Seg3Departure Seg3Arrival Seg3Date  \\\n",
       "0  2013-02-02          D2             NaN           NaN         NaN      NaN   \n",
       "1         NaN         NaN             NaN           NaN         NaN      NaN   \n",
       "\n",
       "  Seg3Carrier Seg3BookingCode Seg4Departure Seg4Arrival Seg4Date Seg4Carrier  \\\n",
       "0         NaN             NaN           NaN         NaN      NaN         NaN   \n",
       "1         NaN             NaN           NaN         NaN      NaN         NaN   \n",
       "\n",
       "  Seg4BookingCode Seg5Departure Seg5Arrival Seg5Date Seg5Carrier  \\\n",
       "0             NaN           NaN         NaN      NaN         NaN   \n",
       "1             NaN           NaN         NaN      NaN         NaN   \n",
       "\n",
       "  Seg5BookingCode Seg6Departure Seg6Arrival Seg6Date Seg6Carrier  \\\n",
       "0             NaN           NaN         NaN      NaN         NaN   \n",
       "1             NaN           NaN         NaN      NaN         NaN   \n",
       "\n",
       "  Seg6BookingCode    From  IsPublishedForNeg  IsFromInternet  IsFromVista  \\\n",
       "0             NaN  1ASIWS                  0               0            0   \n",
       "1             NaN  1ASIWS                  0               0            0   \n",
       "\n",
       "                         TerminalID InternetOffice  booking1  booking2  \\\n",
       "0  d41d8cd98f00b204e9800998ecf8427e            FRA       0.0       0.0   \n",
       "1  d41d8cd98f00b204e9800998ecf8427e            KIV       0.0       0.0   \n",
       "\n",
       "   booking3  booking4  booking5  booking6  \n",
       "0       0.0       0.0       0.0       0.0  \n",
       "1       0.0       0.0       0.0       0.0  "
      ]
     },
     "execution_count": 228,
     "metadata": {},
     "output_type": "execute_result"
    }
   ],
   "source": [
    "searches_to_merge_3.head(2)"
   ]
  },
  {
   "cell_type": "code",
   "execution_count": 229,
   "metadata": {},
   "outputs": [
    {
     "data": {
      "text/plain": [
       "booking1    452.0\n",
       "booking2    182.0\n",
       "booking3     31.0\n",
       "booking4     25.0\n",
       "booking5      3.0\n",
       "booking6      1.0\n",
       "dtype: float64"
      ]
     },
     "execution_count": 229,
     "metadata": {},
     "output_type": "execute_result"
    }
   ],
   "source": [
    "searches_to_merge_3.iloc[:, -6:].sum()"
   ]
  },
  {
   "cell_type": "code",
   "execution_count": null,
   "metadata": {},
   "outputs": [],
   "source": []
  },
  {
   "cell_type": "code",
   "execution_count": 242,
   "metadata": {},
   "outputs": [],
   "source": [
    "searches_4 = searches_to_merge_3.iloc[:, -6:].copy()"
   ]
  },
  {
   "cell_type": "code",
   "execution_count": 244,
   "metadata": {},
   "outputs": [
    {
     "data": {
      "text/html": [
       "<div>\n",
       "<style scoped>\n",
       "    .dataframe tbody tr th:only-of-type {\n",
       "        vertical-align: middle;\n",
       "    }\n",
       "\n",
       "    .dataframe tbody tr th {\n",
       "        vertical-align: top;\n",
       "    }\n",
       "\n",
       "    .dataframe thead th {\n",
       "        text-align: right;\n",
       "    }\n",
       "</style>\n",
       "<table border=\"1\" class=\"dataframe\">\n",
       "  <thead>\n",
       "    <tr style=\"text-align: right;\">\n",
       "      <th></th>\n",
       "      <th>booking1</th>\n",
       "      <th>booking2</th>\n",
       "      <th>booking3</th>\n",
       "      <th>booking4</th>\n",
       "      <th>booking5</th>\n",
       "      <th>booking6</th>\n",
       "    </tr>\n",
       "  </thead>\n",
       "  <tbody>\n",
       "    <tr>\n",
       "      <th>0</th>\n",
       "      <td>0.0</td>\n",
       "      <td>0.0</td>\n",
       "      <td>0.0</td>\n",
       "      <td>0.0</td>\n",
       "      <td>0.0</td>\n",
       "      <td>0.0</td>\n",
       "    </tr>\n",
       "    <tr>\n",
       "      <th>1</th>\n",
       "      <td>0.0</td>\n",
       "      <td>0.0</td>\n",
       "      <td>0.0</td>\n",
       "      <td>0.0</td>\n",
       "      <td>0.0</td>\n",
       "      <td>0.0</td>\n",
       "    </tr>\n",
       "    <tr>\n",
       "      <th>2</th>\n",
       "      <td>0.0</td>\n",
       "      <td>0.0</td>\n",
       "      <td>0.0</td>\n",
       "      <td>0.0</td>\n",
       "      <td>0.0</td>\n",
       "      <td>0.0</td>\n",
       "    </tr>\n",
       "    <tr>\n",
       "      <th>3</th>\n",
       "      <td>0.0</td>\n",
       "      <td>0.0</td>\n",
       "      <td>0.0</td>\n",
       "      <td>0.0</td>\n",
       "      <td>0.0</td>\n",
       "      <td>0.0</td>\n",
       "    </tr>\n",
       "    <tr>\n",
       "      <th>4</th>\n",
       "      <td>0.0</td>\n",
       "      <td>0.0</td>\n",
       "      <td>0.0</td>\n",
       "      <td>0.0</td>\n",
       "      <td>0.0</td>\n",
       "      <td>0.0</td>\n",
       "    </tr>\n",
       "    <tr>\n",
       "      <th>...</th>\n",
       "      <td>...</td>\n",
       "      <td>...</td>\n",
       "      <td>...</td>\n",
       "      <td>...</td>\n",
       "      <td>...</td>\n",
       "      <td>...</td>\n",
       "    </tr>\n",
       "    <tr>\n",
       "      <th>363338</th>\n",
       "      <td>0.0</td>\n",
       "      <td>0.0</td>\n",
       "      <td>0.0</td>\n",
       "      <td>0.0</td>\n",
       "      <td>0.0</td>\n",
       "      <td>0.0</td>\n",
       "    </tr>\n",
       "    <tr>\n",
       "      <th>363339</th>\n",
       "      <td>0.0</td>\n",
       "      <td>0.0</td>\n",
       "      <td>0.0</td>\n",
       "      <td>0.0</td>\n",
       "      <td>0.0</td>\n",
       "      <td>0.0</td>\n",
       "    </tr>\n",
       "    <tr>\n",
       "      <th>363340</th>\n",
       "      <td>0.0</td>\n",
       "      <td>0.0</td>\n",
       "      <td>0.0</td>\n",
       "      <td>0.0</td>\n",
       "      <td>0.0</td>\n",
       "      <td>0.0</td>\n",
       "    </tr>\n",
       "    <tr>\n",
       "      <th>363341</th>\n",
       "      <td>0.0</td>\n",
       "      <td>0.0</td>\n",
       "      <td>0.0</td>\n",
       "      <td>0.0</td>\n",
       "      <td>0.0</td>\n",
       "      <td>0.0</td>\n",
       "    </tr>\n",
       "    <tr>\n",
       "      <th>363342</th>\n",
       "      <td>0.0</td>\n",
       "      <td>0.0</td>\n",
       "      <td>0.0</td>\n",
       "      <td>0.0</td>\n",
       "      <td>0.0</td>\n",
       "      <td>0.0</td>\n",
       "    </tr>\n",
       "  </tbody>\n",
       "</table>\n",
       "<p>363343 rows × 6 columns</p>\n",
       "</div>"
      ],
      "text/plain": [
       "        booking1  booking2  booking3  booking4  booking5  booking6\n",
       "0            0.0       0.0       0.0       0.0       0.0       0.0\n",
       "1            0.0       0.0       0.0       0.0       0.0       0.0\n",
       "2            0.0       0.0       0.0       0.0       0.0       0.0\n",
       "3            0.0       0.0       0.0       0.0       0.0       0.0\n",
       "4            0.0       0.0       0.0       0.0       0.0       0.0\n",
       "...          ...       ...       ...       ...       ...       ...\n",
       "363338       0.0       0.0       0.0       0.0       0.0       0.0\n",
       "363339       0.0       0.0       0.0       0.0       0.0       0.0\n",
       "363340       0.0       0.0       0.0       0.0       0.0       0.0\n",
       "363341       0.0       0.0       0.0       0.0       0.0       0.0\n",
       "363342       0.0       0.0       0.0       0.0       0.0       0.0\n",
       "\n",
       "[363343 rows x 6 columns]"
      ]
     },
     "execution_count": 244,
     "metadata": {},
     "output_type": "execute_result"
    }
   ],
   "source": [
    "searches_4"
   ]
  },
  {
   "cell_type": "code",
   "execution_count": 247,
   "metadata": {},
   "outputs": [
    {
     "data": {
      "text/plain": [
       "['booking1', 'booking2', 'booking3', 'booking4', 'booking5', 'booking6']"
      ]
     },
     "execution_count": 247,
     "metadata": {},
     "output_type": "execute_result"
    }
   ],
   "source": [
    "columns = searches_4.columns.tolist().copy()\n",
    "columns"
   ]
  },
  {
   "cell_type": "code",
   "execution_count": 248,
   "metadata": {},
   "outputs": [],
   "source": [
    "searches_4['Booking_tot'] = 0\n",
    "for column in columns:\n",
    "    searches_4['Booking_tot'] += searches_4[column]"
   ]
  },
  {
   "cell_type": "code",
   "execution_count": 249,
   "metadata": {},
   "outputs": [
    {
     "data": {
      "text/plain": [
       "694.0"
      ]
     },
     "execution_count": 249,
     "metadata": {},
     "output_type": "execute_result"
    }
   ],
   "source": [
    "searches_4['Booking_tot'].sum()"
   ]
  },
  {
   "cell_type": "code",
   "execution_count": 241,
   "metadata": {},
   "outputs": [
    {
     "data": {
      "text/plain": [
       "694.0"
      ]
     },
     "execution_count": 241,
     "metadata": {},
     "output_type": "execute_result"
    }
   ],
   "source": [
    "searches_4.iloc[:, :-1].sum().sum()"
   ]
  },
  {
   "cell_type": "markdown",
   "metadata": {},
   "source": [
    "### Mas pruebas"
   ]
  },
  {
   "cell_type": "code",
   "execution_count": 4,
   "metadata": {},
   "outputs": [
    {
     "data": {
      "text/html": [
       "<div>\n",
       "<style scoped>\n",
       "    .dataframe tbody tr th:only-of-type {\n",
       "        vertical-align: middle;\n",
       "    }\n",
       "\n",
       "    .dataframe tbody tr th {\n",
       "        vertical-align: top;\n",
       "    }\n",
       "\n",
       "    .dataframe thead th {\n",
       "        text-align: right;\n",
       "    }\n",
       "</style>\n",
       "<table border=\"1\" class=\"dataframe\">\n",
       "  <thead>\n",
       "    <tr style=\"text-align: right;\">\n",
       "      <th></th>\n",
       "      <th>Date</th>\n",
       "      <th>Time</th>\n",
       "      <th>TxnCode</th>\n",
       "      <th>OfficeID</th>\n",
       "      <th>Country</th>\n",
       "      <th>Origin</th>\n",
       "      <th>Destination</th>\n",
       "      <th>RoundTrip</th>\n",
       "      <th>NbSegments</th>\n",
       "      <th>Seg1Departure</th>\n",
       "      <th>Seg1Arrival</th>\n",
       "      <th>Seg1Date</th>\n",
       "      <th>Seg1Carrier</th>\n",
       "      <th>Seg1BookingCode</th>\n",
       "      <th>Seg2Departure</th>\n",
       "      <th>Seg2Arrival</th>\n",
       "      <th>Seg2Date</th>\n",
       "      <th>Seg2Carrier</th>\n",
       "      <th>Seg2BookingCode</th>\n",
       "      <th>Seg3Departure</th>\n",
       "      <th>Seg3Arrival</th>\n",
       "      <th>Seg3Date</th>\n",
       "      <th>Seg3Carrier</th>\n",
       "      <th>Seg3BookingCode</th>\n",
       "      <th>Seg4Departure</th>\n",
       "      <th>Seg4Arrival</th>\n",
       "      <th>Seg4Date</th>\n",
       "      <th>Seg4Carrier</th>\n",
       "      <th>Seg4BookingCode</th>\n",
       "      <th>Seg5Departure</th>\n",
       "      <th>Seg5Arrival</th>\n",
       "      <th>Seg5Date</th>\n",
       "      <th>Seg5Carrier</th>\n",
       "      <th>Seg5BookingCode</th>\n",
       "      <th>Seg6Departure</th>\n",
       "      <th>Seg6Arrival</th>\n",
       "      <th>Seg6Date</th>\n",
       "      <th>Seg6Carrier</th>\n",
       "      <th>Seg6BookingCode</th>\n",
       "      <th>From</th>\n",
       "      <th>IsPublishedForNeg</th>\n",
       "      <th>IsFromInternet</th>\n",
       "      <th>IsFromVista</th>\n",
       "      <th>TerminalID</th>\n",
       "      <th>InternetOffice</th>\n",
       "    </tr>\n",
       "  </thead>\n",
       "  <tbody>\n",
       "    <tr>\n",
       "      <th>0</th>\n",
       "      <td>2013-01-01</td>\n",
       "      <td>20:25:57</td>\n",
       "      <td>MPT</td>\n",
       "      <td>624d8c3ac0b3a7ca03e3c167e0f48327</td>\n",
       "      <td>DE</td>\n",
       "      <td>TXL</td>\n",
       "      <td>AUH</td>\n",
       "      <td>1</td>\n",
       "      <td>2</td>\n",
       "      <td>TXL</td>\n",
       "      <td>AUH</td>\n",
       "      <td>2013-01-26</td>\n",
       "      <td>D2</td>\n",
       "      <td>NaN</td>\n",
       "      <td>AUH</td>\n",
       "      <td>TXL</td>\n",
       "      <td>2013-02-02</td>\n",
       "      <td>D2</td>\n",
       "      <td>NaN</td>\n",
       "      <td>NaN</td>\n",
       "      <td>NaN</td>\n",
       "      <td>NaN</td>\n",
       "      <td>NaN</td>\n",
       "      <td>NaN</td>\n",
       "      <td>NaN</td>\n",
       "      <td>NaN</td>\n",
       "      <td>NaN</td>\n",
       "      <td>NaN</td>\n",
       "      <td>NaN</td>\n",
       "      <td>NaN</td>\n",
       "      <td>NaN</td>\n",
       "      <td>NaN</td>\n",
       "      <td>NaN</td>\n",
       "      <td>NaN</td>\n",
       "      <td>NaN</td>\n",
       "      <td>NaN</td>\n",
       "      <td>NaN</td>\n",
       "      <td>NaN</td>\n",
       "      <td>NaN</td>\n",
       "      <td>1ASIWS</td>\n",
       "      <td>0</td>\n",
       "      <td>0</td>\n",
       "      <td>0</td>\n",
       "      <td>d41d8cd98f00b204e9800998ecf8427e</td>\n",
       "      <td>FRA</td>\n",
       "    </tr>\n",
       "    <tr>\n",
       "      <th>1</th>\n",
       "      <td>2013-01-01</td>\n",
       "      <td>10:15:33</td>\n",
       "      <td>MPT</td>\n",
       "      <td>b0af35b31588dc4ab06d5cf2986e8e02</td>\n",
       "      <td>MD</td>\n",
       "      <td>ATH</td>\n",
       "      <td>MIL</td>\n",
       "      <td>0</td>\n",
       "      <td>1</td>\n",
       "      <td>ATH</td>\n",
       "      <td>MIL</td>\n",
       "      <td>2013-01-04</td>\n",
       "      <td>NaN</td>\n",
       "      <td>NaN</td>\n",
       "      <td>NaN</td>\n",
       "      <td>NaN</td>\n",
       "      <td>NaN</td>\n",
       "      <td>NaN</td>\n",
       "      <td>NaN</td>\n",
       "      <td>NaN</td>\n",
       "      <td>NaN</td>\n",
       "      <td>NaN</td>\n",
       "      <td>NaN</td>\n",
       "      <td>NaN</td>\n",
       "      <td>NaN</td>\n",
       "      <td>NaN</td>\n",
       "      <td>NaN</td>\n",
       "      <td>NaN</td>\n",
       "      <td>NaN</td>\n",
       "      <td>NaN</td>\n",
       "      <td>NaN</td>\n",
       "      <td>NaN</td>\n",
       "      <td>NaN</td>\n",
       "      <td>NaN</td>\n",
       "      <td>NaN</td>\n",
       "      <td>NaN</td>\n",
       "      <td>NaN</td>\n",
       "      <td>NaN</td>\n",
       "      <td>NaN</td>\n",
       "      <td>1ASIWS</td>\n",
       "      <td>0</td>\n",
       "      <td>0</td>\n",
       "      <td>0</td>\n",
       "      <td>d41d8cd98f00b204e9800998ecf8427e</td>\n",
       "      <td>KIV</td>\n",
       "    </tr>\n",
       "  </tbody>\n",
       "</table>\n",
       "</div>"
      ],
      "text/plain": [
       "         Date      Time TxnCode                          OfficeID Country  \\\n",
       "0  2013-01-01  20:25:57     MPT  624d8c3ac0b3a7ca03e3c167e0f48327      DE   \n",
       "1  2013-01-01  10:15:33     MPT  b0af35b31588dc4ab06d5cf2986e8e02      MD   \n",
       "\n",
       "  Origin Destination  RoundTrip  NbSegments Seg1Departure Seg1Arrival  \\\n",
       "0    TXL         AUH          1           2           TXL         AUH   \n",
       "1    ATH         MIL          0           1           ATH         MIL   \n",
       "\n",
       "     Seg1Date Seg1Carrier Seg1BookingCode Seg2Departure Seg2Arrival  \\\n",
       "0  2013-01-26          D2             NaN           AUH         TXL   \n",
       "1  2013-01-04         NaN             NaN           NaN         NaN   \n",
       "\n",
       "     Seg2Date Seg2Carrier Seg2BookingCode Seg3Departure Seg3Arrival Seg3Date  \\\n",
       "0  2013-02-02          D2             NaN           NaN         NaN      NaN   \n",
       "1         NaN         NaN             NaN           NaN         NaN      NaN   \n",
       "\n",
       "  Seg3Carrier Seg3BookingCode Seg4Departure Seg4Arrival Seg4Date Seg4Carrier  \\\n",
       "0         NaN             NaN           NaN         NaN      NaN         NaN   \n",
       "1         NaN             NaN           NaN         NaN      NaN         NaN   \n",
       "\n",
       "  Seg4BookingCode Seg5Departure Seg5Arrival Seg5Date Seg5Carrier  \\\n",
       "0             NaN           NaN         NaN      NaN         NaN   \n",
       "1             NaN           NaN         NaN      NaN         NaN   \n",
       "\n",
       "  Seg5BookingCode Seg6Departure Seg6Arrival Seg6Date Seg6Carrier  \\\n",
       "0             NaN           NaN         NaN      NaN         NaN   \n",
       "1             NaN           NaN         NaN      NaN         NaN   \n",
       "\n",
       "  Seg6BookingCode    From  IsPublishedForNeg  IsFromInternet  IsFromVista  \\\n",
       "0             NaN  1ASIWS                  0               0            0   \n",
       "1             NaN  1ASIWS                  0               0            0   \n",
       "\n",
       "                         TerminalID InternetOffice  \n",
       "0  d41d8cd98f00b204e9800998ecf8427e            FRA  \n",
       "1  d41d8cd98f00b204e9800998ecf8427e            KIV  "
      ]
     },
     "execution_count": 4,
     "metadata": {},
     "output_type": "execute_result"
    }
   ],
   "source": [
    "searches.head(2)"
   ]
  },
  {
   "cell_type": "code",
   "execution_count": 18,
   "metadata": {},
   "outputs": [],
   "source": [
    "columns_to_clean = ['Date', 'Seg1Departure', 'Seg1Arrival', 'Seg1Date', \n",
    "                 'Seg2Departure', 'Seg2Arrival', 'Seg2Date', \n",
    "                 'Seg3Departure', 'Seg3Arrival', 'Seg3Date', \n",
    "                 'Seg4Departure', 'Seg4Arrival', 'Seg4Date', \n",
    "                 'Seg5Departure', 'Seg5Arrival', 'Seg5Date', \n",
    "                 'Seg6Departure', 'Seg6Arrival', 'Seg6Date',\n",
    "                ]"
   ]
  },
  {
   "cell_type": "code",
   "execution_count": 8,
   "metadata": {},
   "outputs": [
    {
     "data": {
      "text/plain": [
       "False"
      ]
     },
     "execution_count": 8,
     "metadata": {},
     "output_type": "execute_result"
    }
   ],
   "source": [
    "isinstance(4, float)"
   ]
  },
  {
   "cell_type": "code",
   "execution_count": 24,
   "metadata": {},
   "outputs": [],
   "source": [
    "df = pd.read_csv(\"../challenge/searches.csv.bz2\", \n",
    "                            #chunksize=10**4, \n",
    "                            sep='^', \n",
    "                            compression='bz2',\n",
    "                            nrows=10\n",
    "                           )"
   ]
  },
  {
   "cell_type": "code",
   "execution_count": 47,
   "metadata": {},
   "outputs": [
    {
     "data": {
      "text/plain": [
       "False"
      ]
     },
     "execution_count": 47,
     "metadata": {},
     "output_type": "execute_result"
    }
   ],
   "source": [
    "np.nan == np.nan ### cuidado con esto"
   ]
  },
  {
   "cell_type": "code",
   "execution_count": 50,
   "metadata": {},
   "outputs": [
    {
     "data": {
      "text/plain": [
       "True"
      ]
     },
     "execution_count": 50,
     "metadata": {},
     "output_type": "execute_result"
    }
   ],
   "source": [
    "isinstance(np.nan, float) # no me lo puedo creer..."
   ]
  },
  {
   "cell_type": "code",
   "execution_count": 51,
   "metadata": {},
   "outputs": [
    {
     "data": {
      "text/plain": [
       "False"
      ]
     },
     "execution_count": 51,
     "metadata": {},
     "output_type": "execute_result"
    }
   ],
   "source": [
    "not isinstance(np.nan, float) "
   ]
  },
  {
   "cell_type": "code",
   "execution_count": 31,
   "metadata": {
    "scrolled": true
   },
   "outputs": [
    {
     "ename": "TypeError",
     "evalue": "object of type 'float' has no len()",
     "output_type": "error",
     "traceback": [
      "\u001b[0;31m---------------------------------------------------------------------------\u001b[0m",
      "\u001b[0;31mTypeError\u001b[0m                                 Traceback (most recent call last)",
      "\u001b[0;32m<ipython-input-31-deee8b6cf55f>\u001b[0m in \u001b[0;36m<module>\u001b[0;34m\u001b[0m\n\u001b[0;32m----> 1\u001b[0;31m \u001b[0mlen\u001b[0m\u001b[0;34m(\u001b[0m\u001b[0mnp\u001b[0m\u001b[0;34m.\u001b[0m\u001b[0mnan\u001b[0m\u001b[0;34m)\u001b[0m\u001b[0;34m\u001b[0m\u001b[0;34m\u001b[0m\u001b[0m\n\u001b[0m",
      "\u001b[0;31mTypeError\u001b[0m: object of type 'float' has no len()"
     ]
    }
   ],
   "source": [
    "len(np.nan) # este es el fallo "
   ]
  },
  {
   "cell_type": "code",
   "execution_count": 46,
   "metadata": {},
   "outputs": [
    {
     "ename": "SyntaxError",
     "evalue": "invalid syntax (<ipython-input-46-f8dc556e086a>, line 4)",
     "output_type": "error",
     "traceback": [
      "\u001b[0;36m  File \u001b[0;32m\"<ipython-input-46-f8dc556e086a>\"\u001b[0;36m, line \u001b[0;32m4\u001b[0m\n\u001b[0;31m    cell_length = (df[column].apply(lambda x: len(x) != 3 if x != np.nan:).sum()\u001b[0m\n\u001b[0m                                                                        ^\u001b[0m\n\u001b[0;31mSyntaxError\u001b[0m\u001b[0;31m:\u001b[0m invalid syntax\n"
     ]
    }
   ],
   "source": [
    "for column in columns_to_clean:\n",
    "    if 'Date' not in column:   \n",
    "        print(column)\n",
    "        cell_length = (df[column].apply().sum()\n",
    "        if cell_length != 0:\n",
    "            print(f'Alert! There are `{column}` values with length different than 3,')\n",
    "                       \n",
    "### cuidado con esto                \n",
    "        "
   ]
  },
  {
   "cell_type": "code",
   "execution_count": 62,
   "metadata": {
    "collapsed": true
   },
   "outputs": [
    {
     "name": "stdout",
     "output_type": "stream",
     "text": [
      "Seg1Departure\n",
      "Seg1Arrival\n",
      "Seg2Departure\n"
     ]
    },
    {
     "ename": "TypeError",
     "evalue": "object of type 'float' has no len()",
     "output_type": "error",
     "traceback": [
      "\u001b[0;31m---------------------------------------------------------------------------\u001b[0m",
      "\u001b[0;31mTypeError\u001b[0m                                 Traceback (most recent call last)",
      "\u001b[0;32m<ipython-input-62-6f11f7f56fa2>\u001b[0m in \u001b[0;36m<module>\u001b[0;34m\u001b[0m\n\u001b[1;32m      3\u001b[0m         \u001b[0mprint\u001b[0m\u001b[0;34m(\u001b[0m\u001b[0mcolumn\u001b[0m\u001b[0;34m)\u001b[0m\u001b[0;34m\u001b[0m\u001b[0;34m\u001b[0m\u001b[0m\n\u001b[1;32m      4\u001b[0m \u001b[0;34m\u001b[0m\u001b[0m\n\u001b[0;32m----> 5\u001b[0;31m         \u001b[0mcell_length\u001b[0m \u001b[0;34m=\u001b[0m \u001b[0;34m(\u001b[0m\u001b[0mdf\u001b[0m\u001b[0;34m[\u001b[0m\u001b[0mcolumn\u001b[0m\u001b[0;34m]\u001b[0m\u001b[0;34m.\u001b[0m\u001b[0mapply\u001b[0m\u001b[0;34m(\u001b[0m\u001b[0mlen\u001b[0m\u001b[0;34m)\u001b[0m \u001b[0;34m!=\u001b[0m \u001b[0;36m3\u001b[0m\u001b[0;34m)\u001b[0m\u001b[0;34m.\u001b[0m\u001b[0msum\u001b[0m\u001b[0;34m(\u001b[0m\u001b[0;34m)\u001b[0m\u001b[0;34m\u001b[0m\u001b[0;34m\u001b[0m\u001b[0m\n\u001b[0m\u001b[1;32m      6\u001b[0m         \u001b[0;32mif\u001b[0m \u001b[0mcell_length\u001b[0m \u001b[0;34m!=\u001b[0m \u001b[0;36m0\u001b[0m\u001b[0;34m:\u001b[0m\u001b[0;34m\u001b[0m\u001b[0;34m\u001b[0m\u001b[0m\n\u001b[1;32m      7\u001b[0m             \u001b[0mprint\u001b[0m\u001b[0;34m(\u001b[0m\u001b[0;34mf'Alert! There are `{column}` values with length different than 3,'\u001b[0m\u001b[0;34m)\u001b[0m\u001b[0;34m\u001b[0m\u001b[0;34m\u001b[0m\u001b[0m\n",
      "\u001b[0;32m~/anaconda3/lib/python3.8/site-packages/pandas/core/series.py\u001b[0m in \u001b[0;36mapply\u001b[0;34m(self, func, convert_dtype, args, **kwds)\u001b[0m\n\u001b[1;32m   4198\u001b[0m             \u001b[0;32melse\u001b[0m\u001b[0;34m:\u001b[0m\u001b[0;34m\u001b[0m\u001b[0;34m\u001b[0m\u001b[0m\n\u001b[1;32m   4199\u001b[0m                 \u001b[0mvalues\u001b[0m \u001b[0;34m=\u001b[0m \u001b[0mself\u001b[0m\u001b[0;34m.\u001b[0m\u001b[0mastype\u001b[0m\u001b[0;34m(\u001b[0m\u001b[0mobject\u001b[0m\u001b[0;34m)\u001b[0m\u001b[0;34m.\u001b[0m\u001b[0m_values\u001b[0m\u001b[0;34m\u001b[0m\u001b[0;34m\u001b[0m\u001b[0m\n\u001b[0;32m-> 4200\u001b[0;31m                 \u001b[0mmapped\u001b[0m \u001b[0;34m=\u001b[0m \u001b[0mlib\u001b[0m\u001b[0;34m.\u001b[0m\u001b[0mmap_infer\u001b[0m\u001b[0;34m(\u001b[0m\u001b[0mvalues\u001b[0m\u001b[0;34m,\u001b[0m \u001b[0mf\u001b[0m\u001b[0;34m,\u001b[0m \u001b[0mconvert\u001b[0m\u001b[0;34m=\u001b[0m\u001b[0mconvert_dtype\u001b[0m\u001b[0;34m)\u001b[0m\u001b[0;34m\u001b[0m\u001b[0;34m\u001b[0m\u001b[0m\n\u001b[0m\u001b[1;32m   4201\u001b[0m \u001b[0;34m\u001b[0m\u001b[0m\n\u001b[1;32m   4202\u001b[0m         \u001b[0;32mif\u001b[0m \u001b[0mlen\u001b[0m\u001b[0;34m(\u001b[0m\u001b[0mmapped\u001b[0m\u001b[0;34m)\u001b[0m \u001b[0;32mand\u001b[0m \u001b[0misinstance\u001b[0m\u001b[0;34m(\u001b[0m\u001b[0mmapped\u001b[0m\u001b[0;34m[\u001b[0m\u001b[0;36m0\u001b[0m\u001b[0;34m]\u001b[0m\u001b[0;34m,\u001b[0m \u001b[0mSeries\u001b[0m\u001b[0;34m)\u001b[0m\u001b[0;34m:\u001b[0m\u001b[0;34m\u001b[0m\u001b[0;34m\u001b[0m\u001b[0m\n",
      "\u001b[0;32mpandas/_libs/lib.pyx\u001b[0m in \u001b[0;36mpandas._libs.lib.map_infer\u001b[0;34m()\u001b[0m\n",
      "\u001b[0;31mTypeError\u001b[0m: object of type 'float' has no len()"
     ]
    }
   ],
   "source": [
    "for column in columns_to_clean:\n",
    "    if 'Date' not in column:   \n",
    "        print(column)\n",
    "        \n",
    "        cell_length = (df[column].apply(len) ).sum()\n",
    "        if cell_length != 0:\n",
    "            print(f'Alert! There are `{column}` values with length different than 3,')"
   ]
  },
  {
   "cell_type": "code",
   "execution_count": 63,
   "metadata": {},
   "outputs": [
    {
     "ename": "TypeError",
     "evalue": "object of type 'float' has no len()",
     "output_type": "error",
     "traceback": [
      "\u001b[0;31m---------------------------------------------------------------------------\u001b[0m",
      "\u001b[0;31mTypeError\u001b[0m                                 Traceback (most recent call last)",
      "\u001b[0;32m<ipython-input-63-deee8b6cf55f>\u001b[0m in \u001b[0;36m<module>\u001b[0;34m\u001b[0m\n\u001b[0;32m----> 1\u001b[0;31m \u001b[0mlen\u001b[0m\u001b[0;34m(\u001b[0m\u001b[0mnp\u001b[0m\u001b[0;34m.\u001b[0m\u001b[0mnan\u001b[0m\u001b[0;34m)\u001b[0m\u001b[0;34m\u001b[0m\u001b[0;34m\u001b[0m\u001b[0m\n\u001b[0m",
      "\u001b[0;31mTypeError\u001b[0m: object of type 'float' has no len()"
     ]
    }
   ],
   "source": [
    "lambda"
   ]
  },
  {
   "cell_type": "code",
   "execution_count": null,
   "metadata": {},
   "outputs": [],
   "source": []
  },
  {
   "cell_type": "code",
   "execution_count": 127,
   "metadata": {
    "scrolled": true
   },
   "outputs": [
    {
     "data": {
      "text/plain": [
       "0      dfs\n",
       "1    adssd\n",
       "2      NaN\n",
       "3     vass\n",
       "4      ssd\n",
       "5      asd\n",
       "6      NaN\n",
       "dtype: object"
      ]
     },
     "execution_count": 127,
     "metadata": {},
     "output_type": "execute_result"
    }
   ],
   "source": [
    "ser = pd.Series(['dfs','adssd',np.nan,'vass','ssd','asd',np.nan])\n",
    "ser"
   ]
  },
  {
   "cell_type": "code",
   "execution_count": 119,
   "metadata": {},
   "outputs": [
    {
     "data": {
      "text/plain": [
       "0    3.0\n",
       "1    3.0\n",
       "2    NaN\n",
       "3    3.0\n",
       "4    3.0\n",
       "5    3.0\n",
       "6    NaN\n",
       "dtype: float64"
      ]
     },
     "execution_count": 119,
     "metadata": {},
     "output_type": "execute_result"
    }
   ],
   "source": [
    "ser.map(lambda x: len(x) if pd.notna(x) else x)"
   ]
  },
  {
   "cell_type": "code",
   "execution_count": 78,
   "metadata": {},
   "outputs": [
    {
     "data": {
      "text/plain": [
       "False"
      ]
     },
     "execution_count": 78,
     "metadata": {},
     "output_type": "execute_result"
    }
   ],
   "source": [
    "3 != 3.0"
   ]
  },
  {
   "cell_type": "code",
   "execution_count": 85,
   "metadata": {
    "scrolled": true
   },
   "outputs": [
    {
     "data": {
      "text/plain": [
       "0     True\n",
       "1    False\n",
       "2     True\n",
       "3     True\n",
       "4     True\n",
       "5     True\n",
       "6     True\n",
       "dtype: bool"
      ]
     },
     "execution_count": 85,
     "metadata": {},
     "output_type": "execute_result"
    }
   ],
   "source": [
    "(ser.map(lambda x: len(x) if not isinstance(x, float) else x) != 3.0)"
   ]
  },
  {
   "cell_type": "code",
   "execution_count": 120,
   "metadata": {
    "scrolled": true
   },
   "outputs": [
    {
     "data": {
      "text/plain": [
       "0    3.0\n",
       "1    3.0\n",
       "2    NaN\n",
       "3    3.0\n",
       "4    3.0\n",
       "5    3.0\n",
       "6    NaN\n",
       "dtype: float64"
      ]
     },
     "execution_count": 120,
     "metadata": {},
     "output_type": "execute_result"
    }
   ],
   "source": [
    "cell_lengths = ser.map(lambda x: len(x) if not isinstance(x, float) else x)\n",
    "cell_lengths"
   ]
  },
  {
   "cell_type": "code",
   "execution_count": 109,
   "metadata": {},
   "outputs": [
    {
     "data": {
      "text/plain": [
       "0    3.0\n",
       "1    3.0\n",
       "3    3.0\n",
       "4    3.0\n",
       "5    3.0\n",
       "dtype: float64"
      ]
     },
     "execution_count": 109,
     "metadata": {},
     "output_type": "execute_result"
    }
   ],
   "source": [
    "cell_lengths[cell_lengths.notna()]"
   ]
  },
  {
   "cell_type": "code",
   "execution_count": 110,
   "metadata": {},
   "outputs": [
    {
     "data": {
      "text/plain": [
       "0    False\n",
       "1    False\n",
       "3    False\n",
       "4    False\n",
       "5    False\n",
       "dtype: bool"
      ]
     },
     "execution_count": 110,
     "metadata": {},
     "output_type": "execute_result"
    }
   ],
   "source": [
    "cell_lengths[cell_lengths.notna()] != 3.0"
   ]
  },
  {
   "cell_type": "code",
   "execution_count": 125,
   "metadata": {},
   "outputs": [
    {
     "name": "stdout",
     "output_type": "stream",
     "text": [
      "Mu bien\n"
     ]
    }
   ],
   "source": [
    "cell_lengths = ser.map(lambda x: len(x) if not isinstance(x, float) else x)\n",
    "cell_lengths_sum = (cell_lengths[cell_lengths.notna()] != 3.0).sum()\n",
    "if cell_lengths_sum != 0:\n",
    "    print(f'Alert! There are `{column}` values with length different than 3, check it.')\n",
    "else: print('Mu bien')"
   ]
  },
  {
   "cell_type": "code",
   "execution_count": 142,
   "metadata": {},
   "outputs": [
    {
     "data": {
      "text/plain": [
       "0      dfs\n",
       "1    adssd\n",
       "2      NaN\n",
       "3     vass\n",
       "4      ssd\n",
       "5      asd\n",
       "6      NaN\n",
       "dtype: object"
      ]
     },
     "execution_count": 142,
     "metadata": {},
     "output_type": "execute_result"
    }
   ],
   "source": [
    "ser"
   ]
  },
  {
   "cell_type": "code",
   "execution_count": 144,
   "metadata": {},
   "outputs": [
    {
     "data": {
      "text/plain": [
       "0    3.0\n",
       "1    5.0\n",
       "2    NaN\n",
       "3    4.0\n",
       "4    3.0\n",
       "5    3.0\n",
       "6    NaN\n",
       "dtype: float64"
      ]
     },
     "execution_count": 144,
     "metadata": {},
     "output_type": "execute_result"
    }
   ],
   "source": [
    "cell_lengths"
   ]
  },
  {
   "cell_type": "code",
   "execution_count": 148,
   "metadata": {},
   "outputs": [
    {
     "data": {
      "text/plain": [
       "0    3.0\n",
       "1    5.0\n",
       "3    4.0\n",
       "4    3.0\n",
       "5    3.0\n",
       "dtype: float64"
      ]
     },
     "execution_count": 148,
     "metadata": {},
     "output_type": "execute_result"
    }
   ],
   "source": [
    "cell_lengths_notna"
   ]
  },
  {
   "cell_type": "code",
   "execution_count": 150,
   "metadata": {
    "scrolled": true
   },
   "outputs": [
    {
     "data": {
      "text/plain": [
       "0    False\n",
       "1     True\n",
       "3     True\n",
       "4    False\n",
       "5    False\n",
       "dtype: bool"
      ]
     },
     "execution_count": 150,
     "metadata": {},
     "output_type": "execute_result"
    }
   ],
   "source": [
    "mask = cell_lengths[cell_lengths.notna()] != 3.0\n",
    "mask"
   ]
  },
  {
   "cell_type": "code",
   "execution_count": 153,
   "metadata": {},
   "outputs": [
    {
     "data": {
      "text/plain": [
       "1    5.0\n",
       "3    4.0\n",
       "dtype: float64"
      ]
     },
     "execution_count": 153,
     "metadata": {},
     "output_type": "execute_result"
    }
   ],
   "source": [
    "wrong_data = cell_lengths_notna[mask]\n",
    "wrong_data"
   ]
  },
  {
   "cell_type": "code",
   "execution_count": 158,
   "metadata": {},
   "outputs": [
    {
     "name": "stdout",
     "output_type": "stream",
     "text": [
      "Alert! There are `Seg2Departure` values with length different than 3, check it.\n",
      "1    5.0\n",
      "3    4.0\n",
      "dtype: float64\n"
     ]
    }
   ],
   "source": [
    "cell_lengths = ser.map(lambda x: len(x) if not isinstance(x, float) else x)\n",
    "cell_lengths_notna = cell_lengths[cell_lengths.notna()]\n",
    "cell_lengths_sum = (cell_lengths_notna != 3.0).sum()\n",
    "if cell_lengths_sum != 0:\n",
    "    print(f'Alert! There are `{column}` values with length different than 3, check it.')\n",
    "\n",
    "    mask = cell_lengths_notna != 3.0\n",
    "    wrong_data = cell_lengths_notna[mask]\n",
    "    print(wrong_data)\n",
    "    \n",
    "    ser.drop(index=wrong_data.index, inplace=True)"
   ]
  },
  {
   "cell_type": "code",
   "execution_count": 159,
   "metadata": {
    "scrolled": true
   },
   "outputs": [
    {
     "data": {
      "text/plain": [
       "0    dfs\n",
       "2    NaN\n",
       "6    NaN\n",
       "dtype: object"
      ]
     },
     "execution_count": 159,
     "metadata": {},
     "output_type": "execute_result"
    }
   ],
   "source": [
    "ser"
   ]
  },
  {
   "cell_type": "code",
   "execution_count": 101,
   "metadata": {},
   "outputs": [
    {
     "data": {
      "text/plain": [
       "True"
      ]
     },
     "execution_count": 101,
     "metadata": {},
     "output_type": "execute_result"
    }
   ],
   "source": [
    "np.nan != 3.0"
   ]
  },
  {
   "cell_type": "code",
   "execution_count": 103,
   "metadata": {},
   "outputs": [
    {
     "data": {
      "text/plain": [
       "False"
      ]
     },
     "execution_count": 103,
     "metadata": {},
     "output_type": "execute_result"
    }
   ],
   "source": [
    "np.nan & (np.nan != 3.0)"
   ]
  },
  {
   "cell_type": "code",
   "execution_count": 97,
   "metadata": {},
   "outputs": [
    {
     "data": {
      "text/plain": [
       "0     True\n",
       "1     True\n",
       "2     True\n",
       "3     True\n",
       "4     True\n",
       "5     True\n",
       "6    False\n",
       "dtype: bool"
      ]
     },
     "execution_count": 97,
     "metadata": {},
     "output_type": "execute_result"
    }
   ],
   "source": [
    "pd.notna(ser.map(lambda x: len(x) if not isinstance(x, float) else x))"
   ]
  },
  {
   "cell_type": "code",
   "execution_count": 95,
   "metadata": {
    "scrolled": true
   },
   "outputs": [
    {
     "data": {
      "text/plain": [
       "0    True\n",
       "1    True\n",
       "2    True\n",
       "3    True\n",
       "4    True\n",
       "5    True\n",
       "6    True\n",
       "dtype: bool"
      ]
     },
     "execution_count": 95,
     "metadata": {},
     "output_type": "execute_result"
    }
   ],
   "source": [
    "  notna   ser.apply != (3) "
   ]
  },
  {
   "cell_type": "code",
   "execution_count": 89,
   "metadata": {},
   "outputs": [
    {
     "data": {
      "text/plain": [
       "True"
      ]
     },
     "execution_count": 89,
     "metadata": {},
     "output_type": "execute_result"
    }
   ],
   "source": [
    "np.nan != (3 or np.nan)"
   ]
  },
  {
   "cell_type": "code",
   "execution_count": 177,
   "metadata": {},
   "outputs": [],
   "source": [
    "def bookings_data_preprocessing(df): \n",
    "    '''\n",
    "    \n",
    "    '''\n",
    "    df.drop_duplicates(inplace=True)\n",
    "    \n",
    "    for column in df.columns:\n",
    "        df[column] = df[column].str.strip()\n",
    "    \n",
    "        if 'port' in column:\n",
    "            df[column] = df[column].str.upper()\n",
    "            \n",
    "            # Para saber si hay lengths superiores a 3 sin que nos de error por los missing values\n",
    "            cell_lengths = df[column].map(lambda x: len(x) if not isinstance(x, float) else x)\n",
    "            cell_lengths_notna = cell_lengths[cell_lengths.notna()]\n",
    "            cell_lengths_sum = (cell_lengths_notna != 3.0).sum()\n",
    "            if cell_lengths_sum != 0:\n",
    "                print(f'Alert! There are `{column}` values with length different than 3. Dropping them..')\n",
    "\n",
    "                mask = cell_lengths_notna != 3.0\n",
    "                wrong_data = cell_lengths_notna[mask]\n",
    "                print(wrong_data)\n",
    "                df.drop(index=wrong_data.index, inplace=True)\n",
    "        else:\n",
    "            df[column] = df[column].str.split().str[0]\n",
    "        \n",
    "    return df     "
   ]
  },
  {
   "cell_type": "code",
   "execution_count": 178,
   "metadata": {},
   "outputs": [
    {
     "data": {
      "text/html": [
       "<div>\n",
       "<style scoped>\n",
       "    .dataframe tbody tr th:only-of-type {\n",
       "        vertical-align: middle;\n",
       "    }\n",
       "\n",
       "    .dataframe tbody tr th {\n",
       "        vertical-align: top;\n",
       "    }\n",
       "\n",
       "    .dataframe thead th {\n",
       "        text-align: right;\n",
       "    }\n",
       "</style>\n",
       "<table border=\"1\" class=\"dataframe\">\n",
       "  <thead>\n",
       "    <tr style=\"text-align: right;\">\n",
       "      <th></th>\n",
       "      <th>ser_port</th>\n",
       "      <th>ser2_port</th>\n",
       "    </tr>\n",
       "  </thead>\n",
       "  <tbody>\n",
       "    <tr>\n",
       "      <th>0</th>\n",
       "      <td>dfy</td>\n",
       "      <td>dfs</td>\n",
       "    </tr>\n",
       "    <tr>\n",
       "      <th>1</th>\n",
       "      <td>adssd</td>\n",
       "      <td>asd</td>\n",
       "    </tr>\n",
       "    <tr>\n",
       "      <th>2</th>\n",
       "      <td>zdv</td>\n",
       "      <td>NaN</td>\n",
       "    </tr>\n",
       "  </tbody>\n",
       "</table>\n",
       "</div>"
      ],
      "text/plain": [
       "  ser_port ser2_port\n",
       "0      dfy       dfs\n",
       "1    adssd       asd\n",
       "2      zdv       NaN"
      ]
     },
     "execution_count": 178,
     "metadata": {},
     "output_type": "execute_result"
    }
   ],
   "source": [
    "ser = pd.Series(['dfy','adssd','zdv'])\n",
    "ser2 = pd.Series(['dfs','asd',np.nan])\n",
    "\n",
    "df = pd.DataFrame({'ser_port':ser, 'ser2_port':ser2})\n",
    "df"
   ]
  },
  {
   "cell_type": "code",
   "execution_count": 179,
   "metadata": {},
   "outputs": [
    {
     "name": "stdout",
     "output_type": "stream",
     "text": [
      "Alert! There are `ser_port` values with length different than 3. Dropping them..\n",
      "1    5\n",
      "Name: ser_port, dtype: int64\n"
     ]
    },
    {
     "data": {
      "text/html": [
       "<div>\n",
       "<style scoped>\n",
       "    .dataframe tbody tr th:only-of-type {\n",
       "        vertical-align: middle;\n",
       "    }\n",
       "\n",
       "    .dataframe tbody tr th {\n",
       "        vertical-align: top;\n",
       "    }\n",
       "\n",
       "    .dataframe thead th {\n",
       "        text-align: right;\n",
       "    }\n",
       "</style>\n",
       "<table border=\"1\" class=\"dataframe\">\n",
       "  <thead>\n",
       "    <tr style=\"text-align: right;\">\n",
       "      <th></th>\n",
       "      <th>ser_port</th>\n",
       "      <th>ser2_port</th>\n",
       "    </tr>\n",
       "  </thead>\n",
       "  <tbody>\n",
       "    <tr>\n",
       "      <th>0</th>\n",
       "      <td>DFY</td>\n",
       "      <td>DFS</td>\n",
       "    </tr>\n",
       "    <tr>\n",
       "      <th>2</th>\n",
       "      <td>ZDV</td>\n",
       "      <td>NaN</td>\n",
       "    </tr>\n",
       "  </tbody>\n",
       "</table>\n",
       "</div>"
      ],
      "text/plain": [
       "  ser_port ser2_port\n",
       "0      DFY       DFS\n",
       "2      ZDV       NaN"
      ]
     },
     "execution_count": 179,
     "metadata": {},
     "output_type": "execute_result"
    }
   ],
   "source": [
    "bookings_data_preprocessing(df)"
   ]
  },
  {
   "cell_type": "code",
   "execution_count": 180,
   "metadata": {},
   "outputs": [
    {
     "data": {
      "text/html": [
       "<div>\n",
       "<style scoped>\n",
       "    .dataframe tbody tr th:only-of-type {\n",
       "        vertical-align: middle;\n",
       "    }\n",
       "\n",
       "    .dataframe tbody tr th {\n",
       "        vertical-align: top;\n",
       "    }\n",
       "\n",
       "    .dataframe thead th {\n",
       "        text-align: right;\n",
       "    }\n",
       "</style>\n",
       "<table border=\"1\" class=\"dataframe\">\n",
       "  <thead>\n",
       "    <tr style=\"text-align: right;\">\n",
       "      <th></th>\n",
       "      <th>ser_port</th>\n",
       "      <th>ser2_port</th>\n",
       "    </tr>\n",
       "  </thead>\n",
       "  <tbody>\n",
       "    <tr>\n",
       "      <th>0</th>\n",
       "      <td>DFY</td>\n",
       "      <td>DFS</td>\n",
       "    </tr>\n",
       "    <tr>\n",
       "      <th>2</th>\n",
       "      <td>ZDV</td>\n",
       "      <td>NaN</td>\n",
       "    </tr>\n",
       "  </tbody>\n",
       "</table>\n",
       "</div>"
      ],
      "text/plain": [
       "  ser_port ser2_port\n",
       "0      DFY       DFS\n",
       "2      ZDV       NaN"
      ]
     },
     "execution_count": 180,
     "metadata": {},
     "output_type": "execute_result"
    }
   ],
   "source": [
    "df"
   ]
  },
  {
   "cell_type": "code",
   "execution_count": null,
   "metadata": {},
   "outputs": [],
   "source": []
  }
 ],
 "metadata": {
  "kernelspec": {
   "display_name": "Python 3",
   "language": "python",
   "name": "python3"
  },
  "language_info": {
   "codemirror_mode": {
    "name": "ipython",
    "version": 3
   },
   "file_extension": ".py",
   "mimetype": "text/x-python",
   "name": "python",
   "nbconvert_exporter": "python",
   "pygments_lexer": "ipython3",
   "version": "3.8.5"
  }
 },
 "nbformat": 4,
 "nbformat_minor": 4
}
